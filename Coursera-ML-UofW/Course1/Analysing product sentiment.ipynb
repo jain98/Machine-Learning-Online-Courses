{
 "cells": [
  {
   "cell_type": "code",
   "execution_count": 1,
   "metadata": {
    "collapsed": true
   },
   "outputs": [],
   "source": [
    "import graphlab"
   ]
  },
  {
   "cell_type": "markdown",
   "metadata": {},
   "source": [
    "#Read some product review data"
   ]
  },
  {
   "cell_type": "code",
   "execution_count": 2,
   "metadata": {
    "collapsed": false
   },
   "outputs": [
    {
     "name": "stderr",
     "output_type": "stream",
     "text": [
      "2016-05-17 11:41:48,101 [INFO] graphlab.cython.cy_server, 176: GraphLab Create v1.8.5 started. Logging: C:\\Users\\User2\\AppData\\Local\\Temp\\graphlab_server_1463465505.log.0\n"
     ]
    },
    {
     "name": "stdout",
     "output_type": "stream",
     "text": [
      "This non-commercial license of GraphLab Create is assigned to jain98@purdue.edu and will expire on April 23, 2017. For commercial licensing options, visit https://dato.com/buy/.\n"
     ]
    }
   ],
   "source": [
    "products = graphlab.SFrame('amazon_baby.gl/')"
   ]
  },
  {
   "cell_type": "markdown",
   "metadata": {},
   "source": [
    "#Let's explore this data we just brought into context"
   ]
  },
  {
   "cell_type": "code",
   "execution_count": 3,
   "metadata": {
    "collapsed": false
   },
   "outputs": [
    {
     "data": {
      "text/html": [
       "<div style=\"max-height:1000px;max-width:1500px;overflow:auto;\"><table frame=\"box\" rules=\"cols\">\n",
       "    <tr>\n",
       "        <th style=\"padding-left: 1em; padding-right: 1em; text-align: center\">name</th>\n",
       "        <th style=\"padding-left: 1em; padding-right: 1em; text-align: center\">review</th>\n",
       "        <th style=\"padding-left: 1em; padding-right: 1em; text-align: center\">rating</th>\n",
       "    </tr>\n",
       "    <tr>\n",
       "        <td style=\"padding-left: 1em; padding-right: 1em; text-align: center; vertical-align: top\">Planetwise Flannel Wipes</td>\n",
       "        <td style=\"padding-left: 1em; padding-right: 1em; text-align: center; vertical-align: top\">These flannel wipes are<br>OK, but in my opinion ...</td>\n",
       "        <td style=\"padding-left: 1em; padding-right: 1em; text-align: center; vertical-align: top\">3.0</td>\n",
       "    </tr>\n",
       "    <tr>\n",
       "        <td style=\"padding-left: 1em; padding-right: 1em; text-align: center; vertical-align: top\">Planetwise Wipe Pouch</td>\n",
       "        <td style=\"padding-left: 1em; padding-right: 1em; text-align: center; vertical-align: top\">it came early and was not<br>disappointed. i love ...</td>\n",
       "        <td style=\"padding-left: 1em; padding-right: 1em; text-align: center; vertical-align: top\">5.0</td>\n",
       "    </tr>\n",
       "    <tr>\n",
       "        <td style=\"padding-left: 1em; padding-right: 1em; text-align: center; vertical-align: top\">Annas Dream Full Quilt<br>with 2 Shams ...</td>\n",
       "        <td style=\"padding-left: 1em; padding-right: 1em; text-align: center; vertical-align: top\">Very soft and comfortable<br>and warmer than it ...</td>\n",
       "        <td style=\"padding-left: 1em; padding-right: 1em; text-align: center; vertical-align: top\">5.0</td>\n",
       "    </tr>\n",
       "    <tr>\n",
       "        <td style=\"padding-left: 1em; padding-right: 1em; text-align: center; vertical-align: top\">Stop Pacifier Sucking<br>without tears with ...</td>\n",
       "        <td style=\"padding-left: 1em; padding-right: 1em; text-align: center; vertical-align: top\">This is a product well<br>worth the purchase.  I ...</td>\n",
       "        <td style=\"padding-left: 1em; padding-right: 1em; text-align: center; vertical-align: top\">5.0</td>\n",
       "    </tr>\n",
       "    <tr>\n",
       "        <td style=\"padding-left: 1em; padding-right: 1em; text-align: center; vertical-align: top\">Stop Pacifier Sucking<br>without tears with ...</td>\n",
       "        <td style=\"padding-left: 1em; padding-right: 1em; text-align: center; vertical-align: top\">All of my kids have cried<br>non-stop when I tried to ...</td>\n",
       "        <td style=\"padding-left: 1em; padding-right: 1em; text-align: center; vertical-align: top\">5.0</td>\n",
       "    </tr>\n",
       "    <tr>\n",
       "        <td style=\"padding-left: 1em; padding-right: 1em; text-align: center; vertical-align: top\">Stop Pacifier Sucking<br>without tears with ...</td>\n",
       "        <td style=\"padding-left: 1em; padding-right: 1em; text-align: center; vertical-align: top\">When the Binky Fairy came<br>to our house, we didn't ...</td>\n",
       "        <td style=\"padding-left: 1em; padding-right: 1em; text-align: center; vertical-align: top\">5.0</td>\n",
       "    </tr>\n",
       "    <tr>\n",
       "        <td style=\"padding-left: 1em; padding-right: 1em; text-align: center; vertical-align: top\">A Tale of Baby's Days<br>with Peter Rabbit ...</td>\n",
       "        <td style=\"padding-left: 1em; padding-right: 1em; text-align: center; vertical-align: top\">Lovely book, it's bound<br>tightly so you may no ...</td>\n",
       "        <td style=\"padding-left: 1em; padding-right: 1em; text-align: center; vertical-align: top\">4.0</td>\n",
       "    </tr>\n",
       "    <tr>\n",
       "        <td style=\"padding-left: 1em; padding-right: 1em; text-align: center; vertical-align: top\">Baby Tracker&amp;reg; - Daily<br>Childcare Journal, ...</td>\n",
       "        <td style=\"padding-left: 1em; padding-right: 1em; text-align: center; vertical-align: top\">Perfect for new parents.<br>We were able to keep ...</td>\n",
       "        <td style=\"padding-left: 1em; padding-right: 1em; text-align: center; vertical-align: top\">5.0</td>\n",
       "    </tr>\n",
       "    <tr>\n",
       "        <td style=\"padding-left: 1em; padding-right: 1em; text-align: center; vertical-align: top\">Baby Tracker&amp;reg; - Daily<br>Childcare Journal, ...</td>\n",
       "        <td style=\"padding-left: 1em; padding-right: 1em; text-align: center; vertical-align: top\">A friend of mine pinned<br>this product on Pinte ...</td>\n",
       "        <td style=\"padding-left: 1em; padding-right: 1em; text-align: center; vertical-align: top\">5.0</td>\n",
       "    </tr>\n",
       "    <tr>\n",
       "        <td style=\"padding-left: 1em; padding-right: 1em; text-align: center; vertical-align: top\">Baby Tracker&amp;reg; - Daily<br>Childcare Journal, ...</td>\n",
       "        <td style=\"padding-left: 1em; padding-right: 1em; text-align: center; vertical-align: top\">This has been an easy way<br>for my nanny to record ...</td>\n",
       "        <td style=\"padding-left: 1em; padding-right: 1em; text-align: center; vertical-align: top\">4.0</td>\n",
       "    </tr>\n",
       "</table>\n",
       "[10 rows x 3 columns]<br/>\n",
       "</div>"
      ],
      "text/plain": [
       "Columns:\n",
       "\tname\tstr\n",
       "\treview\tstr\n",
       "\trating\tfloat\n",
       "\n",
       "Rows: 10\n",
       "\n",
       "Data:\n",
       "+-------------------------------+-------------------------------+--------+\n",
       "|              name             |             review            | rating |\n",
       "+-------------------------------+-------------------------------+--------+\n",
       "|    Planetwise Flannel Wipes   | These flannel wipes are OK... |  3.0   |\n",
       "|     Planetwise Wipe Pouch     | it came early and was not ... |  5.0   |\n",
       "| Annas Dream Full Quilt wit... | Very soft and comfortable ... |  5.0   |\n",
       "| Stop Pacifier Sucking with... | This is a product well wor... |  5.0   |\n",
       "| Stop Pacifier Sucking with... | All of my kids have cried ... |  5.0   |\n",
       "| Stop Pacifier Sucking with... | When the Binky Fairy came ... |  5.0   |\n",
       "| A Tale of Baby's Days with... | Lovely book, it's bound ti... |  4.0   |\n",
       "| Baby Tracker&reg; - Daily ... | Perfect for new parents. W... |  5.0   |\n",
       "| Baby Tracker&reg; - Daily ... | A friend of mine pinned th... |  5.0   |\n",
       "| Baby Tracker&reg; - Daily ... | This has been an easy way ... |  4.0   |\n",
       "+-------------------------------+-------------------------------+--------+\n",
       "[10 rows x 3 columns]"
      ]
     },
     "execution_count": 3,
     "metadata": {},
     "output_type": "execute_result"
    }
   ],
   "source": [
    "products.head()"
   ]
  },
  {
   "cell_type": "markdown",
   "metadata": {},
   "source": [
    "#Build the word count vector for each review"
   ]
  },
  {
   "cell_type": "code",
   "execution_count": 4,
   "metadata": {
    "collapsed": false
   },
   "outputs": [
    {
     "name": "stdout",
     "output_type": "stream",
     "text": [
      "+-------------------------------+-------------------------------+--------+\n",
      "|              name             |             review            | rating |\n",
      "+-------------------------------+-------------------------------+--------+\n",
      "|    Planetwise Flannel Wipes   | These flannel wipes are OK... |  3.0   |\n",
      "|     Planetwise Wipe Pouch     | it came early and was not ... |  5.0   |\n",
      "| Annas Dream Full Quilt wit... | Very soft and comfortable ... |  5.0   |\n",
      "| Stop Pacifier Sucking with... | This is a product well wor... |  5.0   |\n",
      "| Stop Pacifier Sucking with... | All of my kids have cried ... |  5.0   |\n",
      "| Stop Pacifier Sucking with... | When the Binky Fairy came ... |  5.0   |\n",
      "| A Tale of Baby's Days with... | Lovely book, it's bound ti... |  4.0   |\n",
      "| Baby Tracker&reg; - Daily ... | Perfect for new parents. W... |  5.0   |\n",
      "| Baby Tracker&reg; - Daily ... | A friend of mine pinned th... |  5.0   |\n",
      "| Baby Tracker&reg; - Daily ... | This has been an easy way ... |  4.0   |\n",
      "+-------------------------------+-------------------------------+--------+\n",
      "[183531 rows x 3 columns]\n",
      "Note: Only the head of the SFrame is printed.\n",
      "You can use print_rows(num_rows=m, num_columns=n) to print more rows and columns.\n"
     ]
    }
   ],
   "source": [
    "print products"
   ]
  },
  {
   "cell_type": "code",
   "execution_count": 5,
   "metadata": {
    "collapsed": true
   },
   "outputs": [],
   "source": [
    "products['word_count'] = graphlab.text_analytics.count_words(products['review'])"
   ]
  },
  {
   "cell_type": "code",
   "execution_count": 6,
   "metadata": {
    "collapsed": false
   },
   "outputs": [
    {
     "data": {
      "text/html": [
       "<div style=\"max-height:1000px;max-width:1500px;overflow:auto;\"><table frame=\"box\" rules=\"cols\">\n",
       "    <tr>\n",
       "        <th style=\"padding-left: 1em; padding-right: 1em; text-align: center\">name</th>\n",
       "        <th style=\"padding-left: 1em; padding-right: 1em; text-align: center\">review</th>\n",
       "        <th style=\"padding-left: 1em; padding-right: 1em; text-align: center\">rating</th>\n",
       "        <th style=\"padding-left: 1em; padding-right: 1em; text-align: center\">word_count</th>\n",
       "    </tr>\n",
       "    <tr>\n",
       "        <td style=\"padding-left: 1em; padding-right: 1em; text-align: center; vertical-align: top\">Planetwise Flannel Wipes</td>\n",
       "        <td style=\"padding-left: 1em; padding-right: 1em; text-align: center; vertical-align: top\">These flannel wipes are<br>OK, but in my opinion ...</td>\n",
       "        <td style=\"padding-left: 1em; padding-right: 1em; text-align: center; vertical-align: top\">3.0</td>\n",
       "        <td style=\"padding-left: 1em; padding-right: 1em; text-align: center; vertical-align: top\">{'and': 5L, 'stink': 1L,<br>'because': 1L, 'order ...</td>\n",
       "    </tr>\n",
       "    <tr>\n",
       "        <td style=\"padding-left: 1em; padding-right: 1em; text-align: center; vertical-align: top\">Planetwise Wipe Pouch</td>\n",
       "        <td style=\"padding-left: 1em; padding-right: 1em; text-align: center; vertical-align: top\">it came early and was not<br>disappointed. i love ...</td>\n",
       "        <td style=\"padding-left: 1em; padding-right: 1em; text-align: center; vertical-align: top\">5.0</td>\n",
       "        <td style=\"padding-left: 1em; padding-right: 1em; text-align: center; vertical-align: top\">{'and': 3L, 'love': 1L,<br>'it': 2L, 'highly': 1L, ...</td>\n",
       "    </tr>\n",
       "    <tr>\n",
       "        <td style=\"padding-left: 1em; padding-right: 1em; text-align: center; vertical-align: top\">Annas Dream Full Quilt<br>with 2 Shams ...</td>\n",
       "        <td style=\"padding-left: 1em; padding-right: 1em; text-align: center; vertical-align: top\">Very soft and comfortable<br>and warmer than it ...</td>\n",
       "        <td style=\"padding-left: 1em; padding-right: 1em; text-align: center; vertical-align: top\">5.0</td>\n",
       "        <td style=\"padding-left: 1em; padding-right: 1em; text-align: center; vertical-align: top\">{'and': 2L, 'quilt': 1L,<br>'it': 1L, 'comfortable': ...</td>\n",
       "    </tr>\n",
       "    <tr>\n",
       "        <td style=\"padding-left: 1em; padding-right: 1em; text-align: center; vertical-align: top\">Stop Pacifier Sucking<br>without tears with ...</td>\n",
       "        <td style=\"padding-left: 1em; padding-right: 1em; text-align: center; vertical-align: top\">This is a product well<br>worth the purchase.  I ...</td>\n",
       "        <td style=\"padding-left: 1em; padding-right: 1em; text-align: center; vertical-align: top\">5.0</td>\n",
       "        <td style=\"padding-left: 1em; padding-right: 1em; text-align: center; vertical-align: top\">{'ingenious': 1L, 'and':<br>3L, 'love': 2L, ...</td>\n",
       "    </tr>\n",
       "    <tr>\n",
       "        <td style=\"padding-left: 1em; padding-right: 1em; text-align: center; vertical-align: top\">Stop Pacifier Sucking<br>without tears with ...</td>\n",
       "        <td style=\"padding-left: 1em; padding-right: 1em; text-align: center; vertical-align: top\">All of my kids have cried<br>non-stop when I tried to ...</td>\n",
       "        <td style=\"padding-left: 1em; padding-right: 1em; text-align: center; vertical-align: top\">5.0</td>\n",
       "        <td style=\"padding-left: 1em; padding-right: 1em; text-align: center; vertical-align: top\">{'and': 2L, 'parents!!':<br>1L, 'all': 2L, 'puppe ...</td>\n",
       "    </tr>\n",
       "    <tr>\n",
       "        <td style=\"padding-left: 1em; padding-right: 1em; text-align: center; vertical-align: top\">Stop Pacifier Sucking<br>without tears with ...</td>\n",
       "        <td style=\"padding-left: 1em; padding-right: 1em; text-align: center; vertical-align: top\">When the Binky Fairy came<br>to our house, we didn't ...</td>\n",
       "        <td style=\"padding-left: 1em; padding-right: 1em; text-align: center; vertical-align: top\">5.0</td>\n",
       "        <td style=\"padding-left: 1em; padding-right: 1em; text-align: center; vertical-align: top\">{'and': 2L, 'cute': 1L,<br>'help': 2L, 'doll': 1L, ...</td>\n",
       "    </tr>\n",
       "    <tr>\n",
       "        <td style=\"padding-left: 1em; padding-right: 1em; text-align: center; vertical-align: top\">A Tale of Baby's Days<br>with Peter Rabbit ...</td>\n",
       "        <td style=\"padding-left: 1em; padding-right: 1em; text-align: center; vertical-align: top\">Lovely book, it's bound<br>tightly so you may no ...</td>\n",
       "        <td style=\"padding-left: 1em; padding-right: 1em; text-align: center; vertical-align: top\">4.0</td>\n",
       "        <td style=\"padding-left: 1em; padding-right: 1em; text-align: center; vertical-align: top\">{'shop': 1L, 'be': 1L,<br>'is': 1L, 'it': 1L, ' ...</td>\n",
       "    </tr>\n",
       "    <tr>\n",
       "        <td style=\"padding-left: 1em; padding-right: 1em; text-align: center; vertical-align: top\">Baby Tracker&amp;reg; - Daily<br>Childcare Journal, ...</td>\n",
       "        <td style=\"padding-left: 1em; padding-right: 1em; text-align: center; vertical-align: top\">Perfect for new parents.<br>We were able to keep ...</td>\n",
       "        <td style=\"padding-left: 1em; padding-right: 1em; text-align: center; vertical-align: top\">5.0</td>\n",
       "        <td style=\"padding-left: 1em; padding-right: 1em; text-align: center; vertical-align: top\">{'feeding,': 1L, 'and':<br>2L, 'all': 1L, 'right': ...</td>\n",
       "    </tr>\n",
       "    <tr>\n",
       "        <td style=\"padding-left: 1em; padding-right: 1em; text-align: center; vertical-align: top\">Baby Tracker&amp;reg; - Daily<br>Childcare Journal, ...</td>\n",
       "        <td style=\"padding-left: 1em; padding-right: 1em; text-align: center; vertical-align: top\">A friend of mine pinned<br>this product on Pinte ...</td>\n",
       "        <td style=\"padding-left: 1em; padding-right: 1em; text-align: center; vertical-align: top\">5.0</td>\n",
       "        <td style=\"padding-left: 1em; padding-right: 1em; text-align: center; vertical-align: top\">{'and': 1L, 'help': 1L,<br>'give': 1L, 'is': 1L, ...</td>\n",
       "    </tr>\n",
       "    <tr>\n",
       "        <td style=\"padding-left: 1em; padding-right: 1em; text-align: center; vertical-align: top\">Baby Tracker&amp;reg; - Daily<br>Childcare Journal, ...</td>\n",
       "        <td style=\"padding-left: 1em; padding-right: 1em; text-align: center; vertical-align: top\">This has been an easy way<br>for my nanny to record ...</td>\n",
       "        <td style=\"padding-left: 1em; padding-right: 1em; text-align: center; vertical-align: top\">4.0</td>\n",
       "        <td style=\"padding-left: 1em; padding-right: 1em; text-align: center; vertical-align: top\">{'journal.': 1L, 'all':<br>1L, 'standarad': 1L, ...</td>\n",
       "    </tr>\n",
       "</table>\n",
       "[10 rows x 4 columns]<br/>\n",
       "</div>"
      ],
      "text/plain": [
       "Columns:\n",
       "\tname\tstr\n",
       "\treview\tstr\n",
       "\trating\tfloat\n",
       "\tword_count\tdict\n",
       "\n",
       "Rows: 10\n",
       "\n",
       "Data:\n",
       "+-------------------------------+-------------------------------+--------+\n",
       "|              name             |             review            | rating |\n",
       "+-------------------------------+-------------------------------+--------+\n",
       "|    Planetwise Flannel Wipes   | These flannel wipes are OK... |  3.0   |\n",
       "|     Planetwise Wipe Pouch     | it came early and was not ... |  5.0   |\n",
       "| Annas Dream Full Quilt wit... | Very soft and comfortable ... |  5.0   |\n",
       "| Stop Pacifier Sucking with... | This is a product well wor... |  5.0   |\n",
       "| Stop Pacifier Sucking with... | All of my kids have cried ... |  5.0   |\n",
       "| Stop Pacifier Sucking with... | When the Binky Fairy came ... |  5.0   |\n",
       "| A Tale of Baby's Days with... | Lovely book, it's bound ti... |  4.0   |\n",
       "| Baby Tracker&reg; - Daily ... | Perfect for new parents. W... |  5.0   |\n",
       "| Baby Tracker&reg; - Daily ... | A friend of mine pinned th... |  5.0   |\n",
       "| Baby Tracker&reg; - Daily ... | This has been an easy way ... |  4.0   |\n",
       "+-------------------------------+-------------------------------+--------+\n",
       "+-------------------------------+\n",
       "|           word_count          |\n",
       "+-------------------------------+\n",
       "| {'and': 5L, 'stink': 1L, '... |\n",
       "| {'and': 3L, 'love': 1L, 'i... |\n",
       "| {'and': 2L, 'quilt': 1L, '... |\n",
       "| {'ingenious': 1L, 'and': 3... |\n",
       "| {'and': 2L, 'parents!!': 1... |\n",
       "| {'and': 2L, 'cute': 1L, 'h... |\n",
       "| {'shop': 1L, 'be': 1L, 'is... |\n",
       "| {'feeding,': 1L, 'and': 2L... |\n",
       "| {'and': 1L, 'help': 1L, 'g... |\n",
       "| {'journal.': 1L, 'all': 1L... |\n",
       "+-------------------------------+\n",
       "[10 rows x 4 columns]"
      ]
     },
     "execution_count": 6,
     "metadata": {},
     "output_type": "execute_result"
    }
   ],
   "source": [
    "products.head()"
   ]
  },
  {
   "cell_type": "code",
   "execution_count": 7,
   "metadata": {
    "collapsed": true
   },
   "outputs": [],
   "source": [
    "graphlab.canvas.set_target('ipynb')"
   ]
  },
  {
   "cell_type": "raw",
   "metadata": {
    "collapsed": false
   },
   "source": [
    "products['name'].show()"
   ]
  },
  {
   "cell_type": "markdown",
   "metadata": {},
   "source": [
    "#Explore a product - \"Vulli Sophie\"\n"
   ]
  },
  {
   "cell_type": "code",
   "execution_count": 12,
   "metadata": {
    "collapsed": true
   },
   "outputs": [],
   "source": [
    "giraffe_reviews = products[products['name'] == 'Vulli Sophie the Giraffe Teether']"
   ]
  },
  {
   "cell_type": "code",
   "execution_count": 13,
   "metadata": {
    "collapsed": false
   },
   "outputs": [
    {
     "data": {
      "text/plain": [
       "785"
      ]
     },
     "execution_count": 13,
     "metadata": {},
     "output_type": "execute_result"
    }
   ],
   "source": [
    "len(giraffe_reviews)"
   ]
  },
  {
   "cell_type": "code",
   "execution_count": 14,
   "metadata": {
    "collapsed": false
   },
   "outputs": [
    {
     "data": {
      "application/javascript": [
       "$(\"head\").append($(\"<link/>\").attr({\n",
       "  rel:  \"stylesheet\",\n",
       "  type: \"text/css\",\n",
       "  href: \"//cdnjs.cloudflare.com/ajax/libs/font-awesome/4.1.0/css/font-awesome.min.css\"\n",
       "}));\n",
       "$(\"head\").append($(\"<link/>\").attr({\n",
       "  rel:  \"stylesheet\",\n",
       "  type: \"text/css\",\n",
       "  href: \"//dato.com/files/canvas/1.8.5/css/canvas.css\"\n",
       "}));\n",
       "\n",
       "            (function(){\n",
       "\n",
       "                var e = null;\n",
       "                if (typeof element == 'undefined') {\n",
       "                    var scripts = document.getElementsByTagName('script');\n",
       "                    var thisScriptTag = scripts[scripts.length-1];\n",
       "                    var parentDiv = thisScriptTag.parentNode;\n",
       "                    e = document.createElement('div');\n",
       "                    parentDiv.appendChild(e);\n",
       "                } else {\n",
       "                    e = element[0];\n",
       "                }\n",
       "\n",
       "                if (typeof requirejs !== 'undefined') {\n",
       "                    // disable load timeout; ipython_app.js is large and can take a while to load.\n",
       "                    requirejs.config({waitSeconds: 0});\n",
       "                }\n",
       "\n",
       "                require(['//dato.com/files/canvas/1.8.5/js/ipython_app.js'], function(IPythonApp){\n",
       "                    var app = new IPythonApp();\n",
       "                    app.attachView('sarray','Categorical', {\"ipython\": true, \"sketch\": {\"std\": 1.226576304850189, \"complete\": true, \"min\": 1.0, \"max\": 5.0, \"quantile\": [1.0, 1.0, 1.0, 1.0, 1.0, 1.0, 1.0, 1.0, 2.0, 2.0, 2.0, 2.0, 3.0, 3.0, 3.0, 3.0, 3.0, 3.0, 3.0, 3.0, 4.0, 4.0, 4.0, 4.0, 4.0, 4.0, 4.0, 4.0, 4.0, 4.0, 4.0, 4.0, 5.0, 5.0, 5.0, 5.0, 5.0, 5.0, 5.0, 5.0, 5.0, 5.0, 5.0, 5.0, 5.0, 5.0, 5.0, 5.0, 5.0, 5.0, 5.0, 5.0, 5.0, 5.0, 5.0, 5.0, 5.0, 5.0, 5.0, 5.0, 5.0, 5.0, 5.0, 5.0, 5.0, 5.0, 5.0, 5.0, 5.0, 5.0, 5.0, 5.0, 5.0, 5.0, 5.0, 5.0, 5.0, 5.0, 5.0, 5.0, 5.0, 5.0, 5.0, 5.0, 5.0, 5.0, 5.0, 5.0, 5.0, 5.0, 5.0, 5.0, 5.0, 5.0, 5.0, 5.0, 5.0, 5.0, 5.0, 5.0, 5.0], \"median\": 5.0, \"numeric\": true, \"num_unique\": 5, \"num_undefined\": 0, \"var\": 1.504489431619944, \"progress\": 1.0, \"size\": 785, \"frequent_items\": {\"1.0\": {\"frequency\": 56, \"value\": 1.0}, \"2.0\": {\"frequency\": 37, \"value\": 2.0}, \"3.0\": {\"frequency\": 62, \"value\": 3.0}, \"4.0\": {\"frequency\": 95, \"value\": 4.0}, \"5.0\": {\"frequency\": 535, \"value\": 5.0}}, \"mean\": 4.294267515923567}, \"selected_variable\": {\"name\": [\"<SArray>\"], \"dtype\": \"float\", \"view_component\": \"Categorical\", \"view_file\": \"sarray\", \"descriptives\": {\"rows\": 785}, \"type\": \"SArray\", \"view_components\": [\"Numeric\", \"Categorical\"]}, \"histogram\": {\"progress\": 1.0, \"histogram\": {\"max\": 5.076199999999998, \"bins\": [56, 0, 0, 37, 0, 62, 0, 0, 95, 0, 0, 535], \"min\": 0.929000000000014}, \"min\": 1.0, \"complete\": 1, \"max\": 5.0}}, e);\n",
       "                });\n",
       "            })();\n",
       "        "
      ]
     },
     "metadata": {},
     "output_type": "display_data"
    }
   ],
   "source": [
    "giraffe_reviews['rating'].show(view = 'Categorical')"
   ]
  },
  {
   "cell_type": "markdown",
   "metadata": {},
   "source": [
    "#Build a sentiment classifier"
   ]
  },
  {
   "cell_type": "code",
   "execution_count": 15,
   "metadata": {
    "collapsed": false
   },
   "outputs": [
    {
     "data": {
      "application/javascript": [
       "$(\"head\").append($(\"<link/>\").attr({\n",
       "  rel:  \"stylesheet\",\n",
       "  type: \"text/css\",\n",
       "  href: \"//cdnjs.cloudflare.com/ajax/libs/font-awesome/4.1.0/css/font-awesome.min.css\"\n",
       "}));\n",
       "$(\"head\").append($(\"<link/>\").attr({\n",
       "  rel:  \"stylesheet\",\n",
       "  type: \"text/css\",\n",
       "  href: \"//dato.com/files/canvas/1.8.5/css/canvas.css\"\n",
       "}));\n",
       "\n",
       "            (function(){\n",
       "\n",
       "                var e = null;\n",
       "                if (typeof element == 'undefined') {\n",
       "                    var scripts = document.getElementsByTagName('script');\n",
       "                    var thisScriptTag = scripts[scripts.length-1];\n",
       "                    var parentDiv = thisScriptTag.parentNode;\n",
       "                    e = document.createElement('div');\n",
       "                    parentDiv.appendChild(e);\n",
       "                } else {\n",
       "                    e = element[0];\n",
       "                }\n",
       "\n",
       "                if (typeof requirejs !== 'undefined') {\n",
       "                    // disable load timeout; ipython_app.js is large and can take a while to load.\n",
       "                    requirejs.config({waitSeconds: 0});\n",
       "                }\n",
       "\n",
       "                require(['//dato.com/files/canvas/1.8.5/js/ipython_app.js'], function(IPythonApp){\n",
       "                    var app = new IPythonApp();\n",
       "                    app.attachView('sarray','Categorical', {\"ipython\": true, \"sketch\": {\"std\": 1.2850135559617413, \"complete\": true, \"min\": 1.0, \"max\": 5.0, \"quantile\": [1.0, 1.0, 1.0, 1.0, 1.0, 1.0, 1.0, 1.0, 1.0, 2.0, 2.0, 2.0, 2.0, 2.0, 2.0, 3.0, 3.0, 3.0, 3.0, 3.0, 3.0, 3.0, 3.0, 3.0, 4.0, 4.0, 4.0, 4.0, 4.0, 4.0, 4.0, 4.0, 4.0, 4.0, 4.0, 4.0, 4.0, 4.0, 4.0, 4.0, 4.0, 4.0, 5.0, 5.0, 5.0, 5.0, 5.0, 5.0, 5.0, 5.0, 5.0, 5.0, 5.0, 5.0, 5.0, 5.0, 5.0, 5.0, 5.0, 5.0, 5.0, 5.0, 5.0, 5.0, 5.0, 5.0, 5.0, 5.0, 5.0, 5.0, 5.0, 5.0, 5.0, 5.0, 5.0, 5.0, 5.0, 5.0, 5.0, 5.0, 5.0, 5.0, 5.0, 5.0, 5.0, 5.0, 5.0, 5.0, 5.0, 5.0, 5.0, 5.0, 5.0, 5.0, 5.0, 5.0, 5.0, 5.0, 5.0, 5.0, 5.0], \"median\": 5.0, \"numeric\": true, \"num_unique\": 5, \"num_undefined\": 0, \"var\": 1.6512598390054394, \"progress\": 1.0, \"size\": 183531, \"frequent_items\": {\"1.0\": {\"frequency\": 15183, \"value\": 1.0}, \"2.0\": {\"frequency\": 11310, \"value\": 2.0}, \"3.0\": {\"frequency\": 16779, \"value\": 3.0}, \"4.0\": {\"frequency\": 33205, \"value\": 4.0}, \"5.0\": {\"frequency\": 107054, \"value\": 5.0}}, \"mean\": 4.1204483166331505}, \"selected_variable\": {\"name\": [\"<SArray>\"], \"dtype\": \"float\", \"view_component\": \"Categorical\", \"view_file\": \"sarray\", \"descriptives\": {\"rows\": 183531}, \"type\": \"SArray\", \"view_components\": [\"Numeric\", \"Categorical\"]}, \"histogram\": {\"progress\": 1.0, \"histogram\": {\"max\": 5.024, \"bins\": [15183, 0, 0, 11310, 0, 16779, 0, 0, 33205, 0, 0, 107054], \"min\": 0.992}, \"min\": 1.0, \"complete\": 1, \"max\": 5.0}}, e);\n",
       "                });\n",
       "            })();\n",
       "        "
      ]
     },
     "metadata": {},
     "output_type": "display_data"
    }
   ],
   "source": [
    "products['rating'].show(view = 'Categorical')"
   ]
  },
  {
   "cell_type": "markdown",
   "metadata": {},
   "source": [
    "##Define what's a positive and a negative sentimkent"
   ]
  },
  {
   "cell_type": "code",
   "execution_count": 16,
   "metadata": {
    "collapsed": true
   },
   "outputs": [],
   "source": [
    "#ignore all 3-star reviews\n",
    "products['sentiment'] = products['rating'] >= 4"
   ]
  },
  {
   "cell_type": "code",
   "execution_count": 17,
   "metadata": {
    "collapsed": false
   },
   "outputs": [
    {
     "data": {
      "text/html": [
       "<div style=\"max-height:1000px;max-width:1500px;overflow:auto;\"><table frame=\"box\" rules=\"cols\">\n",
       "    <tr>\n",
       "        <th style=\"padding-left: 1em; padding-right: 1em; text-align: center\">name</th>\n",
       "        <th style=\"padding-left: 1em; padding-right: 1em; text-align: center\">review</th>\n",
       "        <th style=\"padding-left: 1em; padding-right: 1em; text-align: center\">rating</th>\n",
       "        <th style=\"padding-left: 1em; padding-right: 1em; text-align: center\">word_count</th>\n",
       "        <th style=\"padding-left: 1em; padding-right: 1em; text-align: center\">sentiment</th>\n",
       "    </tr>\n",
       "    <tr>\n",
       "        <td style=\"padding-left: 1em; padding-right: 1em; text-align: center; vertical-align: top\">Planetwise Flannel Wipes</td>\n",
       "        <td style=\"padding-left: 1em; padding-right: 1em; text-align: center; vertical-align: top\">These flannel wipes are<br>OK, but in my opinion ...</td>\n",
       "        <td style=\"padding-left: 1em; padding-right: 1em; text-align: center; vertical-align: top\">3.0</td>\n",
       "        <td style=\"padding-left: 1em; padding-right: 1em; text-align: center; vertical-align: top\">{'and': 5L, 'stink': 1L,<br>'because': 1L, 'order ...</td>\n",
       "        <td style=\"padding-left: 1em; padding-right: 1em; text-align: center; vertical-align: top\">0</td>\n",
       "    </tr>\n",
       "    <tr>\n",
       "        <td style=\"padding-left: 1em; padding-right: 1em; text-align: center; vertical-align: top\">Planetwise Wipe Pouch</td>\n",
       "        <td style=\"padding-left: 1em; padding-right: 1em; text-align: center; vertical-align: top\">it came early and was not<br>disappointed. i love ...</td>\n",
       "        <td style=\"padding-left: 1em; padding-right: 1em; text-align: center; vertical-align: top\">5.0</td>\n",
       "        <td style=\"padding-left: 1em; padding-right: 1em; text-align: center; vertical-align: top\">{'and': 3L, 'love': 1L,<br>'it': 2L, 'highly': 1L, ...</td>\n",
       "        <td style=\"padding-left: 1em; padding-right: 1em; text-align: center; vertical-align: top\">1</td>\n",
       "    </tr>\n",
       "    <tr>\n",
       "        <td style=\"padding-left: 1em; padding-right: 1em; text-align: center; vertical-align: top\">Annas Dream Full Quilt<br>with 2 Shams ...</td>\n",
       "        <td style=\"padding-left: 1em; padding-right: 1em; text-align: center; vertical-align: top\">Very soft and comfortable<br>and warmer than it ...</td>\n",
       "        <td style=\"padding-left: 1em; padding-right: 1em; text-align: center; vertical-align: top\">5.0</td>\n",
       "        <td style=\"padding-left: 1em; padding-right: 1em; text-align: center; vertical-align: top\">{'and': 2L, 'quilt': 1L,<br>'it': 1L, 'comfortable': ...</td>\n",
       "        <td style=\"padding-left: 1em; padding-right: 1em; text-align: center; vertical-align: top\">1</td>\n",
       "    </tr>\n",
       "    <tr>\n",
       "        <td style=\"padding-left: 1em; padding-right: 1em; text-align: center; vertical-align: top\">Stop Pacifier Sucking<br>without tears with ...</td>\n",
       "        <td style=\"padding-left: 1em; padding-right: 1em; text-align: center; vertical-align: top\">This is a product well<br>worth the purchase.  I ...</td>\n",
       "        <td style=\"padding-left: 1em; padding-right: 1em; text-align: center; vertical-align: top\">5.0</td>\n",
       "        <td style=\"padding-left: 1em; padding-right: 1em; text-align: center; vertical-align: top\">{'ingenious': 1L, 'and':<br>3L, 'love': 2L, ...</td>\n",
       "        <td style=\"padding-left: 1em; padding-right: 1em; text-align: center; vertical-align: top\">1</td>\n",
       "    </tr>\n",
       "    <tr>\n",
       "        <td style=\"padding-left: 1em; padding-right: 1em; text-align: center; vertical-align: top\">Stop Pacifier Sucking<br>without tears with ...</td>\n",
       "        <td style=\"padding-left: 1em; padding-right: 1em; text-align: center; vertical-align: top\">All of my kids have cried<br>non-stop when I tried to ...</td>\n",
       "        <td style=\"padding-left: 1em; padding-right: 1em; text-align: center; vertical-align: top\">5.0</td>\n",
       "        <td style=\"padding-left: 1em; padding-right: 1em; text-align: center; vertical-align: top\">{'and': 2L, 'parents!!':<br>1L, 'all': 2L, 'puppe ...</td>\n",
       "        <td style=\"padding-left: 1em; padding-right: 1em; text-align: center; vertical-align: top\">1</td>\n",
       "    </tr>\n",
       "    <tr>\n",
       "        <td style=\"padding-left: 1em; padding-right: 1em; text-align: center; vertical-align: top\">Stop Pacifier Sucking<br>without tears with ...</td>\n",
       "        <td style=\"padding-left: 1em; padding-right: 1em; text-align: center; vertical-align: top\">When the Binky Fairy came<br>to our house, we didn't ...</td>\n",
       "        <td style=\"padding-left: 1em; padding-right: 1em; text-align: center; vertical-align: top\">5.0</td>\n",
       "        <td style=\"padding-left: 1em; padding-right: 1em; text-align: center; vertical-align: top\">{'and': 2L, 'cute': 1L,<br>'help': 2L, 'doll': 1L, ...</td>\n",
       "        <td style=\"padding-left: 1em; padding-right: 1em; text-align: center; vertical-align: top\">1</td>\n",
       "    </tr>\n",
       "    <tr>\n",
       "        <td style=\"padding-left: 1em; padding-right: 1em; text-align: center; vertical-align: top\">A Tale of Baby's Days<br>with Peter Rabbit ...</td>\n",
       "        <td style=\"padding-left: 1em; padding-right: 1em; text-align: center; vertical-align: top\">Lovely book, it's bound<br>tightly so you may no ...</td>\n",
       "        <td style=\"padding-left: 1em; padding-right: 1em; text-align: center; vertical-align: top\">4.0</td>\n",
       "        <td style=\"padding-left: 1em; padding-right: 1em; text-align: center; vertical-align: top\">{'shop': 1L, 'be': 1L,<br>'is': 1L, 'it': 1L, ' ...</td>\n",
       "        <td style=\"padding-left: 1em; padding-right: 1em; text-align: center; vertical-align: top\">1</td>\n",
       "    </tr>\n",
       "    <tr>\n",
       "        <td style=\"padding-left: 1em; padding-right: 1em; text-align: center; vertical-align: top\">Baby Tracker&amp;reg; - Daily<br>Childcare Journal, ...</td>\n",
       "        <td style=\"padding-left: 1em; padding-right: 1em; text-align: center; vertical-align: top\">Perfect for new parents.<br>We were able to keep ...</td>\n",
       "        <td style=\"padding-left: 1em; padding-right: 1em; text-align: center; vertical-align: top\">5.0</td>\n",
       "        <td style=\"padding-left: 1em; padding-right: 1em; text-align: center; vertical-align: top\">{'feeding,': 1L, 'and':<br>2L, 'all': 1L, 'right': ...</td>\n",
       "        <td style=\"padding-left: 1em; padding-right: 1em; text-align: center; vertical-align: top\">1</td>\n",
       "    </tr>\n",
       "    <tr>\n",
       "        <td style=\"padding-left: 1em; padding-right: 1em; text-align: center; vertical-align: top\">Baby Tracker&amp;reg; - Daily<br>Childcare Journal, ...</td>\n",
       "        <td style=\"padding-left: 1em; padding-right: 1em; text-align: center; vertical-align: top\">A friend of mine pinned<br>this product on Pinte ...</td>\n",
       "        <td style=\"padding-left: 1em; padding-right: 1em; text-align: center; vertical-align: top\">5.0</td>\n",
       "        <td style=\"padding-left: 1em; padding-right: 1em; text-align: center; vertical-align: top\">{'and': 1L, 'help': 1L,<br>'give': 1L, 'is': 1L, ...</td>\n",
       "        <td style=\"padding-left: 1em; padding-right: 1em; text-align: center; vertical-align: top\">1</td>\n",
       "    </tr>\n",
       "    <tr>\n",
       "        <td style=\"padding-left: 1em; padding-right: 1em; text-align: center; vertical-align: top\">Baby Tracker&amp;reg; - Daily<br>Childcare Journal, ...</td>\n",
       "        <td style=\"padding-left: 1em; padding-right: 1em; text-align: center; vertical-align: top\">This has been an easy way<br>for my nanny to record ...</td>\n",
       "        <td style=\"padding-left: 1em; padding-right: 1em; text-align: center; vertical-align: top\">4.0</td>\n",
       "        <td style=\"padding-left: 1em; padding-right: 1em; text-align: center; vertical-align: top\">{'journal.': 1L, 'all':<br>1L, 'standarad': 1L, ...</td>\n",
       "        <td style=\"padding-left: 1em; padding-right: 1em; text-align: center; vertical-align: top\">1</td>\n",
       "    </tr>\n",
       "</table>\n",
       "[10 rows x 5 columns]<br/>\n",
       "</div>"
      ],
      "text/plain": [
       "Columns:\n",
       "\tname\tstr\n",
       "\treview\tstr\n",
       "\trating\tfloat\n",
       "\tword_count\tdict\n",
       "\tsentiment\tint\n",
       "\n",
       "Rows: 10\n",
       "\n",
       "Data:\n",
       "+-------------------------------+-------------------------------+--------+\n",
       "|              name             |             review            | rating |\n",
       "+-------------------------------+-------------------------------+--------+\n",
       "|    Planetwise Flannel Wipes   | These flannel wipes are OK... |  3.0   |\n",
       "|     Planetwise Wipe Pouch     | it came early and was not ... |  5.0   |\n",
       "| Annas Dream Full Quilt wit... | Very soft and comfortable ... |  5.0   |\n",
       "| Stop Pacifier Sucking with... | This is a product well wor... |  5.0   |\n",
       "| Stop Pacifier Sucking with... | All of my kids have cried ... |  5.0   |\n",
       "| Stop Pacifier Sucking with... | When the Binky Fairy came ... |  5.0   |\n",
       "| A Tale of Baby's Days with... | Lovely book, it's bound ti... |  4.0   |\n",
       "| Baby Tracker&reg; - Daily ... | Perfect for new parents. W... |  5.0   |\n",
       "| Baby Tracker&reg; - Daily ... | A friend of mine pinned th... |  5.0   |\n",
       "| Baby Tracker&reg; - Daily ... | This has been an easy way ... |  4.0   |\n",
       "+-------------------------------+-------------------------------+--------+\n",
       "+-------------------------------+-----------+\n",
       "|           word_count          | sentiment |\n",
       "+-------------------------------+-----------+\n",
       "| {'and': 5L, 'stink': 1L, '... |     0     |\n",
       "| {'and': 3L, 'love': 1L, 'i... |     1     |\n",
       "| {'and': 2L, 'quilt': 1L, '... |     1     |\n",
       "| {'ingenious': 1L, 'and': 3... |     1     |\n",
       "| {'and': 2L, 'parents!!': 1... |     1     |\n",
       "| {'and': 2L, 'cute': 1L, 'h... |     1     |\n",
       "| {'shop': 1L, 'be': 1L, 'is... |     1     |\n",
       "| {'feeding,': 1L, 'and': 2L... |     1     |\n",
       "| {'and': 1L, 'help': 1L, 'g... |     1     |\n",
       "| {'journal.': 1L, 'all': 1L... |     1     |\n",
       "+-------------------------------+-----------+\n",
       "[10 rows x 5 columns]"
      ]
     },
     "execution_count": 17,
     "metadata": {},
     "output_type": "execute_result"
    }
   ],
   "source": [
    "products.head()"
   ]
  },
  {
   "cell_type": "markdown",
   "metadata": {},
   "source": [
    "#Let's train the sentiment classifier"
   ]
  },
  {
   "cell_type": "code",
   "execution_count": 18,
   "metadata": {
    "collapsed": true
   },
   "outputs": [],
   "source": [
    "train_data, test_data = products.random_split(.8,seed=0)"
   ]
  },
  {
   "cell_type": "code",
   "execution_count": 19,
   "metadata": {
    "collapsed": false
   },
   "outputs": [
    {
     "data": {
      "text/html": [
       "<pre>WARNING: The number of feature dimensions in this problem is very large in comparison with the number of examples. Unless an appropriate regularization value is set, this model may not provide accurate predictions for a validation/test set.</pre>"
      ],
      "text/plain": [
       "WARNING: The number of feature dimensions in this problem is very large in comparison with the number of examples. Unless an appropriate regularization value is set, this model may not provide accurate predictions for a validation/test set."
      ]
     },
     "metadata": {},
     "output_type": "display_data"
    },
    {
     "data": {
      "text/html": [
       "<pre>Logistic regression:</pre>"
      ],
      "text/plain": [
       "Logistic regression:"
      ]
     },
     "metadata": {},
     "output_type": "display_data"
    },
    {
     "data": {
      "text/html": [
       "<pre>--------------------------------------------------------</pre>"
      ],
      "text/plain": [
       "--------------------------------------------------------"
      ]
     },
     "metadata": {},
     "output_type": "display_data"
    },
    {
     "data": {
      "text/html": [
       "<pre>Number of examples          : 146861</pre>"
      ],
      "text/plain": [
       "Number of examples          : 146861"
      ]
     },
     "metadata": {},
     "output_type": "display_data"
    },
    {
     "data": {
      "text/html": [
       "<pre>Number of classes           : 2</pre>"
      ],
      "text/plain": [
       "Number of classes           : 2"
      ]
     },
     "metadata": {},
     "output_type": "display_data"
    },
    {
     "data": {
      "text/html": [
       "<pre>Number of feature columns   : 1</pre>"
      ],
      "text/plain": [
       "Number of feature columns   : 1"
      ]
     },
     "metadata": {},
     "output_type": "display_data"
    },
    {
     "data": {
      "text/html": [
       "<pre>Number of unpacked features : 237351</pre>"
      ],
      "text/plain": [
       "Number of unpacked features : 237351"
      ]
     },
     "metadata": {},
     "output_type": "display_data"
    },
    {
     "data": {
      "text/html": [
       "<pre>Number of coefficients    : 237352</pre>"
      ],
      "text/plain": [
       "Number of coefficients    : 237352"
      ]
     },
     "metadata": {},
     "output_type": "display_data"
    },
    {
     "data": {
      "text/html": [
       "<pre>Starting L-BFGS</pre>"
      ],
      "text/plain": [
       "Starting L-BFGS"
      ]
     },
     "metadata": {},
     "output_type": "display_data"
    },
    {
     "data": {
      "text/html": [
       "<pre>--------------------------------------------------------</pre>"
      ],
      "text/plain": [
       "--------------------------------------------------------"
      ]
     },
     "metadata": {},
     "output_type": "display_data"
    },
    {
     "data": {
      "text/html": [
       "<pre>+-----------+----------+-----------+--------------+-------------------+---------------------+</pre>"
      ],
      "text/plain": [
       "+-----------+----------+-----------+--------------+-------------------+---------------------+"
      ]
     },
     "metadata": {},
     "output_type": "display_data"
    },
    {
     "data": {
      "text/html": [
       "<pre>| Iteration | Passes   | Step size | Elapsed Time | Training-accuracy | Validation-accuracy |</pre>"
      ],
      "text/plain": [
       "| Iteration | Passes   | Step size | Elapsed Time | Training-accuracy | Validation-accuracy |"
      ]
     },
     "metadata": {},
     "output_type": "display_data"
    },
    {
     "data": {
      "text/html": [
       "<pre>+-----------+----------+-----------+--------------+-------------------+---------------------+</pre>"
      ],
      "text/plain": [
       "+-----------+----------+-----------+--------------+-------------------+---------------------+"
      ]
     },
     "metadata": {},
     "output_type": "display_data"
    },
    {
     "data": {
      "text/html": [
       "<pre>| 1         | 6        | 0.000001  | 3.604727     | 0.764655          | 0.763703            |</pre>"
      ],
      "text/plain": [
       "| 1         | 6        | 0.000001  | 3.604727     | 0.764655          | 0.763703            |"
      ]
     },
     "metadata": {},
     "output_type": "display_data"
    },
    {
     "data": {
      "text/html": [
       "<pre>| 2         | 9        | 5.000000  | 5.252064     | 0.895575          | 0.826779            |</pre>"
      ],
      "text/plain": [
       "| 2         | 9        | 5.000000  | 5.252064     | 0.895575          | 0.826779            |"
      ]
     },
     "metadata": {},
     "output_type": "display_data"
    },
    {
     "data": {
      "text/html": [
       "<pre>| 3         | 10       | 5.000000  | 6.081653     | 0.911712          | 0.829779            |</pre>"
      ],
      "text/plain": [
       "| 3         | 10       | 5.000000  | 6.081653     | 0.911712          | 0.829779            |"
      ]
     },
     "metadata": {},
     "output_type": "display_data"
    },
    {
     "data": {
      "text/html": [
       "<pre>| 4         | 11       | 5.000000  | 6.803167     | 0.609365          | 0.537687            |</pre>"
      ],
      "text/plain": [
       "| 4         | 11       | 5.000000  | 6.803167     | 0.609365          | 0.537687            |"
      ]
     },
     "metadata": {},
     "output_type": "display_data"
    },
    {
     "data": {
      "text/html": [
       "<pre>| 5         | 13       | 1.000000  | 7.938973     | 0.935830          | 0.846005            |</pre>"
      ],
      "text/plain": [
       "| 5         | 13       | 1.000000  | 7.938973     | 0.935830          | 0.846005            |"
      ]
     },
     "metadata": {},
     "output_type": "display_data"
    },
    {
     "data": {
      "text/html": [
       "<pre>| 6         | 14       | 1.000000  | 8.679518     | 0.931350          | 0.840824            |</pre>"
      ],
      "text/plain": [
       "| 6         | 14       | 1.000000  | 8.679518     | 0.931350          | 0.840824            |"
      ]
     },
     "metadata": {},
     "output_type": "display_data"
    },
    {
     "data": {
      "text/html": [
       "<pre>| 7         | 15       | 1.000000  | 9.396030     | 0.956857          | 0.869239            |</pre>"
      ],
      "text/plain": [
       "| 7         | 15       | 1.000000  | 9.396030     | 0.956857          | 0.869239            |"
      ]
     },
     "metadata": {},
     "output_type": "display_data"
    },
    {
     "data": {
      "text/html": [
       "<pre>| 8         | 16       | 1.000000  | 10.199754    | 0.961515          | 0.869948            |</pre>"
      ],
      "text/plain": [
       "| 8         | 16       | 1.000000  | 10.199754    | 0.961515          | 0.869948            |"
      ]
     },
     "metadata": {},
     "output_type": "display_data"
    },
    {
     "data": {
      "text/html": [
       "<pre>| 9         | 17       | 1.000000  | 10.851828    | 0.968950          | 0.865939            |</pre>"
      ],
      "text/plain": [
       "| 9         | 17       | 1.000000  | 10.851828    | 0.968950          | 0.865939            |"
      ]
     },
     "metadata": {},
     "output_type": "display_data"
    },
    {
     "data": {
      "text/html": [
       "<pre>| 10        | 18       | 1.000000  | 11.504444    | 0.973131          | 0.861413            |</pre>"
      ],
      "text/plain": [
       "| 10        | 18       | 1.000000  | 11.504444    | 0.973131          | 0.861413            |"
      ]
     },
     "metadata": {},
     "output_type": "display_data"
    },
    {
     "data": {
      "text/html": [
       "<pre>+-----------+----------+-----------+--------------+-------------------+---------------------+</pre>"
      ],
      "text/plain": [
       "+-----------+----------+-----------+--------------+-------------------+---------------------+"
      ]
     },
     "metadata": {},
     "output_type": "display_data"
    },
    {
     "data": {
      "text/html": [
       "<pre>TERMINATED: Iteration limit reached.</pre>"
      ],
      "text/plain": [
       "TERMINATED: Iteration limit reached."
      ]
     },
     "metadata": {},
     "output_type": "display_data"
    },
    {
     "data": {
      "text/html": [
       "<pre>This model may not be optimal. To improve it, consider increasing `max_iterations`.</pre>"
      ],
      "text/plain": [
       "This model may not be optimal. To improve it, consider increasing `max_iterations`."
      ]
     },
     "metadata": {},
     "output_type": "display_data"
    }
   ],
   "source": [
    "sentiment_model = graphlab.logistic_classifier.create(train_data,target='sentiment',features = ['word_count'], validation_set = test_data)"
   ]
  },
  {
   "cell_type": "markdown",
   "metadata": {},
   "source": [
    "#Evaluate the sentiment model"
   ]
  },
  {
   "cell_type": "code",
   "execution_count": 20,
   "metadata": {
    "collapsed": true
   },
   "outputs": [
    {
     "ename": "NameError",
     "evalue": "name 'ssentiment_model' is not defined",
     "output_type": "error",
     "traceback": [
      "\u001b[1;31m---------------------------------------------------------------------------\u001b[0m",
      "\u001b[1;31mNameError\u001b[0m                                 Traceback (most recent call last)",
      "\u001b[1;32m<ipython-input-20-68683c7934eb>\u001b[0m in \u001b[0;36m<module>\u001b[1;34m()\u001b[0m\n\u001b[1;32m----> 1\u001b[1;33m \u001b[0mssentiment_model\u001b[0m\u001b[1;33m.\u001b[0m\u001b[0mevaluate\u001b[0m\u001b[1;33m(\u001b[0m\u001b[0mtest_data\u001b[0m\u001b[1;33m,\u001b[0m\u001b[0mmetric\u001b[0m\u001b[1;33m=\u001b[0m\u001b[1;34m'roc-curve'\u001b[0m\u001b[1;33m)\u001b[0m\u001b[1;33m\u001b[0m\u001b[0m\n\u001b[0m",
      "\u001b[1;31mNameError\u001b[0m: name 'ssentiment_model' is not defined"
     ]
    }
   ],
   "source": [
    "ssentiment_model.evaluate(test_data,metric='roc-curve')"
   ]
  },
  {
   "cell_type": "code",
   "execution_count": 21,
   "metadata": {
    "collapsed": true
   },
   "outputs": [
    {
     "ename": "ToolkitError",
     "evalue": "Evaluation metric 'roc-curve' not recognized. The supported evaluation metrics are ('auto', 'accuracy', 'confusion_matrix', 'roc_curve', 'auc', 'log_loss', 'precision', 'recall', 'f1_score').",
     "output_type": "error",
     "traceback": [
      "\u001b[1;31m---------------------------------------------------------------------------\u001b[0m",
      "\u001b[1;31mToolkitError\u001b[0m                              Traceback (most recent call last)",
      "\u001b[1;32m<ipython-input-21-59b3b83027c0>\u001b[0m in \u001b[0;36m<module>\u001b[1;34m()\u001b[0m\n\u001b[1;32m----> 1\u001b[1;33m \u001b[0msentiment_model\u001b[0m\u001b[1;33m.\u001b[0m\u001b[0mevaluate\u001b[0m\u001b[1;33m(\u001b[0m\u001b[0mtest_data\u001b[0m\u001b[1;33m,\u001b[0m\u001b[0mmetric\u001b[0m\u001b[1;33m=\u001b[0m\u001b[1;34m'roc-curve'\u001b[0m\u001b[1;33m)\u001b[0m\u001b[1;33m\u001b[0m\u001b[0m\n\u001b[0m",
      "\u001b[1;32mC:\\Users\\User2\\Anaconda2\\envs\\dato-env\\lib\\site-packages\\graphlab\\toolkits\\_model_workflow.pyc\u001b[0m in \u001b[0;36mwrapper\u001b[1;34m(model, *args, **kwargs)\u001b[0m\n\u001b[0;32m     14\u001b[0m     \u001b[1;33m@\u001b[0m\u001b[0mwraps\u001b[0m\u001b[1;33m(\u001b[0m\u001b[0mf\u001b[0m\u001b[1;33m)\u001b[0m\u001b[1;33m\u001b[0m\u001b[0m\n\u001b[0;32m     15\u001b[0m     \u001b[1;32mdef\u001b[0m \u001b[0mwrapper\u001b[0m\u001b[1;33m(\u001b[0m\u001b[0mmodel\u001b[0m\u001b[1;33m,\u001b[0m \u001b[1;33m*\u001b[0m\u001b[0margs\u001b[0m\u001b[1;33m,\u001b[0m \u001b[1;33m**\u001b[0m\u001b[0mkwargs\u001b[0m\u001b[1;33m)\u001b[0m\u001b[1;33m:\u001b[0m\u001b[1;33m\u001b[0m\u001b[0m\n\u001b[1;32m---> 16\u001b[1;33m         \u001b[0mresult\u001b[0m \u001b[1;33m=\u001b[0m \u001b[0mf\u001b[0m\u001b[1;33m(\u001b[0m\u001b[0mmodel\u001b[0m\u001b[1;33m,\u001b[0m \u001b[1;33m*\u001b[0m\u001b[0margs\u001b[0m\u001b[1;33m,\u001b[0m \u001b[1;33m**\u001b[0m\u001b[0mkwargs\u001b[0m\u001b[1;33m)\u001b[0m\u001b[1;33m\u001b[0m\u001b[0m\n\u001b[0m\u001b[0;32m     17\u001b[0m         \u001b[0mdataset_label\u001b[0m \u001b[1;33m=\u001b[0m \u001b[0mNone\u001b[0m\u001b[1;33m\u001b[0m\u001b[0m\n\u001b[0;32m     18\u001b[0m         \u001b[0mdataset\u001b[0m \u001b[1;33m=\u001b[0m \u001b[1;33m[\u001b[0m\u001b[1;33m]\u001b[0m\u001b[1;33m\u001b[0m\u001b[0m\n",
      "\u001b[1;32mC:\\Users\\User2\\Anaconda2\\envs\\dato-env\\lib\\site-packages\\graphlab\\toolkits\\classifier\\logistic_classifier.pyc\u001b[0m in \u001b[0;36mevaluate\u001b[1;34m(self, dataset, metric, missing_value_action)\u001b[0m\n\u001b[0;32m    870\u001b[0m         _raise_error_evaluation_metric_is_valid(metric,\n\u001b[0;32m    871\u001b[0m                 ['auto', 'accuracy', 'confusion_matrix', 'roc_curve', 'auc',\n\u001b[1;32m--> 872\u001b[1;33m                  'log_loss', 'precision', 'recall', 'f1_score'])\n\u001b[0m\u001b[0;32m    873\u001b[0m         return super(_Classifier, self).evaluate(dataset,\n\u001b[0;32m    874\u001b[0m                                  \u001b[0mmissing_value_action\u001b[0m\u001b[1;33m=\u001b[0m\u001b[0mmissing_value_action\u001b[0m\u001b[1;33m,\u001b[0m\u001b[1;33m\u001b[0m\u001b[0m\n",
      "\u001b[1;32mC:\\Users\\User2\\Anaconda2\\envs\\dato-env\\lib\\site-packages\\graphlab\\toolkits\\_internal_utils.pyc\u001b[0m in \u001b[0;36m_raise_error_evaluation_metric_is_valid\u001b[1;34m(metric, allowed_metrics)\u001b[0m\n\u001b[0;32m    376\u001b[0m     \u001b[1;32mif\u001b[0m \u001b[0mmetric\u001b[0m \u001b[1;32mnot\u001b[0m \u001b[1;32min\u001b[0m \u001b[0mallowed_metrics\u001b[0m\u001b[1;33m:\u001b[0m\u001b[1;33m\u001b[0m\u001b[0m\n\u001b[0;32m    377\u001b[0m       raise ToolkitError(err_msg % (metric,\n\u001b[1;32m--> 378\u001b[1;33m                           ', '.join(map(lambda x: \"'%s'\" % x, allowed_metrics))))\n\u001b[0m\u001b[0;32m    379\u001b[0m \u001b[1;33m\u001b[0m\u001b[0m\n\u001b[0;32m    380\u001b[0m \u001b[1;32mdef\u001b[0m \u001b[0m_numeric_param_check_range\u001b[0m\u001b[1;33m(\u001b[0m\u001b[0mvariable_name\u001b[0m\u001b[1;33m,\u001b[0m \u001b[0mvariable_value\u001b[0m\u001b[1;33m,\u001b[0m \u001b[0mrange_bottom\u001b[0m\u001b[1;33m,\u001b[0m \u001b[0mrange_top\u001b[0m\u001b[1;33m)\u001b[0m\u001b[1;33m:\u001b[0m\u001b[1;33m\u001b[0m\u001b[0m\n",
      "\u001b[1;31mToolkitError\u001b[0m: Evaluation metric 'roc-curve' not recognized. The supported evaluation metrics are ('auto', 'accuracy', 'confusion_matrix', 'roc_curve', 'auc', 'log_loss', 'precision', 'recall', 'f1_score')."
     ]
    }
   ],
   "source": [
    "sentiment_model.evaluate(test_data,metric='roc-curve')"
   ]
  },
  {
   "cell_type": "code",
   "execution_count": 22,
   "metadata": {
    "collapsed": false
   },
   "outputs": [
    {
     "data": {
      "text/plain": [
       "{'roc_curve': Columns:\n",
       " \tthreshold\tfloat\n",
       " \tfpr\tfloat\n",
       " \ttpr\tfloat\n",
       " \tp\tint\n",
       " \tn\tint\n",
       " \n",
       " Rows: 100001\n",
       " \n",
       " Data:\n",
       " +-----------+----------------+----------------+-------+------+\n",
       " | threshold |      fpr       |      tpr       |   p   |  n   |\n",
       " +-----------+----------------+----------------+-------+------+\n",
       " |    0.0    |      1.0       |      1.0       | 28005 | 8665 |\n",
       " |   1e-05   | 0.923600692441 | 0.996964827709 | 28005 | 8665 |\n",
       " |   2e-05   | 0.910675129833 | 0.99642920907  | 28005 | 8665 |\n",
       " |   3e-05   | 0.903289094057 | 0.996107837886 | 28005 | 8665 |\n",
       " |   4e-05   | 0.899249855741 | 0.995822174612 | 28005 | 8665 |\n",
       " |   5e-05   | 0.894402769763 | 0.995679342974 | 28005 | 8665 |\n",
       " |   6e-05   | 0.891171379111 | 0.995465095519 | 28005 | 8665 |\n",
       " |   7e-05   | 0.887362954414 | 0.995357971791 | 28005 | 8665 |\n",
       " |   8e-05   | 0.883554529717 | 0.995322263881 | 28005 | 8665 |\n",
       " |   9e-05   | 0.881708020773 | 0.995179432244 | 28005 | 8665 |\n",
       " +-----------+----------------+----------------+-------+------+\n",
       " [100001 rows x 5 columns]\n",
       " Note: Only the head of the SFrame is printed.\n",
       " You can use print_rows(num_rows=m, num_columns=n) to print more rows and columns.}"
      ]
     },
     "execution_count": 22,
     "metadata": {},
     "output_type": "execute_result"
    }
   ],
   "source": [
    "sentiment_model.evaluate(test_data,metric='roc_curve')"
   ]
  },
  {
   "cell_type": "code",
   "execution_count": 23,
   "metadata": {
    "collapsed": false
   },
   "outputs": [
    {
     "data": {
      "application/javascript": [
       "$(\"head\").append($(\"<link/>\").attr({\n",
       "  rel:  \"stylesheet\",\n",
       "  type: \"text/css\",\n",
       "  href: \"//cdnjs.cloudflare.com/ajax/libs/font-awesome/4.1.0/css/font-awesome.min.css\"\n",
       "}));\n",
       "$(\"head\").append($(\"<link/>\").attr({\n",
       "  rel:  \"stylesheet\",\n",
       "  type: \"text/css\",\n",
       "  href: \"//dato.com/files/canvas/1.8.5/css/canvas.css\"\n",
       "}));\n",
       "\n",
       "            (function(){\n",
       "\n",
       "                var e = null;\n",
       "                if (typeof element == 'undefined') {\n",
       "                    var scripts = document.getElementsByTagName('script');\n",
       "                    var thisScriptTag = scripts[scripts.length-1];\n",
       "                    var parentDiv = thisScriptTag.parentNode;\n",
       "                    e = document.createElement('div');\n",
       "                    parentDiv.appendChild(e);\n",
       "                } else {\n",
       "                    e = element[0];\n",
       "                }\n",
       "\n",
       "                if (typeof requirejs !== 'undefined') {\n",
       "                    // disable load timeout; ipython_app.js is large and can take a while to load.\n",
       "                    requirejs.config({waitSeconds: 0});\n",
       "                }\n",
       "\n",
       "                require(['//dato.com/files/canvas/1.8.5/js/ipython_app.js'], function(IPythonApp){\n",
       "                    var app = new IPythonApp();\n",
       "                    app.attachView('model','Evaluation', {\"comparison\": null, \"selected_variable\": {\"comparison\": null, \"name\": [\"sentiment_model\"], \"view_file\": \"model\", \"view_component\": \"Evaluation\", \"view_params\": {\"model_type\": \"regression\", \"view\": \"Evaluation\"}, \"view_components\": [\"Summary\", \"Evaluation\", \"Comparison\"], \"model_type\": \"regression\", \"attributes\": {\"section_titles\": [\"Schema\", \"Hyperparameters\", \"Training Summary\", \"Settings\", \"Highest Positive Coefficients\", \"Lowest Negative Coefficients\"], \"sections\": [[[\"Number of coefficients\", 237352], [\"Number of examples\", 146861], [\"Number of classes\", 2], [\"Number of feature columns\", 1], [\"Number of unpacked features\", 237351]], [[\"L1 penalty\", 0.0], [\"L2 penalty\", 0.01]], [[\"Solver\", \"lbfgs\"], [\"Solver iterations\", 10], [\"Solver status\", \"TERMINATED: Iteration limit reached.\"], [\"Training time (sec)\", 11.8222]], [[\"Log-likelihood\", 11545.231]], [[\"word_count[label/box.]\", 13.7778], [\"word_count[hooped]\", 13.1249], [\"word_count[downgrade.]\", 12.1941], [\"word_count[mobile.)update:]\", 12.1941], [\"word_count[things/people]\", 11.5349]], [[\"word_count[slow?]\", -13.9507], [\"word_count[:)it's]\", -13.1211], [\"word_count[(89]\", -11.9643], [\"word_count[bookm]\", -11.5986], [\"word_count[robust).]\", -11.3982]]]}, \"evaluations\": [[\"test_data\", {\"roc_curve\": [{\"threshold\": 0.0, \"p\": 28005, \"fpr\": 1.0, \"tpr\": 1.0, \"n\": 8665}, {\"threshold\": 0.001, \"p\": 28005, \"fpr\": 0.8131563762261973, \"tpr\": 0.9911801464024281, \"n\": 8665}, {\"threshold\": 0.002, \"p\": 28005, \"fpr\": 0.7837276399307559, \"tpr\": 0.9891447955722192, \"n\": 8665}, {\"threshold\": 0.003, \"p\": 28005, \"fpr\": 0.7626081938834391, \"tpr\": 0.9874665238350294, \"n\": 8665}, {\"threshold\": 0.004, \"p\": 28005, \"fpr\": 0.7455279861511829, \"tpr\": 0.9863238707373684, \"n\": 8665}, {\"threshold\": 0.005, \"p\": 28005, \"fpr\": 0.7331794575879977, \"tpr\": 0.9851812176397072, \"n\": 8665}, {\"threshold\": 0.006, \"p\": 28005, \"fpr\": 0.721061742642816, \"tpr\": 0.9846455990001786, \"n\": 8665}, {\"threshold\": 0.007, \"p\": 28005, \"fpr\": 0.712406231967686, \"tpr\": 0.9838600249955365, \"n\": 8665}, {\"threshold\": 0.008, \"p\": 28005, \"fpr\": 0.7032890940565494, \"tpr\": 0.9829673272629887, \"n\": 8665}, {\"threshold\": 0.009, \"p\": 28005, \"fpr\": 0.6946335833814195, \"tpr\": 0.9823960007141582, \"n\": 8665}, {\"threshold\": 0.01, \"p\": 28005, \"fpr\": 0.6863242931332949, \"tpr\": 0.9815747188002143, \"n\": 8665}, {\"threshold\": 0.011, \"p\": 28005, \"fpr\": 0.678938257357184, \"tpr\": 0.9810033922513837, \"n\": 8665}, {\"threshold\": 0.012, \"p\": 28005, \"fpr\": 0.6736295441431045, \"tpr\": 0.9805391894304588, \"n\": 8665}, {\"threshold\": 0.013, \"p\": 28005, \"fpr\": 0.668205424120023, \"tpr\": 0.9798964470630245, \"n\": 8665}, {\"threshold\": 0.014, \"p\": 28005, \"fpr\": 0.6634737449509521, \"tpr\": 0.97925370469559, \"n\": 8665}, {\"threshold\": 0.015, \"p\": 28005, \"fpr\": 0.6585112521638776, \"tpr\": 0.9786466702374575, \"n\": 8665}, {\"threshold\": 0.016, \"p\": 28005, \"fpr\": 0.6542412002308137, \"tpr\": 0.9780039278700232, \"n\": 8665}, {\"threshold\": 0.017, \"p\": 28005, \"fpr\": 0.6502019619157531, \"tpr\": 0.9775754329584003, \"n\": 8665}, {\"threshold\": 0.018, \"p\": 28005, \"fpr\": 0.645931909982689, \"tpr\": 0.9771112301374755, \"n\": 8665}, {\"threshold\": 0.019, \"p\": 28005, \"fpr\": 0.641661858049625, \"tpr\": 0.9766113194072487, \"n\": 8665}, {\"threshold\": 0.02, \"p\": 28005, \"fpr\": 0.6363531448355453, \"tpr\": 0.9762185324049277, \"n\": 8665}, {\"threshold\": 0.021, \"p\": 28005, \"fpr\": 0.6320830929024812, \"tpr\": 0.9759685770398143, \"n\": 8665}, {\"threshold\": 0.022, \"p\": 28005, \"fpr\": 0.6294287362954414, \"tpr\": 0.9756472058560971, \"n\": 8665}, {\"threshold\": 0.023, \"p\": 28005, \"fpr\": 0.6250432775533756, \"tpr\": 0.97532583467238, \"n\": 8665}, {\"threshold\": 0.024, \"p\": 28005, \"fpr\": 0.6223889209463358, \"tpr\": 0.9751830030351722, \"n\": 8665}, {\"threshold\": 0.025, \"p\": 28005, \"fpr\": 0.6191575302942873, \"tpr\": 0.9750758793072666, \"n\": 8665}, {\"threshold\": 0.026, \"p\": 28005, \"fpr\": 0.6147720715522216, \"tpr\": 0.9747188002142475, \"n\": 8665}, {\"threshold\": 0.027, \"p\": 28005, \"fpr\": 0.6108482400461627, \"tpr\": 0.9743260132119265, \"n\": 8665}, {\"threshold\": 0.028, \"p\": 28005, \"fpr\": 0.6085401038661281, \"tpr\": 0.9738975183003035, \"n\": 8665}, {\"threshold\": 0.029, \"p\": 28005, \"fpr\": 0.6051933064050778, \"tpr\": 0.9736475629351902, \"n\": 8665}, {\"threshold\": 0.03, \"p\": 28005, \"fpr\": 0.601731102135026, \"tpr\": 0.9733618996607749, \"n\": 8665}, {\"threshold\": 0.031, \"p\": 28005, \"fpr\": 0.5982688978649741, \"tpr\": 0.9730405284770577, \"n\": 8665}, {\"threshold\": 0.032, \"p\": 28005, \"fpr\": 0.5945758799769186, \"tpr\": 0.9727191572933405, \"n\": 8665}, {\"threshold\": 0.033, \"p\": 28005, \"fpr\": 0.5916907097518753, \"tpr\": 0.9724334940189252, \"n\": 8665}, {\"threshold\": 0.034, \"p\": 28005, \"fpr\": 0.5885747259088286, \"tpr\": 0.972112122835208, \"n\": 8665}, {\"threshold\": 0.035, \"p\": 28005, \"fpr\": 0.586266589728794, \"tpr\": 0.9717907516514908, \"n\": 8665}, {\"threshold\": 0.036, \"p\": 28005, \"fpr\": 0.5846508944027697, \"tpr\": 0.9715050883770755, \"n\": 8665}, {\"threshold\": 0.037, \"p\": 28005, \"fpr\": 0.5819965377957299, \"tpr\": 0.9712551330119622, \"n\": 8665}, {\"threshold\": 0.038, \"p\": 28005, \"fpr\": 0.5791113675706867, \"tpr\": 0.970933761828245, \"n\": 8665}, {\"threshold\": 0.039, \"p\": 28005, \"fpr\": 0.577264858626659, \"tpr\": 0.9705409748259239, \"n\": 8665}, {\"threshold\": 0.04, \"p\": 28005, \"fpr\": 0.5748413156376226, \"tpr\": 0.9702553115515087, \"n\": 8665}, {\"threshold\": 0.041, \"p\": 28005, \"fpr\": 0.5731102135025966, \"tpr\": 0.970112479914301, \"n\": 8665}, {\"threshold\": 0.042, \"p\": 28005, \"fpr\": 0.5702250432775534, \"tpr\": 0.9698982324584896, \"n\": 8665}, {\"threshold\": 0.043, \"p\": 28005, \"fpr\": 0.5681477207155222, \"tpr\": 0.9695768612747724, \"n\": 8665}, {\"threshold\": 0.044, \"p\": 28005, \"fpr\": 0.5663012117714945, \"tpr\": 0.969326905909659, \"n\": 8665}, {\"threshold\": 0.045, \"p\": 28005, \"fpr\": 0.5642238892094633, \"tpr\": 0.9691483663631494, \"n\": 8665}, {\"threshold\": 0.046, \"p\": 28005, \"fpr\": 0.5619157530294288, \"tpr\": 0.9687912872701303, \"n\": 8665}, {\"threshold\": 0.047, \"p\": 28005, \"fpr\": 0.5599538372763994, \"tpr\": 0.968505623995715, \"n\": 8665}, {\"threshold\": 0.048, \"p\": 28005, \"fpr\": 0.5578765147143682, \"tpr\": 0.9683985002678093, \"n\": 8665}, {\"threshold\": 0.049, \"p\": 28005, \"fpr\": 0.55533756491633, \"tpr\": 0.968148544902696, \"n\": 8665}, {\"threshold\": 0.05, \"p\": 28005, \"fpr\": 0.5534910559723024, \"tpr\": 0.9680771290840922, \"n\": 8665}, {\"threshold\": 0.051, \"p\": 28005, \"fpr\": 0.5517599538372764, \"tpr\": 0.9678985895375826, \"n\": 8665}, {\"threshold\": 0.052, \"p\": 28005, \"fpr\": 0.54933641084824, \"tpr\": 0.967720049991073, \"n\": 8665}, {\"threshold\": 0.053, \"p\": 28005, \"fpr\": 0.5477207155222158, \"tpr\": 0.9675058025352615, \"n\": 8665}, {\"threshold\": 0.054, \"p\": 28005, \"fpr\": 0.5454125793421812, \"tpr\": 0.9670773076236386, \"n\": 8665}, {\"threshold\": 0.055, \"p\": 28005, \"fpr\": 0.54333525678015, \"tpr\": 0.9668630601678272, \"n\": 8665}, {\"threshold\": 0.056, \"p\": 28005, \"fpr\": 0.5417195614541258, \"tpr\": 0.9664702731655062, \"n\": 8665}, {\"threshold\": 0.057, \"p\": 28005, \"fpr\": 0.540334679746105, \"tpr\": 0.9663631494376004, \"n\": 8665}, {\"threshold\": 0.058, \"p\": 28005, \"fpr\": 0.5392960184650895, \"tpr\": 0.9662203178003927, \"n\": 8665}, {\"threshold\": 0.059, \"p\": 28005, \"fpr\": 0.5376803231390652, \"tpr\": 0.9659703624352795, \"n\": 8665}, {\"threshold\": 0.06, \"p\": 28005, \"fpr\": 0.5354875937680323, \"tpr\": 0.965720407070166, \"n\": 8665}, {\"threshold\": 0.061, \"p\": 28005, \"fpr\": 0.5336410848240046, \"tpr\": 0.9655061596143546, \"n\": 8665}, {\"threshold\": 0.062, \"p\": 28005, \"fpr\": 0.53133294864397, \"tpr\": 0.965363327977147, \"n\": 8665}, {\"threshold\": 0.063, \"p\": 28005, \"fpr\": 0.5299480669359492, \"tpr\": 0.9651490805213355, \"n\": 8665}, {\"threshold\": 0.064, \"p\": 28005, \"fpr\": 0.528332371609925, \"tpr\": 0.9647920014283163, \"n\": 8665}, {\"threshold\": 0.065, \"p\": 28005, \"fpr\": 0.5268320830929025, \"tpr\": 0.9646134618818069, \"n\": 8665}, {\"threshold\": 0.066, \"p\": 28005, \"fpr\": 0.5257934218118869, \"tpr\": 0.9644349223352973, \"n\": 8665}, {\"threshold\": 0.067, \"p\": 28005, \"fpr\": 0.5247547605308713, \"tpr\": 0.9642206748794858, \"n\": 8665}, {\"threshold\": 0.068, \"p\": 28005, \"fpr\": 0.5233698788228506, \"tpr\": 0.9639350116050706, \"n\": 8665}, {\"threshold\": 0.069, \"p\": 28005, \"fpr\": 0.5221004039238315, \"tpr\": 0.9637921799678629, \"n\": 8665}, {\"threshold\": 0.07, \"p\": 28005, \"fpr\": 0.5199076745527986, \"tpr\": 0.9636493483306552, \"n\": 8665}, {\"threshold\": 0.071, \"p\": 28005, \"fpr\": 0.5187536064627813, \"tpr\": 0.9635422246027495, \"n\": 8665}, {\"threshold\": 0.072, \"p\": 28005, \"fpr\": 0.5177149451817658, \"tpr\": 0.9633993929655419, \"n\": 8665}, {\"threshold\": 0.073, \"p\": 28005, \"fpr\": 0.5155222158107329, \"tpr\": 0.9633279771469381, \"n\": 8665}, {\"threshold\": 0.074, \"p\": 28005, \"fpr\": 0.5144835545297173, \"tpr\": 0.9631851455097304, \"n\": 8665}, {\"threshold\": 0.075, \"p\": 28005, \"fpr\": 0.5130986728216965, \"tpr\": 0.9630423138725228, \"n\": 8665}, {\"threshold\": 0.076, \"p\": 28005, \"fpr\": 0.5119446047316791, \"tpr\": 0.9628637743260132, \"n\": 8665}, {\"threshold\": 0.077, \"p\": 28005, \"fpr\": 0.5106751298326602, \"tpr\": 0.9627923585074094, \"n\": 8665}, {\"threshold\": 0.078, \"p\": 28005, \"fpr\": 0.5097518753606463, \"tpr\": 0.962578111051598, \"n\": 8665}, {\"threshold\": 0.079, \"p\": 28005, \"fpr\": 0.5089440276976341, \"tpr\": 0.9622210319585788, \"n\": 8665}, {\"threshold\": 0.08, \"p\": 28005, \"fpr\": 0.5077899596076169, \"tpr\": 0.9621139082306731, \"n\": 8665}, {\"threshold\": 0.081, \"p\": 28005, \"fpr\": 0.5069821119446047, \"tpr\": 0.9620424924120693, \"n\": 8665}, {\"threshold\": 0.082, \"p\": 28005, \"fpr\": 0.5058280438545875, \"tpr\": 0.9618996607748617, \"n\": 8665}, {\"threshold\": 0.083, \"p\": 28005, \"fpr\": 0.5050201961915753, \"tpr\": 0.961756829137654, \"n\": 8665}, {\"threshold\": 0.084, \"p\": 28005, \"fpr\": 0.5036353144835545, \"tpr\": 0.9616854133190502, \"n\": 8665}, {\"threshold\": 0.085, \"p\": 28005, \"fpr\": 0.5027120600115407, \"tpr\": 0.9615068737725406, \"n\": 8665}, {\"threshold\": 0.086, \"p\": 28005, \"fpr\": 0.5014425851125216, \"tpr\": 0.9612926263167292, \"n\": 8665}, {\"threshold\": 0.087, \"p\": 28005, \"fpr\": 0.49994229659549916, \"tpr\": 0.9610069630423139, \"n\": 8665}, {\"threshold\": 0.088, \"p\": 28005, \"fpr\": 0.4992498557414887, \"tpr\": 0.9609355472237101, \"n\": 8665}, {\"threshold\": 0.089, \"p\": 28005, \"fpr\": 0.4984420080784766, \"tpr\": 0.9606855918585967, \"n\": 8665}, {\"threshold\": 0.09, \"p\": 28005, \"fpr\": 0.4977495672244662, \"tpr\": 0.9603999285841814, \"n\": 8665}, {\"threshold\": 0.091, \"p\": 28005, \"fpr\": 0.4967109059434507, \"tpr\": 0.9602928048562757, \"n\": 8665}, {\"threshold\": 0.092, \"p\": 28005, \"fpr\": 0.49521061742642813, \"tpr\": 0.9601856811283699, \"n\": 8665}, {\"threshold\": 0.093, \"p\": 28005, \"fpr\": 0.49428736295441433, \"tpr\": 0.9601142653097661, \"n\": 8665}, {\"threshold\": 0.094, \"p\": 28005, \"fpr\": 0.49301788805539526, \"tpr\": 0.9598643099446528, \"n\": 8665}, {\"threshold\": 0.095, \"p\": 28005, \"fpr\": 0.4924408540103866, \"tpr\": 0.9596857703981432, \"n\": 8665}, {\"threshold\": 0.096, \"p\": 28005, \"fpr\": 0.491402192729371, \"tpr\": 0.9595429387609355, \"n\": 8665}, {\"threshold\": 0.097, \"p\": 28005, \"fpr\": 0.49024812463935374, \"tpr\": 0.9593286913051241, \"n\": 8665}, {\"threshold\": 0.098, \"p\": 28005, \"fpr\": 0.48920946335833815, \"tpr\": 0.9592215675772183, \"n\": 8665}, {\"threshold\": 0.099, \"p\": 28005, \"fpr\": 0.4880553952683208, \"tpr\": 0.958971612212105, \"n\": 8665}, {\"threshold\": 0.1, \"p\": 28005, \"fpr\": 0.48632429313329484, \"tpr\": 0.9587930726655954, \"n\": 8665}, {\"threshold\": 0.101, \"p\": 28005, \"fpr\": 0.48482400461627234, \"tpr\": 0.9586502410283878, \"n\": 8665}, {\"threshold\": 0.102, \"p\": 28005, \"fpr\": 0.48366993652625506, \"tpr\": 0.9584002856632744, \"n\": 8665}, {\"threshold\": 0.103, \"p\": 28005, \"fpr\": 0.482400461627236, \"tpr\": 0.9582574540260668, \"n\": 8665}, {\"threshold\": 0.104, \"p\": 28005, \"fpr\": 0.4819388343912291, \"tpr\": 0.9580074986609534, \"n\": 8665}, {\"threshold\": 0.105, \"p\": 28005, \"fpr\": 0.48101557991921523, \"tpr\": 0.9578289591144439, \"n\": 8665}, {\"threshold\": 0.106, \"p\": 28005, \"fpr\": 0.4804385458742066, \"tpr\": 0.9576504195679343, \"n\": 8665}, {\"threshold\": 0.107, \"p\": 28005, \"fpr\": 0.47928447778418926, \"tpr\": 0.9575075879307267, \"n\": 8665}, {\"threshold\": 0.108, \"p\": 28005, \"fpr\": 0.4778995960761685, \"tpr\": 0.957364756293519, \"n\": 8665}, {\"threshold\": 0.109, \"p\": 28005, \"fpr\": 0.47628390075014426, \"tpr\": 0.9572219246563114, \"n\": 8665}, {\"threshold\": 0.11, \"p\": 28005, \"fpr\": 0.4757068667051356, \"tpr\": 0.9570790930191038, \"n\": 8665}, {\"threshold\": 0.111, \"p\": 28005, \"fpr\": 0.47466820542412, \"tpr\": 0.956971969291198, \"n\": 8665}, {\"threshold\": 0.112, \"p\": 28005, \"fpr\": 0.4738603577611079, \"tpr\": 0.9567934297446884, \"n\": 8665}, {\"threshold\": 0.113, \"p\": 28005, \"fpr\": 0.47247547605308715, \"tpr\": 0.956579182288877, \"n\": 8665}, {\"threshold\": 0.114, \"p\": 28005, \"fpr\": 0.47109059434506634, \"tpr\": 0.9564363506516693, \"n\": 8665}, {\"threshold\": 0.115, \"p\": 28005, \"fpr\": 0.47016733987305254, \"tpr\": 0.9563292269237637, \"n\": 8665}, {\"threshold\": 0.116, \"p\": 28005, \"fpr\": 0.4694748990190421, \"tpr\": 0.956186395286556, \"n\": 8665}, {\"threshold\": 0.117, \"p\": 28005, \"fpr\": 0.46809001731102134, \"tpr\": 0.9560078557400464, \"n\": 8665}, {\"threshold\": 0.118, \"p\": 28005, \"fpr\": 0.46693594922100407, \"tpr\": 0.9559007320121407, \"n\": 8665}, {\"threshold\": 0.119, \"p\": 28005, \"fpr\": 0.46624350836699363, \"tpr\": 0.9558650241028388, \"n\": 8665}, {\"threshold\": 0.12, \"p\": 28005, \"fpr\": 0.46508944027697635, \"tpr\": 0.9556864845563292, \"n\": 8665}, {\"threshold\": 0.121, \"p\": 28005, \"fpr\": 0.4645124062319677, \"tpr\": 0.9556150687377254, \"n\": 8665}, {\"threshold\": 0.122, \"p\": 28005, \"fpr\": 0.4637045585689556, \"tpr\": 0.9554365291912158, \"n\": 8665}, {\"threshold\": 0.123, \"p\": 28005, \"fpr\": 0.4619734564339296, \"tpr\": 0.955365113372612, \"n\": 8665}, {\"threshold\": 0.124, \"p\": 28005, \"fpr\": 0.46070398153491054, \"tpr\": 0.9552222817354044, \"n\": 8665}, {\"threshold\": 0.125, \"p\": 28005, \"fpr\": 0.4597807270628967, \"tpr\": 0.9549723263702911, \"n\": 8665}, {\"threshold\": 0.126, \"p\": 28005, \"fpr\": 0.45897287939988457, \"tpr\": 0.9547937868237815, \"n\": 8665}, {\"threshold\": 0.127, \"p\": 28005, \"fpr\": 0.4582804385458742, \"tpr\": 0.9546509551865738, \"n\": 8665}, {\"threshold\": 0.128, \"p\": 28005, \"fpr\": 0.4570109636468552, \"tpr\": 0.9544367077307624, \"n\": 8665}, {\"threshold\": 0.129, \"p\": 28005, \"fpr\": 0.4560877091748413, \"tpr\": 0.9542938760935548, \"n\": 8665}, {\"threshold\": 0.13, \"p\": 28005, \"fpr\": 0.4550490478938257, \"tpr\": 0.9541153365470452, \"n\": 8665}, {\"threshold\": 0.131, \"p\": 28005, \"fpr\": 0.45435660703981534, \"tpr\": 0.9540082128191394, \"n\": 8665}, {\"threshold\": 0.132, \"p\": 28005, \"fpr\": 0.4537795729948067, \"tpr\": 0.9539010890912337, \"n\": 8665}, {\"threshold\": 0.133, \"p\": 28005, \"fpr\": 0.45216387766878247, \"tpr\": 0.9537582574540261, \"n\": 8665}, {\"threshold\": 0.134, \"p\": 28005, \"fpr\": 0.4514714368147721, \"tpr\": 0.9535440099982146, \"n\": 8665}, {\"threshold\": 0.135, \"p\": 28005, \"fpr\": 0.45100980957876513, \"tpr\": 0.9534368862703089, \"n\": 8665}, {\"threshold\": 0.136, \"p\": 28005, \"fpr\": 0.450201961915753, \"tpr\": 0.9532226388144974, \"n\": 8665}, {\"threshold\": 0.137, \"p\": 28005, \"fpr\": 0.4491633006347375, \"tpr\": 0.9531512229958936, \"n\": 8665}, {\"threshold\": 0.138, \"p\": 28005, \"fpr\": 0.4485862665897288, \"tpr\": 0.9529012676307802, \"n\": 8665}, {\"threshold\": 0.139, \"p\": 28005, \"fpr\": 0.4476630121177149, \"tpr\": 0.9527941439028745, \"n\": 8665}, {\"threshold\": 0.14, \"p\": 28005, \"fpr\": 0.44697057126370454, \"tpr\": 0.9527227280842707, \"n\": 8665}, {\"threshold\": 0.141, \"p\": 28005, \"fpr\": 0.44547028274668204, \"tpr\": 0.9525084806284592, \"n\": 8665}, {\"threshold\": 0.142, \"p\": 28005, \"fpr\": 0.44477784189267167, \"tpr\": 0.9523299410819497, \"n\": 8665}, {\"threshold\": 0.143, \"p\": 28005, \"fpr\": 0.44362377380265433, \"tpr\": 0.9520799857168363, \"n\": 8665}, {\"threshold\": 0.144, \"p\": 28005, \"fpr\": 0.44316214656664743, \"tpr\": 0.951794322442421, \"n\": 8665}, {\"threshold\": 0.145, \"p\": 28005, \"fpr\": 0.4420080784766301, \"tpr\": 0.9515443670773076, \"n\": 8665}, {\"threshold\": 0.146, \"p\": 28005, \"fpr\": 0.44166185804962493, \"tpr\": 0.9514372433494019, \"n\": 8665}, {\"threshold\": 0.147, \"p\": 28005, \"fpr\": 0.441200230813618, \"tpr\": 0.9512587038028923, \"n\": 8665}, {\"threshold\": 0.148, \"p\": 28005, \"fpr\": 0.4407386035776111, \"tpr\": 0.9511158721656847, \"n\": 8665}, {\"threshold\": 0.149, \"p\": 28005, \"fpr\": 0.43993075591459896, \"tpr\": 0.9510444563470809, \"n\": 8665}, {\"threshold\": 0.15, \"p\": 28005, \"fpr\": 0.43889209463358336, \"tpr\": 0.9509016247098733, \"n\": 8665}, {\"threshold\": 0.151, \"p\": 28005, \"fpr\": 0.4379688401615695, \"tpr\": 0.9507945009819675, \"n\": 8665}, {\"threshold\": 0.152, \"p\": 28005, \"fpr\": 0.43762261973456434, \"tpr\": 0.9505445456168541, \"n\": 8665}, {\"threshold\": 0.153, \"p\": 28005, \"fpr\": 0.436468551644547, \"tpr\": 0.9504017139796465, \"n\": 8665}, {\"threshold\": 0.154, \"p\": 28005, \"fpr\": 0.43577611079053663, \"tpr\": 0.9503302981610426, \"n\": 8665}, {\"threshold\": 0.155, \"p\": 28005, \"fpr\": 0.43531448355452973, \"tpr\": 0.950223174433137, \"n\": 8665}, {\"threshold\": 0.156, \"p\": 28005, \"fpr\": 0.4343912290825159, \"tpr\": 0.9501160507052312, \"n\": 8665}, {\"threshold\": 0.157, \"p\": 28005, \"fpr\": 0.4333525678015003, \"tpr\": 0.9497589716122121, \"n\": 8665}, {\"threshold\": 0.158, \"p\": 28005, \"fpr\": 0.43208309290248126, \"tpr\": 0.9496518478843063, \"n\": 8665}, {\"threshold\": 0.159, \"p\": 28005, \"fpr\": 0.4309290248124639, \"tpr\": 0.9494733083377969, \"n\": 8665}, {\"threshold\": 0.16, \"p\": 28005, \"fpr\": 0.4296595499134449, \"tpr\": 0.9492590608819853, \"n\": 8665}, {\"threshold\": 0.161, \"p\": 28005, \"fpr\": 0.4288517022504328, \"tpr\": 0.9491876450633815, \"n\": 8665}, {\"threshold\": 0.162, \"p\": 28005, \"fpr\": 0.42792844777841893, \"tpr\": 0.949009105516872, \"n\": 8665}, {\"threshold\": 0.163, \"p\": 28005, \"fpr\": 0.4270051933064051, \"tpr\": 0.9488662738796644, \"n\": 8665}, {\"threshold\": 0.164, \"p\": 28005, \"fpr\": 0.4265435660703982, \"tpr\": 0.9487591501517586, \"n\": 8665}, {\"threshold\": 0.165, \"p\": 28005, \"fpr\": 0.4256203115983843, \"tpr\": 0.9486877343331548, \"n\": 8665}, {\"threshold\": 0.166, \"p\": 28005, \"fpr\": 0.42538949798038084, \"tpr\": 0.948616318514551, \"n\": 8665}, {\"threshold\": 0.167, \"p\": 28005, \"fpr\": 0.4240046162723601, \"tpr\": 0.9483663631494376, \"n\": 8665}, {\"threshold\": 0.168, \"p\": 28005, \"fpr\": 0.42342758222735144, \"tpr\": 0.9480806998750223, \"n\": 8665}, {\"threshold\": 0.169, \"p\": 28005, \"fpr\": 0.4222735141373341, \"tpr\": 0.9479735761471166, \"n\": 8665}, {\"threshold\": 0.17, \"p\": 28005, \"fpr\": 0.42111944604731677, \"tpr\": 0.9476522049633994, \"n\": 8665}, {\"threshold\": 0.171, \"p\": 28005, \"fpr\": 0.42031159838430465, \"tpr\": 0.947402249598286, \"n\": 8665}, {\"threshold\": 0.172, \"p\": 28005, \"fpr\": 0.4199653779572995, \"tpr\": 0.9471880021424746, \"n\": 8665}, {\"threshold\": 0.173, \"p\": 28005, \"fpr\": 0.4189267166762839, \"tpr\": 0.9471880021424746, \"n\": 8665}, {\"threshold\": 0.174, \"p\": 28005, \"fpr\": 0.4182342758222735, \"tpr\": 0.9470808784145688, \"n\": 8665}, {\"threshold\": 0.175, \"p\": 28005, \"fpr\": 0.41731102135025966, \"tpr\": 0.9469380467773612, \"n\": 8665}, {\"threshold\": 0.176, \"p\": 28005, \"fpr\": 0.4161569532602424, \"tpr\": 0.9467952151401535, \"n\": 8665}, {\"threshold\": 0.177, \"p\": 28005, \"fpr\": 0.4155799192152337, \"tpr\": 0.9466523835029459, \"n\": 8665}, {\"threshold\": 0.178, \"p\": 28005, \"fpr\": 0.4144258511252164, \"tpr\": 0.9465452597750402, \"n\": 8665}, {\"threshold\": 0.179, \"p\": 28005, \"fpr\": 0.413733410271206, \"tpr\": 0.9465095518657383, \"n\": 8665}, {\"threshold\": 0.18, \"p\": 28005, \"fpr\": 0.4125793421811887, \"tpr\": 0.9463310123192287, \"n\": 8665}, {\"threshold\": 0.181, \"p\": 28005, \"fpr\": 0.41165608770917483, \"tpr\": 0.946223888591323, \"n\": 8665}, {\"threshold\": 0.182, \"p\": 28005, \"fpr\": 0.41130986728216967, \"tpr\": 0.9461167648634172, \"n\": 8665}, {\"threshold\": 0.183, \"p\": 28005, \"fpr\": 0.41096364685516446, \"tpr\": 0.945831101589002, \"n\": 8665}, {\"threshold\": 0.184, \"p\": 28005, \"fpr\": 0.41061742642815924, \"tpr\": 0.9457953936797, \"n\": 8665}, {\"threshold\": 0.185, \"p\": 28005, \"fpr\": 0.40969417195614544, \"tpr\": 0.9456168541331905, \"n\": 8665}, {\"threshold\": 0.186, \"p\": 28005, \"fpr\": 0.409001731102135, \"tpr\": 0.9455097304052847, \"n\": 8665}, {\"threshold\": 0.187, \"p\": 28005, \"fpr\": 0.4083092902481246, \"tpr\": 0.9454026066773791, \"n\": 8665}, {\"threshold\": 0.188, \"p\": 28005, \"fpr\": 0.4075014425851125, \"tpr\": 0.9452954829494733, \"n\": 8665}, {\"threshold\": 0.189, \"p\": 28005, \"fpr\": 0.40692440854010387, \"tpr\": 0.9451883592215676, \"n\": 8665}, {\"threshold\": 0.19, \"p\": 28005, \"fpr\": 0.40611656087709175, \"tpr\": 0.9450812354936619, \"n\": 8665}, {\"threshold\": 0.191, \"p\": 28005, \"fpr\": 0.40530871321407963, \"tpr\": 0.9447241564006428, \"n\": 8665}, {\"threshold\": 0.192, \"p\": 28005, \"fpr\": 0.40484708597807273, \"tpr\": 0.944617032672737, \"n\": 8665}, {\"threshold\": 0.193, \"p\": 28005, \"fpr\": 0.40461627236006925, \"tpr\": 0.9444384931262274, \"n\": 8665}, {\"threshold\": 0.194, \"p\": 28005, \"fpr\": 0.4041546451240623, \"tpr\": 0.9442599535797179, \"n\": 8665}, {\"threshold\": 0.195, \"p\": 28005, \"fpr\": 0.4028851702250433, \"tpr\": 0.9440099982146045, \"n\": 8665}, {\"threshold\": 0.196, \"p\": 28005, \"fpr\": 0.4024235429890364, \"tpr\": 0.9438671665773969, \"n\": 8665}, {\"threshold\": 0.197, \"p\": 28005, \"fpr\": 0.4015002885170225, \"tpr\": 0.9437957507587931, \"n\": 8665}, {\"threshold\": 0.198, \"p\": 28005, \"fpr\": 0.4006924408540104, \"tpr\": 0.9436886270308873, \"n\": 8665}, {\"threshold\": 0.199, \"p\": 28005, \"fpr\": 0.3998845931909983, \"tpr\": 0.9435100874843778, \"n\": 8665}, {\"threshold\": 0.2, \"p\": 28005, \"fpr\": 0.3993075591459896, \"tpr\": 0.9433672558471702, \"n\": 8665}, {\"threshold\": 0.201, \"p\": 28005, \"fpr\": 0.39849971148297747, \"tpr\": 0.9432958400285664, \"n\": 8665}, {\"threshold\": 0.202, \"p\": 28005, \"fpr\": 0.39792267743796883, \"tpr\": 0.9431530083913587, \"n\": 8665}, {\"threshold\": 0.203, \"p\": 28005, \"fpr\": 0.3973456433929602, \"tpr\": 0.943045884663453, \"n\": 8665}, {\"threshold\": 0.204, \"p\": 28005, \"fpr\": 0.39676860934795155, \"tpr\": 0.9428316372076415, \"n\": 8665}, {\"threshold\": 0.205, \"p\": 28005, \"fpr\": 0.39619157530294286, \"tpr\": 0.9427245134797357, \"n\": 8665}, {\"threshold\": 0.206, \"p\": 28005, \"fpr\": 0.3958453548759377, \"tpr\": 0.9425816818425281, \"n\": 8665}, {\"threshold\": 0.207, \"p\": 28005, \"fpr\": 0.3954991344489325, \"tpr\": 0.9423674343867167, \"n\": 8665}, {\"threshold\": 0.208, \"p\": 28005, \"fpr\": 0.3948066935949221, \"tpr\": 0.942224602749509, \"n\": 8665}, {\"threshold\": 0.209, \"p\": 28005, \"fpr\": 0.3941142527409117, \"tpr\": 0.9421531869309052, \"n\": 8665}, {\"threshold\": 0.21, \"p\": 28005, \"fpr\": 0.39319099826889786, \"tpr\": 0.9420103552936976, \"n\": 8665}, {\"threshold\": 0.211, \"p\": 28005, \"fpr\": 0.39272937103289096, \"tpr\": 0.941831815747188, \"n\": 8665}, {\"threshold\": 0.212, \"p\": 28005, \"fpr\": 0.3915753029428736, \"tpr\": 0.9415461524727727, \"n\": 8665}, {\"threshold\": 0.213, \"p\": 28005, \"fpr\": 0.3907674552798615, \"tpr\": 0.9414747366541689, \"n\": 8665}, {\"threshold\": 0.214, \"p\": 28005, \"fpr\": 0.39019042123485287, \"tpr\": 0.9413676129262631, \"n\": 8665}, {\"threshold\": 0.215, \"p\": 28005, \"fpr\": 0.38984420080784765, \"tpr\": 0.9411533654704517, \"n\": 8665}, {\"threshold\": 0.216, \"p\": 28005, \"fpr\": 0.3896133871898442, \"tpr\": 0.9411176575611498, \"n\": 8665}, {\"threshold\": 0.217, \"p\": 28005, \"fpr\": 0.38903635314483553, \"tpr\": 0.9410462417425459, \"n\": 8665}, {\"threshold\": 0.218, \"p\": 28005, \"fpr\": 0.3882285054818234, \"tpr\": 0.9408677021960364, \"n\": 8665}, {\"threshold\": 0.219, \"p\": 28005, \"fpr\": 0.38788228505481825, \"tpr\": 0.9407962863774326, \"n\": 8665}, {\"threshold\": 0.22, \"p\": 28005, \"fpr\": 0.38730525100980956, \"tpr\": 0.9406891626495268, \"n\": 8665}, {\"threshold\": 0.221, \"p\": 28005, \"fpr\": 0.3866128101557992, \"tpr\": 0.9405106231030174, \"n\": 8665}, {\"threshold\": 0.222, \"p\": 28005, \"fpr\": 0.3861511829197923, \"tpr\": 0.9403320835565078, \"n\": 8665}, {\"threshold\": 0.223, \"p\": 28005, \"fpr\": 0.3854587420657819, \"tpr\": 0.9401535440099982, \"n\": 8665}, {\"threshold\": 0.224, \"p\": 28005, \"fpr\": 0.3848817080207732, \"tpr\": 0.9400464202820925, \"n\": 8665}, {\"threshold\": 0.225, \"p\": 28005, \"fpr\": 0.3844200807847663, \"tpr\": 0.9397964649169791, \"n\": 8665}, {\"threshold\": 0.226, \"p\": 28005, \"fpr\": 0.3837276399307559, \"tpr\": 0.9396179253704695, \"n\": 8665}, {\"threshold\": 0.227, \"p\": 28005, \"fpr\": 0.38349682631275245, \"tpr\": 0.9395108016425638, \"n\": 8665}, {\"threshold\": 0.228, \"p\": 28005, \"fpr\": 0.38280438545874207, \"tpr\": 0.9394036779146581, \"n\": 8665}, {\"threshold\": 0.229, \"p\": 28005, \"fpr\": 0.38234275822273517, \"tpr\": 0.9392965541867524, \"n\": 8665}, {\"threshold\": 0.23, \"p\": 28005, \"fpr\": 0.38165031736872473, \"tpr\": 0.939082306730941, \"n\": 8665}, {\"threshold\": 0.231, \"p\": 28005, \"fpr\": 0.3808424697057126, \"tpr\": 0.9388323513658275, \"n\": 8665}, {\"threshold\": 0.232, \"p\": 28005, \"fpr\": 0.3799192152336988, \"tpr\": 0.938653811819318, \"n\": 8665}, {\"threshold\": 0.233, \"p\": 28005, \"fpr\": 0.37945758799769186, \"tpr\": 0.9385466880914123, \"n\": 8665}, {\"threshold\": 0.234, \"p\": 28005, \"fpr\": 0.3788805539526832, \"tpr\": 0.9384752722728085, \"n\": 8665}, {\"threshold\": 0.235, \"p\": 28005, \"fpr\": 0.3783035199076746, \"tpr\": 0.9383681485449027, \"n\": 8665}, {\"threshold\": 0.236, \"p\": 28005, \"fpr\": 0.3773802654356607, \"tpr\": 0.9383324406356008, \"n\": 8665}, {\"threshold\": 0.237, \"p\": 28005, \"fpr\": 0.37611079053664165, \"tpr\": 0.9381539010890912, \"n\": 8665}, {\"threshold\": 0.238, \"p\": 28005, \"fpr\": 0.3757645701096365, \"tpr\": 0.9379396536332798, \"n\": 8665}, {\"threshold\": 0.239, \"p\": 28005, \"fpr\": 0.37530294287362953, \"tpr\": 0.937832529905374, \"n\": 8665}, {\"threshold\": 0.24, \"p\": 28005, \"fpr\": 0.3750721292556261, \"tpr\": 0.9376182824495626, \"n\": 8665}, {\"threshold\": 0.241, \"p\": 28005, \"fpr\": 0.3744950952106174, \"tpr\": 0.937439742903053, \"n\": 8665}, {\"threshold\": 0.242, \"p\": 28005, \"fpr\": 0.3740334679746105, \"tpr\": 0.9372612033565435, \"n\": 8665}, {\"threshold\": 0.243, \"p\": 28005, \"fpr\": 0.3739180611656088, \"tpr\": 0.9371540796286377, \"n\": 8665}, {\"threshold\": 0.244, \"p\": 28005, \"fpr\": 0.37311021350259665, \"tpr\": 0.9370469559007321, \"n\": 8665}, {\"threshold\": 0.245, \"p\": 28005, \"fpr\": 0.37264858626658975, \"tpr\": 0.9369755400821282, \"n\": 8665}, {\"threshold\": 0.246, \"p\": 28005, \"fpr\": 0.37207155222158106, \"tpr\": 0.9367970005356187, \"n\": 8665}, {\"threshold\": 0.247, \"p\": 28005, \"fpr\": 0.3713791113675707, \"tpr\": 0.936654168898411, \"n\": 8665}, {\"threshold\": 0.248, \"p\": 28005, \"fpr\": 0.3709174841315638, \"tpr\": 0.9364756293519014, \"n\": 8665}, {\"threshold\": 0.249, \"p\": 28005, \"fpr\": 0.3704558568955568, \"tpr\": 0.936225673986788, \"n\": 8665}, {\"threshold\": 0.25, \"p\": 28005, \"fpr\": 0.3698788228505482, \"tpr\": 0.9360828423495804, \"n\": 8665}, {\"threshold\": 0.251, \"p\": 28005, \"fpr\": 0.36907097518753607, \"tpr\": 0.9359043028030709, \"n\": 8665}, {\"threshold\": 0.252, \"p\": 28005, \"fpr\": 0.36872475476053085, \"tpr\": 0.9359043028030709, \"n\": 8665}, {\"threshold\": 0.253, \"p\": 28005, \"fpr\": 0.36803231390652047, \"tpr\": 0.9357971790751651, \"n\": 8665}, {\"threshold\": 0.254, \"p\": 28005, \"fpr\": 0.36745527986151183, \"tpr\": 0.9356186395286556, \"n\": 8665}, {\"threshold\": 0.255, \"p\": 28005, \"fpr\": 0.36699365262550493, \"tpr\": 0.9355115158007499, \"n\": 8665}, {\"threshold\": 0.256, \"p\": 28005, \"fpr\": 0.36595499134448933, \"tpr\": 0.9354758078914479, \"n\": 8665}, {\"threshold\": 0.257, \"p\": 28005, \"fpr\": 0.3653779572994807, \"tpr\": 0.9352972683449384, \"n\": 8665}, {\"threshold\": 0.258, \"p\": 28005, \"fpr\": 0.36491633006347374, \"tpr\": 0.9351901446170326, \"n\": 8665}, {\"threshold\": 0.259, \"p\": 28005, \"fpr\": 0.3643392960184651, \"tpr\": 0.935047312979825, \"n\": 8665}, {\"threshold\": 0.26, \"p\": 28005, \"fpr\": 0.3641084824004616, \"tpr\": 0.9349044813426174, \"n\": 8665}, {\"threshold\": 0.261, \"p\": 28005, \"fpr\": 0.363531448355453, \"tpr\": 0.9348330655240136, \"n\": 8665}, {\"threshold\": 0.262, \"p\": 28005, \"fpr\": 0.3628390075014426, \"tpr\": 0.9347973576147116, \"n\": 8665}, {\"threshold\": 0.263, \"p\": 28005, \"fpr\": 0.3622619734564339, \"tpr\": 0.9346902338868059, \"n\": 8665}, {\"threshold\": 0.264, \"p\": 28005, \"fpr\": 0.361800346220427, \"tpr\": 0.9345831101589002, \"n\": 8665}, {\"threshold\": 0.265, \"p\": 28005, \"fpr\": 0.3614541257934218, \"tpr\": 0.9344402785216925, \"n\": 8665}, {\"threshold\": 0.266, \"p\": 28005, \"fpr\": 0.36122331217541837, \"tpr\": 0.9342974468844849, \"n\": 8665}, {\"threshold\": 0.267, \"p\": 28005, \"fpr\": 0.360530871321408, \"tpr\": 0.9341189073379753, \"n\": 8665}, {\"threshold\": 0.268, \"p\": 28005, \"fpr\": 0.3599538372763993, \"tpr\": 0.933868951972862, \"n\": 8665}, {\"threshold\": 0.269, \"p\": 28005, \"fpr\": 0.3591459896133872, \"tpr\": 0.93383324406356, \"n\": 8665}, {\"threshold\": 0.27, \"p\": 28005, \"fpr\": 0.3586843623773803, \"tpr\": 0.9336904124263524, \"n\": 8665}, {\"threshold\": 0.271, \"p\": 28005, \"fpr\": 0.3584535487593768, \"tpr\": 0.9336547045170506, \"n\": 8665}, {\"threshold\": 0.272, \"p\": 28005, \"fpr\": 0.35810732833237163, \"tpr\": 0.9335118728798428, \"n\": 8665}, {\"threshold\": 0.273, \"p\": 28005, \"fpr\": 0.3574148874783612, \"tpr\": 0.9334047491519372, \"n\": 8665}, {\"threshold\": 0.274, \"p\": 28005, \"fpr\": 0.35683785343335256, \"tpr\": 0.9333690412426352, \"n\": 8665}, {\"threshold\": 0.275, \"p\": 28005, \"fpr\": 0.3564916330063474, \"tpr\": 0.9333333333333333, \"n\": 8665}, {\"threshold\": 0.276, \"p\": 28005, \"fpr\": 0.3561454125793422, \"tpr\": 0.9331190858775219, \"n\": 8665}, {\"threshold\": 0.277, \"p\": 28005, \"fpr\": 0.35556837853433354, \"tpr\": 0.9328691305124085, \"n\": 8665}, {\"threshold\": 0.278, \"p\": 28005, \"fpr\": 0.35452971725331794, \"tpr\": 0.9327977146938047, \"n\": 8665}, {\"threshold\": 0.279, \"p\": 28005, \"fpr\": 0.35406809001731104, \"tpr\": 0.9326905909658989, \"n\": 8665}, {\"threshold\": 0.28, \"p\": 28005, \"fpr\": 0.35383727639930757, \"tpr\": 0.9324763435100875, \"n\": 8665}, {\"threshold\": 0.281, \"p\": 28005, \"fpr\": 0.3536064627813041, \"tpr\": 0.9323692197821818, \"n\": 8665}, {\"threshold\": 0.282, \"p\": 28005, \"fpr\": 0.3532602423542989, \"tpr\": 0.9321192644170684, \"n\": 8665}, {\"threshold\": 0.283, \"p\": 28005, \"fpr\": 0.3525678015002885, \"tpr\": 0.931869309051955, \"n\": 8665}, {\"threshold\": 0.284, \"p\": 28005, \"fpr\": 0.35233698788228507, \"tpr\": 0.9317264774147473, \"n\": 8665}, {\"threshold\": 0.285, \"p\": 28005, \"fpr\": 0.3518753606462781, \"tpr\": 0.9315836457775397, \"n\": 8665}, {\"threshold\": 0.286, \"p\": 28005, \"fpr\": 0.35118291979226773, \"tpr\": 0.9314051062310301, \"n\": 8665}, {\"threshold\": 0.287, \"p\": 28005, \"fpr\": 0.35049047893825735, \"tpr\": 0.9312979825031245, \"n\": 8665}, {\"threshold\": 0.288, \"p\": 28005, \"fpr\": 0.3502596653202539, \"tpr\": 0.9311551508659168, \"n\": 8665}, {\"threshold\": 0.289, \"p\": 28005, \"fpr\": 0.3495672244662435, \"tpr\": 0.9309766113194072, \"n\": 8665}, {\"threshold\": 0.29, \"p\": 28005, \"fpr\": 0.34933641084824, \"tpr\": 0.9308337796821996, \"n\": 8665}, {\"threshold\": 0.291, \"p\": 28005, \"fpr\": 0.34864396999422964, \"tpr\": 0.9308337796821996, \"n\": 8665}, {\"threshold\": 0.292, \"p\": 28005, \"fpr\": 0.34795152914021926, \"tpr\": 0.9307266559542938, \"n\": 8665}, {\"threshold\": 0.293, \"p\": 28005, \"fpr\": 0.34748990190421236, \"tpr\": 0.9305124084984824, \"n\": 8665}, {\"threshold\": 0.294, \"p\": 28005, \"fpr\": 0.346797461050202, \"tpr\": 0.9304052847705767, \"n\": 8665}, {\"threshold\": 0.295, \"p\": 28005, \"fpr\": 0.3462204270051933, \"tpr\": 0.9302624531333691, \"n\": 8665}, {\"threshold\": 0.296, \"p\": 28005, \"fpr\": 0.3458742065781881, \"tpr\": 0.9301553294054633, \"n\": 8665}, {\"threshold\": 0.297, \"p\": 28005, \"fpr\": 0.34518176572417775, \"tpr\": 0.9301196214961615, \"n\": 8665}, {\"threshold\": 0.298, \"p\": 28005, \"fpr\": 0.3444893248701673, \"tpr\": 0.9300124977682557, \"n\": 8665}, {\"threshold\": 0.299, \"p\": 28005, \"fpr\": 0.34414310444316215, \"tpr\": 0.9299410819496519, \"n\": 8665}, {\"threshold\": 0.3, \"p\": 28005, \"fpr\": 0.3434506635891518, \"tpr\": 0.9297268344938404, \"n\": 8665}, {\"threshold\": 0.301, \"p\": 28005, \"fpr\": 0.3432198499711483, \"tpr\": 0.9297268344938404, \"n\": 8665}, {\"threshold\": 0.302, \"p\": 28005, \"fpr\": 0.3427582227351414, \"tpr\": 0.9295482949473308, \"n\": 8665}, {\"threshold\": 0.303, \"p\": 28005, \"fpr\": 0.3421811886901327, \"tpr\": 0.9292626316729156, \"n\": 8665}, {\"threshold\": 0.304, \"p\": 28005, \"fpr\": 0.3419503750721293, \"tpr\": 0.9291555079450098, \"n\": 8665}, {\"threshold\": 0.305, \"p\": 28005, \"fpr\": 0.34079630698211194, \"tpr\": 0.9291198000357079, \"n\": 8665}, {\"threshold\": 0.306, \"p\": 28005, \"fpr\": 0.34033467974610504, \"tpr\": 0.9290126763078022, \"n\": 8665}, {\"threshold\": 0.307, \"p\": 28005, \"fpr\": 0.33964223889209466, \"tpr\": 0.9287984288519907, \"n\": 8665}, {\"threshold\": 0.308, \"p\": 28005, \"fpr\": 0.33964223889209466, \"tpr\": 0.9286555972147831, \"n\": 8665}, {\"threshold\": 0.309, \"p\": 28005, \"fpr\": 0.33906520484708597, \"tpr\": 0.928298518121764, \"n\": 8665}, {\"threshold\": 0.31, \"p\": 28005, \"fpr\": 0.33860357761107907, \"tpr\": 0.9281556864845564, \"n\": 8665}, {\"threshold\": 0.311, \"p\": 28005, \"fpr\": 0.3380265435660704, \"tpr\": 0.9280842706659526, \"n\": 8665}, {\"threshold\": 0.312, \"p\": 28005, \"fpr\": 0.3376803231390652, \"tpr\": 0.927905731119443, \"n\": 8665}, {\"threshold\": 0.313, \"p\": 28005, \"fpr\": 0.33733410271206, \"tpr\": 0.9277271915729334, \"n\": 8665}, {\"threshold\": 0.314, \"p\": 28005, \"fpr\": 0.33698788228505483, \"tpr\": 0.9276200678450277, \"n\": 8665}, {\"threshold\": 0.315, \"p\": 28005, \"fpr\": 0.3368724754760531, \"tpr\": 0.9274415282985181, \"n\": 8665}, {\"threshold\": 0.316, \"p\": 28005, \"fpr\": 0.3368724754760531, \"tpr\": 0.9273344045706123, \"n\": 8665}, {\"threshold\": 0.317, \"p\": 28005, \"fpr\": 0.33629544143104445, \"tpr\": 0.9271558650241029, \"n\": 8665}, {\"threshold\": 0.318, \"p\": 28005, \"fpr\": 0.336064627813041, \"tpr\": 0.9269773254775933, \"n\": 8665}, {\"threshold\": 0.319, \"p\": 28005, \"fpr\": 0.33525678015002885, \"tpr\": 0.9267630780217818, \"n\": 8665}, {\"threshold\": 0.32, \"p\": 28005, \"fpr\": 0.33479515291402195, \"tpr\": 0.9266202463845742, \"n\": 8665}, {\"threshold\": 0.321, \"p\": 28005, \"fpr\": 0.33421811886901326, \"tpr\": 0.9265131226566684, \"n\": 8665}, {\"threshold\": 0.322, \"p\": 28005, \"fpr\": 0.3336410848240046, \"tpr\": 0.9264059989287627, \"n\": 8665}, {\"threshold\": 0.323, \"p\": 28005, \"fpr\": 0.3331794575879977, \"tpr\": 0.9262631672915551, \"n\": 8665}, {\"threshold\": 0.324, \"p\": 28005, \"fpr\": 0.332602423542989, \"tpr\": 0.9261917514729513, \"n\": 8665}, {\"threshold\": 0.325, \"p\": 28005, \"fpr\": 0.33225620311598386, \"tpr\": 0.9261917514729513, \"n\": 8665}, {\"threshold\": 0.326, \"p\": 28005, \"fpr\": 0.3320253894979804, \"tpr\": 0.9260846277450455, \"n\": 8665}, {\"threshold\": 0.327, \"p\": 28005, \"fpr\": 0.33133294864397, \"tpr\": 0.9258346723799321, \"n\": 8665}, {\"threshold\": 0.328, \"p\": 28005, \"fpr\": 0.3306405077899596, \"tpr\": 0.9257275486520264, \"n\": 8665}, {\"threshold\": 0.329, \"p\": 28005, \"fpr\": 0.32994806693594925, \"tpr\": 0.9256561328334226, \"n\": 8665}, {\"threshold\": 0.33, \"p\": 28005, \"fpr\": 0.3292556260819388, \"tpr\": 0.9254418853776112, \"n\": 8665}, {\"threshold\": 0.331, \"p\": 28005, \"fpr\": 0.3290248124639354, \"tpr\": 0.9254061774683092, \"n\": 8665}, {\"threshold\": 0.332, \"p\": 28005, \"fpr\": 0.32821696480092327, \"tpr\": 0.9253704695590074, \"n\": 8665}, {\"threshold\": 0.333, \"p\": 28005, \"fpr\": 0.3279861511829198, \"tpr\": 0.9252990537404036, \"n\": 8665}, {\"threshold\": 0.334, \"p\": 28005, \"fpr\": 0.3276399307559146, \"tpr\": 0.925084806284592, \"n\": 8665}, {\"threshold\": 0.335, \"p\": 28005, \"fpr\": 0.32706289671090594, \"tpr\": 0.9250133904659882, \"n\": 8665}, {\"threshold\": 0.336, \"p\": 28005, \"fpr\": 0.3262550490478938, \"tpr\": 0.9249062667380825, \"n\": 8665}, {\"threshold\": 0.337, \"p\": 28005, \"fpr\": 0.3254472013848817, \"tpr\": 0.9248348509194787, \"n\": 8665}, {\"threshold\": 0.338, \"p\": 28005, \"fpr\": 0.32487016733987306, \"tpr\": 0.9246920192822711, \"n\": 8665}, {\"threshold\": 0.339, \"p\": 28005, \"fpr\": 0.3244085401038661, \"tpr\": 0.9245134797357615, \"n\": 8665}, {\"threshold\": 0.34, \"p\": 28005, \"fpr\": 0.32406231967686094, \"tpr\": 0.9244420639171577, \"n\": 8665}, {\"threshold\": 0.341, \"p\": 28005, \"fpr\": 0.32336987882285056, \"tpr\": 0.92429923227995, \"n\": 8665}, {\"threshold\": 0.342, \"p\": 28005, \"fpr\": 0.32256203115983845, \"tpr\": 0.9241921085520443, \"n\": 8665}, {\"threshold\": 0.343, \"p\": 28005, \"fpr\": 0.32175418349682633, \"tpr\": 0.9240135690055348, \"n\": 8665}, {\"threshold\": 0.344, \"p\": 28005, \"fpr\": 0.32152336987882285, \"tpr\": 0.923870737368327, \"n\": 8665}, {\"threshold\": 0.345, \"p\": 28005, \"fpr\": 0.3212925562608194, \"tpr\": 0.9236921978218176, \"n\": 8665}, {\"threshold\": 0.346, \"p\": 28005, \"fpr\": 0.32117714945181763, \"tpr\": 0.9235850740939118, \"n\": 8665}, {\"threshold\": 0.347, \"p\": 28005, \"fpr\": 0.32106174264281595, \"tpr\": 0.9234422424567041, \"n\": 8665}, {\"threshold\": 0.348, \"p\": 28005, \"fpr\": 0.3209463358338142, \"tpr\": 0.9232637029101947, \"n\": 8665}, {\"threshold\": 0.349, \"p\": 28005, \"fpr\": 0.3201384881708021, \"tpr\": 0.9231922870915907, \"n\": 8665}, {\"threshold\": 0.35, \"p\": 28005, \"fpr\": 0.31967686093479514, \"tpr\": 0.9231208712729869, \"n\": 8665}, {\"threshold\": 0.351, \"p\": 28005, \"fpr\": 0.31933064050779, \"tpr\": 0.9230137475450813, \"n\": 8665}, {\"threshold\": 0.352, \"p\": 28005, \"fpr\": 0.318869013271783, \"tpr\": 0.9229066238171755, \"n\": 8665}, {\"threshold\": 0.353, \"p\": 28005, \"fpr\": 0.3182919792267744, \"tpr\": 0.9226209605427602, \"n\": 8665}, {\"threshold\": 0.354, \"p\": 28005, \"fpr\": 0.31817657241777264, \"tpr\": 0.9224424209962506, \"n\": 8665}, {\"threshold\": 0.355, \"p\": 28005, \"fpr\": 0.3172533179457588, \"tpr\": 0.922299589359043, \"n\": 8665}, {\"threshold\": 0.356, \"p\": 28005, \"fpr\": 0.3167916907097519, \"tpr\": 0.9220496339939297, \"n\": 8665}, {\"threshold\": 0.357, \"p\": 28005, \"fpr\": 0.31667628390075014, \"tpr\": 0.9218353865381181, \"n\": 8665}, {\"threshold\": 0.358, \"p\": 28005, \"fpr\": 0.3163300634737449, \"tpr\": 0.9216568469916087, \"n\": 8665}, {\"threshold\": 0.359, \"p\": 28005, \"fpr\": 0.31598384304673977, \"tpr\": 0.9215497232637029, \"n\": 8665}, {\"threshold\": 0.36, \"p\": 28005, \"fpr\": 0.3155222158107328, \"tpr\": 0.9214425995357972, \"n\": 8665}, {\"threshold\": 0.361, \"p\": 28005, \"fpr\": 0.31517599538372765, \"tpr\": 0.9212640599892876, \"n\": 8665}, {\"threshold\": 0.362, \"p\": 28005, \"fpr\": 0.31448355452971727, \"tpr\": 0.9211569362613818, \"n\": 8665}, {\"threshold\": 0.363, \"p\": 28005, \"fpr\": 0.31367570686670515, \"tpr\": 0.9210141046241742, \"n\": 8665}, {\"threshold\": 0.364, \"p\": 28005, \"fpr\": 0.3134448932487017, \"tpr\": 0.9208712729869666, \"n\": 8665}, {\"threshold\": 0.365, \"p\": 28005, \"fpr\": 0.31286785920369303, \"tpr\": 0.9206927334404571, \"n\": 8665}, {\"threshold\": 0.366, \"p\": 28005, \"fpr\": 0.3127524523946913, \"tpr\": 0.9204070701660417, \"n\": 8665}, {\"threshold\": 0.367, \"p\": 28005, \"fpr\": 0.3124062319676861, \"tpr\": 0.9202999464381361, \"n\": 8665}, {\"threshold\": 0.368, \"p\": 28005, \"fpr\": 0.3120600115406809, \"tpr\": 0.9200142831637208, \"n\": 8665}, {\"threshold\": 0.369, \"p\": 28005, \"fpr\": 0.31136757068667054, \"tpr\": 0.9197286198893054, \"n\": 8665}, {\"threshold\": 0.37, \"p\": 28005, \"fpr\": 0.3109059434506636, \"tpr\": 0.9193715407962864, \"n\": 8665}, {\"threshold\": 0.371, \"p\": 28005, \"fpr\": 0.3106751298326601, \"tpr\": 0.9190144617032673, \"n\": 8665}, {\"threshold\": 0.372, \"p\": 28005, \"fpr\": 0.3105597230236584, \"tpr\": 0.9188716300660597, \"n\": 8665}, {\"threshold\": 0.373, \"p\": 28005, \"fpr\": 0.3102135025966532, \"tpr\": 0.9188359221567577, \"n\": 8665}, {\"threshold\": 0.374, \"p\": 28005, \"fpr\": 0.3099826889786497, \"tpr\": 0.9186573826102482, \"n\": 8665}, {\"threshold\": 0.375, \"p\": 28005, \"fpr\": 0.3094056549336411, \"tpr\": 0.9185859667916444, \"n\": 8665}, {\"threshold\": 0.376, \"p\": 28005, \"fpr\": 0.3089440276976342, \"tpr\": 0.9185145509730406, \"n\": 8665}, {\"threshold\": 0.377, \"p\": 28005, \"fpr\": 0.30859780727062897, \"tpr\": 0.9184074272451348, \"n\": 8665}, {\"threshold\": 0.378, \"p\": 28005, \"fpr\": 0.3084824004616272, \"tpr\": 0.9182645956079272, \"n\": 8665}, {\"threshold\": 0.379, \"p\": 28005, \"fpr\": 0.3083669936526255, \"tpr\": 0.9181217639707195, \"n\": 8665}, {\"threshold\": 0.38, \"p\": 28005, \"fpr\": 0.30813618003462206, \"tpr\": 0.9180146402428138, \"n\": 8665}, {\"threshold\": 0.381, \"p\": 28005, \"fpr\": 0.30709751875360647, \"tpr\": 0.9176932690590965, \"n\": 8665}, {\"threshold\": 0.382, \"p\": 28005, \"fpr\": 0.3066358915175995, \"tpr\": 0.9175861453311909, \"n\": 8665}, {\"threshold\": 0.383, \"p\": 28005, \"fpr\": 0.3061742642815926, \"tpr\": 0.9174433136939832, \"n\": 8665}, {\"threshold\": 0.384, \"p\": 28005, \"fpr\": 0.30559723023658397, \"tpr\": 0.9173004820567756, \"n\": 8665}, {\"threshold\": 0.385, \"p\": 28005, \"fpr\": 0.30525100980957875, \"tpr\": 0.9172290662381718, \"n\": 8665}, {\"threshold\": 0.386, \"p\": 28005, \"fpr\": 0.305135603000577, \"tpr\": 0.9170505266916622, \"n\": 8665}, {\"threshold\": 0.387, \"p\": 28005, \"fpr\": 0.3046739757645701, \"tpr\": 0.9168362792358508, \"n\": 8665}, {\"threshold\": 0.388, \"p\": 28005, \"fpr\": 0.3040969417195615, \"tpr\": 0.9166577396893412, \"n\": 8665}, {\"threshold\": 0.389, \"p\": 28005, \"fpr\": 0.30375072129255626, \"tpr\": 0.9165506159614355, \"n\": 8665}, {\"threshold\": 0.39, \"p\": 28005, \"fpr\": 0.30328909405654936, \"tpr\": 0.9164077843242279, \"n\": 8665}, {\"threshold\": 0.391, \"p\": 28005, \"fpr\": 0.30294287362954414, \"tpr\": 0.9162292447777183, \"n\": 8665}, {\"threshold\": 0.392, \"p\": 28005, \"fpr\": 0.30294287362954414, \"tpr\": 0.915943581503303, \"n\": 8665}, {\"threshold\": 0.393, \"p\": 28005, \"fpr\": 0.3023658395845355, \"tpr\": 0.9156579182288876, \"n\": 8665}, {\"threshold\": 0.394, \"p\": 28005, \"fpr\": 0.30225043277553376, \"tpr\": 0.915550794500982, \"n\": 8665}, {\"threshold\": 0.395, \"p\": 28005, \"fpr\": 0.30225043277553376, \"tpr\": 0.9153722549544724, \"n\": 8665}, {\"threshold\": 0.396, \"p\": 28005, \"fpr\": 0.3020196191575303, \"tpr\": 0.9153008391358686, \"n\": 8665}, {\"threshold\": 0.397, \"p\": 28005, \"fpr\": 0.3016733987305251, \"tpr\": 0.9150508837707553, \"n\": 8665}, {\"threshold\": 0.398, \"p\": 28005, \"fpr\": 0.3015579919215234, \"tpr\": 0.9149437600428495, \"n\": 8665}, {\"threshold\": 0.399, \"p\": 28005, \"fpr\": 0.30121177149451817, \"tpr\": 0.9147652204963399, \"n\": 8665}, {\"threshold\": 0.4, \"p\": 28005, \"fpr\": 0.30075014425851126, \"tpr\": 0.9146580967684342, \"n\": 8665}, {\"threshold\": 0.401, \"p\": 28005, \"fpr\": 0.3000577034045009, \"tpr\": 0.9145152651312266, \"n\": 8665}, {\"threshold\": 0.402, \"p\": 28005, \"fpr\": 0.2998268897864974, \"tpr\": 0.914372433494019, \"n\": 8665}, {\"threshold\": 0.403, \"p\": 28005, \"fpr\": 0.2994806693594922, \"tpr\": 0.9142296018568112, \"n\": 8665}, {\"threshold\": 0.404, \"p\": 28005, \"fpr\": 0.29924985574148877, \"tpr\": 0.9140510623103018, \"n\": 8665}, {\"threshold\": 0.405, \"p\": 28005, \"fpr\": 0.29890363531448355, \"tpr\": 0.913943938582396, \"n\": 8665}, {\"threshold\": 0.406, \"p\": 28005, \"fpr\": 0.2982111944604732, \"tpr\": 0.9138368148544903, \"n\": 8665}, {\"threshold\": 0.407, \"p\": 28005, \"fpr\": 0.2977495672244662, \"tpr\": 0.9136582753079807, \"n\": 8665}, {\"threshold\": 0.408, \"p\": 28005, \"fpr\": 0.2972879399884593, \"tpr\": 0.9135154436707731, \"n\": 8665}, {\"threshold\": 0.409, \"p\": 28005, \"fpr\": 0.2969417195614541, \"tpr\": 0.9134083199428673, \"n\": 8665}, {\"threshold\": 0.41, \"p\": 28005, \"fpr\": 0.29636468551644546, \"tpr\": 0.9133369041242635, \"n\": 8665}, {\"threshold\": 0.411, \"p\": 28005, \"fpr\": 0.2962492787074437, \"tpr\": 0.9131940724870559, \"n\": 8665}, {\"threshold\": 0.412, \"p\": 28005, \"fpr\": 0.29590305828043856, \"tpr\": 0.9129798250312444, \"n\": 8665}, {\"threshold\": 0.413, \"p\": 28005, \"fpr\": 0.2953260242354299, \"tpr\": 0.9128369933940368, \"n\": 8665}, {\"threshold\": 0.414, \"p\": 28005, \"fpr\": 0.29486439699942296, \"tpr\": 0.9126227459382253, \"n\": 8665}, {\"threshold\": 0.415, \"p\": 28005, \"fpr\": 0.29440276976341606, \"tpr\": 0.9124442063917158, \"n\": 8665}, {\"threshold\": 0.416, \"p\": 28005, \"fpr\": 0.2942873629544143, \"tpr\": 0.9123727905731119, \"n\": 8665}, {\"threshold\": 0.417, \"p\": 28005, \"fpr\": 0.2939411425274091, \"tpr\": 0.9121228352079985, \"n\": 8665}, {\"threshold\": 0.418, \"p\": 28005, \"fpr\": 0.2934795152914022, \"tpr\": 0.9120514193893947, \"n\": 8665}, {\"threshold\": 0.419, \"p\": 28005, \"fpr\": 0.29290248124639356, \"tpr\": 0.9119800035707909, \"n\": 8665}, {\"threshold\": 0.42, \"p\": 28005, \"fpr\": 0.2926716676283901, \"tpr\": 0.9119085877521871, \"n\": 8665}, {\"threshold\": 0.421, \"p\": 28005, \"fpr\": 0.29221004039238313, \"tpr\": 0.9117300482056776, \"n\": 8665}, {\"threshold\": 0.422, \"p\": 28005, \"fpr\": 0.29186381996537797, \"tpr\": 0.911551508659168, \"n\": 8665}, {\"threshold\": 0.423, \"p\": 28005, \"fpr\": 0.291402192729371, \"tpr\": 0.9114800928405642, \"n\": 8665}, {\"threshold\": 0.424, \"p\": 28005, \"fpr\": 0.2909405654933641, \"tpr\": 0.9113015532940546, \"n\": 8665}, {\"threshold\": 0.425, \"p\": 28005, \"fpr\": 0.29024812463935373, \"tpr\": 0.9112301374754508, \"n\": 8665}, {\"threshold\": 0.426, \"p\": 28005, \"fpr\": 0.2897864974033468, \"tpr\": 0.9110158900196393, \"n\": 8665}, {\"threshold\": 0.427, \"p\": 28005, \"fpr\": 0.2894402769763416, \"tpr\": 0.9109444742010355, \"n\": 8665}, {\"threshold\": 0.428, \"p\": 28005, \"fpr\": 0.288863242931333, \"tpr\": 0.9107659346545259, \"n\": 8665}, {\"threshold\": 0.429, \"p\": 28005, \"fpr\": 0.288401615695326, \"tpr\": 0.9105516871987145, \"n\": 8665}, {\"threshold\": 0.43, \"p\": 28005, \"fpr\": 0.2879399884593191, \"tpr\": 0.9104088555615069, \"n\": 8665}, {\"threshold\": 0.431, \"p\": 28005, \"fpr\": 0.28770917484131564, \"tpr\": 0.9101946081056954, \"n\": 8665}, {\"threshold\": 0.432, \"p\": 28005, \"fpr\": 0.28747836122331216, \"tpr\": 0.9100517764684878, \"n\": 8665}, {\"threshold\": 0.433, \"p\": 28005, \"fpr\": 0.2869013271783035, \"tpr\": 0.9098375290126763, \"n\": 8665}, {\"threshold\": 0.434, \"p\": 28005, \"fpr\": 0.2865551067512983, \"tpr\": 0.9096589894661667, \"n\": 8665}, {\"threshold\": 0.435, \"p\": 28005, \"fpr\": 0.28620888632429314, \"tpr\": 0.9095518657382611, \"n\": 8665}, {\"threshold\": 0.436, \"p\": 28005, \"fpr\": 0.2856318522792845, \"tpr\": 0.9094447420103553, \"n\": 8665}, {\"threshold\": 0.437, \"p\": 28005, \"fpr\": 0.2852856318522793, \"tpr\": 0.9092662024638457, \"n\": 8665}, {\"threshold\": 0.438, \"p\": 28005, \"fpr\": 0.2845931909982689, \"tpr\": 0.9091233708266381, \"n\": 8665}, {\"threshold\": 0.439, \"p\": 28005, \"fpr\": 0.2842469705712637, \"tpr\": 0.9089091233708266, \"n\": 8665}, {\"threshold\": 0.44, \"p\": 28005, \"fpr\": 0.28413156376226195, \"tpr\": 0.908730583824317, \"n\": 8665}, {\"threshold\": 0.441, \"p\": 28005, \"fpr\": 0.2837853433352568, \"tpr\": 0.9085877521871094, \"n\": 8665}, {\"threshold\": 0.442, \"p\": 28005, \"fpr\": 0.2830929024812464, \"tpr\": 0.9084092126405999, \"n\": 8665}, {\"threshold\": 0.443, \"p\": 28005, \"fpr\": 0.2825158684362377, \"tpr\": 0.9082306730940903, \"n\": 8665}, {\"threshold\": 0.444, \"p\": 28005, \"fpr\": 0.28216964800923255, \"tpr\": 0.9080521335475807, \"n\": 8665}, {\"threshold\": 0.445, \"p\": 28005, \"fpr\": 0.2819388343912291, \"tpr\": 0.9078378860917693, \"n\": 8665}, {\"threshold\": 0.446, \"p\": 28005, \"fpr\": 0.2815926139642239, \"tpr\": 0.9076236386359579, \"n\": 8665}, {\"threshold\": 0.447, \"p\": 28005, \"fpr\": 0.28113098672821696, \"tpr\": 0.9075165149080522, \"n\": 8665}, {\"threshold\": 0.448, \"p\": 28005, \"fpr\": 0.2807847663012118, \"tpr\": 0.9073022674522406, \"n\": 8665}, {\"threshold\": 0.449, \"p\": 28005, \"fpr\": 0.2805539526832083, \"tpr\": 0.9071237279057311, \"n\": 8665}, {\"threshold\": 0.45, \"p\": 28005, \"fpr\": 0.2802077322562031, \"tpr\": 0.9070880199964292, \"n\": 8665}, {\"threshold\": 0.451, \"p\": 28005, \"fpr\": 0.27963069821119446, \"tpr\": 0.9069451883592216, \"n\": 8665}, {\"threshold\": 0.452, \"p\": 28005, \"fpr\": 0.2790536641661858, \"tpr\": 0.9066595250848063, \"n\": 8665}, {\"threshold\": 0.453, \"p\": 28005, \"fpr\": 0.27882285054818234, \"tpr\": 0.9065166934475987, \"n\": 8665}, {\"threshold\": 0.454, \"p\": 28005, \"fpr\": 0.2782458165031737, \"tpr\": 0.906373861810391, \"n\": 8665}, {\"threshold\": 0.455, \"p\": 28005, \"fpr\": 0.277668782458165, \"tpr\": 0.9063024459917872, \"n\": 8665}, {\"threshold\": 0.456, \"p\": 28005, \"fpr\": 0.2772071552221581, \"tpr\": 0.9061953222638814, \"n\": 8665}, {\"threshold\": 0.457, \"p\": 28005, \"fpr\": 0.27663012117714947, \"tpr\": 0.9059096589894662, \"n\": 8665}, {\"threshold\": 0.458, \"p\": 28005, \"fpr\": 0.276399307559146, \"tpr\": 0.9058382431708624, \"n\": 8665}, {\"threshold\": 0.459, \"p\": 28005, \"fpr\": 0.2761684939411425, \"tpr\": 0.9057668273522586, \"n\": 8665}, {\"threshold\": 0.46, \"p\": 28005, \"fpr\": 0.2759376803231391, \"tpr\": 0.9057311194429566, \"n\": 8665}, {\"threshold\": 0.461, \"p\": 28005, \"fpr\": 0.2757068667051356, \"tpr\": 0.9054811640778433, \"n\": 8665}, {\"threshold\": 0.462, \"p\": 28005, \"fpr\": 0.2753606462781304, \"tpr\": 0.9051597928941261, \"n\": 8665}, {\"threshold\": 0.463, \"p\": 28005, \"fpr\": 0.27512983266012697, \"tpr\": 0.9050526691662203, \"n\": 8665}, {\"threshold\": 0.464, \"p\": 28005, \"fpr\": 0.27478361223312175, \"tpr\": 0.904767005891805, \"n\": 8665}, {\"threshold\": 0.465, \"p\": 28005, \"fpr\": 0.27443739180611654, \"tpr\": 0.9045170505266916, \"n\": 8665}, {\"threshold\": 0.466, \"p\": 28005, \"fpr\": 0.273398730525101, \"tpr\": 0.9044456347080878, \"n\": 8665}, {\"threshold\": 0.467, \"p\": 28005, \"fpr\": 0.2728216964800923, \"tpr\": 0.9043385109801821, \"n\": 8665}, {\"threshold\": 0.468, \"p\": 28005, \"fpr\": 0.2727062896710906, \"tpr\": 0.9041956793429745, \"n\": 8665}, {\"threshold\": 0.469, \"p\": 28005, \"fpr\": 0.2723600692440854, \"tpr\": 0.9040171397964649, \"n\": 8665}, {\"threshold\": 0.47, \"p\": 28005, \"fpr\": 0.2715522215810733, \"tpr\": 0.9038386002499553, \"n\": 8665}, {\"threshold\": 0.471, \"p\": 28005, \"fpr\": 0.2710905943450664, \"tpr\": 0.9037671844313515, \"n\": 8665}, {\"threshold\": 0.472, \"p\": 28005, \"fpr\": 0.27074437391806117, \"tpr\": 0.9036243527941439, \"n\": 8665}, {\"threshold\": 0.473, \"p\": 28005, \"fpr\": 0.27028274668205426, \"tpr\": 0.9035172290662382, \"n\": 8665}, {\"threshold\": 0.474, \"p\": 28005, \"fpr\": 0.2698211194460473, \"tpr\": 0.9033743974290306, \"n\": 8665}, {\"threshold\": 0.475, \"p\": 28005, \"fpr\": 0.26959030582804383, \"tpr\": 0.9033743974290306, \"n\": 8665}, {\"threshold\": 0.476, \"p\": 28005, \"fpr\": 0.2693594922100404, \"tpr\": 0.9033029816104267, \"n\": 8665}, {\"threshold\": 0.477, \"p\": 28005, \"fpr\": 0.2690132717830352, \"tpr\": 0.903160149973219, \"n\": 8665}, {\"threshold\": 0.478, \"p\": 28005, \"fpr\": 0.26843623773802655, \"tpr\": 0.9029459025174076, \"n\": 8665}, {\"threshold\": 0.479, \"p\": 28005, \"fpr\": 0.26809001731102133, \"tpr\": 0.9026959471522943, \"n\": 8665}, {\"threshold\": 0.48, \"p\": 28005, \"fpr\": 0.2678592036930179, \"tpr\": 0.9024459917871809, \"n\": 8665}, {\"threshold\": 0.481, \"p\": 28005, \"fpr\": 0.2678592036930179, \"tpr\": 0.9023031601499732, \"n\": 8665}, {\"threshold\": 0.482, \"p\": 28005, \"fpr\": 0.26774379688401617, \"tpr\": 0.9019460810569541, \"n\": 8665}, {\"threshold\": 0.483, \"p\": 28005, \"fpr\": 0.26762839007501443, \"tpr\": 0.9018032494197464, \"n\": 8665}, {\"threshold\": 0.484, \"p\": 28005, \"fpr\": 0.2672821696480092, \"tpr\": 0.9016604177825388, \"n\": 8665}, {\"threshold\": 0.485, \"p\": 28005, \"fpr\": 0.26658972879399884, \"tpr\": 0.9014104624174255, \"n\": 8665}, {\"threshold\": 0.486, \"p\": 28005, \"fpr\": 0.2660126947489902, \"tpr\": 0.9013390465988217, \"n\": 8665}, {\"threshold\": 0.487, \"p\": 28005, \"fpr\": 0.265666474321985, \"tpr\": 0.9012319228709159, \"n\": 8665}, {\"threshold\": 0.488, \"p\": 28005, \"fpr\": 0.2652048470859781, \"tpr\": 0.9011247991430101, \"n\": 8665}, {\"threshold\": 0.489, \"p\": 28005, \"fpr\": 0.26485862665897286, \"tpr\": 0.9008391358685949, \"n\": 8665}, {\"threshold\": 0.49, \"p\": 28005, \"fpr\": 0.26439699942296596, \"tpr\": 0.9007320121406892, \"n\": 8665}, {\"threshold\": 0.491, \"p\": 28005, \"fpr\": 0.2638199653779573, \"tpr\": 0.9006248884127834, \"n\": 8665}, {\"threshold\": 0.492, \"p\": 28005, \"fpr\": 0.2627813040969417, \"tpr\": 0.9004463488662738, \"n\": 8665}, {\"threshold\": 0.493, \"p\": 28005, \"fpr\": 0.26255049047893825, \"tpr\": 0.9001249776825567, \"n\": 8665}, {\"threshold\": 0.494, \"p\": 28005, \"fpr\": 0.2619734564339296, \"tpr\": 0.9000535618639529, \"n\": 8665}, {\"threshold\": 0.495, \"p\": 28005, \"fpr\": 0.26139642238892097, \"tpr\": 0.8999464381360471, \"n\": 8665}, {\"threshold\": 0.496, \"p\": 28005, \"fpr\": 0.2611656087709175, \"tpr\": 0.8996250669523299, \"n\": 8665}, {\"threshold\": 0.497, \"p\": 28005, \"fpr\": 0.2608193883439123, \"tpr\": 0.8994822353151223, \"n\": 8665}, {\"threshold\": 0.498, \"p\": 28005, \"fpr\": 0.26035776110790537, \"tpr\": 0.8993036957686128, \"n\": 8665}, {\"threshold\": 0.499, \"p\": 28005, \"fpr\": 0.26024235429890363, \"tpr\": 0.8990537404034994, \"n\": 8665}, {\"threshold\": 0.5, \"p\": 28005, \"fpr\": 0.25978072706289673, \"tpr\": 0.8989109087662918, \"n\": 8665}, {\"threshold\": 0.501, \"p\": 28005, \"fpr\": 0.2594345066358915, \"tpr\": 0.8988752008569898, \"n\": 8665}, {\"threshold\": 0.502, \"p\": 28005, \"fpr\": 0.2589728793998846, \"tpr\": 0.8987323692197822, \"n\": 8665}, {\"threshold\": 0.503, \"p\": 28005, \"fpr\": 0.2583958453548759, \"tpr\": 0.8985895375825745, \"n\": 8665}, {\"threshold\": 0.504, \"p\": 28005, \"fpr\": 0.2581650317368725, \"tpr\": 0.8984824138546688, \"n\": 8665}, {\"threshold\": 0.505, \"p\": 28005, \"fpr\": 0.25747259088286206, \"tpr\": 0.8983038743081593, \"n\": 8665}, {\"threshold\": 0.506, \"p\": 28005, \"fpr\": 0.25724177726485864, \"tpr\": 0.8981967505802535, \"n\": 8665}, {\"threshold\": 0.507, \"p\": 28005, \"fpr\": 0.25666474321984994, \"tpr\": 0.8979467952151402, \"n\": 8665}, {\"threshold\": 0.508, \"p\": 28005, \"fpr\": 0.25620311598384304, \"tpr\": 0.8978039635779325, \"n\": 8665}, {\"threshold\": 0.509, \"p\": 28005, \"fpr\": 0.2558568955568378, \"tpr\": 0.8976968398500268, \"n\": 8665}, {\"threshold\": 0.51, \"p\": 28005, \"fpr\": 0.25551067512983267, \"tpr\": 0.8976968398500268, \"n\": 8665}, {\"threshold\": 0.511, \"p\": 28005, \"fpr\": 0.25516445470282745, \"tpr\": 0.8973397607570077, \"n\": 8665}, {\"threshold\": 0.512, \"p\": 28005, \"fpr\": 0.25470282746682055, \"tpr\": 0.8971612212104981, \"n\": 8665}, {\"threshold\": 0.513, \"p\": 28005, \"fpr\": 0.2542412002308136, \"tpr\": 0.8970540974825923, \"n\": 8665}, {\"threshold\": 0.514, \"p\": 28005, \"fpr\": 0.2537795729948067, \"tpr\": 0.8969469737546867, \"n\": 8665}, {\"threshold\": 0.515, \"p\": 28005, \"fpr\": 0.25366416618580495, \"tpr\": 0.8967684342081771, \"n\": 8665}, {\"threshold\": 0.516, \"p\": 28005, \"fpr\": 0.2529717253317946, \"tpr\": 0.8965541867523656, \"n\": 8665}, {\"threshold\": 0.517, \"p\": 28005, \"fpr\": 0.25251009809578767, \"tpr\": 0.8963042313872522, \"n\": 8665}, {\"threshold\": 0.518, \"p\": 28005, \"fpr\": 0.25216387766878245, \"tpr\": 0.8960899839314408, \"n\": 8665}, {\"threshold\": 0.519, \"p\": 28005, \"fpr\": 0.2514714368147721, \"tpr\": 0.8957686127477236, \"n\": 8665}, {\"threshold\": 0.52, \"p\": 28005, \"fpr\": 0.2512406231967686, \"tpr\": 0.8956257811105159, \"n\": 8665}, {\"threshold\": 0.521, \"p\": 28005, \"fpr\": 0.2507789959607617, \"tpr\": 0.8953758257454026, \"n\": 8665}, {\"threshold\": 0.522, \"p\": 28005, \"fpr\": 0.2505481823427582, \"tpr\": 0.895232994108195, \"n\": 8665}, {\"threshold\": 0.523, \"p\": 28005, \"fpr\": 0.25031736872475474, \"tpr\": 0.895197286198893, \"n\": 8665}, {\"threshold\": 0.524, \"p\": 28005, \"fpr\": 0.24985574148874784, \"tpr\": 0.8949473308337796, \"n\": 8665}, {\"threshold\": 0.525, \"p\": 28005, \"fpr\": 0.24950952106174265, \"tpr\": 0.894804499196572, \"n\": 8665}, {\"threshold\": 0.526, \"p\": 28005, \"fpr\": 0.2493941142527409, \"tpr\": 0.8947330833779682, \"n\": 8665}, {\"threshold\": 0.527, \"p\": 28005, \"fpr\": 0.24916330063473746, \"tpr\": 0.8946259596500625, \"n\": 8665}, {\"threshold\": 0.528, \"p\": 28005, \"fpr\": 0.24835545297172534, \"tpr\": 0.8944474201035529, \"n\": 8665}, {\"threshold\": 0.529, \"p\": 28005, \"fpr\": 0.24789382573571841, \"tpr\": 0.8942688805570433, \"n\": 8665}, {\"threshold\": 0.53, \"p\": 28005, \"fpr\": 0.24754760530871323, \"tpr\": 0.8941617568291377, \"n\": 8665}, {\"threshold\": 0.531, \"p\": 28005, \"fpr\": 0.247201384881708, \"tpr\": 0.8940903410105339, \"n\": 8665}, {\"threshold\": 0.532, \"p\": 28005, \"fpr\": 0.247201384881708, \"tpr\": 0.89401892519193, \"n\": 8665}, {\"threshold\": 0.533, \"p\": 28005, \"fpr\": 0.24685516445470282, \"tpr\": 0.8938046777361186, \"n\": 8665}, {\"threshold\": 0.534, \"p\": 28005, \"fpr\": 0.2463935372186959, \"tpr\": 0.8937332619175147, \"n\": 8665}, {\"threshold\": 0.535, \"p\": 28005, \"fpr\": 0.2460473167916907, \"tpr\": 0.8935547223710052, \"n\": 8665}, {\"threshold\": 0.536, \"p\": 28005, \"fpr\": 0.24523946912867858, \"tpr\": 0.8933761828244956, \"n\": 8665}, {\"threshold\": 0.537, \"p\": 28005, \"fpr\": 0.24477784189267165, \"tpr\": 0.8933047670058918, \"n\": 8665}, {\"threshold\": 0.538, \"p\": 28005, \"fpr\": 0.24431621465666475, \"tpr\": 0.8931976432779861, \"n\": 8665}, {\"threshold\": 0.539, \"p\": 28005, \"fpr\": 0.24408540103866128, \"tpr\": 0.8930191037314765, \"n\": 8665}, {\"threshold\": 0.54, \"p\": 28005, \"fpr\": 0.24350836699365264, \"tpr\": 0.8928405641849669, \"n\": 8665}, {\"threshold\": 0.541, \"p\": 28005, \"fpr\": 0.24293133294864397, \"tpr\": 0.8927334404570613, \"n\": 8665}, {\"threshold\": 0.542, \"p\": 28005, \"fpr\": 0.2423542989036353, \"tpr\": 0.8925549009105517, \"n\": 8665}, {\"threshold\": 0.543, \"p\": 28005, \"fpr\": 0.24177726485862666, \"tpr\": 0.892447777182646, \"n\": 8665}, {\"threshold\": 0.544, \"p\": 28005, \"fpr\": 0.24154645124062318, \"tpr\": 0.8920906980896268, \"n\": 8665}, {\"threshold\": 0.545, \"p\": 28005, \"fpr\": 0.24096941719561454, \"tpr\": 0.8919835743617212, \"n\": 8665}, {\"threshold\": 0.546, \"p\": 28005, \"fpr\": 0.24050778995960762, \"tpr\": 0.8916622031780039, \"n\": 8665}, {\"threshold\": 0.547, \"p\": 28005, \"fpr\": 0.23981534910559724, \"tpr\": 0.891233708266381, \"n\": 8665}, {\"threshold\": 0.548, \"p\": 28005, \"fpr\": 0.23889209463358338, \"tpr\": 0.8909837529012676, \"n\": 8665}, {\"threshold\": 0.549, \"p\": 28005, \"fpr\": 0.23866128101557993, \"tpr\": 0.89084092126406, \"n\": 8665}, {\"threshold\": 0.55, \"p\": 28005, \"fpr\": 0.2378534333525678, \"tpr\": 0.890805213354758, \"n\": 8665}, {\"threshold\": 0.551, \"p\": 28005, \"fpr\": 0.2371609924985574, \"tpr\": 0.8906623817175504, \"n\": 8665}, {\"threshold\": 0.552, \"p\": 28005, \"fpr\": 0.23658395845354876, \"tpr\": 0.8905909658989466, \"n\": 8665}, {\"threshold\": 0.553, \"p\": 28005, \"fpr\": 0.2363531448355453, \"tpr\": 0.8903410105338333, \"n\": 8665}, {\"threshold\": 0.554, \"p\": 28005, \"fpr\": 0.2356607039815349, \"tpr\": 0.8902695947152294, \"n\": 8665}, {\"threshold\": 0.555, \"p\": 28005, \"fpr\": 0.23519907674552798, \"tpr\": 0.8900196393501161, \"n\": 8665}, {\"threshold\": 0.556, \"p\": 28005, \"fpr\": 0.2348528563185228, \"tpr\": 0.8899839314408141, \"n\": 8665}, {\"threshold\": 0.557, \"p\": 28005, \"fpr\": 0.23473744950952105, \"tpr\": 0.8899125156222103, \"n\": 8665}, {\"threshold\": 0.558, \"p\": 28005, \"fpr\": 0.23439122908251586, \"tpr\": 0.8897339760757008, \"n\": 8665}, {\"threshold\": 0.559, \"p\": 28005, \"fpr\": 0.23404500865551067, \"tpr\": 0.8894840207105874, \"n\": 8665}, {\"threshold\": 0.56, \"p\": 28005, \"fpr\": 0.23346797461050203, \"tpr\": 0.8893411890733798, \"n\": 8665}, {\"threshold\": 0.561, \"p\": 28005, \"fpr\": 0.23312175418349682, \"tpr\": 0.8891626495268702, \"n\": 8665}, {\"threshold\": 0.562, \"p\": 28005, \"fpr\": 0.23254472013848818, \"tpr\": 0.8889841099803607, \"n\": 8665}, {\"threshold\": 0.563, \"p\": 28005, \"fpr\": 0.23208309290248125, \"tpr\": 0.888841278343153, \"n\": 8665}, {\"threshold\": 0.564, \"p\": 28005, \"fpr\": 0.2318522792844778, \"tpr\": 0.8887341546152473, \"n\": 8665}, {\"threshold\": 0.565, \"p\": 28005, \"fpr\": 0.23173687247547606, \"tpr\": 0.8886627387966435, \"n\": 8665}, {\"threshold\": 0.566, \"p\": 28005, \"fpr\": 0.23139065204847087, \"tpr\": 0.8885913229780397, \"n\": 8665}, {\"threshold\": 0.567, \"p\": 28005, \"fpr\": 0.23092902481246394, \"tpr\": 0.8881985359757186, \"n\": 8665}, {\"threshold\": 0.568, \"p\": 28005, \"fpr\": 0.230467397576457, \"tpr\": 0.8880914122478129, \"n\": 8665}, {\"threshold\": 0.569, \"p\": 28005, \"fpr\": 0.23012117714945182, \"tpr\": 0.8879128727013034, \"n\": 8665}, {\"threshold\": 0.57, \"p\": 28005, \"fpr\": 0.23000577034045008, \"tpr\": 0.8876986252454919, \"n\": 8665}, {\"threshold\": 0.571, \"p\": 28005, \"fpr\": 0.22977495672244663, \"tpr\": 0.8875200856989823, \"n\": 8665}, {\"threshold\": 0.572, \"p\": 28005, \"fpr\": 0.22919792267743797, \"tpr\": 0.8872701303338689, \"n\": 8665}, {\"threshold\": 0.573, \"p\": 28005, \"fpr\": 0.22885170225043278, \"tpr\": 0.8871272986966613, \"n\": 8665}, {\"threshold\": 0.574, \"p\": 28005, \"fpr\": 0.22873629544143104, \"tpr\": 0.8870558828780575, \"n\": 8665}, {\"threshold\": 0.575, \"p\": 28005, \"fpr\": 0.22804385458742066, \"tpr\": 0.886841635422246, \"n\": 8665}, {\"threshold\": 0.576, \"p\": 28005, \"fpr\": 0.22758222735141373, \"tpr\": 0.8865916800571326, \"n\": 8665}, {\"threshold\": 0.577, \"p\": 28005, \"fpr\": 0.22723600692440854, \"tpr\": 0.8863774326013212, \"n\": 8665}, {\"threshold\": 0.578, \"p\": 28005, \"fpr\": 0.22688978649740335, \"tpr\": 0.8862703088734155, \"n\": 8665}, {\"threshold\": 0.579, \"p\": 28005, \"fpr\": 0.22654356607039816, \"tpr\": 0.8859132297803963, \"n\": 8665}, {\"threshold\": 0.58, \"p\": 28005, \"fpr\": 0.22642815926139642, \"tpr\": 0.8855918585966792, \"n\": 8665}, {\"threshold\": 0.581, \"p\": 28005, \"fpr\": 0.22608193883439123, \"tpr\": 0.8854133190501696, \"n\": 8665}, {\"threshold\": 0.582, \"p\": 28005, \"fpr\": 0.2256203115983843, \"tpr\": 0.8850205320478486, \"n\": 8665}, {\"threshold\": 0.583, \"p\": 28005, \"fpr\": 0.22550490478938257, \"tpr\": 0.8846991608641314, \"n\": 8665}, {\"threshold\": 0.584, \"p\": 28005, \"fpr\": 0.22515868436237738, \"tpr\": 0.8845206213176219, \"n\": 8665}, {\"threshold\": 0.585, \"p\": 28005, \"fpr\": 0.2248124639353722, \"tpr\": 0.8843420817711123, \"n\": 8665}, {\"threshold\": 0.586, \"p\": 28005, \"fpr\": 0.22469705712637045, \"tpr\": 0.8840207105873951, \"n\": 8665}, {\"threshold\": 0.587, \"p\": 28005, \"fpr\": 0.224466243508367, \"tpr\": 0.883663631494376, \"n\": 8665}, {\"threshold\": 0.588, \"p\": 28005, \"fpr\": 0.224466243508367, \"tpr\": 0.8834136761292626, \"n\": 8665}, {\"threshold\": 0.589, \"p\": 28005, \"fpr\": 0.22377380265435662, \"tpr\": 0.8831637207641493, \"n\": 8665}, {\"threshold\": 0.59, \"p\": 28005, \"fpr\": 0.22319676860934795, \"tpr\": 0.8830208891269417, \"n\": 8665}, {\"threshold\": 0.591, \"p\": 28005, \"fpr\": 0.22285054818234276, \"tpr\": 0.8829137653990359, \"n\": 8665}, {\"threshold\": 0.592, \"p\": 28005, \"fpr\": 0.22261973456433928, \"tpr\": 0.8826995179432244, \"n\": 8665}, {\"threshold\": 0.593, \"p\": 28005, \"fpr\": 0.22215810732833238, \"tpr\": 0.8825923942153187, \"n\": 8665}, {\"threshold\": 0.594, \"p\": 28005, \"fpr\": 0.22181188690132717, \"tpr\": 0.8823067309409034, \"n\": 8665}, {\"threshold\": 0.595, \"p\": 28005, \"fpr\": 0.22158107328332372, \"tpr\": 0.8819853597571862, \"n\": 8665}, {\"threshold\": 0.596, \"p\": 28005, \"fpr\": 0.2211194460473168, \"tpr\": 0.8817711123013747, \"n\": 8665}, {\"threshold\": 0.597, \"p\": 28005, \"fpr\": 0.2207732256203116, \"tpr\": 0.8815211569362614, \"n\": 8665}, {\"threshold\": 0.598, \"p\": 28005, \"fpr\": 0.22054241200230815, \"tpr\": 0.8813426173897518, \"n\": 8665}, {\"threshold\": 0.599, \"p\": 28005, \"fpr\": 0.22031159838430467, \"tpr\": 0.8812354936618461, \"n\": 8665}, {\"threshold\": 0.6, \"p\": 28005, \"fpr\": 0.22008078476630122, \"tpr\": 0.8810212462060346, \"n\": 8665}, {\"threshold\": 0.601, \"p\": 28005, \"fpr\": 0.21984997114829774, \"tpr\": 0.8808427066595251, \"n\": 8665}, {\"threshold\": 0.602, \"p\": 28005, \"fpr\": 0.2192729371032891, \"tpr\": 0.8807355829316194, \"n\": 8665}, {\"threshold\": 0.603, \"p\": 28005, \"fpr\": 0.2189267166762839, \"tpr\": 0.8806284592037136, \"n\": 8665}, {\"threshold\": 0.604, \"p\": 28005, \"fpr\": 0.21869590305828043, \"tpr\": 0.8803785038386003, \"n\": 8665}, {\"threshold\": 0.605, \"p\": 28005, \"fpr\": 0.21846508944027698, \"tpr\": 0.8801285484734869, \"n\": 8665}, {\"threshold\": 0.606, \"p\": 28005, \"fpr\": 0.21834968263127524, \"tpr\": 0.8799500089269773, \"n\": 8665}, {\"threshold\": 0.607, \"p\": 28005, \"fpr\": 0.2181188690132718, \"tpr\": 0.8798071772897696, \"n\": 8665}, {\"threshold\": 0.608, \"p\": 28005, \"fpr\": 0.2170802077322562, \"tpr\": 0.8795929298339582, \"n\": 8665}, {\"threshold\": 0.609, \"p\": 28005, \"fpr\": 0.21650317368724756, \"tpr\": 0.8794143902874487, \"n\": 8665}, {\"threshold\": 0.61, \"p\": 28005, \"fpr\": 0.21604154645124063, \"tpr\": 0.8792001428316372, \"n\": 8665}, {\"threshold\": 0.611, \"p\": 28005, \"fpr\": 0.2152336987882285, \"tpr\": 0.87887877164792, \"n\": 8665}, {\"threshold\": 0.612, \"p\": 28005, \"fpr\": 0.21477207155222158, \"tpr\": 0.8785216925549009, \"n\": 8665}, {\"threshold\": 0.613, \"p\": 28005, \"fpr\": 0.21454125793421813, \"tpr\": 0.8783431530083914, \"n\": 8665}, {\"threshold\": 0.614, \"p\": 28005, \"fpr\": 0.2140796306982112, \"tpr\": 0.8781289055525799, \"n\": 8665}, {\"threshold\": 0.615, \"p\": 28005, \"fpr\": 0.21396422388920947, \"tpr\": 0.8779146580967684, \"n\": 8665}, {\"threshold\": 0.616, \"p\": 28005, \"fpr\": 0.21084824004616273, \"tpr\": 0.8727370112479914, \"n\": 8665}, {\"threshold\": 0.617, \"p\": 28005, \"fpr\": 0.2103866128101558, \"tpr\": 0.8725584717014819, \"n\": 8665}, {\"threshold\": 0.618, \"p\": 28005, \"fpr\": 0.21004039238315061, \"tpr\": 0.8722371005177647, \"n\": 8665}, {\"threshold\": 0.619, \"p\": 28005, \"fpr\": 0.20946335833814195, \"tpr\": 0.8721299767898589, \"n\": 8665}, {\"threshold\": 0.62, \"p\": 28005, \"fpr\": 0.2088863242931333, \"tpr\": 0.871701481878236, \"n\": 8665}, {\"threshold\": 0.621, \"p\": 28005, \"fpr\": 0.20842469705712638, \"tpr\": 0.8714158186038208, \"n\": 8665}, {\"threshold\": 0.622, \"p\": 28005, \"fpr\": 0.2080784766301212, \"tpr\": 0.8710944474201036, \"n\": 8665}, {\"threshold\": 0.623, \"p\": 28005, \"fpr\": 0.20750144258511252, \"tpr\": 0.8709516157828959, \"n\": 8665}, {\"threshold\": 0.624, \"p\": 28005, \"fpr\": 0.20692440854010385, \"tpr\": 0.8707016604177825, \"n\": 8665}, {\"threshold\": 0.625, \"p\": 28005, \"fpr\": 0.2066935949221004, \"tpr\": 0.8705945366898769, \"n\": 8665}, {\"threshold\": 0.626, \"p\": 28005, \"fpr\": 0.20634737449509521, \"tpr\": 0.8704159971433673, \"n\": 8665}, {\"threshold\": 0.627, \"p\": 28005, \"fpr\": 0.2058857472590883, \"tpr\": 0.8700232101410462, \"n\": 8665}, {\"threshold\": 0.628, \"p\": 28005, \"fpr\": 0.2051933064050779, \"tpr\": 0.8696661310480271, \"n\": 8665}, {\"threshold\": 0.629, \"p\": 28005, \"fpr\": 0.20461627236006924, \"tpr\": 0.8694161756829137, \"n\": 8665}, {\"threshold\": 0.63, \"p\": 28005, \"fpr\": 0.20427005193306405, \"tpr\": 0.8691305124084985, \"n\": 8665}, {\"threshold\": 0.631, \"p\": 28005, \"fpr\": 0.20380842469705712, \"tpr\": 0.8687020174968756, \"n\": 8665}, {\"threshold\": 0.632, \"p\": 28005, \"fpr\": 0.20346220427005193, \"tpr\": 0.8684520621317622, \"n\": 8665}, {\"threshold\": 0.633, \"p\": 28005, \"fpr\": 0.2033467974610502, \"tpr\": 0.8681663988573469, \"n\": 8665}, {\"threshold\": 0.634, \"p\": 28005, \"fpr\": 0.203000577034045, \"tpr\": 0.8679878593108373, \"n\": 8665}, {\"threshold\": 0.635, \"p\": 28005, \"fpr\": 0.20276976341604155, \"tpr\": 0.867737903945724, \"n\": 8665}, {\"threshold\": 0.636, \"p\": 28005, \"fpr\": 0.20253894979803808, \"tpr\": 0.8674165327620068, \"n\": 8665}, {\"threshold\": 0.637, \"p\": 28005, \"fpr\": 0.2021927293710329, \"tpr\": 0.8672022853061954, \"n\": 8665}, {\"threshold\": 0.638, \"p\": 28005, \"fpr\": 0.20196191575302944, \"tpr\": 0.8670237457596858, \"n\": 8665}, {\"threshold\": 0.639, \"p\": 28005, \"fpr\": 0.2018465089440277, \"tpr\": 0.8668809141224781, \"n\": 8665}, {\"threshold\": 0.64, \"p\": 28005, \"fpr\": 0.20115406809001732, \"tpr\": 0.8665952508480629, \"n\": 8665}, {\"threshold\": 0.641, \"p\": 28005, \"fpr\": 0.20080784766301213, \"tpr\": 0.8663810033922514, \"n\": 8665}, {\"threshold\": 0.642, \"p\": 28005, \"fpr\": 0.2004616272360069, \"tpr\": 0.8661667559364399, \"n\": 8665}, {\"threshold\": 0.643, \"p\": 28005, \"fpr\": 0.19976918638199653, \"tpr\": 0.8660953401178361, \"n\": 8665}, {\"threshold\": 0.644, \"p\": 28005, \"fpr\": 0.1993075591459896, \"tpr\": 0.865773968934119, \"n\": 8665}, {\"threshold\": 0.645, \"p\": 28005, \"fpr\": 0.19907674552798615, \"tpr\": 0.8654883056597036, \"n\": 8665}, {\"threshold\": 0.646, \"p\": 28005, \"fpr\": 0.19861511829197923, \"tpr\": 0.8652740582038921, \"n\": 8665}, {\"threshold\": 0.647, \"p\": 28005, \"fpr\": 0.19803808424697056, \"tpr\": 0.8648812712015711, \"n\": 8665}, {\"threshold\": 0.648, \"p\": 28005, \"fpr\": 0.1978072706289671, \"tpr\": 0.864559900017854, \"n\": 8665}, {\"threshold\": 0.649, \"p\": 28005, \"fpr\": 0.19746105020196192, \"tpr\": 0.8643813604713444, \"n\": 8665}, {\"threshold\": 0.65, \"p\": 28005, \"fpr\": 0.196999422965955, \"tpr\": 0.8642028209248348, \"n\": 8665}, {\"threshold\": 0.651, \"p\": 28005, \"fpr\": 0.19653779572994806, \"tpr\": 0.8640242813783253, \"n\": 8665}, {\"threshold\": 0.652, \"p\": 28005, \"fpr\": 0.19607616849394113, \"tpr\": 0.8637386181039101, \"n\": 8665}, {\"threshold\": 0.653, \"p\": 28005, \"fpr\": 0.19572994806693594, \"tpr\": 0.8634172469201928, \"n\": 8665}, {\"threshold\": 0.654, \"p\": 28005, \"fpr\": 0.1954991344489325, \"tpr\": 0.8632387073736832, \"n\": 8665}, {\"threshold\": 0.655, \"p\": 28005, \"fpr\": 0.1948066935949221, \"tpr\": 0.8630601678271738, \"n\": 8665}, {\"threshold\": 0.656, \"p\": 28005, \"fpr\": 0.1948066935949221, \"tpr\": 0.8628102124620604, \"n\": 8665}, {\"threshold\": 0.657, \"p\": 28005, \"fpr\": 0.19434506635891519, \"tpr\": 0.8625245491876451, \"n\": 8665}, {\"threshold\": 0.658, \"p\": 28005, \"fpr\": 0.19388343912290826, \"tpr\": 0.8624174254597393, \"n\": 8665}, {\"threshold\": 0.659, \"p\": 28005, \"fpr\": 0.19342181188690133, \"tpr\": 0.8620246384574183, \"n\": 8665}, {\"threshold\": 0.66, \"p\": 28005, \"fpr\": 0.19319099826889785, \"tpr\": 0.8618460989109088, \"n\": 8665}, {\"threshold\": 0.661, \"p\": 28005, \"fpr\": 0.19319099826889785, \"tpr\": 0.8615604356364935, \"n\": 8665}, {\"threshold\": 0.662, \"p\": 28005, \"fpr\": 0.1929601846508944, \"tpr\": 0.8612033565434744, \"n\": 8665}, {\"threshold\": 0.663, \"p\": 28005, \"fpr\": 0.19238315060588576, \"tpr\": 0.8610605249062667, \"n\": 8665}, {\"threshold\": 0.664, \"p\": 28005, \"fpr\": 0.19203693017888054, \"tpr\": 0.8607391537225495, \"n\": 8665}, {\"threshold\": 0.665, \"p\": 28005, \"fpr\": 0.19157530294287364, \"tpr\": 0.86056061417604, \"n\": 8665}, {\"threshold\": 0.666, \"p\": 28005, \"fpr\": 0.19099826889786498, \"tpr\": 0.8603820746295304, \"n\": 8665}, {\"threshold\": 0.667, \"p\": 28005, \"fpr\": 0.1904212348528563, \"tpr\": 0.860132119264417, \"n\": 8665}, {\"threshold\": 0.668, \"p\": 28005, \"fpr\": 0.19019042123485286, \"tpr\": 0.8598821638993037, \"n\": 8665}, {\"threshold\": 0.669, \"p\": 28005, \"fpr\": 0.1896133871898442, \"tpr\": 0.8597393322620961, \"n\": 8665}, {\"threshold\": 0.67, \"p\": 28005, \"fpr\": 0.18903635314483555, \"tpr\": 0.8594893768969827, \"n\": 8665}, {\"threshold\": 0.671, \"p\": 28005, \"fpr\": 0.18857472590882862, \"tpr\": 0.8590965898946616, \"n\": 8665}, {\"threshold\": 0.672, \"p\": 28005, \"fpr\": 0.1881130986728217, \"tpr\": 0.8588823424388502, \"n\": 8665}, {\"threshold\": 0.673, \"p\": 28005, \"fpr\": 0.18742065781881131, \"tpr\": 0.858560971255133, \"n\": 8665}, {\"threshold\": 0.674, \"p\": 28005, \"fpr\": 0.1869590305828044, \"tpr\": 0.8583110158900197, \"n\": 8665}, {\"threshold\": 0.675, \"p\": 28005, \"fpr\": 0.18638199653779572, \"tpr\": 0.8580610605249063, \"n\": 8665}, {\"threshold\": 0.676, \"p\": 28005, \"fpr\": 0.18592036930178882, \"tpr\": 0.8578468130690948, \"n\": 8665}, {\"threshold\": 0.677, \"p\": 28005, \"fpr\": 0.18580496249278708, \"tpr\": 0.8574897339760758, \"n\": 8665}, {\"threshold\": 0.678, \"p\": 28005, \"fpr\": 0.1851125216387767, \"tpr\": 0.8574183181574718, \"n\": 8665}, {\"threshold\": 0.679, \"p\": 28005, \"fpr\": 0.18499711482977496, \"tpr\": 0.8571326548830566, \"n\": 8665}, {\"threshold\": 0.68, \"p\": 28005, \"fpr\": 0.18476630121177148, \"tpr\": 0.8566327441528299, \"n\": 8665}, {\"threshold\": 0.681, \"p\": 28005, \"fpr\": 0.1840738603577611, \"tpr\": 0.8562756650598108, \"n\": 8665}, {\"threshold\": 0.682, \"p\": 28005, \"fpr\": 0.18361223312175418, \"tpr\": 0.8560257096946974, \"n\": 8665}, {\"threshold\": 0.683, \"p\": 28005, \"fpr\": 0.18338141950375073, \"tpr\": 0.8556329226923763, \"n\": 8665}, {\"threshold\": 0.684, \"p\": 28005, \"fpr\": 0.18303519907674554, \"tpr\": 0.8554186752365649, \"n\": 8665}, {\"threshold\": 0.685, \"p\": 28005, \"fpr\": 0.18268897864974035, \"tpr\": 0.8550973040528477, \"n\": 8665}, {\"threshold\": 0.686, \"p\": 28005, \"fpr\": 0.18245816503173687, \"tpr\": 0.8547759328691306, \"n\": 8665}, {\"threshold\": 0.687, \"p\": 28005, \"fpr\": 0.18211194460473168, \"tpr\": 0.8544545616854133, \"n\": 8665}, {\"threshold\": 0.688, \"p\": 28005, \"fpr\": 0.18188113098672823, \"tpr\": 0.8541688984109981, \"n\": 8665}, {\"threshold\": 0.689, \"p\": 28005, \"fpr\": 0.18188113098672823, \"tpr\": 0.853776111408677, \"n\": 8665}, {\"threshold\": 0.69, \"p\": 28005, \"fpr\": 0.181534910559723, \"tpr\": 0.8535261560435636, \"n\": 8665}, {\"threshold\": 0.691, \"p\": 28005, \"fpr\": 0.18130409694171956, \"tpr\": 0.8532047848598464, \"n\": 8665}, {\"threshold\": 0.692, \"p\": 28005, \"fpr\": 0.18084246970571263, \"tpr\": 0.8528834136761293, \"n\": 8665}, {\"threshold\": 0.693, \"p\": 28005, \"fpr\": 0.18061165608770918, \"tpr\": 0.8525620424924121, \"n\": 8665}, {\"threshold\": 0.694, \"p\": 28005, \"fpr\": 0.18015002885170225, \"tpr\": 0.8524192108552044, \"n\": 8665}, {\"threshold\": 0.695, \"p\": 28005, \"fpr\": 0.1795729948066936, \"tpr\": 0.8520978396714872, \"n\": 8665}, {\"threshold\": 0.696, \"p\": 28005, \"fpr\": 0.17911136757068666, \"tpr\": 0.8518835922156758, \"n\": 8665}, {\"threshold\": 0.697, \"p\": 28005, \"fpr\": 0.17876514714368147, \"tpr\": 0.8515622210319586, \"n\": 8665}, {\"threshold\": 0.698, \"p\": 28005, \"fpr\": 0.17784189267166764, \"tpr\": 0.8513836814854491, \"n\": 8665}, {\"threshold\": 0.699, \"p\": 28005, \"fpr\": 0.17761107905366416, \"tpr\": 0.8511337261203357, \"n\": 8665}, {\"threshold\": 0.7, \"p\": 28005, \"fpr\": 0.1773802654356607, \"tpr\": 0.8507766470273166, \"n\": 8665}, {\"threshold\": 0.701, \"p\": 28005, \"fpr\": 0.17703404500865552, \"tpr\": 0.8504552758435994, \"n\": 8665}, {\"threshold\": 0.702, \"p\": 28005, \"fpr\": 0.17691863819965378, \"tpr\": 0.8500624888412783, \"n\": 8665}, {\"threshold\": 0.703, \"p\": 28005, \"fpr\": 0.17645701096364685, \"tpr\": 0.8497411176575611, \"n\": 8665}, {\"threshold\": 0.704, \"p\": 28005, \"fpr\": 0.1762261973456434, \"tpr\": 0.8495625781110516, \"n\": 8665}, {\"threshold\": 0.705, \"p\": 28005, \"fpr\": 0.1758799769186382, \"tpr\": 0.8493126227459382, \"n\": 8665}, {\"threshold\": 0.706, \"p\": 28005, \"fpr\": 0.17541834968263129, \"tpr\": 0.8491340831994286, \"n\": 8665}, {\"threshold\": 0.707, \"p\": 28005, \"fpr\": 0.17472590882862088, \"tpr\": 0.8487770041064095, \"n\": 8665}, {\"threshold\": 0.708, \"p\": 28005, \"fpr\": 0.17414887478361224, \"tpr\": 0.8484199250133905, \"n\": 8665}, {\"threshold\": 0.709, \"p\": 28005, \"fpr\": 0.17414887478361224, \"tpr\": 0.8480628459203714, \"n\": 8665}, {\"threshold\": 0.71, \"p\": 28005, \"fpr\": 0.17391806116560876, \"tpr\": 0.8477057668273522, \"n\": 8665}, {\"threshold\": 0.711, \"p\": 28005, \"fpr\": 0.17357184073860357, \"tpr\": 0.847420103552937, \"n\": 8665}, {\"threshold\": 0.712, \"p\": 28005, \"fpr\": 0.17345643392960183, \"tpr\": 0.8470987323692197, \"n\": 8665}, {\"threshold\": 0.713, \"p\": 28005, \"fpr\": 0.17311021350259664, \"tpr\": 0.8466702374575968, \"n\": 8665}, {\"threshold\": 0.714, \"p\": 28005, \"fpr\": 0.1728793998845932, \"tpr\": 0.8463488662738796, \"n\": 8665}, {\"threshold\": 0.715, \"p\": 28005, \"fpr\": 0.17276399307559145, \"tpr\": 0.8459560792715587, \"n\": 8665}, {\"threshold\": 0.716, \"p\": 28005, \"fpr\": 0.172533179457588, \"tpr\": 0.8456347080878415, \"n\": 8665}, {\"threshold\": 0.717, \"p\": 28005, \"fpr\": 0.17218695903058281, \"tpr\": 0.84542046063203, \"n\": 8665}, {\"threshold\": 0.718, \"p\": 28005, \"fpr\": 0.1714945181765724, \"tpr\": 0.845027673629709, \"n\": 8665}, {\"threshold\": 0.719, \"p\": 28005, \"fpr\": 0.17080207732256203, \"tpr\": 0.8447420103552937, \"n\": 8665}, {\"threshold\": 0.72, \"p\": 28005, \"fpr\": 0.17057126370455858, \"tpr\": 0.8443849312622745, \"n\": 8665}, {\"threshold\": 0.721, \"p\": 28005, \"fpr\": 0.1699942296595499, \"tpr\": 0.8441706838064631, \"n\": 8665}, {\"threshold\": 0.722, \"p\": 28005, \"fpr\": 0.16953260242354298, \"tpr\": 0.8437064809855382, \"n\": 8665}, {\"threshold\": 0.723, \"p\": 28005, \"fpr\": 0.16895556837853434, \"tpr\": 0.8433494018925192, \"n\": 8665}, {\"threshold\": 0.724, \"p\": 28005, \"fpr\": 0.16849394114252741, \"tpr\": 0.8429923227995001, \"n\": 8665}, {\"threshold\": 0.725, \"p\": 28005, \"fpr\": 0.16814772071552223, \"tpr\": 0.842635243706481, \"n\": 8665}, {\"threshold\": 0.726, \"p\": 28005, \"fpr\": 0.16757068667051356, \"tpr\": 0.8423138725227638, \"n\": 8665}, {\"threshold\": 0.727, \"p\": 28005, \"fpr\": 0.1673398730525101, \"tpr\": 0.8421353329762542, \"n\": 8665}, {\"threshold\": 0.728, \"p\": 28005, \"fpr\": 0.16722446624350837, \"tpr\": 0.8417425459739333, \"n\": 8665}, {\"threshold\": 0.729, \"p\": 28005, \"fpr\": 0.1666474321984997, \"tpr\": 0.8413140510623103, \"n\": 8665}, {\"threshold\": 0.73, \"p\": 28005, \"fpr\": 0.1666474321984997, \"tpr\": 0.8408855561506874, \"n\": 8665}, {\"threshold\": 0.731, \"p\": 28005, \"fpr\": 0.1661858049624928, \"tpr\": 0.8404927691483663, \"n\": 8665}, {\"threshold\": 0.732, \"p\": 28005, \"fpr\": 0.16583958453548758, \"tpr\": 0.8401356900553473, \"n\": 8665}, {\"threshold\": 0.733, \"p\": 28005, \"fpr\": 0.1654933641084824, \"tpr\": 0.8397071951437244, \"n\": 8665}, {\"threshold\": 0.734, \"p\": 28005, \"fpr\": 0.16537795729948068, \"tpr\": 0.839421531869309, \"n\": 8665}, {\"threshold\": 0.735, \"p\": 28005, \"fpr\": 0.16526255049047894, \"tpr\": 0.8391358685948938, \"n\": 8665}, {\"threshold\": 0.736, \"p\": 28005, \"fpr\": 0.16503173687247547, \"tpr\": 0.8389573290483843, \"n\": 8665}, {\"threshold\": 0.737, \"p\": 28005, \"fpr\": 0.16468551644547028, \"tpr\": 0.838635957864667, \"n\": 8665}, {\"threshold\": 0.738, \"p\": 28005, \"fpr\": 0.16457010963646856, \"tpr\": 0.838278878771648, \"n\": 8665}, {\"threshold\": 0.739, \"p\": 28005, \"fpr\": 0.1639930755914599, \"tpr\": 0.8379932154972326, \"n\": 8665}, {\"threshold\": 0.74, \"p\": 28005, \"fpr\": 0.16353144835545297, \"tpr\": 0.8373504731297983, \"n\": 8665}, {\"threshold\": 0.741, \"p\": 28005, \"fpr\": 0.16237738026543566, \"tpr\": 0.8368862703088734, \"n\": 8665}, {\"threshold\": 0.742, \"p\": 28005, \"fpr\": 0.16237738026543566, \"tpr\": 0.8365291912158543, \"n\": 8665}, {\"threshold\": 0.743, \"p\": 28005, \"fpr\": 0.16203115983843047, \"tpr\": 0.8362435279414391, \"n\": 8665}, {\"threshold\": 0.744, \"p\": 28005, \"fpr\": 0.16156953260242354, \"tpr\": 0.835850740939118, \"n\": 8665}, {\"threshold\": 0.745, \"p\": 28005, \"fpr\": 0.1613387189844201, \"tpr\": 0.835422246027495, \"n\": 8665}, {\"threshold\": 0.746, \"p\": 28005, \"fpr\": 0.16099249855741488, \"tpr\": 0.8350294590251741, \"n\": 8665}, {\"threshold\": 0.747, \"p\": 28005, \"fpr\": 0.16087709174841316, \"tpr\": 0.8346723799321549, \"n\": 8665}, {\"threshold\": 0.748, \"p\": 28005, \"fpr\": 0.16041546451240624, \"tpr\": 0.8343867166577397, \"n\": 8665}, {\"threshold\": 0.749, \"p\": 28005, \"fpr\": 0.15972302365839586, \"tpr\": 0.8339582217461168, \"n\": 8665}, {\"threshold\": 0.75, \"p\": 28005, \"fpr\": 0.1591459896133872, \"tpr\": 0.8336368505623996, \"n\": 8665}, {\"threshold\": 0.751, \"p\": 28005, \"fpr\": 0.15856895556837852, \"tpr\": 0.8331012319228709, \"n\": 8665}, {\"threshold\": 0.752, \"p\": 28005, \"fpr\": 0.15856895556837852, \"tpr\": 0.8327441528298518, \"n\": 8665}, {\"threshold\": 0.753, \"p\": 28005, \"fpr\": 0.15810732833237162, \"tpr\": 0.832279950008927, \"n\": 8665}, {\"threshold\": 0.754, \"p\": 28005, \"fpr\": 0.15787651471436814, \"tpr\": 0.8320299946438136, \"n\": 8665}, {\"threshold\": 0.755, \"p\": 28005, \"fpr\": 0.15741488747836122, \"tpr\": 0.8312801285484734, \"n\": 8665}, {\"threshold\": 0.756, \"p\": 28005, \"fpr\": 0.1566070398153491, \"tpr\": 0.8309230494554544, \"n\": 8665}, {\"threshold\": 0.757, \"p\": 28005, \"fpr\": 0.15603000577034046, \"tpr\": 0.8304588466345295, \"n\": 8665}, {\"threshold\": 0.758, \"p\": 28005, \"fpr\": 0.15568378534333527, \"tpr\": 0.8300660596322086, \"n\": 8665}, {\"threshold\": 0.759, \"p\": 28005, \"fpr\": 0.1554529717253318, \"tpr\": 0.8298161042670952, \"n\": 8665}, {\"threshold\": 0.76, \"p\": 28005, \"fpr\": 0.1547605308713214, \"tpr\": 0.8292447777182645, \"n\": 8665}, {\"threshold\": 0.761, \"p\": 28005, \"fpr\": 0.15452971725331793, \"tpr\": 0.8289234065345474, \"n\": 8665}, {\"threshold\": 0.762, \"p\": 28005, \"fpr\": 0.1539526832083093, \"tpr\": 0.8284592037136226, \"n\": 8665}, {\"threshold\": 0.763, \"p\": 28005, \"fpr\": 0.15372186959030582, \"tpr\": 0.828280664167113, \"n\": 8665}, {\"threshold\": 0.764, \"p\": 28005, \"fpr\": 0.1536064627813041, \"tpr\": 0.827887877164792, \"n\": 8665}, {\"threshold\": 0.765, \"p\": 28005, \"fpr\": 0.15314483554529718, \"tpr\": 0.8275307980717729, \"n\": 8665}, {\"threshold\": 0.766, \"p\": 28005, \"fpr\": 0.15279861511829199, \"tpr\": 0.8271737189787538, \"n\": 8665}, {\"threshold\": 0.767, \"p\": 28005, \"fpr\": 0.15268320830929025, \"tpr\": 0.8267809319764328, \"n\": 8665}, {\"threshold\": 0.768, \"p\": 28005, \"fpr\": 0.1524523946912868, \"tpr\": 0.8264238528834137, \"n\": 8665}, {\"threshold\": 0.769, \"p\": 28005, \"fpr\": 0.15187536064627813, \"tpr\": 0.8261024816996965, \"n\": 8665}, {\"threshold\": 0.77, \"p\": 28005, \"fpr\": 0.15164454702827468, \"tpr\": 0.8257454026066774, \"n\": 8665}, {\"threshold\": 0.771, \"p\": 28005, \"fpr\": 0.15072129255626082, \"tpr\": 0.8253883235136583, \"n\": 8665}, {\"threshold\": 0.772, \"p\": 28005, \"fpr\": 0.15060588574725908, \"tpr\": 0.8251383681485449, \"n\": 8665}, {\"threshold\": 0.773, \"p\": 28005, \"fpr\": 0.1499134448932487, \"tpr\": 0.8248169969648277, \"n\": 8665}, {\"threshold\": 0.774, \"p\": 28005, \"fpr\": 0.14956722446624351, \"tpr\": 0.8244599178718086, \"n\": 8665}, {\"threshold\": 0.775, \"p\": 28005, \"fpr\": 0.14933641084824004, \"tpr\": 0.8239600071415819, \"n\": 8665}, {\"threshold\": 0.776, \"p\": 28005, \"fpr\": 0.14818234275822273, \"tpr\": 0.8236386359578647, \"n\": 8665}, {\"threshold\": 0.777, \"p\": 28005, \"fpr\": 0.14795152914021928, \"tpr\": 0.8231744331369398, \"n\": 8665}, {\"threshold\": 0.778, \"p\": 28005, \"fpr\": 0.14714368147720716, \"tpr\": 0.8228530619532226, \"n\": 8665}, {\"threshold\": 0.779, \"p\": 28005, \"fpr\": 0.1465666474321985, \"tpr\": 0.8223888591322978, \"n\": 8665}, {\"threshold\": 0.78, \"p\": 28005, \"fpr\": 0.14552798615118293, \"tpr\": 0.8219960721299768, \"n\": 8665}, {\"threshold\": 0.781, \"p\": 28005, \"fpr\": 0.145066358915176, \"tpr\": 0.8216389930369576, \"n\": 8665}, {\"threshold\": 0.782, \"p\": 28005, \"fpr\": 0.1447201384881708, \"tpr\": 0.8213533297625424, \"n\": 8665}, {\"threshold\": 0.783, \"p\": 28005, \"fpr\": 0.14414310444316214, \"tpr\": 0.821103374397429, \"n\": 8665}, {\"threshold\": 0.784, \"p\": 28005, \"fpr\": 0.14379688401615695, \"tpr\": 0.8204963399392966, \"n\": 8665}, {\"threshold\": 0.785, \"p\": 28005, \"fpr\": 0.14345066358915176, \"tpr\": 0.8200678450276736, \"n\": 8665}, {\"threshold\": 0.786, \"p\": 28005, \"fpr\": 0.14298903635314483, \"tpr\": 0.8196036422067488, \"n\": 8665}, {\"threshold\": 0.787, \"p\": 28005, \"fpr\": 0.14264281592613964, \"tpr\": 0.8191751472951259, \"n\": 8665}, {\"threshold\": 0.788, \"p\": 28005, \"fpr\": 0.1425274091171379, \"tpr\": 0.8185324049276915, \"n\": 8665}, {\"threshold\": 0.789, \"p\": 28005, \"fpr\": 0.14218118869013271, \"tpr\": 0.8179610783788609, \"n\": 8665}, {\"threshold\": 0.79, \"p\": 28005, \"fpr\": 0.14183496826312753, \"tpr\": 0.8175682913765399, \"n\": 8665}, {\"threshold\": 0.791, \"p\": 28005, \"fpr\": 0.14160415464512408, \"tpr\": 0.8171040885556151, \"n\": 8665}, {\"threshold\": 0.792, \"p\": 28005, \"fpr\": 0.1410271206001154, \"tpr\": 0.8167827173718979, \"n\": 8665}, {\"threshold\": 0.793, \"p\": 28005, \"fpr\": 0.14010386612810155, \"tpr\": 0.816354222460275, \"n\": 8665}, {\"threshold\": 0.794, \"p\": 28005, \"fpr\": 0.13975764570109636, \"tpr\": 0.8157828959114444, \"n\": 8665}, {\"threshold\": 0.795, \"p\": 28005, \"fpr\": 0.13964223889209462, \"tpr\": 0.8152829851812177, \"n\": 8665}, {\"threshold\": 0.796, \"p\": 28005, \"fpr\": 0.13918061165608772, \"tpr\": 0.81514015354401, \"n\": 8665}, {\"threshold\": 0.797, \"p\": 28005, \"fpr\": 0.13848817080207732, \"tpr\": 0.8148544902695947, \"n\": 8665}, {\"threshold\": 0.798, \"p\": 28005, \"fpr\": 0.13814195037507213, \"tpr\": 0.814354579539368, \"n\": 8665}, {\"threshold\": 0.799, \"p\": 28005, \"fpr\": 0.13744950952106175, \"tpr\": 0.8138189608998393, \"n\": 8665}, {\"threshold\": 0.8, \"p\": 28005, \"fpr\": 0.13687247547605308, \"tpr\": 0.8134618818068202, \"n\": 8665}, {\"threshold\": 0.801, \"p\": 28005, \"fpr\": 0.13606462781304096, \"tpr\": 0.8130333868951973, \"n\": 8665}, {\"threshold\": 0.802, \"p\": 28005, \"fpr\": 0.13560300057703403, \"tpr\": 0.8126048919835743, \"n\": 8665}, {\"threshold\": 0.803, \"p\": 28005, \"fpr\": 0.13548759376803232, \"tpr\": 0.8122835207998572, \"n\": 8665}, {\"threshold\": 0.804, \"p\": 28005, \"fpr\": 0.1350259665320254, \"tpr\": 0.8117121942510266, \"n\": 8665}, {\"threshold\": 0.805, \"p\": 28005, \"fpr\": 0.13444893248701673, \"tpr\": 0.8113194072487055, \"n\": 8665}, {\"threshold\": 0.806, \"p\": 28005, \"fpr\": 0.13433352567801501, \"tpr\": 0.8110337439742903, \"n\": 8665}, {\"threshold\": 0.807, \"p\": 28005, \"fpr\": 0.1335256780150029, \"tpr\": 0.8106766648812712, \"n\": 8665}, {\"threshold\": 0.808, \"p\": 28005, \"fpr\": 0.1335256780150029, \"tpr\": 0.8100339225138368, \"n\": 8665}, {\"threshold\": 0.809, \"p\": 28005, \"fpr\": 0.13271783035199078, \"tpr\": 0.8092126405998928, \"n\": 8665}, {\"threshold\": 0.81, \"p\": 28005, \"fpr\": 0.13237160992498556, \"tpr\": 0.8086770219603642, \"n\": 8665}, {\"threshold\": 0.811, \"p\": 28005, \"fpr\": 0.13167916907097518, \"tpr\": 0.807962863774326, \"n\": 8665}, {\"threshold\": 0.812, \"p\": 28005, \"fpr\": 0.13156376226197344, \"tpr\": 0.8072844134975897, \"n\": 8665}, {\"threshold\": 0.813, \"p\": 28005, \"fpr\": 0.13133294864397, \"tpr\": 0.8069630423138725, \"n\": 8665}, {\"threshold\": 0.814, \"p\": 28005, \"fpr\": 0.13075591459896133, \"tpr\": 0.8064988394929477, \"n\": 8665}, {\"threshold\": 0.815, \"p\": 28005, \"fpr\": 0.12971725331794576, \"tpr\": 0.8060346366720229, \"n\": 8665}, {\"threshold\": 0.816, \"p\": 28005, \"fpr\": 0.12960184650894402, \"tpr\": 0.8054633101231923, \"n\": 8665}, {\"threshold\": 0.817, \"p\": 28005, \"fpr\": 0.1294864396999423, \"tpr\": 0.8049276914836636, \"n\": 8665}, {\"threshold\": 0.818, \"p\": 28005, \"fpr\": 0.1287939988459319, \"tpr\": 0.8047134440278522, \"n\": 8665}, {\"threshold\": 0.819, \"p\": 28005, \"fpr\": 0.12856318522792845, \"tpr\": 0.8041778253883235, \"n\": 8665}, {\"threshold\": 0.82, \"p\": 28005, \"fpr\": 0.12833237160992497, \"tpr\": 0.8037850383860025, \"n\": 8665}, {\"threshold\": 0.821, \"p\": 28005, \"fpr\": 0.12787074437391807, \"tpr\": 0.80317800392787, \"n\": 8665}, {\"threshold\": 0.822, \"p\": 28005, \"fpr\": 0.1272937103289094, \"tpr\": 0.8026780931976433, \"n\": 8665}, {\"threshold\": 0.823, \"p\": 28005, \"fpr\": 0.12660126947489903, \"tpr\": 0.8022495982860204, \"n\": 8665}, {\"threshold\": 0.824, \"p\": 28005, \"fpr\": 0.12602423542989036, \"tpr\": 0.8016068559185859, \"n\": 8665}, {\"threshold\": 0.825, \"p\": 28005, \"fpr\": 0.12521638776687824, \"tpr\": 0.8011426530976611, \"n\": 8665}, {\"threshold\": 0.826, \"p\": 28005, \"fpr\": 0.12463935372186959, \"tpr\": 0.8004642028209248, \"n\": 8665}, {\"threshold\": 0.827, \"p\": 28005, \"fpr\": 0.12371609924985574, \"tpr\": 0.8001071237279057, \"n\": 8665}, {\"threshold\": 0.828, \"p\": 28005, \"fpr\": 0.12336987882285055, \"tpr\": 0.7992858418139618, \"n\": 8665}, {\"threshold\": 0.829, \"p\": 28005, \"fpr\": 0.12279284477784189, \"tpr\": 0.7987145152651313, \"n\": 8665}, {\"threshold\": 0.83, \"p\": 28005, \"fpr\": 0.12198499711482977, \"tpr\": 0.7982146045349044, \"n\": 8665}, {\"threshold\": 0.831, \"p\": 28005, \"fpr\": 0.12186959030582804, \"tpr\": 0.7979289412604892, \"n\": 8665}, {\"threshold\": 0.832, \"p\": 28005, \"fpr\": 0.12152336987882285, \"tpr\": 0.7974290305302625, \"n\": 8665}, {\"threshold\": 0.833, \"p\": 28005, \"fpr\": 0.12117714945181765, \"tpr\": 0.79682199607213, \"n\": 8665}, {\"threshold\": 0.834, \"p\": 28005, \"fpr\": 0.12083092902481246, \"tpr\": 0.7961078378860917, \"n\": 8665}, {\"threshold\": 0.835, \"p\": 28005, \"fpr\": 0.12013848817080208, \"tpr\": 0.7956436350651669, \"n\": 8665}, {\"threshold\": 0.836, \"p\": 28005, \"fpr\": 0.11979226774379688, \"tpr\": 0.795215140153544, \"n\": 8665}, {\"threshold\": 0.837, \"p\": 28005, \"fpr\": 0.11898442008078476, \"tpr\": 0.7946081056954115, \"n\": 8665}, {\"threshold\": 0.838, \"p\": 28005, \"fpr\": 0.11817657241777264, \"tpr\": 0.7941081949651848, \"n\": 8665}, {\"threshold\": 0.839, \"p\": 28005, \"fpr\": 0.11771494518176573, \"tpr\": 0.7933940367791465, \"n\": 8665}, {\"threshold\": 0.84, \"p\": 28005, \"fpr\": 0.11713791113675708, \"tpr\": 0.792465631137297, \"n\": 8665}, {\"threshold\": 0.841, \"p\": 28005, \"fpr\": 0.11667628390075015, \"tpr\": 0.7917157650419568, \"n\": 8665}, {\"threshold\": 0.842, \"p\": 28005, \"fpr\": 0.11621465666474322, \"tpr\": 0.7911087305838244, \"n\": 8665}, {\"threshold\": 0.843, \"p\": 28005, \"fpr\": 0.11598384304673975, \"tpr\": 0.7903231565791823, \"n\": 8665}, {\"threshold\": 0.844, \"p\": 28005, \"fpr\": 0.1154068090017311, \"tpr\": 0.7894661667559364, \"n\": 8665}, {\"threshold\": 0.845, \"p\": 28005, \"fpr\": 0.11494518176572417, \"tpr\": 0.7887520085698982, \"n\": 8665}, {\"threshold\": 0.846, \"p\": 28005, \"fpr\": 0.1142527409117138, \"tpr\": 0.7882520978396715, \"n\": 8665}, {\"threshold\": 0.847, \"p\": 28005, \"fpr\": 0.1139065204847086, \"tpr\": 0.7877878950187467, \"n\": 8665}, {\"threshold\": 0.848, \"p\": 28005, \"fpr\": 0.1135603000577034, \"tpr\": 0.7871451526513122, \"n\": 8665}, {\"threshold\": 0.849, \"p\": 28005, \"fpr\": 0.11332948643969994, \"tpr\": 0.7863238707373683, \"n\": 8665}, {\"threshold\": 0.85, \"p\": 28005, \"fpr\": 0.11298326601269475, \"tpr\": 0.7858953758257454, \"n\": 8665}, {\"threshold\": 0.851, \"p\": 28005, \"fpr\": 0.1124062319676861, \"tpr\": 0.7848955543652919, \"n\": 8665}, {\"threshold\": 0.852, \"p\": 28005, \"fpr\": 0.11159838430467398, \"tpr\": 0.7843956436350652, \"n\": 8665}, {\"threshold\": 0.853, \"p\": 28005, \"fpr\": 0.11136757068667051, \"tpr\": 0.7836814854490269, \"n\": 8665}, {\"threshold\": 0.854, \"p\": 28005, \"fpr\": 0.11102135025966532, \"tpr\": 0.7832172826281021, \"n\": 8665}, {\"threshold\": 0.855, \"p\": 28005, \"fpr\": 0.11067512983266013, \"tpr\": 0.7825388323513658, \"n\": 8665}, {\"threshold\": 0.856, \"p\": 28005, \"fpr\": 0.11009809578765146, \"tpr\": 0.7820389216211391, \"n\": 8665}, {\"threshold\": 0.857, \"p\": 28005, \"fpr\": 0.10917484131563762, \"tpr\": 0.7814318871630066, \"n\": 8665}, {\"threshold\": 0.858, \"p\": 28005, \"fpr\": 0.10859780727062897, \"tpr\": 0.7807891447955723, \"n\": 8665}, {\"threshold\": 0.859, \"p\": 28005, \"fpr\": 0.10825158684362378, \"tpr\": 0.7798964470630244, \"n\": 8665}, {\"threshold\": 0.86, \"p\": 28005, \"fpr\": 0.10802077322562031, \"tpr\": 0.778896625602571, \"n\": 8665}, {\"threshold\": 0.861, \"p\": 28005, \"fpr\": 0.10767455279861513, \"tpr\": 0.7780396357793251, \"n\": 8665}, {\"threshold\": 0.862, \"p\": 28005, \"fpr\": 0.10709751875360646, \"tpr\": 0.7771469380467774, \"n\": 8665}, {\"threshold\": 0.863, \"p\": 28005, \"fpr\": 0.1065204847085978, \"tpr\": 0.7764327798607391, \"n\": 8665}, {\"threshold\": 0.864, \"p\": 28005, \"fpr\": 0.10559723023658396, \"tpr\": 0.7756114979467952, \"n\": 8665}, {\"threshold\": 0.865, \"p\": 28005, \"fpr\": 0.1053664166185805, \"tpr\": 0.7746116764863418, \"n\": 8665}, {\"threshold\": 0.866, \"p\": 28005, \"fpr\": 0.10478938257357184, \"tpr\": 0.774111765756115, \"n\": 8665}, {\"threshold\": 0.867, \"p\": 28005, \"fpr\": 0.10455856895556838, \"tpr\": 0.7733976075700768, \"n\": 8665}, {\"threshold\": 0.868, \"p\": 28005, \"fpr\": 0.10421234852856319, \"tpr\": 0.7726477414747367, \"n\": 8665}, {\"threshold\": 0.869, \"p\": 28005, \"fpr\": 0.10363531448355454, \"tpr\": 0.7720764149259061, \"n\": 8665}, {\"threshold\": 0.87, \"p\": 28005, \"fpr\": 0.10294287362954414, \"tpr\": 0.7711480092840565, \"n\": 8665}, {\"threshold\": 0.871, \"p\": 28005, \"fpr\": 0.10259665320253895, \"tpr\": 0.7702553115515086, \"n\": 8665}, {\"threshold\": 0.872, \"p\": 28005, \"fpr\": 0.10178880553952684, \"tpr\": 0.7694340296375647, \"n\": 8665}, {\"threshold\": 0.873, \"p\": 28005, \"fpr\": 0.10086555106751298, \"tpr\": 0.768541331905017, \"n\": 8665}, {\"threshold\": 0.874, \"p\": 28005, \"fpr\": 0.10051933064050779, \"tpr\": 0.7674700946259596, \"n\": 8665}, {\"threshold\": 0.875, \"p\": 28005, \"fpr\": 0.0998268897864974, \"tpr\": 0.7668273522585253, \"n\": 8665}, {\"threshold\": 0.876, \"p\": 28005, \"fpr\": 0.09913444893248702, \"tpr\": 0.7660060703445813, \"n\": 8665}, {\"threshold\": 0.877, \"p\": 28005, \"fpr\": 0.09867282169648009, \"tpr\": 0.7651133726120336, \"n\": 8665}, {\"threshold\": 0.878, \"p\": 28005, \"fpr\": 0.09855741488747836, \"tpr\": 0.7642563827887877, \"n\": 8665}, {\"threshold\": 0.879, \"p\": 28005, \"fpr\": 0.09798038084246971, \"tpr\": 0.7632565613283342, \"n\": 8665}, {\"threshold\": 0.88, \"p\": 28005, \"fpr\": 0.09774956722446625, \"tpr\": 0.7623281556864846, \"n\": 8665}, {\"threshold\": 0.881, \"p\": 28005, \"fpr\": 0.09751875360646278, \"tpr\": 0.7613997500446349, \"n\": 8665}, {\"threshold\": 0.882, \"p\": 28005, \"fpr\": 0.09740334679746104, \"tpr\": 0.7606855918585966, \"n\": 8665}, {\"threshold\": 0.883, \"p\": 28005, \"fpr\": 0.09705712637045585, \"tpr\": 0.7596857703981432, \"n\": 8665}, {\"threshold\": 0.884, \"p\": 28005, \"fpr\": 0.0964800923254472, \"tpr\": 0.7585788252097839, \"n\": 8665}, {\"threshold\": 0.885, \"p\": 28005, \"fpr\": 0.09601846508944027, \"tpr\": 0.7579003749330476, \"n\": 8665}, {\"threshold\": 0.886, \"p\": 28005, \"fpr\": 0.09555683785343336, \"tpr\": 0.7570076772004999, \"n\": 8665}, {\"threshold\": 0.887, \"p\": 28005, \"fpr\": 0.0953260242354299, \"tpr\": 0.7560792715586503, \"n\": 8665}, {\"threshold\": 0.888, \"p\": 28005, \"fpr\": 0.09474899019042124, \"tpr\": 0.7554722371005178, \"n\": 8665}, {\"threshold\": 0.889, \"p\": 28005, \"fpr\": 0.09428736295441431, \"tpr\": 0.7542224602749509, \"n\": 8665}, {\"threshold\": 0.89, \"p\": 28005, \"fpr\": 0.09371032890940566, \"tpr\": 0.7530083913586859, \"n\": 8665}, {\"threshold\": 0.891, \"p\": 28005, \"fpr\": 0.09301788805539526, \"tpr\": 0.7519014461703267, \"n\": 8665}, {\"threshold\": 0.892, \"p\": 28005, \"fpr\": 0.0927870744373918, \"tpr\": 0.7506873772540618, \"n\": 8665}, {\"threshold\": 0.893, \"p\": 28005, \"fpr\": 0.09244085401038661, \"tpr\": 0.7497232637029102, \"n\": 8665}, {\"threshold\": 0.894, \"p\": 28005, \"fpr\": 0.0916330063473745, \"tpr\": 0.7489019817889663, \"n\": 8665}, {\"threshold\": 0.895, \"p\": 28005, \"fpr\": 0.09094056549336411, \"tpr\": 0.7479021603285128, \"n\": 8665}, {\"threshold\": 0.896, \"p\": 28005, \"fpr\": 0.09059434506635891, \"tpr\": 0.7468309230494554, \"n\": 8665}, {\"threshold\": 0.897, \"p\": 28005, \"fpr\": 0.08967109059434507, \"tpr\": 0.745831101589002, \"n\": 8665}, {\"threshold\": 0.898, \"p\": 28005, \"fpr\": 0.08909405654933641, \"tpr\": 0.744617032672737, \"n\": 8665}, {\"threshold\": 0.899, \"p\": 28005, \"fpr\": 0.08840161569532602, \"tpr\": 0.7434743795750759, \"n\": 8665}, {\"threshold\": 0.9, \"p\": 28005, \"fpr\": 0.0879399884593191, \"tpr\": 0.7423674343867167, \"n\": 8665}, {\"threshold\": 0.901, \"p\": 28005, \"fpr\": 0.08713214079630698, \"tpr\": 0.7413319050169612, \"n\": 8665}, {\"threshold\": 0.902, \"p\": 28005, \"fpr\": 0.08655510675129832, \"tpr\": 0.7404034993751116, \"n\": 8665}, {\"threshold\": 0.903, \"p\": 28005, \"fpr\": 0.08597807270628967, \"tpr\": 0.7392608462774505, \"n\": 8665}, {\"threshold\": 0.904, \"p\": 28005, \"fpr\": 0.08528563185227929, \"tpr\": 0.7380110694518836, \"n\": 8665}, {\"threshold\": 0.905, \"p\": 28005, \"fpr\": 0.08482400461627236, \"tpr\": 0.7366898768077129, \"n\": 8665}, {\"threshold\": 0.906, \"p\": 28005, \"fpr\": 0.08447778418926717, \"tpr\": 0.7352615604356365, \"n\": 8665}, {\"threshold\": 0.907, \"p\": 28005, \"fpr\": 0.08424697057126371, \"tpr\": 0.7339760757007677, \"n\": 8665}, {\"threshold\": 0.908, \"p\": 28005, \"fpr\": 0.08413156376226197, \"tpr\": 0.7327977146938047, \"n\": 8665}, {\"threshold\": 0.909, \"p\": 28005, \"fpr\": 0.08378534333525678, \"tpr\": 0.731869309051955, \"n\": 8665}, {\"threshold\": 0.91, \"p\": 28005, \"fpr\": 0.08343912290825159, \"tpr\": 0.7309051955008035, \"n\": 8665}, {\"threshold\": 0.911, \"p\": 28005, \"fpr\": 0.0827466820542412, \"tpr\": 0.7297625424031423, \"n\": 8665}, {\"threshold\": 0.912, \"p\": 28005, \"fpr\": 0.08205424120023082, \"tpr\": 0.7275486520264238, \"n\": 8665}, {\"threshold\": 0.913, \"p\": 28005, \"fpr\": 0.0812463935372187, \"tpr\": 0.7263702910194608, \"n\": 8665}, {\"threshold\": 0.914, \"p\": 28005, \"fpr\": 0.08066935949221005, \"tpr\": 0.7247634351008748, \"n\": 8665}, {\"threshold\": 0.915, \"p\": 28005, \"fpr\": 0.08032313906520484, \"tpr\": 0.7236564899125156, \"n\": 8665}, {\"threshold\": 0.916, \"p\": 28005, \"fpr\": 0.07997691863819965, \"tpr\": 0.7226923763613641, \"n\": 8665}, {\"threshold\": 0.917, \"p\": 28005, \"fpr\": 0.07951529140219273, \"tpr\": 0.7214068916264953, \"n\": 8665}, {\"threshold\": 0.918, \"p\": 28005, \"fpr\": 0.07928447778418926, \"tpr\": 0.7205141938939476, \"n\": 8665}, {\"threshold\": 0.919, \"p\": 28005, \"fpr\": 0.07870744373918061, \"tpr\": 0.7186930905195501, \"n\": 8665}, {\"threshold\": 0.92, \"p\": 28005, \"fpr\": 0.07813040969417195, \"tpr\": 0.7170505266916622, \"n\": 8665}, {\"threshold\": 0.921, \"p\": 28005, \"fpr\": 0.07720715522215811, \"tpr\": 0.7155865024102839, \"n\": 8665}, {\"threshold\": 0.922, \"p\": 28005, \"fpr\": 0.07686093479515291, \"tpr\": 0.7139082306730941, \"n\": 8665}, {\"threshold\": 0.923, \"p\": 28005, \"fpr\": 0.07651471436814772, \"tpr\": 0.7124084984824138, \"n\": 8665}, {\"threshold\": 0.924, \"p\": 28005, \"fpr\": 0.07593768032313906, \"tpr\": 0.7106588109266202, \"n\": 8665}, {\"threshold\": 0.925, \"p\": 28005, \"fpr\": 0.07559145989613388, \"tpr\": 0.7094804499196572, \"n\": 8665}, {\"threshold\": 0.926, \"p\": 28005, \"fpr\": 0.07524523946912867, \"tpr\": 0.7080164256382788, \"n\": 8665}, {\"threshold\": 0.927, \"p\": 28005, \"fpr\": 0.07501442585112522, \"tpr\": 0.706373861810391, \"n\": 8665}, {\"threshold\": 0.928, \"p\": 28005, \"fpr\": 0.07466820542412002, \"tpr\": 0.7048384217104089, \"n\": 8665}, {\"threshold\": 0.929, \"p\": 28005, \"fpr\": 0.0738603577611079, \"tpr\": 0.7028744866988038, \"n\": 8665}, {\"threshold\": 0.93, \"p\": 28005, \"fpr\": 0.07351413733410271, \"tpr\": 0.7013390465988216, \"n\": 8665}, {\"threshold\": 0.931, \"p\": 28005, \"fpr\": 0.07328332371609925, \"tpr\": 0.6998750223174434, \"n\": 8665}, {\"threshold\": 0.932, \"p\": 28005, \"fpr\": 0.07282169648009233, \"tpr\": 0.698018211033744, \"n\": 8665}, {\"threshold\": 0.933, \"p\": 28005, \"fpr\": 0.07247547605308713, \"tpr\": 0.6964470630244599, \"n\": 8665}, {\"threshold\": 0.934, \"p\": 28005, \"fpr\": 0.07212925562608194, \"tpr\": 0.6948402071058739, \"n\": 8665}, {\"threshold\": 0.935, \"p\": 28005, \"fpr\": 0.07143681477207155, \"tpr\": 0.6925549009105517, \"n\": 8665}, {\"threshold\": 0.936, \"p\": 28005, \"fpr\": 0.0708597807270629, \"tpr\": 0.6903767184431352, \"n\": 8665}, {\"threshold\": 0.937, \"p\": 28005, \"fpr\": 0.06993652625504905, \"tpr\": 0.6880199964292091, \"n\": 8665}, {\"threshold\": 0.938, \"p\": 28005, \"fpr\": 0.06912867859203693, \"tpr\": 0.686020353508302, \"n\": 8665}, {\"threshold\": 0.939, \"p\": 28005, \"fpr\": 0.06843623773802654, \"tpr\": 0.6838064631315837, \"n\": 8665}, {\"threshold\": 0.94, \"p\": 28005, \"fpr\": 0.06785920369301789, \"tpr\": 0.6817354043920728, \"n\": 8665}, {\"threshold\": 0.941, \"p\": 28005, \"fpr\": 0.06705135603000577, \"tpr\": 0.6800571326548831, \"n\": 8665}, {\"threshold\": 0.942, \"p\": 28005, \"fpr\": 0.06635891517599539, \"tpr\": 0.6782717371897875, \"n\": 8665}, {\"threshold\": 0.943, \"p\": 28005, \"fpr\": 0.065666474321985, \"tpr\": 0.6760221389037672, \"n\": 8665}, {\"threshold\": 0.944, \"p\": 28005, \"fpr\": 0.06532025389497981, \"tpr\": 0.673701124799143, \"n\": 8665}, {\"threshold\": 0.945, \"p\": 28005, \"fpr\": 0.06428159261396423, \"tpr\": 0.6709516157828959, \"n\": 8665}, {\"threshold\": 0.946, \"p\": 28005, \"fpr\": 0.06358915175995383, \"tpr\": 0.6687734333154793, \"n\": 8665}, {\"threshold\": 0.947, \"p\": 28005, \"fpr\": 0.06335833814195037, \"tpr\": 0.6661667559364399, \"n\": 8665}, {\"threshold\": 0.948, \"p\": 28005, \"fpr\": 0.06289671090594345, \"tpr\": 0.6636314943760043, \"n\": 8665}, {\"threshold\": 0.949, \"p\": 28005, \"fpr\": 0.06255049047893825, \"tpr\": 0.6613818960899839, \"n\": 8665}, {\"threshold\": 0.95, \"p\": 28005, \"fpr\": 0.06185804962492787, \"tpr\": 0.6588823424388502, \"n\": 8665}, {\"threshold\": 0.951, \"p\": 28005, \"fpr\": 0.061165608770917486, \"tpr\": 0.6568826995179432, \"n\": 8665}, {\"threshold\": 0.952, \"p\": 28005, \"fpr\": 0.06070398153491056, \"tpr\": 0.6543831458668095, \"n\": 8665}, {\"threshold\": 0.953, \"p\": 28005, \"fpr\": 0.060126947489901904, \"tpr\": 0.6519907159435815, \"n\": 8665}, {\"threshold\": 0.954, \"p\": 28005, \"fpr\": 0.05943450663589152, \"tpr\": 0.6493840385645421, \"n\": 8665}, {\"threshold\": 0.955, \"p\": 28005, \"fpr\": 0.058857472590882864, \"tpr\": 0.6467416532762007, \"n\": 8665}, {\"threshold\": 0.956, \"p\": 28005, \"fpr\": 0.05804962492787075, \"tpr\": 0.6438493126227459, \"n\": 8665}, {\"threshold\": 0.957, \"p\": 28005, \"fpr\": 0.05724177726485863, \"tpr\": 0.6408141403320835, \"n\": 8665}, {\"threshold\": 0.958, \"p\": 28005, \"fpr\": 0.05597230236583958, \"tpr\": 0.6379932154972326, \"n\": 8665}, {\"threshold\": 0.959, \"p\": 28005, \"fpr\": 0.0552798615118292, \"tpr\": 0.6348866273879664, \"n\": 8665}, {\"threshold\": 0.96, \"p\": 28005, \"fpr\": 0.05458742065781881, \"tpr\": 0.6314943760042849, \"n\": 8665}, {\"threshold\": 0.961, \"p\": 28005, \"fpr\": 0.05447201384881708, \"tpr\": 0.6278164613461882, \"n\": 8665}, {\"threshold\": 0.962, \"p\": 28005, \"fpr\": 0.05331794575879977, \"tpr\": 0.6249241206927334, \"n\": 8665}, {\"threshold\": 0.963, \"p\": 28005, \"fpr\": 0.052510098095787654, \"tpr\": 0.6209248348509194, \"n\": 8665}, {\"threshold\": 0.964, \"p\": 28005, \"fpr\": 0.05193306405077899, \"tpr\": 0.6176039992858419, \"n\": 8665}, {\"threshold\": 0.965, \"p\": 28005, \"fpr\": 0.05100980957876515, \"tpr\": 0.613961792537047, \"n\": 8665}, {\"threshold\": 0.966, \"p\": 28005, \"fpr\": 0.04997114829774957, \"tpr\": 0.6107123727905731, \"n\": 8665}, {\"threshold\": 0.967, \"p\": 28005, \"fpr\": 0.0482400461627236, \"tpr\": 0.6062488841278343, \"n\": 8665}, {\"threshold\": 0.968, \"p\": 28005, \"fpr\": 0.04766301211771495, \"tpr\": 0.60317800392787, \"n\": 8665}, {\"threshold\": 0.969, \"p\": 28005, \"fpr\": 0.04685516445470283, \"tpr\": 0.5997143367255847, \"n\": 8665}, {\"threshold\": 0.97, \"p\": 28005, \"fpr\": 0.04593190998268898, \"tpr\": 0.5951080164256383, \"n\": 8665}, {\"threshold\": 0.971, \"p\": 28005, \"fpr\": 0.04512406231967686, \"tpr\": 0.5910373147652205, \"n\": 8665}, {\"threshold\": 0.972, \"p\": 28005, \"fpr\": 0.04420080784766301, \"tpr\": 0.5873236921978218, \"n\": 8665}, {\"threshold\": 0.973, \"p\": 28005, \"fpr\": 0.04339296018465089, \"tpr\": 0.5829673272629887, \"n\": 8665}, {\"threshold\": 0.974, \"p\": 28005, \"fpr\": 0.042585112521638775, \"tpr\": 0.578111051597929, \"n\": 8665}, {\"threshold\": 0.975, \"p\": 28005, \"fpr\": 0.041661858049624925, \"tpr\": 0.5727191572933404, \"n\": 8665}, {\"threshold\": 0.976, \"p\": 28005, \"fpr\": 0.04096941719561454, \"tpr\": 0.5676486341724692, \"n\": 8665}, {\"threshold\": 0.977, \"p\": 28005, \"fpr\": 0.040276976341604154, \"tpr\": 0.562149616139975, \"n\": 8665}, {\"threshold\": 0.978, \"p\": 28005, \"fpr\": 0.039353721869590304, \"tpr\": 0.5563292269237636, \"n\": 8665}, {\"threshold\": 0.979, \"p\": 28005, \"fpr\": 0.038199653779572997, \"tpr\": 0.5504731297982504, \"n\": 8665}, {\"threshold\": 0.98, \"p\": 28005, \"fpr\": 0.037622619734564336, \"tpr\": 0.5441171219425103, \"n\": 8665}, {\"threshold\": 0.981, \"p\": 28005, \"fpr\": 0.03646855164454703, \"tpr\": 0.5377968219960721, \"n\": 8665}, {\"threshold\": 0.982, \"p\": 28005, \"fpr\": 0.03554529717253318, \"tpr\": 0.5307980717728977, \"n\": 8665}, {\"threshold\": 0.983, \"p\": 28005, \"fpr\": 0.03392960184650894, \"tpr\": 0.5236921978218175, \"n\": 8665}, {\"threshold\": 0.984, \"p\": 28005, \"fpr\": 0.03254472013848817, \"tpr\": 0.5161935368684164, \"n\": 8665}, {\"threshold\": 0.985, \"p\": 28005, \"fpr\": 0.030582804385458743, \"tpr\": 0.5081949651847885, \"n\": 8665}, {\"threshold\": 0.986, \"p\": 28005, \"fpr\": 0.029428736295441432, \"tpr\": 0.4984824138546688, \"n\": 8665}, {\"threshold\": 0.987, \"p\": 28005, \"fpr\": 0.028967109059434507, \"tpr\": 0.4895911444384931, \"n\": 8665}, {\"threshold\": 0.988, \"p\": 28005, \"fpr\": 0.028043854587420657, \"tpr\": 0.47873594001071235, \"n\": 8665}, {\"threshold\": 0.989, \"p\": 28005, \"fpr\": 0.027120600115406807, \"tpr\": 0.46766648812712014, \"n\": 8665}, {\"threshold\": 0.99, \"p\": 28005, \"fpr\": 0.02608193883439123, \"tpr\": 0.45527584359935724, \"n\": 8665}, {\"threshold\": 0.991, \"p\": 28005, \"fpr\": 0.024927870744373918, \"tpr\": 0.4425638278878772, \"n\": 8665}, {\"threshold\": 0.992, \"p\": 28005, \"fpr\": 0.02273514137334103, \"tpr\": 0.42778075343688626, \"n\": 8665}, {\"threshold\": 0.993, \"p\": 28005, \"fpr\": 0.02181188690132718, \"tpr\": 0.4113194072487056, \"n\": 8665}, {\"threshold\": 0.994, \"p\": 28005, \"fpr\": 0.020542412002308136, \"tpr\": 0.3935011605070523, \"n\": 8665}, {\"threshold\": 0.995, \"p\": 28005, \"fpr\": 0.019157530294287364, \"tpr\": 0.3727905731119443, \"n\": 8665}, {\"threshold\": 0.996, \"p\": 28005, \"fpr\": 0.016156953260242354, \"tpr\": 0.34829494733083377, \"n\": 8665}, {\"threshold\": 0.997, \"p\": 28005, \"fpr\": 0.01465666474321985, \"tpr\": 0.31962149616139973, \"n\": 8665}, {\"threshold\": 0.998, \"p\": 28005, \"fpr\": 0.011886901327178304, \"tpr\": 0.28184252811997856, \"n\": 8665}, {\"threshold\": 0.999, \"p\": 28005, \"fpr\": 0.009117137911136757, \"tpr\": 0.22553115515086591, \"n\": 8665}, {\"threshold\": 1.0, \"p\": 28005, \"fpr\": 0.0, \"tpr\": 0.0, \"n\": 8665}]}]], \"type\": \"Model\"}, \"ipython\": true, \"view_params\": {\"model_type\": \"regression\", \"view\": \"Evaluation\"}, \"model_type\": \"regression\", \"attributes\": {\"section_titles\": [\"Schema\", \"Hyperparameters\", \"Training Summary\", \"Settings\", \"Highest Positive Coefficients\", \"Lowest Negative Coefficients\"], \"sections\": [[[\"Number of coefficients\", 237352], [\"Number of examples\", 146861], [\"Number of classes\", 2], [\"Number of feature columns\", 1], [\"Number of unpacked features\", 237351]], [[\"L1 penalty\", 0.0], [\"L2 penalty\", 0.01]], [[\"Solver\", \"lbfgs\"], [\"Solver iterations\", 10], [\"Solver status\", \"TERMINATED: Iteration limit reached.\"], [\"Training time (sec)\", 11.8222]], [[\"Log-likelihood\", 11545.231]], [[\"word_count[label/box.]\", 13.7778], [\"word_count[hooped]\", 13.1249], [\"word_count[downgrade.]\", 12.1941], [\"word_count[mobile.)update:]\", 12.1941], [\"word_count[things/people]\", 11.5349]], [[\"word_count[slow?]\", -13.9507], [\"word_count[:)it's]\", -13.1211], [\"word_count[(89]\", -11.9643], [\"word_count[bookm]\", -11.5986], [\"word_count[robust).]\", -11.3982]]]}, \"evaluations\": [[\"test_data\", {\"roc_curve\": [{\"threshold\": 0.0, \"p\": 28005, \"fpr\": 1.0, \"tpr\": 1.0, \"n\": 8665}, {\"threshold\": 0.001, \"p\": 28005, \"fpr\": 0.8131563762261973, \"tpr\": 0.9911801464024281, \"n\": 8665}, {\"threshold\": 0.002, \"p\": 28005, \"fpr\": 0.7837276399307559, \"tpr\": 0.9891447955722192, \"n\": 8665}, {\"threshold\": 0.003, \"p\": 28005, \"fpr\": 0.7626081938834391, \"tpr\": 0.9874665238350294, \"n\": 8665}, {\"threshold\": 0.004, \"p\": 28005, \"fpr\": 0.7455279861511829, \"tpr\": 0.9863238707373684, \"n\": 8665}, {\"threshold\": 0.005, \"p\": 28005, \"fpr\": 0.7331794575879977, \"tpr\": 0.9851812176397072, \"n\": 8665}, {\"threshold\": 0.006, \"p\": 28005, \"fpr\": 0.721061742642816, \"tpr\": 0.9846455990001786, \"n\": 8665}, {\"threshold\": 0.007, \"p\": 28005, \"fpr\": 0.712406231967686, \"tpr\": 0.9838600249955365, \"n\": 8665}, {\"threshold\": 0.008, \"p\": 28005, \"fpr\": 0.7032890940565494, \"tpr\": 0.9829673272629887, \"n\": 8665}, {\"threshold\": 0.009, \"p\": 28005, \"fpr\": 0.6946335833814195, \"tpr\": 0.9823960007141582, \"n\": 8665}, {\"threshold\": 0.01, \"p\": 28005, \"fpr\": 0.6863242931332949, \"tpr\": 0.9815747188002143, \"n\": 8665}, {\"threshold\": 0.011, \"p\": 28005, \"fpr\": 0.678938257357184, \"tpr\": 0.9810033922513837, \"n\": 8665}, {\"threshold\": 0.012, \"p\": 28005, \"fpr\": 0.6736295441431045, \"tpr\": 0.9805391894304588, \"n\": 8665}, {\"threshold\": 0.013, \"p\": 28005, \"fpr\": 0.668205424120023, \"tpr\": 0.9798964470630245, \"n\": 8665}, {\"threshold\": 0.014, \"p\": 28005, \"fpr\": 0.6634737449509521, \"tpr\": 0.97925370469559, \"n\": 8665}, {\"threshold\": 0.015, \"p\": 28005, \"fpr\": 0.6585112521638776, \"tpr\": 0.9786466702374575, \"n\": 8665}, {\"threshold\": 0.016, \"p\": 28005, \"fpr\": 0.6542412002308137, \"tpr\": 0.9780039278700232, \"n\": 8665}, {\"threshold\": 0.017, \"p\": 28005, \"fpr\": 0.6502019619157531, \"tpr\": 0.9775754329584003, \"n\": 8665}, {\"threshold\": 0.018, \"p\": 28005, \"fpr\": 0.645931909982689, \"tpr\": 0.9771112301374755, \"n\": 8665}, {\"threshold\": 0.019, \"p\": 28005, \"fpr\": 0.641661858049625, \"tpr\": 0.9766113194072487, \"n\": 8665}, {\"threshold\": 0.02, \"p\": 28005, \"fpr\": 0.6363531448355453, \"tpr\": 0.9762185324049277, \"n\": 8665}, {\"threshold\": 0.021, \"p\": 28005, \"fpr\": 0.6320830929024812, \"tpr\": 0.9759685770398143, \"n\": 8665}, {\"threshold\": 0.022, \"p\": 28005, \"fpr\": 0.6294287362954414, \"tpr\": 0.9756472058560971, \"n\": 8665}, {\"threshold\": 0.023, \"p\": 28005, \"fpr\": 0.6250432775533756, \"tpr\": 0.97532583467238, \"n\": 8665}, {\"threshold\": 0.024, \"p\": 28005, \"fpr\": 0.6223889209463358, \"tpr\": 0.9751830030351722, \"n\": 8665}, {\"threshold\": 0.025, \"p\": 28005, \"fpr\": 0.6191575302942873, \"tpr\": 0.9750758793072666, \"n\": 8665}, {\"threshold\": 0.026, \"p\": 28005, \"fpr\": 0.6147720715522216, \"tpr\": 0.9747188002142475, \"n\": 8665}, {\"threshold\": 0.027, \"p\": 28005, \"fpr\": 0.6108482400461627, \"tpr\": 0.9743260132119265, \"n\": 8665}, {\"threshold\": 0.028, \"p\": 28005, \"fpr\": 0.6085401038661281, \"tpr\": 0.9738975183003035, \"n\": 8665}, {\"threshold\": 0.029, \"p\": 28005, \"fpr\": 0.6051933064050778, \"tpr\": 0.9736475629351902, \"n\": 8665}, {\"threshold\": 0.03, \"p\": 28005, \"fpr\": 0.601731102135026, \"tpr\": 0.9733618996607749, \"n\": 8665}, {\"threshold\": 0.031, \"p\": 28005, \"fpr\": 0.5982688978649741, \"tpr\": 0.9730405284770577, \"n\": 8665}, {\"threshold\": 0.032, \"p\": 28005, \"fpr\": 0.5945758799769186, \"tpr\": 0.9727191572933405, \"n\": 8665}, {\"threshold\": 0.033, \"p\": 28005, \"fpr\": 0.5916907097518753, \"tpr\": 0.9724334940189252, \"n\": 8665}, {\"threshold\": 0.034, \"p\": 28005, \"fpr\": 0.5885747259088286, \"tpr\": 0.972112122835208, \"n\": 8665}, {\"threshold\": 0.035, \"p\": 28005, \"fpr\": 0.586266589728794, \"tpr\": 0.9717907516514908, \"n\": 8665}, {\"threshold\": 0.036, \"p\": 28005, \"fpr\": 0.5846508944027697, \"tpr\": 0.9715050883770755, \"n\": 8665}, {\"threshold\": 0.037, \"p\": 28005, \"fpr\": 0.5819965377957299, \"tpr\": 0.9712551330119622, \"n\": 8665}, {\"threshold\": 0.038, \"p\": 28005, \"fpr\": 0.5791113675706867, \"tpr\": 0.970933761828245, \"n\": 8665}, {\"threshold\": 0.039, \"p\": 28005, \"fpr\": 0.577264858626659, \"tpr\": 0.9705409748259239, \"n\": 8665}, {\"threshold\": 0.04, \"p\": 28005, \"fpr\": 0.5748413156376226, \"tpr\": 0.9702553115515087, \"n\": 8665}, {\"threshold\": 0.041, \"p\": 28005, \"fpr\": 0.5731102135025966, \"tpr\": 0.970112479914301, \"n\": 8665}, {\"threshold\": 0.042, \"p\": 28005, \"fpr\": 0.5702250432775534, \"tpr\": 0.9698982324584896, \"n\": 8665}, {\"threshold\": 0.043, \"p\": 28005, \"fpr\": 0.5681477207155222, \"tpr\": 0.9695768612747724, \"n\": 8665}, {\"threshold\": 0.044, \"p\": 28005, \"fpr\": 0.5663012117714945, \"tpr\": 0.969326905909659, \"n\": 8665}, {\"threshold\": 0.045, \"p\": 28005, \"fpr\": 0.5642238892094633, \"tpr\": 0.9691483663631494, \"n\": 8665}, {\"threshold\": 0.046, \"p\": 28005, \"fpr\": 0.5619157530294288, \"tpr\": 0.9687912872701303, \"n\": 8665}, {\"threshold\": 0.047, \"p\": 28005, \"fpr\": 0.5599538372763994, \"tpr\": 0.968505623995715, \"n\": 8665}, {\"threshold\": 0.048, \"p\": 28005, \"fpr\": 0.5578765147143682, \"tpr\": 0.9683985002678093, \"n\": 8665}, {\"threshold\": 0.049, \"p\": 28005, \"fpr\": 0.55533756491633, \"tpr\": 0.968148544902696, \"n\": 8665}, {\"threshold\": 0.05, \"p\": 28005, \"fpr\": 0.5534910559723024, \"tpr\": 0.9680771290840922, \"n\": 8665}, {\"threshold\": 0.051, \"p\": 28005, \"fpr\": 0.5517599538372764, \"tpr\": 0.9678985895375826, \"n\": 8665}, {\"threshold\": 0.052, \"p\": 28005, \"fpr\": 0.54933641084824, \"tpr\": 0.967720049991073, \"n\": 8665}, {\"threshold\": 0.053, \"p\": 28005, \"fpr\": 0.5477207155222158, \"tpr\": 0.9675058025352615, \"n\": 8665}, {\"threshold\": 0.054, \"p\": 28005, \"fpr\": 0.5454125793421812, \"tpr\": 0.9670773076236386, \"n\": 8665}, {\"threshold\": 0.055, \"p\": 28005, \"fpr\": 0.54333525678015, \"tpr\": 0.9668630601678272, \"n\": 8665}, {\"threshold\": 0.056, \"p\": 28005, \"fpr\": 0.5417195614541258, \"tpr\": 0.9664702731655062, \"n\": 8665}, {\"threshold\": 0.057, \"p\": 28005, \"fpr\": 0.540334679746105, \"tpr\": 0.9663631494376004, \"n\": 8665}, {\"threshold\": 0.058, \"p\": 28005, \"fpr\": 0.5392960184650895, \"tpr\": 0.9662203178003927, \"n\": 8665}, {\"threshold\": 0.059, \"p\": 28005, \"fpr\": 0.5376803231390652, \"tpr\": 0.9659703624352795, \"n\": 8665}, {\"threshold\": 0.06, \"p\": 28005, \"fpr\": 0.5354875937680323, \"tpr\": 0.965720407070166, \"n\": 8665}, {\"threshold\": 0.061, \"p\": 28005, \"fpr\": 0.5336410848240046, \"tpr\": 0.9655061596143546, \"n\": 8665}, {\"threshold\": 0.062, \"p\": 28005, \"fpr\": 0.53133294864397, \"tpr\": 0.965363327977147, \"n\": 8665}, {\"threshold\": 0.063, \"p\": 28005, \"fpr\": 0.5299480669359492, \"tpr\": 0.9651490805213355, \"n\": 8665}, {\"threshold\": 0.064, \"p\": 28005, \"fpr\": 0.528332371609925, \"tpr\": 0.9647920014283163, \"n\": 8665}, {\"threshold\": 0.065, \"p\": 28005, \"fpr\": 0.5268320830929025, \"tpr\": 0.9646134618818069, \"n\": 8665}, {\"threshold\": 0.066, \"p\": 28005, \"fpr\": 0.5257934218118869, \"tpr\": 0.9644349223352973, \"n\": 8665}, {\"threshold\": 0.067, \"p\": 28005, \"fpr\": 0.5247547605308713, \"tpr\": 0.9642206748794858, \"n\": 8665}, {\"threshold\": 0.068, \"p\": 28005, \"fpr\": 0.5233698788228506, \"tpr\": 0.9639350116050706, \"n\": 8665}, {\"threshold\": 0.069, \"p\": 28005, \"fpr\": 0.5221004039238315, \"tpr\": 0.9637921799678629, \"n\": 8665}, {\"threshold\": 0.07, \"p\": 28005, \"fpr\": 0.5199076745527986, \"tpr\": 0.9636493483306552, \"n\": 8665}, {\"threshold\": 0.071, \"p\": 28005, \"fpr\": 0.5187536064627813, \"tpr\": 0.9635422246027495, \"n\": 8665}, {\"threshold\": 0.072, \"p\": 28005, \"fpr\": 0.5177149451817658, \"tpr\": 0.9633993929655419, \"n\": 8665}, {\"threshold\": 0.073, \"p\": 28005, \"fpr\": 0.5155222158107329, \"tpr\": 0.9633279771469381, \"n\": 8665}, {\"threshold\": 0.074, \"p\": 28005, \"fpr\": 0.5144835545297173, \"tpr\": 0.9631851455097304, \"n\": 8665}, {\"threshold\": 0.075, \"p\": 28005, \"fpr\": 0.5130986728216965, \"tpr\": 0.9630423138725228, \"n\": 8665}, {\"threshold\": 0.076, \"p\": 28005, \"fpr\": 0.5119446047316791, \"tpr\": 0.9628637743260132, \"n\": 8665}, {\"threshold\": 0.077, \"p\": 28005, \"fpr\": 0.5106751298326602, \"tpr\": 0.9627923585074094, \"n\": 8665}, {\"threshold\": 0.078, \"p\": 28005, \"fpr\": 0.5097518753606463, \"tpr\": 0.962578111051598, \"n\": 8665}, {\"threshold\": 0.079, \"p\": 28005, \"fpr\": 0.5089440276976341, \"tpr\": 0.9622210319585788, \"n\": 8665}, {\"threshold\": 0.08, \"p\": 28005, \"fpr\": 0.5077899596076169, \"tpr\": 0.9621139082306731, \"n\": 8665}, {\"threshold\": 0.081, \"p\": 28005, \"fpr\": 0.5069821119446047, \"tpr\": 0.9620424924120693, \"n\": 8665}, {\"threshold\": 0.082, \"p\": 28005, \"fpr\": 0.5058280438545875, \"tpr\": 0.9618996607748617, \"n\": 8665}, {\"threshold\": 0.083, \"p\": 28005, \"fpr\": 0.5050201961915753, \"tpr\": 0.961756829137654, \"n\": 8665}, {\"threshold\": 0.084, \"p\": 28005, \"fpr\": 0.5036353144835545, \"tpr\": 0.9616854133190502, \"n\": 8665}, {\"threshold\": 0.085, \"p\": 28005, \"fpr\": 0.5027120600115407, \"tpr\": 0.9615068737725406, \"n\": 8665}, {\"threshold\": 0.086, \"p\": 28005, \"fpr\": 0.5014425851125216, \"tpr\": 0.9612926263167292, \"n\": 8665}, {\"threshold\": 0.087, \"p\": 28005, \"fpr\": 0.49994229659549916, \"tpr\": 0.9610069630423139, \"n\": 8665}, {\"threshold\": 0.088, \"p\": 28005, \"fpr\": 0.4992498557414887, \"tpr\": 0.9609355472237101, \"n\": 8665}, {\"threshold\": 0.089, \"p\": 28005, \"fpr\": 0.4984420080784766, \"tpr\": 0.9606855918585967, \"n\": 8665}, {\"threshold\": 0.09, \"p\": 28005, \"fpr\": 0.4977495672244662, \"tpr\": 0.9603999285841814, \"n\": 8665}, {\"threshold\": 0.091, \"p\": 28005, \"fpr\": 0.4967109059434507, \"tpr\": 0.9602928048562757, \"n\": 8665}, {\"threshold\": 0.092, \"p\": 28005, \"fpr\": 0.49521061742642813, \"tpr\": 0.9601856811283699, \"n\": 8665}, {\"threshold\": 0.093, \"p\": 28005, \"fpr\": 0.49428736295441433, \"tpr\": 0.9601142653097661, \"n\": 8665}, {\"threshold\": 0.094, \"p\": 28005, \"fpr\": 0.49301788805539526, \"tpr\": 0.9598643099446528, \"n\": 8665}, {\"threshold\": 0.095, \"p\": 28005, \"fpr\": 0.4924408540103866, \"tpr\": 0.9596857703981432, \"n\": 8665}, {\"threshold\": 0.096, \"p\": 28005, \"fpr\": 0.491402192729371, \"tpr\": 0.9595429387609355, \"n\": 8665}, {\"threshold\": 0.097, \"p\": 28005, \"fpr\": 0.49024812463935374, \"tpr\": 0.9593286913051241, \"n\": 8665}, {\"threshold\": 0.098, \"p\": 28005, \"fpr\": 0.48920946335833815, \"tpr\": 0.9592215675772183, \"n\": 8665}, {\"threshold\": 0.099, \"p\": 28005, \"fpr\": 0.4880553952683208, \"tpr\": 0.958971612212105, \"n\": 8665}, {\"threshold\": 0.1, \"p\": 28005, \"fpr\": 0.48632429313329484, \"tpr\": 0.9587930726655954, \"n\": 8665}, {\"threshold\": 0.101, \"p\": 28005, \"fpr\": 0.48482400461627234, \"tpr\": 0.9586502410283878, \"n\": 8665}, {\"threshold\": 0.102, \"p\": 28005, \"fpr\": 0.48366993652625506, \"tpr\": 0.9584002856632744, \"n\": 8665}, {\"threshold\": 0.103, \"p\": 28005, \"fpr\": 0.482400461627236, \"tpr\": 0.9582574540260668, \"n\": 8665}, {\"threshold\": 0.104, \"p\": 28005, \"fpr\": 0.4819388343912291, \"tpr\": 0.9580074986609534, \"n\": 8665}, {\"threshold\": 0.105, \"p\": 28005, \"fpr\": 0.48101557991921523, \"tpr\": 0.9578289591144439, \"n\": 8665}, {\"threshold\": 0.106, \"p\": 28005, \"fpr\": 0.4804385458742066, \"tpr\": 0.9576504195679343, \"n\": 8665}, {\"threshold\": 0.107, \"p\": 28005, \"fpr\": 0.47928447778418926, \"tpr\": 0.9575075879307267, \"n\": 8665}, {\"threshold\": 0.108, \"p\": 28005, \"fpr\": 0.4778995960761685, \"tpr\": 0.957364756293519, \"n\": 8665}, {\"threshold\": 0.109, \"p\": 28005, \"fpr\": 0.47628390075014426, \"tpr\": 0.9572219246563114, \"n\": 8665}, {\"threshold\": 0.11, \"p\": 28005, \"fpr\": 0.4757068667051356, \"tpr\": 0.9570790930191038, \"n\": 8665}, {\"threshold\": 0.111, \"p\": 28005, \"fpr\": 0.47466820542412, \"tpr\": 0.956971969291198, \"n\": 8665}, {\"threshold\": 0.112, \"p\": 28005, \"fpr\": 0.4738603577611079, \"tpr\": 0.9567934297446884, \"n\": 8665}, {\"threshold\": 0.113, \"p\": 28005, \"fpr\": 0.47247547605308715, \"tpr\": 0.956579182288877, \"n\": 8665}, {\"threshold\": 0.114, \"p\": 28005, \"fpr\": 0.47109059434506634, \"tpr\": 0.9564363506516693, \"n\": 8665}, {\"threshold\": 0.115, \"p\": 28005, \"fpr\": 0.47016733987305254, \"tpr\": 0.9563292269237637, \"n\": 8665}, {\"threshold\": 0.116, \"p\": 28005, \"fpr\": 0.4694748990190421, \"tpr\": 0.956186395286556, \"n\": 8665}, {\"threshold\": 0.117, \"p\": 28005, \"fpr\": 0.46809001731102134, \"tpr\": 0.9560078557400464, \"n\": 8665}, {\"threshold\": 0.118, \"p\": 28005, \"fpr\": 0.46693594922100407, \"tpr\": 0.9559007320121407, \"n\": 8665}, {\"threshold\": 0.119, \"p\": 28005, \"fpr\": 0.46624350836699363, \"tpr\": 0.9558650241028388, \"n\": 8665}, {\"threshold\": 0.12, \"p\": 28005, \"fpr\": 0.46508944027697635, \"tpr\": 0.9556864845563292, \"n\": 8665}, {\"threshold\": 0.121, \"p\": 28005, \"fpr\": 0.4645124062319677, \"tpr\": 0.9556150687377254, \"n\": 8665}, {\"threshold\": 0.122, \"p\": 28005, \"fpr\": 0.4637045585689556, \"tpr\": 0.9554365291912158, \"n\": 8665}, {\"threshold\": 0.123, \"p\": 28005, \"fpr\": 0.4619734564339296, \"tpr\": 0.955365113372612, \"n\": 8665}, {\"threshold\": 0.124, \"p\": 28005, \"fpr\": 0.46070398153491054, \"tpr\": 0.9552222817354044, \"n\": 8665}, {\"threshold\": 0.125, \"p\": 28005, \"fpr\": 0.4597807270628967, \"tpr\": 0.9549723263702911, \"n\": 8665}, {\"threshold\": 0.126, \"p\": 28005, \"fpr\": 0.45897287939988457, \"tpr\": 0.9547937868237815, \"n\": 8665}, {\"threshold\": 0.127, \"p\": 28005, \"fpr\": 0.4582804385458742, \"tpr\": 0.9546509551865738, \"n\": 8665}, {\"threshold\": 0.128, \"p\": 28005, \"fpr\": 0.4570109636468552, \"tpr\": 0.9544367077307624, \"n\": 8665}, {\"threshold\": 0.129, \"p\": 28005, \"fpr\": 0.4560877091748413, \"tpr\": 0.9542938760935548, \"n\": 8665}, {\"threshold\": 0.13, \"p\": 28005, \"fpr\": 0.4550490478938257, \"tpr\": 0.9541153365470452, \"n\": 8665}, {\"threshold\": 0.131, \"p\": 28005, \"fpr\": 0.45435660703981534, \"tpr\": 0.9540082128191394, \"n\": 8665}, {\"threshold\": 0.132, \"p\": 28005, \"fpr\": 0.4537795729948067, \"tpr\": 0.9539010890912337, \"n\": 8665}, {\"threshold\": 0.133, \"p\": 28005, \"fpr\": 0.45216387766878247, \"tpr\": 0.9537582574540261, \"n\": 8665}, {\"threshold\": 0.134, \"p\": 28005, \"fpr\": 0.4514714368147721, \"tpr\": 0.9535440099982146, \"n\": 8665}, {\"threshold\": 0.135, \"p\": 28005, \"fpr\": 0.45100980957876513, \"tpr\": 0.9534368862703089, \"n\": 8665}, {\"threshold\": 0.136, \"p\": 28005, \"fpr\": 0.450201961915753, \"tpr\": 0.9532226388144974, \"n\": 8665}, {\"threshold\": 0.137, \"p\": 28005, \"fpr\": 0.4491633006347375, \"tpr\": 0.9531512229958936, \"n\": 8665}, {\"threshold\": 0.138, \"p\": 28005, \"fpr\": 0.4485862665897288, \"tpr\": 0.9529012676307802, \"n\": 8665}, {\"threshold\": 0.139, \"p\": 28005, \"fpr\": 0.4476630121177149, \"tpr\": 0.9527941439028745, \"n\": 8665}, {\"threshold\": 0.14, \"p\": 28005, \"fpr\": 0.44697057126370454, \"tpr\": 0.9527227280842707, \"n\": 8665}, {\"threshold\": 0.141, \"p\": 28005, \"fpr\": 0.44547028274668204, \"tpr\": 0.9525084806284592, \"n\": 8665}, {\"threshold\": 0.142, \"p\": 28005, \"fpr\": 0.44477784189267167, \"tpr\": 0.9523299410819497, \"n\": 8665}, {\"threshold\": 0.143, \"p\": 28005, \"fpr\": 0.44362377380265433, \"tpr\": 0.9520799857168363, \"n\": 8665}, {\"threshold\": 0.144, \"p\": 28005, \"fpr\": 0.44316214656664743, \"tpr\": 0.951794322442421, \"n\": 8665}, {\"threshold\": 0.145, \"p\": 28005, \"fpr\": 0.4420080784766301, \"tpr\": 0.9515443670773076, \"n\": 8665}, {\"threshold\": 0.146, \"p\": 28005, \"fpr\": 0.44166185804962493, \"tpr\": 0.9514372433494019, \"n\": 8665}, {\"threshold\": 0.147, \"p\": 28005, \"fpr\": 0.441200230813618, \"tpr\": 0.9512587038028923, \"n\": 8665}, {\"threshold\": 0.148, \"p\": 28005, \"fpr\": 0.4407386035776111, \"tpr\": 0.9511158721656847, \"n\": 8665}, {\"threshold\": 0.149, \"p\": 28005, \"fpr\": 0.43993075591459896, \"tpr\": 0.9510444563470809, \"n\": 8665}, {\"threshold\": 0.15, \"p\": 28005, \"fpr\": 0.43889209463358336, \"tpr\": 0.9509016247098733, \"n\": 8665}, {\"threshold\": 0.151, \"p\": 28005, \"fpr\": 0.4379688401615695, \"tpr\": 0.9507945009819675, \"n\": 8665}, {\"threshold\": 0.152, \"p\": 28005, \"fpr\": 0.43762261973456434, \"tpr\": 0.9505445456168541, \"n\": 8665}, {\"threshold\": 0.153, \"p\": 28005, \"fpr\": 0.436468551644547, \"tpr\": 0.9504017139796465, \"n\": 8665}, {\"threshold\": 0.154, \"p\": 28005, \"fpr\": 0.43577611079053663, \"tpr\": 0.9503302981610426, \"n\": 8665}, {\"threshold\": 0.155, \"p\": 28005, \"fpr\": 0.43531448355452973, \"tpr\": 0.950223174433137, \"n\": 8665}, {\"threshold\": 0.156, \"p\": 28005, \"fpr\": 0.4343912290825159, \"tpr\": 0.9501160507052312, \"n\": 8665}, {\"threshold\": 0.157, \"p\": 28005, \"fpr\": 0.4333525678015003, \"tpr\": 0.9497589716122121, \"n\": 8665}, {\"threshold\": 0.158, \"p\": 28005, \"fpr\": 0.43208309290248126, \"tpr\": 0.9496518478843063, \"n\": 8665}, {\"threshold\": 0.159, \"p\": 28005, \"fpr\": 0.4309290248124639, \"tpr\": 0.9494733083377969, \"n\": 8665}, {\"threshold\": 0.16, \"p\": 28005, \"fpr\": 0.4296595499134449, \"tpr\": 0.9492590608819853, \"n\": 8665}, {\"threshold\": 0.161, \"p\": 28005, \"fpr\": 0.4288517022504328, \"tpr\": 0.9491876450633815, \"n\": 8665}, {\"threshold\": 0.162, \"p\": 28005, \"fpr\": 0.42792844777841893, \"tpr\": 0.949009105516872, \"n\": 8665}, {\"threshold\": 0.163, \"p\": 28005, \"fpr\": 0.4270051933064051, \"tpr\": 0.9488662738796644, \"n\": 8665}, {\"threshold\": 0.164, \"p\": 28005, \"fpr\": 0.4265435660703982, \"tpr\": 0.9487591501517586, \"n\": 8665}, {\"threshold\": 0.165, \"p\": 28005, \"fpr\": 0.4256203115983843, \"tpr\": 0.9486877343331548, \"n\": 8665}, {\"threshold\": 0.166, \"p\": 28005, \"fpr\": 0.42538949798038084, \"tpr\": 0.948616318514551, \"n\": 8665}, {\"threshold\": 0.167, \"p\": 28005, \"fpr\": 0.4240046162723601, \"tpr\": 0.9483663631494376, \"n\": 8665}, {\"threshold\": 0.168, \"p\": 28005, \"fpr\": 0.42342758222735144, \"tpr\": 0.9480806998750223, \"n\": 8665}, {\"threshold\": 0.169, \"p\": 28005, \"fpr\": 0.4222735141373341, \"tpr\": 0.9479735761471166, \"n\": 8665}, {\"threshold\": 0.17, \"p\": 28005, \"fpr\": 0.42111944604731677, \"tpr\": 0.9476522049633994, \"n\": 8665}, {\"threshold\": 0.171, \"p\": 28005, \"fpr\": 0.42031159838430465, \"tpr\": 0.947402249598286, \"n\": 8665}, {\"threshold\": 0.172, \"p\": 28005, \"fpr\": 0.4199653779572995, \"tpr\": 0.9471880021424746, \"n\": 8665}, {\"threshold\": 0.173, \"p\": 28005, \"fpr\": 0.4189267166762839, \"tpr\": 0.9471880021424746, \"n\": 8665}, {\"threshold\": 0.174, \"p\": 28005, \"fpr\": 0.4182342758222735, \"tpr\": 0.9470808784145688, \"n\": 8665}, {\"threshold\": 0.175, \"p\": 28005, \"fpr\": 0.41731102135025966, \"tpr\": 0.9469380467773612, \"n\": 8665}, {\"threshold\": 0.176, \"p\": 28005, \"fpr\": 0.4161569532602424, \"tpr\": 0.9467952151401535, \"n\": 8665}, {\"threshold\": 0.177, \"p\": 28005, \"fpr\": 0.4155799192152337, \"tpr\": 0.9466523835029459, \"n\": 8665}, {\"threshold\": 0.178, \"p\": 28005, \"fpr\": 0.4144258511252164, \"tpr\": 0.9465452597750402, \"n\": 8665}, {\"threshold\": 0.179, \"p\": 28005, \"fpr\": 0.413733410271206, \"tpr\": 0.9465095518657383, \"n\": 8665}, {\"threshold\": 0.18, \"p\": 28005, \"fpr\": 0.4125793421811887, \"tpr\": 0.9463310123192287, \"n\": 8665}, {\"threshold\": 0.181, \"p\": 28005, \"fpr\": 0.41165608770917483, \"tpr\": 0.946223888591323, \"n\": 8665}, {\"threshold\": 0.182, \"p\": 28005, \"fpr\": 0.41130986728216967, \"tpr\": 0.9461167648634172, \"n\": 8665}, {\"threshold\": 0.183, \"p\": 28005, \"fpr\": 0.41096364685516446, \"tpr\": 0.945831101589002, \"n\": 8665}, {\"threshold\": 0.184, \"p\": 28005, \"fpr\": 0.41061742642815924, \"tpr\": 0.9457953936797, \"n\": 8665}, {\"threshold\": 0.185, \"p\": 28005, \"fpr\": 0.40969417195614544, \"tpr\": 0.9456168541331905, \"n\": 8665}, {\"threshold\": 0.186, \"p\": 28005, \"fpr\": 0.409001731102135, \"tpr\": 0.9455097304052847, \"n\": 8665}, {\"threshold\": 0.187, \"p\": 28005, \"fpr\": 0.4083092902481246, \"tpr\": 0.9454026066773791, \"n\": 8665}, {\"threshold\": 0.188, \"p\": 28005, \"fpr\": 0.4075014425851125, \"tpr\": 0.9452954829494733, \"n\": 8665}, {\"threshold\": 0.189, \"p\": 28005, \"fpr\": 0.40692440854010387, \"tpr\": 0.9451883592215676, \"n\": 8665}, {\"threshold\": 0.19, \"p\": 28005, \"fpr\": 0.40611656087709175, \"tpr\": 0.9450812354936619, \"n\": 8665}, {\"threshold\": 0.191, \"p\": 28005, \"fpr\": 0.40530871321407963, \"tpr\": 0.9447241564006428, \"n\": 8665}, {\"threshold\": 0.192, \"p\": 28005, \"fpr\": 0.40484708597807273, \"tpr\": 0.944617032672737, \"n\": 8665}, {\"threshold\": 0.193, \"p\": 28005, \"fpr\": 0.40461627236006925, \"tpr\": 0.9444384931262274, \"n\": 8665}, {\"threshold\": 0.194, \"p\": 28005, \"fpr\": 0.4041546451240623, \"tpr\": 0.9442599535797179, \"n\": 8665}, {\"threshold\": 0.195, \"p\": 28005, \"fpr\": 0.4028851702250433, \"tpr\": 0.9440099982146045, \"n\": 8665}, {\"threshold\": 0.196, \"p\": 28005, \"fpr\": 0.4024235429890364, \"tpr\": 0.9438671665773969, \"n\": 8665}, {\"threshold\": 0.197, \"p\": 28005, \"fpr\": 0.4015002885170225, \"tpr\": 0.9437957507587931, \"n\": 8665}, {\"threshold\": 0.198, \"p\": 28005, \"fpr\": 0.4006924408540104, \"tpr\": 0.9436886270308873, \"n\": 8665}, {\"threshold\": 0.199, \"p\": 28005, \"fpr\": 0.3998845931909983, \"tpr\": 0.9435100874843778, \"n\": 8665}, {\"threshold\": 0.2, \"p\": 28005, \"fpr\": 0.3993075591459896, \"tpr\": 0.9433672558471702, \"n\": 8665}, {\"threshold\": 0.201, \"p\": 28005, \"fpr\": 0.39849971148297747, \"tpr\": 0.9432958400285664, \"n\": 8665}, {\"threshold\": 0.202, \"p\": 28005, \"fpr\": 0.39792267743796883, \"tpr\": 0.9431530083913587, \"n\": 8665}, {\"threshold\": 0.203, \"p\": 28005, \"fpr\": 0.3973456433929602, \"tpr\": 0.943045884663453, \"n\": 8665}, {\"threshold\": 0.204, \"p\": 28005, \"fpr\": 0.39676860934795155, \"tpr\": 0.9428316372076415, \"n\": 8665}, {\"threshold\": 0.205, \"p\": 28005, \"fpr\": 0.39619157530294286, \"tpr\": 0.9427245134797357, \"n\": 8665}, {\"threshold\": 0.206, \"p\": 28005, \"fpr\": 0.3958453548759377, \"tpr\": 0.9425816818425281, \"n\": 8665}, {\"threshold\": 0.207, \"p\": 28005, \"fpr\": 0.3954991344489325, \"tpr\": 0.9423674343867167, \"n\": 8665}, {\"threshold\": 0.208, \"p\": 28005, \"fpr\": 0.3948066935949221, \"tpr\": 0.942224602749509, \"n\": 8665}, {\"threshold\": 0.209, \"p\": 28005, \"fpr\": 0.3941142527409117, \"tpr\": 0.9421531869309052, \"n\": 8665}, {\"threshold\": 0.21, \"p\": 28005, \"fpr\": 0.39319099826889786, \"tpr\": 0.9420103552936976, \"n\": 8665}, {\"threshold\": 0.211, \"p\": 28005, \"fpr\": 0.39272937103289096, \"tpr\": 0.941831815747188, \"n\": 8665}, {\"threshold\": 0.212, \"p\": 28005, \"fpr\": 0.3915753029428736, \"tpr\": 0.9415461524727727, \"n\": 8665}, {\"threshold\": 0.213, \"p\": 28005, \"fpr\": 0.3907674552798615, \"tpr\": 0.9414747366541689, \"n\": 8665}, {\"threshold\": 0.214, \"p\": 28005, \"fpr\": 0.39019042123485287, \"tpr\": 0.9413676129262631, \"n\": 8665}, {\"threshold\": 0.215, \"p\": 28005, \"fpr\": 0.38984420080784765, \"tpr\": 0.9411533654704517, \"n\": 8665}, {\"threshold\": 0.216, \"p\": 28005, \"fpr\": 0.3896133871898442, \"tpr\": 0.9411176575611498, \"n\": 8665}, {\"threshold\": 0.217, \"p\": 28005, \"fpr\": 0.38903635314483553, \"tpr\": 0.9410462417425459, \"n\": 8665}, {\"threshold\": 0.218, \"p\": 28005, \"fpr\": 0.3882285054818234, \"tpr\": 0.9408677021960364, \"n\": 8665}, {\"threshold\": 0.219, \"p\": 28005, \"fpr\": 0.38788228505481825, \"tpr\": 0.9407962863774326, \"n\": 8665}, {\"threshold\": 0.22, \"p\": 28005, \"fpr\": 0.38730525100980956, \"tpr\": 0.9406891626495268, \"n\": 8665}, {\"threshold\": 0.221, \"p\": 28005, \"fpr\": 0.3866128101557992, \"tpr\": 0.9405106231030174, \"n\": 8665}, {\"threshold\": 0.222, \"p\": 28005, \"fpr\": 0.3861511829197923, \"tpr\": 0.9403320835565078, \"n\": 8665}, {\"threshold\": 0.223, \"p\": 28005, \"fpr\": 0.3854587420657819, \"tpr\": 0.9401535440099982, \"n\": 8665}, {\"threshold\": 0.224, \"p\": 28005, \"fpr\": 0.3848817080207732, \"tpr\": 0.9400464202820925, \"n\": 8665}, {\"threshold\": 0.225, \"p\": 28005, \"fpr\": 0.3844200807847663, \"tpr\": 0.9397964649169791, \"n\": 8665}, {\"threshold\": 0.226, \"p\": 28005, \"fpr\": 0.3837276399307559, \"tpr\": 0.9396179253704695, \"n\": 8665}, {\"threshold\": 0.227, \"p\": 28005, \"fpr\": 0.38349682631275245, \"tpr\": 0.9395108016425638, \"n\": 8665}, {\"threshold\": 0.228, \"p\": 28005, \"fpr\": 0.38280438545874207, \"tpr\": 0.9394036779146581, \"n\": 8665}, {\"threshold\": 0.229, \"p\": 28005, \"fpr\": 0.38234275822273517, \"tpr\": 0.9392965541867524, \"n\": 8665}, {\"threshold\": 0.23, \"p\": 28005, \"fpr\": 0.38165031736872473, \"tpr\": 0.939082306730941, \"n\": 8665}, {\"threshold\": 0.231, \"p\": 28005, \"fpr\": 0.3808424697057126, \"tpr\": 0.9388323513658275, \"n\": 8665}, {\"threshold\": 0.232, \"p\": 28005, \"fpr\": 0.3799192152336988, \"tpr\": 0.938653811819318, \"n\": 8665}, {\"threshold\": 0.233, \"p\": 28005, \"fpr\": 0.37945758799769186, \"tpr\": 0.9385466880914123, \"n\": 8665}, {\"threshold\": 0.234, \"p\": 28005, \"fpr\": 0.3788805539526832, \"tpr\": 0.9384752722728085, \"n\": 8665}, {\"threshold\": 0.235, \"p\": 28005, \"fpr\": 0.3783035199076746, \"tpr\": 0.9383681485449027, \"n\": 8665}, {\"threshold\": 0.236, \"p\": 28005, \"fpr\": 0.3773802654356607, \"tpr\": 0.9383324406356008, \"n\": 8665}, {\"threshold\": 0.237, \"p\": 28005, \"fpr\": 0.37611079053664165, \"tpr\": 0.9381539010890912, \"n\": 8665}, {\"threshold\": 0.238, \"p\": 28005, \"fpr\": 0.3757645701096365, \"tpr\": 0.9379396536332798, \"n\": 8665}, {\"threshold\": 0.239, \"p\": 28005, \"fpr\": 0.37530294287362953, \"tpr\": 0.937832529905374, \"n\": 8665}, {\"threshold\": 0.24, \"p\": 28005, \"fpr\": 0.3750721292556261, \"tpr\": 0.9376182824495626, \"n\": 8665}, {\"threshold\": 0.241, \"p\": 28005, \"fpr\": 0.3744950952106174, \"tpr\": 0.937439742903053, \"n\": 8665}, {\"threshold\": 0.242, \"p\": 28005, \"fpr\": 0.3740334679746105, \"tpr\": 0.9372612033565435, \"n\": 8665}, {\"threshold\": 0.243, \"p\": 28005, \"fpr\": 0.3739180611656088, \"tpr\": 0.9371540796286377, \"n\": 8665}, {\"threshold\": 0.244, \"p\": 28005, \"fpr\": 0.37311021350259665, \"tpr\": 0.9370469559007321, \"n\": 8665}, {\"threshold\": 0.245, \"p\": 28005, \"fpr\": 0.37264858626658975, \"tpr\": 0.9369755400821282, \"n\": 8665}, {\"threshold\": 0.246, \"p\": 28005, \"fpr\": 0.37207155222158106, \"tpr\": 0.9367970005356187, \"n\": 8665}, {\"threshold\": 0.247, \"p\": 28005, \"fpr\": 0.3713791113675707, \"tpr\": 0.936654168898411, \"n\": 8665}, {\"threshold\": 0.248, \"p\": 28005, \"fpr\": 0.3709174841315638, \"tpr\": 0.9364756293519014, \"n\": 8665}, {\"threshold\": 0.249, \"p\": 28005, \"fpr\": 0.3704558568955568, \"tpr\": 0.936225673986788, \"n\": 8665}, {\"threshold\": 0.25, \"p\": 28005, \"fpr\": 0.3698788228505482, \"tpr\": 0.9360828423495804, \"n\": 8665}, {\"threshold\": 0.251, \"p\": 28005, \"fpr\": 0.36907097518753607, \"tpr\": 0.9359043028030709, \"n\": 8665}, {\"threshold\": 0.252, \"p\": 28005, \"fpr\": 0.36872475476053085, \"tpr\": 0.9359043028030709, \"n\": 8665}, {\"threshold\": 0.253, \"p\": 28005, \"fpr\": 0.36803231390652047, \"tpr\": 0.9357971790751651, \"n\": 8665}, {\"threshold\": 0.254, \"p\": 28005, \"fpr\": 0.36745527986151183, \"tpr\": 0.9356186395286556, \"n\": 8665}, {\"threshold\": 0.255, \"p\": 28005, \"fpr\": 0.36699365262550493, \"tpr\": 0.9355115158007499, \"n\": 8665}, {\"threshold\": 0.256, \"p\": 28005, \"fpr\": 0.36595499134448933, \"tpr\": 0.9354758078914479, \"n\": 8665}, {\"threshold\": 0.257, \"p\": 28005, \"fpr\": 0.3653779572994807, \"tpr\": 0.9352972683449384, \"n\": 8665}, {\"threshold\": 0.258, \"p\": 28005, \"fpr\": 0.36491633006347374, \"tpr\": 0.9351901446170326, \"n\": 8665}, {\"threshold\": 0.259, \"p\": 28005, \"fpr\": 0.3643392960184651, \"tpr\": 0.935047312979825, \"n\": 8665}, {\"threshold\": 0.26, \"p\": 28005, \"fpr\": 0.3641084824004616, \"tpr\": 0.9349044813426174, \"n\": 8665}, {\"threshold\": 0.261, \"p\": 28005, \"fpr\": 0.363531448355453, \"tpr\": 0.9348330655240136, \"n\": 8665}, {\"threshold\": 0.262, \"p\": 28005, \"fpr\": 0.3628390075014426, \"tpr\": 0.9347973576147116, \"n\": 8665}, {\"threshold\": 0.263, \"p\": 28005, \"fpr\": 0.3622619734564339, \"tpr\": 0.9346902338868059, \"n\": 8665}, {\"threshold\": 0.264, \"p\": 28005, \"fpr\": 0.361800346220427, \"tpr\": 0.9345831101589002, \"n\": 8665}, {\"threshold\": 0.265, \"p\": 28005, \"fpr\": 0.3614541257934218, \"tpr\": 0.9344402785216925, \"n\": 8665}, {\"threshold\": 0.266, \"p\": 28005, \"fpr\": 0.36122331217541837, \"tpr\": 0.9342974468844849, \"n\": 8665}, {\"threshold\": 0.267, \"p\": 28005, \"fpr\": 0.360530871321408, \"tpr\": 0.9341189073379753, \"n\": 8665}, {\"threshold\": 0.268, \"p\": 28005, \"fpr\": 0.3599538372763993, \"tpr\": 0.933868951972862, \"n\": 8665}, {\"threshold\": 0.269, \"p\": 28005, \"fpr\": 0.3591459896133872, \"tpr\": 0.93383324406356, \"n\": 8665}, {\"threshold\": 0.27, \"p\": 28005, \"fpr\": 0.3586843623773803, \"tpr\": 0.9336904124263524, \"n\": 8665}, {\"threshold\": 0.271, \"p\": 28005, \"fpr\": 0.3584535487593768, \"tpr\": 0.9336547045170506, \"n\": 8665}, {\"threshold\": 0.272, \"p\": 28005, \"fpr\": 0.35810732833237163, \"tpr\": 0.9335118728798428, \"n\": 8665}, {\"threshold\": 0.273, \"p\": 28005, \"fpr\": 0.3574148874783612, \"tpr\": 0.9334047491519372, \"n\": 8665}, {\"threshold\": 0.274, \"p\": 28005, \"fpr\": 0.35683785343335256, \"tpr\": 0.9333690412426352, \"n\": 8665}, {\"threshold\": 0.275, \"p\": 28005, \"fpr\": 0.3564916330063474, \"tpr\": 0.9333333333333333, \"n\": 8665}, {\"threshold\": 0.276, \"p\": 28005, \"fpr\": 0.3561454125793422, \"tpr\": 0.9331190858775219, \"n\": 8665}, {\"threshold\": 0.277, \"p\": 28005, \"fpr\": 0.35556837853433354, \"tpr\": 0.9328691305124085, \"n\": 8665}, {\"threshold\": 0.278, \"p\": 28005, \"fpr\": 0.35452971725331794, \"tpr\": 0.9327977146938047, \"n\": 8665}, {\"threshold\": 0.279, \"p\": 28005, \"fpr\": 0.35406809001731104, \"tpr\": 0.9326905909658989, \"n\": 8665}, {\"threshold\": 0.28, \"p\": 28005, \"fpr\": 0.35383727639930757, \"tpr\": 0.9324763435100875, \"n\": 8665}, {\"threshold\": 0.281, \"p\": 28005, \"fpr\": 0.3536064627813041, \"tpr\": 0.9323692197821818, \"n\": 8665}, {\"threshold\": 0.282, \"p\": 28005, \"fpr\": 0.3532602423542989, \"tpr\": 0.9321192644170684, \"n\": 8665}, {\"threshold\": 0.283, \"p\": 28005, \"fpr\": 0.3525678015002885, \"tpr\": 0.931869309051955, \"n\": 8665}, {\"threshold\": 0.284, \"p\": 28005, \"fpr\": 0.35233698788228507, \"tpr\": 0.9317264774147473, \"n\": 8665}, {\"threshold\": 0.285, \"p\": 28005, \"fpr\": 0.3518753606462781, \"tpr\": 0.9315836457775397, \"n\": 8665}, {\"threshold\": 0.286, \"p\": 28005, \"fpr\": 0.35118291979226773, \"tpr\": 0.9314051062310301, \"n\": 8665}, {\"threshold\": 0.287, \"p\": 28005, \"fpr\": 0.35049047893825735, \"tpr\": 0.9312979825031245, \"n\": 8665}, {\"threshold\": 0.288, \"p\": 28005, \"fpr\": 0.3502596653202539, \"tpr\": 0.9311551508659168, \"n\": 8665}, {\"threshold\": 0.289, \"p\": 28005, \"fpr\": 0.3495672244662435, \"tpr\": 0.9309766113194072, \"n\": 8665}, {\"threshold\": 0.29, \"p\": 28005, \"fpr\": 0.34933641084824, \"tpr\": 0.9308337796821996, \"n\": 8665}, {\"threshold\": 0.291, \"p\": 28005, \"fpr\": 0.34864396999422964, \"tpr\": 0.9308337796821996, \"n\": 8665}, {\"threshold\": 0.292, \"p\": 28005, \"fpr\": 0.34795152914021926, \"tpr\": 0.9307266559542938, \"n\": 8665}, {\"threshold\": 0.293, \"p\": 28005, \"fpr\": 0.34748990190421236, \"tpr\": 0.9305124084984824, \"n\": 8665}, {\"threshold\": 0.294, \"p\": 28005, \"fpr\": 0.346797461050202, \"tpr\": 0.9304052847705767, \"n\": 8665}, {\"threshold\": 0.295, \"p\": 28005, \"fpr\": 0.3462204270051933, \"tpr\": 0.9302624531333691, \"n\": 8665}, {\"threshold\": 0.296, \"p\": 28005, \"fpr\": 0.3458742065781881, \"tpr\": 0.9301553294054633, \"n\": 8665}, {\"threshold\": 0.297, \"p\": 28005, \"fpr\": 0.34518176572417775, \"tpr\": 0.9301196214961615, \"n\": 8665}, {\"threshold\": 0.298, \"p\": 28005, \"fpr\": 0.3444893248701673, \"tpr\": 0.9300124977682557, \"n\": 8665}, {\"threshold\": 0.299, \"p\": 28005, \"fpr\": 0.34414310444316215, \"tpr\": 0.9299410819496519, \"n\": 8665}, {\"threshold\": 0.3, \"p\": 28005, \"fpr\": 0.3434506635891518, \"tpr\": 0.9297268344938404, \"n\": 8665}, {\"threshold\": 0.301, \"p\": 28005, \"fpr\": 0.3432198499711483, \"tpr\": 0.9297268344938404, \"n\": 8665}, {\"threshold\": 0.302, \"p\": 28005, \"fpr\": 0.3427582227351414, \"tpr\": 0.9295482949473308, \"n\": 8665}, {\"threshold\": 0.303, \"p\": 28005, \"fpr\": 0.3421811886901327, \"tpr\": 0.9292626316729156, \"n\": 8665}, {\"threshold\": 0.304, \"p\": 28005, \"fpr\": 0.3419503750721293, \"tpr\": 0.9291555079450098, \"n\": 8665}, {\"threshold\": 0.305, \"p\": 28005, \"fpr\": 0.34079630698211194, \"tpr\": 0.9291198000357079, \"n\": 8665}, {\"threshold\": 0.306, \"p\": 28005, \"fpr\": 0.34033467974610504, \"tpr\": 0.9290126763078022, \"n\": 8665}, {\"threshold\": 0.307, \"p\": 28005, \"fpr\": 0.33964223889209466, \"tpr\": 0.9287984288519907, \"n\": 8665}, {\"threshold\": 0.308, \"p\": 28005, \"fpr\": 0.33964223889209466, \"tpr\": 0.9286555972147831, \"n\": 8665}, {\"threshold\": 0.309, \"p\": 28005, \"fpr\": 0.33906520484708597, \"tpr\": 0.928298518121764, \"n\": 8665}, {\"threshold\": 0.31, \"p\": 28005, \"fpr\": 0.33860357761107907, \"tpr\": 0.9281556864845564, \"n\": 8665}, {\"threshold\": 0.311, \"p\": 28005, \"fpr\": 0.3380265435660704, \"tpr\": 0.9280842706659526, \"n\": 8665}, {\"threshold\": 0.312, \"p\": 28005, \"fpr\": 0.3376803231390652, \"tpr\": 0.927905731119443, \"n\": 8665}, {\"threshold\": 0.313, \"p\": 28005, \"fpr\": 0.33733410271206, \"tpr\": 0.9277271915729334, \"n\": 8665}, {\"threshold\": 0.314, \"p\": 28005, \"fpr\": 0.33698788228505483, \"tpr\": 0.9276200678450277, \"n\": 8665}, {\"threshold\": 0.315, \"p\": 28005, \"fpr\": 0.3368724754760531, \"tpr\": 0.9274415282985181, \"n\": 8665}, {\"threshold\": 0.316, \"p\": 28005, \"fpr\": 0.3368724754760531, \"tpr\": 0.9273344045706123, \"n\": 8665}, {\"threshold\": 0.317, \"p\": 28005, \"fpr\": 0.33629544143104445, \"tpr\": 0.9271558650241029, \"n\": 8665}, {\"threshold\": 0.318, \"p\": 28005, \"fpr\": 0.336064627813041, \"tpr\": 0.9269773254775933, \"n\": 8665}, {\"threshold\": 0.319, \"p\": 28005, \"fpr\": 0.33525678015002885, \"tpr\": 0.9267630780217818, \"n\": 8665}, {\"threshold\": 0.32, \"p\": 28005, \"fpr\": 0.33479515291402195, \"tpr\": 0.9266202463845742, \"n\": 8665}, {\"threshold\": 0.321, \"p\": 28005, \"fpr\": 0.33421811886901326, \"tpr\": 0.9265131226566684, \"n\": 8665}, {\"threshold\": 0.322, \"p\": 28005, \"fpr\": 0.3336410848240046, \"tpr\": 0.9264059989287627, \"n\": 8665}, {\"threshold\": 0.323, \"p\": 28005, \"fpr\": 0.3331794575879977, \"tpr\": 0.9262631672915551, \"n\": 8665}, {\"threshold\": 0.324, \"p\": 28005, \"fpr\": 0.332602423542989, \"tpr\": 0.9261917514729513, \"n\": 8665}, {\"threshold\": 0.325, \"p\": 28005, \"fpr\": 0.33225620311598386, \"tpr\": 0.9261917514729513, \"n\": 8665}, {\"threshold\": 0.326, \"p\": 28005, \"fpr\": 0.3320253894979804, \"tpr\": 0.9260846277450455, \"n\": 8665}, {\"threshold\": 0.327, \"p\": 28005, \"fpr\": 0.33133294864397, \"tpr\": 0.9258346723799321, \"n\": 8665}, {\"threshold\": 0.328, \"p\": 28005, \"fpr\": 0.3306405077899596, \"tpr\": 0.9257275486520264, \"n\": 8665}, {\"threshold\": 0.329, \"p\": 28005, \"fpr\": 0.32994806693594925, \"tpr\": 0.9256561328334226, \"n\": 8665}, {\"threshold\": 0.33, \"p\": 28005, \"fpr\": 0.3292556260819388, \"tpr\": 0.9254418853776112, \"n\": 8665}, {\"threshold\": 0.331, \"p\": 28005, \"fpr\": 0.3290248124639354, \"tpr\": 0.9254061774683092, \"n\": 8665}, {\"threshold\": 0.332, \"p\": 28005, \"fpr\": 0.32821696480092327, \"tpr\": 0.9253704695590074, \"n\": 8665}, {\"threshold\": 0.333, \"p\": 28005, \"fpr\": 0.3279861511829198, \"tpr\": 0.9252990537404036, \"n\": 8665}, {\"threshold\": 0.334, \"p\": 28005, \"fpr\": 0.3276399307559146, \"tpr\": 0.925084806284592, \"n\": 8665}, {\"threshold\": 0.335, \"p\": 28005, \"fpr\": 0.32706289671090594, \"tpr\": 0.9250133904659882, \"n\": 8665}, {\"threshold\": 0.336, \"p\": 28005, \"fpr\": 0.3262550490478938, \"tpr\": 0.9249062667380825, \"n\": 8665}, {\"threshold\": 0.337, \"p\": 28005, \"fpr\": 0.3254472013848817, \"tpr\": 0.9248348509194787, \"n\": 8665}, {\"threshold\": 0.338, \"p\": 28005, \"fpr\": 0.32487016733987306, \"tpr\": 0.9246920192822711, \"n\": 8665}, {\"threshold\": 0.339, \"p\": 28005, \"fpr\": 0.3244085401038661, \"tpr\": 0.9245134797357615, \"n\": 8665}, {\"threshold\": 0.34, \"p\": 28005, \"fpr\": 0.32406231967686094, \"tpr\": 0.9244420639171577, \"n\": 8665}, {\"threshold\": 0.341, \"p\": 28005, \"fpr\": 0.32336987882285056, \"tpr\": 0.92429923227995, \"n\": 8665}, {\"threshold\": 0.342, \"p\": 28005, \"fpr\": 0.32256203115983845, \"tpr\": 0.9241921085520443, \"n\": 8665}, {\"threshold\": 0.343, \"p\": 28005, \"fpr\": 0.32175418349682633, \"tpr\": 0.9240135690055348, \"n\": 8665}, {\"threshold\": 0.344, \"p\": 28005, \"fpr\": 0.32152336987882285, \"tpr\": 0.923870737368327, \"n\": 8665}, {\"threshold\": 0.345, \"p\": 28005, \"fpr\": 0.3212925562608194, \"tpr\": 0.9236921978218176, \"n\": 8665}, {\"threshold\": 0.346, \"p\": 28005, \"fpr\": 0.32117714945181763, \"tpr\": 0.9235850740939118, \"n\": 8665}, {\"threshold\": 0.347, \"p\": 28005, \"fpr\": 0.32106174264281595, \"tpr\": 0.9234422424567041, \"n\": 8665}, {\"threshold\": 0.348, \"p\": 28005, \"fpr\": 0.3209463358338142, \"tpr\": 0.9232637029101947, \"n\": 8665}, {\"threshold\": 0.349, \"p\": 28005, \"fpr\": 0.3201384881708021, \"tpr\": 0.9231922870915907, \"n\": 8665}, {\"threshold\": 0.35, \"p\": 28005, \"fpr\": 0.31967686093479514, \"tpr\": 0.9231208712729869, \"n\": 8665}, {\"threshold\": 0.351, \"p\": 28005, \"fpr\": 0.31933064050779, \"tpr\": 0.9230137475450813, \"n\": 8665}, {\"threshold\": 0.352, \"p\": 28005, \"fpr\": 0.318869013271783, \"tpr\": 0.9229066238171755, \"n\": 8665}, {\"threshold\": 0.353, \"p\": 28005, \"fpr\": 0.3182919792267744, \"tpr\": 0.9226209605427602, \"n\": 8665}, {\"threshold\": 0.354, \"p\": 28005, \"fpr\": 0.31817657241777264, \"tpr\": 0.9224424209962506, \"n\": 8665}, {\"threshold\": 0.355, \"p\": 28005, \"fpr\": 0.3172533179457588, \"tpr\": 0.922299589359043, \"n\": 8665}, {\"threshold\": 0.356, \"p\": 28005, \"fpr\": 0.3167916907097519, \"tpr\": 0.9220496339939297, \"n\": 8665}, {\"threshold\": 0.357, \"p\": 28005, \"fpr\": 0.31667628390075014, \"tpr\": 0.9218353865381181, \"n\": 8665}, {\"threshold\": 0.358, \"p\": 28005, \"fpr\": 0.3163300634737449, \"tpr\": 0.9216568469916087, \"n\": 8665}, {\"threshold\": 0.359, \"p\": 28005, \"fpr\": 0.31598384304673977, \"tpr\": 0.9215497232637029, \"n\": 8665}, {\"threshold\": 0.36, \"p\": 28005, \"fpr\": 0.3155222158107328, \"tpr\": 0.9214425995357972, \"n\": 8665}, {\"threshold\": 0.361, \"p\": 28005, \"fpr\": 0.31517599538372765, \"tpr\": 0.9212640599892876, \"n\": 8665}, {\"threshold\": 0.362, \"p\": 28005, \"fpr\": 0.31448355452971727, \"tpr\": 0.9211569362613818, \"n\": 8665}, {\"threshold\": 0.363, \"p\": 28005, \"fpr\": 0.31367570686670515, \"tpr\": 0.9210141046241742, \"n\": 8665}, {\"threshold\": 0.364, \"p\": 28005, \"fpr\": 0.3134448932487017, \"tpr\": 0.9208712729869666, \"n\": 8665}, {\"threshold\": 0.365, \"p\": 28005, \"fpr\": 0.31286785920369303, \"tpr\": 0.9206927334404571, \"n\": 8665}, {\"threshold\": 0.366, \"p\": 28005, \"fpr\": 0.3127524523946913, \"tpr\": 0.9204070701660417, \"n\": 8665}, {\"threshold\": 0.367, \"p\": 28005, \"fpr\": 0.3124062319676861, \"tpr\": 0.9202999464381361, \"n\": 8665}, {\"threshold\": 0.368, \"p\": 28005, \"fpr\": 0.3120600115406809, \"tpr\": 0.9200142831637208, \"n\": 8665}, {\"threshold\": 0.369, \"p\": 28005, \"fpr\": 0.31136757068667054, \"tpr\": 0.9197286198893054, \"n\": 8665}, {\"threshold\": 0.37, \"p\": 28005, \"fpr\": 0.3109059434506636, \"tpr\": 0.9193715407962864, \"n\": 8665}, {\"threshold\": 0.371, \"p\": 28005, \"fpr\": 0.3106751298326601, \"tpr\": 0.9190144617032673, \"n\": 8665}, {\"threshold\": 0.372, \"p\": 28005, \"fpr\": 0.3105597230236584, \"tpr\": 0.9188716300660597, \"n\": 8665}, {\"threshold\": 0.373, \"p\": 28005, \"fpr\": 0.3102135025966532, \"tpr\": 0.9188359221567577, \"n\": 8665}, {\"threshold\": 0.374, \"p\": 28005, \"fpr\": 0.3099826889786497, \"tpr\": 0.9186573826102482, \"n\": 8665}, {\"threshold\": 0.375, \"p\": 28005, \"fpr\": 0.3094056549336411, \"tpr\": 0.9185859667916444, \"n\": 8665}, {\"threshold\": 0.376, \"p\": 28005, \"fpr\": 0.3089440276976342, \"tpr\": 0.9185145509730406, \"n\": 8665}, {\"threshold\": 0.377, \"p\": 28005, \"fpr\": 0.30859780727062897, \"tpr\": 0.9184074272451348, \"n\": 8665}, {\"threshold\": 0.378, \"p\": 28005, \"fpr\": 0.3084824004616272, \"tpr\": 0.9182645956079272, \"n\": 8665}, {\"threshold\": 0.379, \"p\": 28005, \"fpr\": 0.3083669936526255, \"tpr\": 0.9181217639707195, \"n\": 8665}, {\"threshold\": 0.38, \"p\": 28005, \"fpr\": 0.30813618003462206, \"tpr\": 0.9180146402428138, \"n\": 8665}, {\"threshold\": 0.381, \"p\": 28005, \"fpr\": 0.30709751875360647, \"tpr\": 0.9176932690590965, \"n\": 8665}, {\"threshold\": 0.382, \"p\": 28005, \"fpr\": 0.3066358915175995, \"tpr\": 0.9175861453311909, \"n\": 8665}, {\"threshold\": 0.383, \"p\": 28005, \"fpr\": 0.3061742642815926, \"tpr\": 0.9174433136939832, \"n\": 8665}, {\"threshold\": 0.384, \"p\": 28005, \"fpr\": 0.30559723023658397, \"tpr\": 0.9173004820567756, \"n\": 8665}, {\"threshold\": 0.385, \"p\": 28005, \"fpr\": 0.30525100980957875, \"tpr\": 0.9172290662381718, \"n\": 8665}, {\"threshold\": 0.386, \"p\": 28005, \"fpr\": 0.305135603000577, \"tpr\": 0.9170505266916622, \"n\": 8665}, {\"threshold\": 0.387, \"p\": 28005, \"fpr\": 0.3046739757645701, \"tpr\": 0.9168362792358508, \"n\": 8665}, {\"threshold\": 0.388, \"p\": 28005, \"fpr\": 0.3040969417195615, \"tpr\": 0.9166577396893412, \"n\": 8665}, {\"threshold\": 0.389, \"p\": 28005, \"fpr\": 0.30375072129255626, \"tpr\": 0.9165506159614355, \"n\": 8665}, {\"threshold\": 0.39, \"p\": 28005, \"fpr\": 0.30328909405654936, \"tpr\": 0.9164077843242279, \"n\": 8665}, {\"threshold\": 0.391, \"p\": 28005, \"fpr\": 0.30294287362954414, \"tpr\": 0.9162292447777183, \"n\": 8665}, {\"threshold\": 0.392, \"p\": 28005, \"fpr\": 0.30294287362954414, \"tpr\": 0.915943581503303, \"n\": 8665}, {\"threshold\": 0.393, \"p\": 28005, \"fpr\": 0.3023658395845355, \"tpr\": 0.9156579182288876, \"n\": 8665}, {\"threshold\": 0.394, \"p\": 28005, \"fpr\": 0.30225043277553376, \"tpr\": 0.915550794500982, \"n\": 8665}, {\"threshold\": 0.395, \"p\": 28005, \"fpr\": 0.30225043277553376, \"tpr\": 0.9153722549544724, \"n\": 8665}, {\"threshold\": 0.396, \"p\": 28005, \"fpr\": 0.3020196191575303, \"tpr\": 0.9153008391358686, \"n\": 8665}, {\"threshold\": 0.397, \"p\": 28005, \"fpr\": 0.3016733987305251, \"tpr\": 0.9150508837707553, \"n\": 8665}, {\"threshold\": 0.398, \"p\": 28005, \"fpr\": 0.3015579919215234, \"tpr\": 0.9149437600428495, \"n\": 8665}, {\"threshold\": 0.399, \"p\": 28005, \"fpr\": 0.30121177149451817, \"tpr\": 0.9147652204963399, \"n\": 8665}, {\"threshold\": 0.4, \"p\": 28005, \"fpr\": 0.30075014425851126, \"tpr\": 0.9146580967684342, \"n\": 8665}, {\"threshold\": 0.401, \"p\": 28005, \"fpr\": 0.3000577034045009, \"tpr\": 0.9145152651312266, \"n\": 8665}, {\"threshold\": 0.402, \"p\": 28005, \"fpr\": 0.2998268897864974, \"tpr\": 0.914372433494019, \"n\": 8665}, {\"threshold\": 0.403, \"p\": 28005, \"fpr\": 0.2994806693594922, \"tpr\": 0.9142296018568112, \"n\": 8665}, {\"threshold\": 0.404, \"p\": 28005, \"fpr\": 0.29924985574148877, \"tpr\": 0.9140510623103018, \"n\": 8665}, {\"threshold\": 0.405, \"p\": 28005, \"fpr\": 0.29890363531448355, \"tpr\": 0.913943938582396, \"n\": 8665}, {\"threshold\": 0.406, \"p\": 28005, \"fpr\": 0.2982111944604732, \"tpr\": 0.9138368148544903, \"n\": 8665}, {\"threshold\": 0.407, \"p\": 28005, \"fpr\": 0.2977495672244662, \"tpr\": 0.9136582753079807, \"n\": 8665}, {\"threshold\": 0.408, \"p\": 28005, \"fpr\": 0.2972879399884593, \"tpr\": 0.9135154436707731, \"n\": 8665}, {\"threshold\": 0.409, \"p\": 28005, \"fpr\": 0.2969417195614541, \"tpr\": 0.9134083199428673, \"n\": 8665}, {\"threshold\": 0.41, \"p\": 28005, \"fpr\": 0.29636468551644546, \"tpr\": 0.9133369041242635, \"n\": 8665}, {\"threshold\": 0.411, \"p\": 28005, \"fpr\": 0.2962492787074437, \"tpr\": 0.9131940724870559, \"n\": 8665}, {\"threshold\": 0.412, \"p\": 28005, \"fpr\": 0.29590305828043856, \"tpr\": 0.9129798250312444, \"n\": 8665}, {\"threshold\": 0.413, \"p\": 28005, \"fpr\": 0.2953260242354299, \"tpr\": 0.9128369933940368, \"n\": 8665}, {\"threshold\": 0.414, \"p\": 28005, \"fpr\": 0.29486439699942296, \"tpr\": 0.9126227459382253, \"n\": 8665}, {\"threshold\": 0.415, \"p\": 28005, \"fpr\": 0.29440276976341606, \"tpr\": 0.9124442063917158, \"n\": 8665}, {\"threshold\": 0.416, \"p\": 28005, \"fpr\": 0.2942873629544143, \"tpr\": 0.9123727905731119, \"n\": 8665}, {\"threshold\": 0.417, \"p\": 28005, \"fpr\": 0.2939411425274091, \"tpr\": 0.9121228352079985, \"n\": 8665}, {\"threshold\": 0.418, \"p\": 28005, \"fpr\": 0.2934795152914022, \"tpr\": 0.9120514193893947, \"n\": 8665}, {\"threshold\": 0.419, \"p\": 28005, \"fpr\": 0.29290248124639356, \"tpr\": 0.9119800035707909, \"n\": 8665}, {\"threshold\": 0.42, \"p\": 28005, \"fpr\": 0.2926716676283901, \"tpr\": 0.9119085877521871, \"n\": 8665}, {\"threshold\": 0.421, \"p\": 28005, \"fpr\": 0.29221004039238313, \"tpr\": 0.9117300482056776, \"n\": 8665}, {\"threshold\": 0.422, \"p\": 28005, \"fpr\": 0.29186381996537797, \"tpr\": 0.911551508659168, \"n\": 8665}, {\"threshold\": 0.423, \"p\": 28005, \"fpr\": 0.291402192729371, \"tpr\": 0.9114800928405642, \"n\": 8665}, {\"threshold\": 0.424, \"p\": 28005, \"fpr\": 0.2909405654933641, \"tpr\": 0.9113015532940546, \"n\": 8665}, {\"threshold\": 0.425, \"p\": 28005, \"fpr\": 0.29024812463935373, \"tpr\": 0.9112301374754508, \"n\": 8665}, {\"threshold\": 0.426, \"p\": 28005, \"fpr\": 0.2897864974033468, \"tpr\": 0.9110158900196393, \"n\": 8665}, {\"threshold\": 0.427, \"p\": 28005, \"fpr\": 0.2894402769763416, \"tpr\": 0.9109444742010355, \"n\": 8665}, {\"threshold\": 0.428, \"p\": 28005, \"fpr\": 0.288863242931333, \"tpr\": 0.9107659346545259, \"n\": 8665}, {\"threshold\": 0.429, \"p\": 28005, \"fpr\": 0.288401615695326, \"tpr\": 0.9105516871987145, \"n\": 8665}, {\"threshold\": 0.43, \"p\": 28005, \"fpr\": 0.2879399884593191, \"tpr\": 0.9104088555615069, \"n\": 8665}, {\"threshold\": 0.431, \"p\": 28005, \"fpr\": 0.28770917484131564, \"tpr\": 0.9101946081056954, \"n\": 8665}, {\"threshold\": 0.432, \"p\": 28005, \"fpr\": 0.28747836122331216, \"tpr\": 0.9100517764684878, \"n\": 8665}, {\"threshold\": 0.433, \"p\": 28005, \"fpr\": 0.2869013271783035, \"tpr\": 0.9098375290126763, \"n\": 8665}, {\"threshold\": 0.434, \"p\": 28005, \"fpr\": 0.2865551067512983, \"tpr\": 0.9096589894661667, \"n\": 8665}, {\"threshold\": 0.435, \"p\": 28005, \"fpr\": 0.28620888632429314, \"tpr\": 0.9095518657382611, \"n\": 8665}, {\"threshold\": 0.436, \"p\": 28005, \"fpr\": 0.2856318522792845, \"tpr\": 0.9094447420103553, \"n\": 8665}, {\"threshold\": 0.437, \"p\": 28005, \"fpr\": 0.2852856318522793, \"tpr\": 0.9092662024638457, \"n\": 8665}, {\"threshold\": 0.438, \"p\": 28005, \"fpr\": 0.2845931909982689, \"tpr\": 0.9091233708266381, \"n\": 8665}, {\"threshold\": 0.439, \"p\": 28005, \"fpr\": 0.2842469705712637, \"tpr\": 0.9089091233708266, \"n\": 8665}, {\"threshold\": 0.44, \"p\": 28005, \"fpr\": 0.28413156376226195, \"tpr\": 0.908730583824317, \"n\": 8665}, {\"threshold\": 0.441, \"p\": 28005, \"fpr\": 0.2837853433352568, \"tpr\": 0.9085877521871094, \"n\": 8665}, {\"threshold\": 0.442, \"p\": 28005, \"fpr\": 0.2830929024812464, \"tpr\": 0.9084092126405999, \"n\": 8665}, {\"threshold\": 0.443, \"p\": 28005, \"fpr\": 0.2825158684362377, \"tpr\": 0.9082306730940903, \"n\": 8665}, {\"threshold\": 0.444, \"p\": 28005, \"fpr\": 0.28216964800923255, \"tpr\": 0.9080521335475807, \"n\": 8665}, {\"threshold\": 0.445, \"p\": 28005, \"fpr\": 0.2819388343912291, \"tpr\": 0.9078378860917693, \"n\": 8665}, {\"threshold\": 0.446, \"p\": 28005, \"fpr\": 0.2815926139642239, \"tpr\": 0.9076236386359579, \"n\": 8665}, {\"threshold\": 0.447, \"p\": 28005, \"fpr\": 0.28113098672821696, \"tpr\": 0.9075165149080522, \"n\": 8665}, {\"threshold\": 0.448, \"p\": 28005, \"fpr\": 0.2807847663012118, \"tpr\": 0.9073022674522406, \"n\": 8665}, {\"threshold\": 0.449, \"p\": 28005, \"fpr\": 0.2805539526832083, \"tpr\": 0.9071237279057311, \"n\": 8665}, {\"threshold\": 0.45, \"p\": 28005, \"fpr\": 0.2802077322562031, \"tpr\": 0.9070880199964292, \"n\": 8665}, {\"threshold\": 0.451, \"p\": 28005, \"fpr\": 0.27963069821119446, \"tpr\": 0.9069451883592216, \"n\": 8665}, {\"threshold\": 0.452, \"p\": 28005, \"fpr\": 0.2790536641661858, \"tpr\": 0.9066595250848063, \"n\": 8665}, {\"threshold\": 0.453, \"p\": 28005, \"fpr\": 0.27882285054818234, \"tpr\": 0.9065166934475987, \"n\": 8665}, {\"threshold\": 0.454, \"p\": 28005, \"fpr\": 0.2782458165031737, \"tpr\": 0.906373861810391, \"n\": 8665}, {\"threshold\": 0.455, \"p\": 28005, \"fpr\": 0.277668782458165, \"tpr\": 0.9063024459917872, \"n\": 8665}, {\"threshold\": 0.456, \"p\": 28005, \"fpr\": 0.2772071552221581, \"tpr\": 0.9061953222638814, \"n\": 8665}, {\"threshold\": 0.457, \"p\": 28005, \"fpr\": 0.27663012117714947, \"tpr\": 0.9059096589894662, \"n\": 8665}, {\"threshold\": 0.458, \"p\": 28005, \"fpr\": 0.276399307559146, \"tpr\": 0.9058382431708624, \"n\": 8665}, {\"threshold\": 0.459, \"p\": 28005, \"fpr\": 0.2761684939411425, \"tpr\": 0.9057668273522586, \"n\": 8665}, {\"threshold\": 0.46, \"p\": 28005, \"fpr\": 0.2759376803231391, \"tpr\": 0.9057311194429566, \"n\": 8665}, {\"threshold\": 0.461, \"p\": 28005, \"fpr\": 0.2757068667051356, \"tpr\": 0.9054811640778433, \"n\": 8665}, {\"threshold\": 0.462, \"p\": 28005, \"fpr\": 0.2753606462781304, \"tpr\": 0.9051597928941261, \"n\": 8665}, {\"threshold\": 0.463, \"p\": 28005, \"fpr\": 0.27512983266012697, \"tpr\": 0.9050526691662203, \"n\": 8665}, {\"threshold\": 0.464, \"p\": 28005, \"fpr\": 0.27478361223312175, \"tpr\": 0.904767005891805, \"n\": 8665}, {\"threshold\": 0.465, \"p\": 28005, \"fpr\": 0.27443739180611654, \"tpr\": 0.9045170505266916, \"n\": 8665}, {\"threshold\": 0.466, \"p\": 28005, \"fpr\": 0.273398730525101, \"tpr\": 0.9044456347080878, \"n\": 8665}, {\"threshold\": 0.467, \"p\": 28005, \"fpr\": 0.2728216964800923, \"tpr\": 0.9043385109801821, \"n\": 8665}, {\"threshold\": 0.468, \"p\": 28005, \"fpr\": 0.2727062896710906, \"tpr\": 0.9041956793429745, \"n\": 8665}, {\"threshold\": 0.469, \"p\": 28005, \"fpr\": 0.2723600692440854, \"tpr\": 0.9040171397964649, \"n\": 8665}, {\"threshold\": 0.47, \"p\": 28005, \"fpr\": 0.2715522215810733, \"tpr\": 0.9038386002499553, \"n\": 8665}, {\"threshold\": 0.471, \"p\": 28005, \"fpr\": 0.2710905943450664, \"tpr\": 0.9037671844313515, \"n\": 8665}, {\"threshold\": 0.472, \"p\": 28005, \"fpr\": 0.27074437391806117, \"tpr\": 0.9036243527941439, \"n\": 8665}, {\"threshold\": 0.473, \"p\": 28005, \"fpr\": 0.27028274668205426, \"tpr\": 0.9035172290662382, \"n\": 8665}, {\"threshold\": 0.474, \"p\": 28005, \"fpr\": 0.2698211194460473, \"tpr\": 0.9033743974290306, \"n\": 8665}, {\"threshold\": 0.475, \"p\": 28005, \"fpr\": 0.26959030582804383, \"tpr\": 0.9033743974290306, \"n\": 8665}, {\"threshold\": 0.476, \"p\": 28005, \"fpr\": 0.2693594922100404, \"tpr\": 0.9033029816104267, \"n\": 8665}, {\"threshold\": 0.477, \"p\": 28005, \"fpr\": 0.2690132717830352, \"tpr\": 0.903160149973219, \"n\": 8665}, {\"threshold\": 0.478, \"p\": 28005, \"fpr\": 0.26843623773802655, \"tpr\": 0.9029459025174076, \"n\": 8665}, {\"threshold\": 0.479, \"p\": 28005, \"fpr\": 0.26809001731102133, \"tpr\": 0.9026959471522943, \"n\": 8665}, {\"threshold\": 0.48, \"p\": 28005, \"fpr\": 0.2678592036930179, \"tpr\": 0.9024459917871809, \"n\": 8665}, {\"threshold\": 0.481, \"p\": 28005, \"fpr\": 0.2678592036930179, \"tpr\": 0.9023031601499732, \"n\": 8665}, {\"threshold\": 0.482, \"p\": 28005, \"fpr\": 0.26774379688401617, \"tpr\": 0.9019460810569541, \"n\": 8665}, {\"threshold\": 0.483, \"p\": 28005, \"fpr\": 0.26762839007501443, \"tpr\": 0.9018032494197464, \"n\": 8665}, {\"threshold\": 0.484, \"p\": 28005, \"fpr\": 0.2672821696480092, \"tpr\": 0.9016604177825388, \"n\": 8665}, {\"threshold\": 0.485, \"p\": 28005, \"fpr\": 0.26658972879399884, \"tpr\": 0.9014104624174255, \"n\": 8665}, {\"threshold\": 0.486, \"p\": 28005, \"fpr\": 0.2660126947489902, \"tpr\": 0.9013390465988217, \"n\": 8665}, {\"threshold\": 0.487, \"p\": 28005, \"fpr\": 0.265666474321985, \"tpr\": 0.9012319228709159, \"n\": 8665}, {\"threshold\": 0.488, \"p\": 28005, \"fpr\": 0.2652048470859781, \"tpr\": 0.9011247991430101, \"n\": 8665}, {\"threshold\": 0.489, \"p\": 28005, \"fpr\": 0.26485862665897286, \"tpr\": 0.9008391358685949, \"n\": 8665}, {\"threshold\": 0.49, \"p\": 28005, \"fpr\": 0.26439699942296596, \"tpr\": 0.9007320121406892, \"n\": 8665}, {\"threshold\": 0.491, \"p\": 28005, \"fpr\": 0.2638199653779573, \"tpr\": 0.9006248884127834, \"n\": 8665}, {\"threshold\": 0.492, \"p\": 28005, \"fpr\": 0.2627813040969417, \"tpr\": 0.9004463488662738, \"n\": 8665}, {\"threshold\": 0.493, \"p\": 28005, \"fpr\": 0.26255049047893825, \"tpr\": 0.9001249776825567, \"n\": 8665}, {\"threshold\": 0.494, \"p\": 28005, \"fpr\": 0.2619734564339296, \"tpr\": 0.9000535618639529, \"n\": 8665}, {\"threshold\": 0.495, \"p\": 28005, \"fpr\": 0.26139642238892097, \"tpr\": 0.8999464381360471, \"n\": 8665}, {\"threshold\": 0.496, \"p\": 28005, \"fpr\": 0.2611656087709175, \"tpr\": 0.8996250669523299, \"n\": 8665}, {\"threshold\": 0.497, \"p\": 28005, \"fpr\": 0.2608193883439123, \"tpr\": 0.8994822353151223, \"n\": 8665}, {\"threshold\": 0.498, \"p\": 28005, \"fpr\": 0.26035776110790537, \"tpr\": 0.8993036957686128, \"n\": 8665}, {\"threshold\": 0.499, \"p\": 28005, \"fpr\": 0.26024235429890363, \"tpr\": 0.8990537404034994, \"n\": 8665}, {\"threshold\": 0.5, \"p\": 28005, \"fpr\": 0.25978072706289673, \"tpr\": 0.8989109087662918, \"n\": 8665}, {\"threshold\": 0.501, \"p\": 28005, \"fpr\": 0.2594345066358915, \"tpr\": 0.8988752008569898, \"n\": 8665}, {\"threshold\": 0.502, \"p\": 28005, \"fpr\": 0.2589728793998846, \"tpr\": 0.8987323692197822, \"n\": 8665}, {\"threshold\": 0.503, \"p\": 28005, \"fpr\": 0.2583958453548759, \"tpr\": 0.8985895375825745, \"n\": 8665}, {\"threshold\": 0.504, \"p\": 28005, \"fpr\": 0.2581650317368725, \"tpr\": 0.8984824138546688, \"n\": 8665}, {\"threshold\": 0.505, \"p\": 28005, \"fpr\": 0.25747259088286206, \"tpr\": 0.8983038743081593, \"n\": 8665}, {\"threshold\": 0.506, \"p\": 28005, \"fpr\": 0.25724177726485864, \"tpr\": 0.8981967505802535, \"n\": 8665}, {\"threshold\": 0.507, \"p\": 28005, \"fpr\": 0.25666474321984994, \"tpr\": 0.8979467952151402, \"n\": 8665}, {\"threshold\": 0.508, \"p\": 28005, \"fpr\": 0.25620311598384304, \"tpr\": 0.8978039635779325, \"n\": 8665}, {\"threshold\": 0.509, \"p\": 28005, \"fpr\": 0.2558568955568378, \"tpr\": 0.8976968398500268, \"n\": 8665}, {\"threshold\": 0.51, \"p\": 28005, \"fpr\": 0.25551067512983267, \"tpr\": 0.8976968398500268, \"n\": 8665}, {\"threshold\": 0.511, \"p\": 28005, \"fpr\": 0.25516445470282745, \"tpr\": 0.8973397607570077, \"n\": 8665}, {\"threshold\": 0.512, \"p\": 28005, \"fpr\": 0.25470282746682055, \"tpr\": 0.8971612212104981, \"n\": 8665}, {\"threshold\": 0.513, \"p\": 28005, \"fpr\": 0.2542412002308136, \"tpr\": 0.8970540974825923, \"n\": 8665}, {\"threshold\": 0.514, \"p\": 28005, \"fpr\": 0.2537795729948067, \"tpr\": 0.8969469737546867, \"n\": 8665}, {\"threshold\": 0.515, \"p\": 28005, \"fpr\": 0.25366416618580495, \"tpr\": 0.8967684342081771, \"n\": 8665}, {\"threshold\": 0.516, \"p\": 28005, \"fpr\": 0.2529717253317946, \"tpr\": 0.8965541867523656, \"n\": 8665}, {\"threshold\": 0.517, \"p\": 28005, \"fpr\": 0.25251009809578767, \"tpr\": 0.8963042313872522, \"n\": 8665}, {\"threshold\": 0.518, \"p\": 28005, \"fpr\": 0.25216387766878245, \"tpr\": 0.8960899839314408, \"n\": 8665}, {\"threshold\": 0.519, \"p\": 28005, \"fpr\": 0.2514714368147721, \"tpr\": 0.8957686127477236, \"n\": 8665}, {\"threshold\": 0.52, \"p\": 28005, \"fpr\": 0.2512406231967686, \"tpr\": 0.8956257811105159, \"n\": 8665}, {\"threshold\": 0.521, \"p\": 28005, \"fpr\": 0.2507789959607617, \"tpr\": 0.8953758257454026, \"n\": 8665}, {\"threshold\": 0.522, \"p\": 28005, \"fpr\": 0.2505481823427582, \"tpr\": 0.895232994108195, \"n\": 8665}, {\"threshold\": 0.523, \"p\": 28005, \"fpr\": 0.25031736872475474, \"tpr\": 0.895197286198893, \"n\": 8665}, {\"threshold\": 0.524, \"p\": 28005, \"fpr\": 0.24985574148874784, \"tpr\": 0.8949473308337796, \"n\": 8665}, {\"threshold\": 0.525, \"p\": 28005, \"fpr\": 0.24950952106174265, \"tpr\": 0.894804499196572, \"n\": 8665}, {\"threshold\": 0.526, \"p\": 28005, \"fpr\": 0.2493941142527409, \"tpr\": 0.8947330833779682, \"n\": 8665}, {\"threshold\": 0.527, \"p\": 28005, \"fpr\": 0.24916330063473746, \"tpr\": 0.8946259596500625, \"n\": 8665}, {\"threshold\": 0.528, \"p\": 28005, \"fpr\": 0.24835545297172534, \"tpr\": 0.8944474201035529, \"n\": 8665}, {\"threshold\": 0.529, \"p\": 28005, \"fpr\": 0.24789382573571841, \"tpr\": 0.8942688805570433, \"n\": 8665}, {\"threshold\": 0.53, \"p\": 28005, \"fpr\": 0.24754760530871323, \"tpr\": 0.8941617568291377, \"n\": 8665}, {\"threshold\": 0.531, \"p\": 28005, \"fpr\": 0.247201384881708, \"tpr\": 0.8940903410105339, \"n\": 8665}, {\"threshold\": 0.532, \"p\": 28005, \"fpr\": 0.247201384881708, \"tpr\": 0.89401892519193, \"n\": 8665}, {\"threshold\": 0.533, \"p\": 28005, \"fpr\": 0.24685516445470282, \"tpr\": 0.8938046777361186, \"n\": 8665}, {\"threshold\": 0.534, \"p\": 28005, \"fpr\": 0.2463935372186959, \"tpr\": 0.8937332619175147, \"n\": 8665}, {\"threshold\": 0.535, \"p\": 28005, \"fpr\": 0.2460473167916907, \"tpr\": 0.8935547223710052, \"n\": 8665}, {\"threshold\": 0.536, \"p\": 28005, \"fpr\": 0.24523946912867858, \"tpr\": 0.8933761828244956, \"n\": 8665}, {\"threshold\": 0.537, \"p\": 28005, \"fpr\": 0.24477784189267165, \"tpr\": 0.8933047670058918, \"n\": 8665}, {\"threshold\": 0.538, \"p\": 28005, \"fpr\": 0.24431621465666475, \"tpr\": 0.8931976432779861, \"n\": 8665}, {\"threshold\": 0.539, \"p\": 28005, \"fpr\": 0.24408540103866128, \"tpr\": 0.8930191037314765, \"n\": 8665}, {\"threshold\": 0.54, \"p\": 28005, \"fpr\": 0.24350836699365264, \"tpr\": 0.8928405641849669, \"n\": 8665}, {\"threshold\": 0.541, \"p\": 28005, \"fpr\": 0.24293133294864397, \"tpr\": 0.8927334404570613, \"n\": 8665}, {\"threshold\": 0.542, \"p\": 28005, \"fpr\": 0.2423542989036353, \"tpr\": 0.8925549009105517, \"n\": 8665}, {\"threshold\": 0.543, \"p\": 28005, \"fpr\": 0.24177726485862666, \"tpr\": 0.892447777182646, \"n\": 8665}, {\"threshold\": 0.544, \"p\": 28005, \"fpr\": 0.24154645124062318, \"tpr\": 0.8920906980896268, \"n\": 8665}, {\"threshold\": 0.545, \"p\": 28005, \"fpr\": 0.24096941719561454, \"tpr\": 0.8919835743617212, \"n\": 8665}, {\"threshold\": 0.546, \"p\": 28005, \"fpr\": 0.24050778995960762, \"tpr\": 0.8916622031780039, \"n\": 8665}, {\"threshold\": 0.547, \"p\": 28005, \"fpr\": 0.23981534910559724, \"tpr\": 0.891233708266381, \"n\": 8665}, {\"threshold\": 0.548, \"p\": 28005, \"fpr\": 0.23889209463358338, \"tpr\": 0.8909837529012676, \"n\": 8665}, {\"threshold\": 0.549, \"p\": 28005, \"fpr\": 0.23866128101557993, \"tpr\": 0.89084092126406, \"n\": 8665}, {\"threshold\": 0.55, \"p\": 28005, \"fpr\": 0.2378534333525678, \"tpr\": 0.890805213354758, \"n\": 8665}, {\"threshold\": 0.551, \"p\": 28005, \"fpr\": 0.2371609924985574, \"tpr\": 0.8906623817175504, \"n\": 8665}, {\"threshold\": 0.552, \"p\": 28005, \"fpr\": 0.23658395845354876, \"tpr\": 0.8905909658989466, \"n\": 8665}, {\"threshold\": 0.553, \"p\": 28005, \"fpr\": 0.2363531448355453, \"tpr\": 0.8903410105338333, \"n\": 8665}, {\"threshold\": 0.554, \"p\": 28005, \"fpr\": 0.2356607039815349, \"tpr\": 0.8902695947152294, \"n\": 8665}, {\"threshold\": 0.555, \"p\": 28005, \"fpr\": 0.23519907674552798, \"tpr\": 0.8900196393501161, \"n\": 8665}, {\"threshold\": 0.556, \"p\": 28005, \"fpr\": 0.2348528563185228, \"tpr\": 0.8899839314408141, \"n\": 8665}, {\"threshold\": 0.557, \"p\": 28005, \"fpr\": 0.23473744950952105, \"tpr\": 0.8899125156222103, \"n\": 8665}, {\"threshold\": 0.558, \"p\": 28005, \"fpr\": 0.23439122908251586, \"tpr\": 0.8897339760757008, \"n\": 8665}, {\"threshold\": 0.559, \"p\": 28005, \"fpr\": 0.23404500865551067, \"tpr\": 0.8894840207105874, \"n\": 8665}, {\"threshold\": 0.56, \"p\": 28005, \"fpr\": 0.23346797461050203, \"tpr\": 0.8893411890733798, \"n\": 8665}, {\"threshold\": 0.561, \"p\": 28005, \"fpr\": 0.23312175418349682, \"tpr\": 0.8891626495268702, \"n\": 8665}, {\"threshold\": 0.562, \"p\": 28005, \"fpr\": 0.23254472013848818, \"tpr\": 0.8889841099803607, \"n\": 8665}, {\"threshold\": 0.563, \"p\": 28005, \"fpr\": 0.23208309290248125, \"tpr\": 0.888841278343153, \"n\": 8665}, {\"threshold\": 0.564, \"p\": 28005, \"fpr\": 0.2318522792844778, \"tpr\": 0.8887341546152473, \"n\": 8665}, {\"threshold\": 0.565, \"p\": 28005, \"fpr\": 0.23173687247547606, \"tpr\": 0.8886627387966435, \"n\": 8665}, {\"threshold\": 0.566, \"p\": 28005, \"fpr\": 0.23139065204847087, \"tpr\": 0.8885913229780397, \"n\": 8665}, {\"threshold\": 0.567, \"p\": 28005, \"fpr\": 0.23092902481246394, \"tpr\": 0.8881985359757186, \"n\": 8665}, {\"threshold\": 0.568, \"p\": 28005, \"fpr\": 0.230467397576457, \"tpr\": 0.8880914122478129, \"n\": 8665}, {\"threshold\": 0.569, \"p\": 28005, \"fpr\": 0.23012117714945182, \"tpr\": 0.8879128727013034, \"n\": 8665}, {\"threshold\": 0.57, \"p\": 28005, \"fpr\": 0.23000577034045008, \"tpr\": 0.8876986252454919, \"n\": 8665}, {\"threshold\": 0.571, \"p\": 28005, \"fpr\": 0.22977495672244663, \"tpr\": 0.8875200856989823, \"n\": 8665}, {\"threshold\": 0.572, \"p\": 28005, \"fpr\": 0.22919792267743797, \"tpr\": 0.8872701303338689, \"n\": 8665}, {\"threshold\": 0.573, \"p\": 28005, \"fpr\": 0.22885170225043278, \"tpr\": 0.8871272986966613, \"n\": 8665}, {\"threshold\": 0.574, \"p\": 28005, \"fpr\": 0.22873629544143104, \"tpr\": 0.8870558828780575, \"n\": 8665}, {\"threshold\": 0.575, \"p\": 28005, \"fpr\": 0.22804385458742066, \"tpr\": 0.886841635422246, \"n\": 8665}, {\"threshold\": 0.576, \"p\": 28005, \"fpr\": 0.22758222735141373, \"tpr\": 0.8865916800571326, \"n\": 8665}, {\"threshold\": 0.577, \"p\": 28005, \"fpr\": 0.22723600692440854, \"tpr\": 0.8863774326013212, \"n\": 8665}, {\"threshold\": 0.578, \"p\": 28005, \"fpr\": 0.22688978649740335, \"tpr\": 0.8862703088734155, \"n\": 8665}, {\"threshold\": 0.579, \"p\": 28005, \"fpr\": 0.22654356607039816, \"tpr\": 0.8859132297803963, \"n\": 8665}, {\"threshold\": 0.58, \"p\": 28005, \"fpr\": 0.22642815926139642, \"tpr\": 0.8855918585966792, \"n\": 8665}, {\"threshold\": 0.581, \"p\": 28005, \"fpr\": 0.22608193883439123, \"tpr\": 0.8854133190501696, \"n\": 8665}, {\"threshold\": 0.582, \"p\": 28005, \"fpr\": 0.2256203115983843, \"tpr\": 0.8850205320478486, \"n\": 8665}, {\"threshold\": 0.583, \"p\": 28005, \"fpr\": 0.22550490478938257, \"tpr\": 0.8846991608641314, \"n\": 8665}, {\"threshold\": 0.584, \"p\": 28005, \"fpr\": 0.22515868436237738, \"tpr\": 0.8845206213176219, \"n\": 8665}, {\"threshold\": 0.585, \"p\": 28005, \"fpr\": 0.2248124639353722, \"tpr\": 0.8843420817711123, \"n\": 8665}, {\"threshold\": 0.586, \"p\": 28005, \"fpr\": 0.22469705712637045, \"tpr\": 0.8840207105873951, \"n\": 8665}, {\"threshold\": 0.587, \"p\": 28005, \"fpr\": 0.224466243508367, \"tpr\": 0.883663631494376, \"n\": 8665}, {\"threshold\": 0.588, \"p\": 28005, \"fpr\": 0.224466243508367, \"tpr\": 0.8834136761292626, \"n\": 8665}, {\"threshold\": 0.589, \"p\": 28005, \"fpr\": 0.22377380265435662, \"tpr\": 0.8831637207641493, \"n\": 8665}, {\"threshold\": 0.59, \"p\": 28005, \"fpr\": 0.22319676860934795, \"tpr\": 0.8830208891269417, \"n\": 8665}, {\"threshold\": 0.591, \"p\": 28005, \"fpr\": 0.22285054818234276, \"tpr\": 0.8829137653990359, \"n\": 8665}, {\"threshold\": 0.592, \"p\": 28005, \"fpr\": 0.22261973456433928, \"tpr\": 0.8826995179432244, \"n\": 8665}, {\"threshold\": 0.593, \"p\": 28005, \"fpr\": 0.22215810732833238, \"tpr\": 0.8825923942153187, \"n\": 8665}, {\"threshold\": 0.594, \"p\": 28005, \"fpr\": 0.22181188690132717, \"tpr\": 0.8823067309409034, \"n\": 8665}, {\"threshold\": 0.595, \"p\": 28005, \"fpr\": 0.22158107328332372, \"tpr\": 0.8819853597571862, \"n\": 8665}, {\"threshold\": 0.596, \"p\": 28005, \"fpr\": 0.2211194460473168, \"tpr\": 0.8817711123013747, \"n\": 8665}, {\"threshold\": 0.597, \"p\": 28005, \"fpr\": 0.2207732256203116, \"tpr\": 0.8815211569362614, \"n\": 8665}, {\"threshold\": 0.598, \"p\": 28005, \"fpr\": 0.22054241200230815, \"tpr\": 0.8813426173897518, \"n\": 8665}, {\"threshold\": 0.599, \"p\": 28005, \"fpr\": 0.22031159838430467, \"tpr\": 0.8812354936618461, \"n\": 8665}, {\"threshold\": 0.6, \"p\": 28005, \"fpr\": 0.22008078476630122, \"tpr\": 0.8810212462060346, \"n\": 8665}, {\"threshold\": 0.601, \"p\": 28005, \"fpr\": 0.21984997114829774, \"tpr\": 0.8808427066595251, \"n\": 8665}, {\"threshold\": 0.602, \"p\": 28005, \"fpr\": 0.2192729371032891, \"tpr\": 0.8807355829316194, \"n\": 8665}, {\"threshold\": 0.603, \"p\": 28005, \"fpr\": 0.2189267166762839, \"tpr\": 0.8806284592037136, \"n\": 8665}, {\"threshold\": 0.604, \"p\": 28005, \"fpr\": 0.21869590305828043, \"tpr\": 0.8803785038386003, \"n\": 8665}, {\"threshold\": 0.605, \"p\": 28005, \"fpr\": 0.21846508944027698, \"tpr\": 0.8801285484734869, \"n\": 8665}, {\"threshold\": 0.606, \"p\": 28005, \"fpr\": 0.21834968263127524, \"tpr\": 0.8799500089269773, \"n\": 8665}, {\"threshold\": 0.607, \"p\": 28005, \"fpr\": 0.2181188690132718, \"tpr\": 0.8798071772897696, \"n\": 8665}, {\"threshold\": 0.608, \"p\": 28005, \"fpr\": 0.2170802077322562, \"tpr\": 0.8795929298339582, \"n\": 8665}, {\"threshold\": 0.609, \"p\": 28005, \"fpr\": 0.21650317368724756, \"tpr\": 0.8794143902874487, \"n\": 8665}, {\"threshold\": 0.61, \"p\": 28005, \"fpr\": 0.21604154645124063, \"tpr\": 0.8792001428316372, \"n\": 8665}, {\"threshold\": 0.611, \"p\": 28005, \"fpr\": 0.2152336987882285, \"tpr\": 0.87887877164792, \"n\": 8665}, {\"threshold\": 0.612, \"p\": 28005, \"fpr\": 0.21477207155222158, \"tpr\": 0.8785216925549009, \"n\": 8665}, {\"threshold\": 0.613, \"p\": 28005, \"fpr\": 0.21454125793421813, \"tpr\": 0.8783431530083914, \"n\": 8665}, {\"threshold\": 0.614, \"p\": 28005, \"fpr\": 0.2140796306982112, \"tpr\": 0.8781289055525799, \"n\": 8665}, {\"threshold\": 0.615, \"p\": 28005, \"fpr\": 0.21396422388920947, \"tpr\": 0.8779146580967684, \"n\": 8665}, {\"threshold\": 0.616, \"p\": 28005, \"fpr\": 0.21084824004616273, \"tpr\": 0.8727370112479914, \"n\": 8665}, {\"threshold\": 0.617, \"p\": 28005, \"fpr\": 0.2103866128101558, \"tpr\": 0.8725584717014819, \"n\": 8665}, {\"threshold\": 0.618, \"p\": 28005, \"fpr\": 0.21004039238315061, \"tpr\": 0.8722371005177647, \"n\": 8665}, {\"threshold\": 0.619, \"p\": 28005, \"fpr\": 0.20946335833814195, \"tpr\": 0.8721299767898589, \"n\": 8665}, {\"threshold\": 0.62, \"p\": 28005, \"fpr\": 0.2088863242931333, \"tpr\": 0.871701481878236, \"n\": 8665}, {\"threshold\": 0.621, \"p\": 28005, \"fpr\": 0.20842469705712638, \"tpr\": 0.8714158186038208, \"n\": 8665}, {\"threshold\": 0.622, \"p\": 28005, \"fpr\": 0.2080784766301212, \"tpr\": 0.8710944474201036, \"n\": 8665}, {\"threshold\": 0.623, \"p\": 28005, \"fpr\": 0.20750144258511252, \"tpr\": 0.8709516157828959, \"n\": 8665}, {\"threshold\": 0.624, \"p\": 28005, \"fpr\": 0.20692440854010385, \"tpr\": 0.8707016604177825, \"n\": 8665}, {\"threshold\": 0.625, \"p\": 28005, \"fpr\": 0.2066935949221004, \"tpr\": 0.8705945366898769, \"n\": 8665}, {\"threshold\": 0.626, \"p\": 28005, \"fpr\": 0.20634737449509521, \"tpr\": 0.8704159971433673, \"n\": 8665}, {\"threshold\": 0.627, \"p\": 28005, \"fpr\": 0.2058857472590883, \"tpr\": 0.8700232101410462, \"n\": 8665}, {\"threshold\": 0.628, \"p\": 28005, \"fpr\": 0.2051933064050779, \"tpr\": 0.8696661310480271, \"n\": 8665}, {\"threshold\": 0.629, \"p\": 28005, \"fpr\": 0.20461627236006924, \"tpr\": 0.8694161756829137, \"n\": 8665}, {\"threshold\": 0.63, \"p\": 28005, \"fpr\": 0.20427005193306405, \"tpr\": 0.8691305124084985, \"n\": 8665}, {\"threshold\": 0.631, \"p\": 28005, \"fpr\": 0.20380842469705712, \"tpr\": 0.8687020174968756, \"n\": 8665}, {\"threshold\": 0.632, \"p\": 28005, \"fpr\": 0.20346220427005193, \"tpr\": 0.8684520621317622, \"n\": 8665}, {\"threshold\": 0.633, \"p\": 28005, \"fpr\": 0.2033467974610502, \"tpr\": 0.8681663988573469, \"n\": 8665}, {\"threshold\": 0.634, \"p\": 28005, \"fpr\": 0.203000577034045, \"tpr\": 0.8679878593108373, \"n\": 8665}, {\"threshold\": 0.635, \"p\": 28005, \"fpr\": 0.20276976341604155, \"tpr\": 0.867737903945724, \"n\": 8665}, {\"threshold\": 0.636, \"p\": 28005, \"fpr\": 0.20253894979803808, \"tpr\": 0.8674165327620068, \"n\": 8665}, {\"threshold\": 0.637, \"p\": 28005, \"fpr\": 0.2021927293710329, \"tpr\": 0.8672022853061954, \"n\": 8665}, {\"threshold\": 0.638, \"p\": 28005, \"fpr\": 0.20196191575302944, \"tpr\": 0.8670237457596858, \"n\": 8665}, {\"threshold\": 0.639, \"p\": 28005, \"fpr\": 0.2018465089440277, \"tpr\": 0.8668809141224781, \"n\": 8665}, {\"threshold\": 0.64, \"p\": 28005, \"fpr\": 0.20115406809001732, \"tpr\": 0.8665952508480629, \"n\": 8665}, {\"threshold\": 0.641, \"p\": 28005, \"fpr\": 0.20080784766301213, \"tpr\": 0.8663810033922514, \"n\": 8665}, {\"threshold\": 0.642, \"p\": 28005, \"fpr\": 0.2004616272360069, \"tpr\": 0.8661667559364399, \"n\": 8665}, {\"threshold\": 0.643, \"p\": 28005, \"fpr\": 0.19976918638199653, \"tpr\": 0.8660953401178361, \"n\": 8665}, {\"threshold\": 0.644, \"p\": 28005, \"fpr\": 0.1993075591459896, \"tpr\": 0.865773968934119, \"n\": 8665}, {\"threshold\": 0.645, \"p\": 28005, \"fpr\": 0.19907674552798615, \"tpr\": 0.8654883056597036, \"n\": 8665}, {\"threshold\": 0.646, \"p\": 28005, \"fpr\": 0.19861511829197923, \"tpr\": 0.8652740582038921, \"n\": 8665}, {\"threshold\": 0.647, \"p\": 28005, \"fpr\": 0.19803808424697056, \"tpr\": 0.8648812712015711, \"n\": 8665}, {\"threshold\": 0.648, \"p\": 28005, \"fpr\": 0.1978072706289671, \"tpr\": 0.864559900017854, \"n\": 8665}, {\"threshold\": 0.649, \"p\": 28005, \"fpr\": 0.19746105020196192, \"tpr\": 0.8643813604713444, \"n\": 8665}, {\"threshold\": 0.65, \"p\": 28005, \"fpr\": 0.196999422965955, \"tpr\": 0.8642028209248348, \"n\": 8665}, {\"threshold\": 0.651, \"p\": 28005, \"fpr\": 0.19653779572994806, \"tpr\": 0.8640242813783253, \"n\": 8665}, {\"threshold\": 0.652, \"p\": 28005, \"fpr\": 0.19607616849394113, \"tpr\": 0.8637386181039101, \"n\": 8665}, {\"threshold\": 0.653, \"p\": 28005, \"fpr\": 0.19572994806693594, \"tpr\": 0.8634172469201928, \"n\": 8665}, {\"threshold\": 0.654, \"p\": 28005, \"fpr\": 0.1954991344489325, \"tpr\": 0.8632387073736832, \"n\": 8665}, {\"threshold\": 0.655, \"p\": 28005, \"fpr\": 0.1948066935949221, \"tpr\": 0.8630601678271738, \"n\": 8665}, {\"threshold\": 0.656, \"p\": 28005, \"fpr\": 0.1948066935949221, \"tpr\": 0.8628102124620604, \"n\": 8665}, {\"threshold\": 0.657, \"p\": 28005, \"fpr\": 0.19434506635891519, \"tpr\": 0.8625245491876451, \"n\": 8665}, {\"threshold\": 0.658, \"p\": 28005, \"fpr\": 0.19388343912290826, \"tpr\": 0.8624174254597393, \"n\": 8665}, {\"threshold\": 0.659, \"p\": 28005, \"fpr\": 0.19342181188690133, \"tpr\": 0.8620246384574183, \"n\": 8665}, {\"threshold\": 0.66, \"p\": 28005, \"fpr\": 0.19319099826889785, \"tpr\": 0.8618460989109088, \"n\": 8665}, {\"threshold\": 0.661, \"p\": 28005, \"fpr\": 0.19319099826889785, \"tpr\": 0.8615604356364935, \"n\": 8665}, {\"threshold\": 0.662, \"p\": 28005, \"fpr\": 0.1929601846508944, \"tpr\": 0.8612033565434744, \"n\": 8665}, {\"threshold\": 0.663, \"p\": 28005, \"fpr\": 0.19238315060588576, \"tpr\": 0.8610605249062667, \"n\": 8665}, {\"threshold\": 0.664, \"p\": 28005, \"fpr\": 0.19203693017888054, \"tpr\": 0.8607391537225495, \"n\": 8665}, {\"threshold\": 0.665, \"p\": 28005, \"fpr\": 0.19157530294287364, \"tpr\": 0.86056061417604, \"n\": 8665}, {\"threshold\": 0.666, \"p\": 28005, \"fpr\": 0.19099826889786498, \"tpr\": 0.8603820746295304, \"n\": 8665}, {\"threshold\": 0.667, \"p\": 28005, \"fpr\": 0.1904212348528563, \"tpr\": 0.860132119264417, \"n\": 8665}, {\"threshold\": 0.668, \"p\": 28005, \"fpr\": 0.19019042123485286, \"tpr\": 0.8598821638993037, \"n\": 8665}, {\"threshold\": 0.669, \"p\": 28005, \"fpr\": 0.1896133871898442, \"tpr\": 0.8597393322620961, \"n\": 8665}, {\"threshold\": 0.67, \"p\": 28005, \"fpr\": 0.18903635314483555, \"tpr\": 0.8594893768969827, \"n\": 8665}, {\"threshold\": 0.671, \"p\": 28005, \"fpr\": 0.18857472590882862, \"tpr\": 0.8590965898946616, \"n\": 8665}, {\"threshold\": 0.672, \"p\": 28005, \"fpr\": 0.1881130986728217, \"tpr\": 0.8588823424388502, \"n\": 8665}, {\"threshold\": 0.673, \"p\": 28005, \"fpr\": 0.18742065781881131, \"tpr\": 0.858560971255133, \"n\": 8665}, {\"threshold\": 0.674, \"p\": 28005, \"fpr\": 0.1869590305828044, \"tpr\": 0.8583110158900197, \"n\": 8665}, {\"threshold\": 0.675, \"p\": 28005, \"fpr\": 0.18638199653779572, \"tpr\": 0.8580610605249063, \"n\": 8665}, {\"threshold\": 0.676, \"p\": 28005, \"fpr\": 0.18592036930178882, \"tpr\": 0.8578468130690948, \"n\": 8665}, {\"threshold\": 0.677, \"p\": 28005, \"fpr\": 0.18580496249278708, \"tpr\": 0.8574897339760758, \"n\": 8665}, {\"threshold\": 0.678, \"p\": 28005, \"fpr\": 0.1851125216387767, \"tpr\": 0.8574183181574718, \"n\": 8665}, {\"threshold\": 0.679, \"p\": 28005, \"fpr\": 0.18499711482977496, \"tpr\": 0.8571326548830566, \"n\": 8665}, {\"threshold\": 0.68, \"p\": 28005, \"fpr\": 0.18476630121177148, \"tpr\": 0.8566327441528299, \"n\": 8665}, {\"threshold\": 0.681, \"p\": 28005, \"fpr\": 0.1840738603577611, \"tpr\": 0.8562756650598108, \"n\": 8665}, {\"threshold\": 0.682, \"p\": 28005, \"fpr\": 0.18361223312175418, \"tpr\": 0.8560257096946974, \"n\": 8665}, {\"threshold\": 0.683, \"p\": 28005, \"fpr\": 0.18338141950375073, \"tpr\": 0.8556329226923763, \"n\": 8665}, {\"threshold\": 0.684, \"p\": 28005, \"fpr\": 0.18303519907674554, \"tpr\": 0.8554186752365649, \"n\": 8665}, {\"threshold\": 0.685, \"p\": 28005, \"fpr\": 0.18268897864974035, \"tpr\": 0.8550973040528477, \"n\": 8665}, {\"threshold\": 0.686, \"p\": 28005, \"fpr\": 0.18245816503173687, \"tpr\": 0.8547759328691306, \"n\": 8665}, {\"threshold\": 0.687, \"p\": 28005, \"fpr\": 0.18211194460473168, \"tpr\": 0.8544545616854133, \"n\": 8665}, {\"threshold\": 0.688, \"p\": 28005, \"fpr\": 0.18188113098672823, \"tpr\": 0.8541688984109981, \"n\": 8665}, {\"threshold\": 0.689, \"p\": 28005, \"fpr\": 0.18188113098672823, \"tpr\": 0.853776111408677, \"n\": 8665}, {\"threshold\": 0.69, \"p\": 28005, \"fpr\": 0.181534910559723, \"tpr\": 0.8535261560435636, \"n\": 8665}, {\"threshold\": 0.691, \"p\": 28005, \"fpr\": 0.18130409694171956, \"tpr\": 0.8532047848598464, \"n\": 8665}, {\"threshold\": 0.692, \"p\": 28005, \"fpr\": 0.18084246970571263, \"tpr\": 0.8528834136761293, \"n\": 8665}, {\"threshold\": 0.693, \"p\": 28005, \"fpr\": 0.18061165608770918, \"tpr\": 0.8525620424924121, \"n\": 8665}, {\"threshold\": 0.694, \"p\": 28005, \"fpr\": 0.18015002885170225, \"tpr\": 0.8524192108552044, \"n\": 8665}, {\"threshold\": 0.695, \"p\": 28005, \"fpr\": 0.1795729948066936, \"tpr\": 0.8520978396714872, \"n\": 8665}, {\"threshold\": 0.696, \"p\": 28005, \"fpr\": 0.17911136757068666, \"tpr\": 0.8518835922156758, \"n\": 8665}, {\"threshold\": 0.697, \"p\": 28005, \"fpr\": 0.17876514714368147, \"tpr\": 0.8515622210319586, \"n\": 8665}, {\"threshold\": 0.698, \"p\": 28005, \"fpr\": 0.17784189267166764, \"tpr\": 0.8513836814854491, \"n\": 8665}, {\"threshold\": 0.699, \"p\": 28005, \"fpr\": 0.17761107905366416, \"tpr\": 0.8511337261203357, \"n\": 8665}, {\"threshold\": 0.7, \"p\": 28005, \"fpr\": 0.1773802654356607, \"tpr\": 0.8507766470273166, \"n\": 8665}, {\"threshold\": 0.701, \"p\": 28005, \"fpr\": 0.17703404500865552, \"tpr\": 0.8504552758435994, \"n\": 8665}, {\"threshold\": 0.702, \"p\": 28005, \"fpr\": 0.17691863819965378, \"tpr\": 0.8500624888412783, \"n\": 8665}, {\"threshold\": 0.703, \"p\": 28005, \"fpr\": 0.17645701096364685, \"tpr\": 0.8497411176575611, \"n\": 8665}, {\"threshold\": 0.704, \"p\": 28005, \"fpr\": 0.1762261973456434, \"tpr\": 0.8495625781110516, \"n\": 8665}, {\"threshold\": 0.705, \"p\": 28005, \"fpr\": 0.1758799769186382, \"tpr\": 0.8493126227459382, \"n\": 8665}, {\"threshold\": 0.706, \"p\": 28005, \"fpr\": 0.17541834968263129, \"tpr\": 0.8491340831994286, \"n\": 8665}, {\"threshold\": 0.707, \"p\": 28005, \"fpr\": 0.17472590882862088, \"tpr\": 0.8487770041064095, \"n\": 8665}, {\"threshold\": 0.708, \"p\": 28005, \"fpr\": 0.17414887478361224, \"tpr\": 0.8484199250133905, \"n\": 8665}, {\"threshold\": 0.709, \"p\": 28005, \"fpr\": 0.17414887478361224, \"tpr\": 0.8480628459203714, \"n\": 8665}, {\"threshold\": 0.71, \"p\": 28005, \"fpr\": 0.17391806116560876, \"tpr\": 0.8477057668273522, \"n\": 8665}, {\"threshold\": 0.711, \"p\": 28005, \"fpr\": 0.17357184073860357, \"tpr\": 0.847420103552937, \"n\": 8665}, {\"threshold\": 0.712, \"p\": 28005, \"fpr\": 0.17345643392960183, \"tpr\": 0.8470987323692197, \"n\": 8665}, {\"threshold\": 0.713, \"p\": 28005, \"fpr\": 0.17311021350259664, \"tpr\": 0.8466702374575968, \"n\": 8665}, {\"threshold\": 0.714, \"p\": 28005, \"fpr\": 0.1728793998845932, \"tpr\": 0.8463488662738796, \"n\": 8665}, {\"threshold\": 0.715, \"p\": 28005, \"fpr\": 0.17276399307559145, \"tpr\": 0.8459560792715587, \"n\": 8665}, {\"threshold\": 0.716, \"p\": 28005, \"fpr\": 0.172533179457588, \"tpr\": 0.8456347080878415, \"n\": 8665}, {\"threshold\": 0.717, \"p\": 28005, \"fpr\": 0.17218695903058281, \"tpr\": 0.84542046063203, \"n\": 8665}, {\"threshold\": 0.718, \"p\": 28005, \"fpr\": 0.1714945181765724, \"tpr\": 0.845027673629709, \"n\": 8665}, {\"threshold\": 0.719, \"p\": 28005, \"fpr\": 0.17080207732256203, \"tpr\": 0.8447420103552937, \"n\": 8665}, {\"threshold\": 0.72, \"p\": 28005, \"fpr\": 0.17057126370455858, \"tpr\": 0.8443849312622745, \"n\": 8665}, {\"threshold\": 0.721, \"p\": 28005, \"fpr\": 0.1699942296595499, \"tpr\": 0.8441706838064631, \"n\": 8665}, {\"threshold\": 0.722, \"p\": 28005, \"fpr\": 0.16953260242354298, \"tpr\": 0.8437064809855382, \"n\": 8665}, {\"threshold\": 0.723, \"p\": 28005, \"fpr\": 0.16895556837853434, \"tpr\": 0.8433494018925192, \"n\": 8665}, {\"threshold\": 0.724, \"p\": 28005, \"fpr\": 0.16849394114252741, \"tpr\": 0.8429923227995001, \"n\": 8665}, {\"threshold\": 0.725, \"p\": 28005, \"fpr\": 0.16814772071552223, \"tpr\": 0.842635243706481, \"n\": 8665}, {\"threshold\": 0.726, \"p\": 28005, \"fpr\": 0.16757068667051356, \"tpr\": 0.8423138725227638, \"n\": 8665}, {\"threshold\": 0.727, \"p\": 28005, \"fpr\": 0.1673398730525101, \"tpr\": 0.8421353329762542, \"n\": 8665}, {\"threshold\": 0.728, \"p\": 28005, \"fpr\": 0.16722446624350837, \"tpr\": 0.8417425459739333, \"n\": 8665}, {\"threshold\": 0.729, \"p\": 28005, \"fpr\": 0.1666474321984997, \"tpr\": 0.8413140510623103, \"n\": 8665}, {\"threshold\": 0.73, \"p\": 28005, \"fpr\": 0.1666474321984997, \"tpr\": 0.8408855561506874, \"n\": 8665}, {\"threshold\": 0.731, \"p\": 28005, \"fpr\": 0.1661858049624928, \"tpr\": 0.8404927691483663, \"n\": 8665}, {\"threshold\": 0.732, \"p\": 28005, \"fpr\": 0.16583958453548758, \"tpr\": 0.8401356900553473, \"n\": 8665}, {\"threshold\": 0.733, \"p\": 28005, \"fpr\": 0.1654933641084824, \"tpr\": 0.8397071951437244, \"n\": 8665}, {\"threshold\": 0.734, \"p\": 28005, \"fpr\": 0.16537795729948068, \"tpr\": 0.839421531869309, \"n\": 8665}, {\"threshold\": 0.735, \"p\": 28005, \"fpr\": 0.16526255049047894, \"tpr\": 0.8391358685948938, \"n\": 8665}, {\"threshold\": 0.736, \"p\": 28005, \"fpr\": 0.16503173687247547, \"tpr\": 0.8389573290483843, \"n\": 8665}, {\"threshold\": 0.737, \"p\": 28005, \"fpr\": 0.16468551644547028, \"tpr\": 0.838635957864667, \"n\": 8665}, {\"threshold\": 0.738, \"p\": 28005, \"fpr\": 0.16457010963646856, \"tpr\": 0.838278878771648, \"n\": 8665}, {\"threshold\": 0.739, \"p\": 28005, \"fpr\": 0.1639930755914599, \"tpr\": 0.8379932154972326, \"n\": 8665}, {\"threshold\": 0.74, \"p\": 28005, \"fpr\": 0.16353144835545297, \"tpr\": 0.8373504731297983, \"n\": 8665}, {\"threshold\": 0.741, \"p\": 28005, \"fpr\": 0.16237738026543566, \"tpr\": 0.8368862703088734, \"n\": 8665}, {\"threshold\": 0.742, \"p\": 28005, \"fpr\": 0.16237738026543566, \"tpr\": 0.8365291912158543, \"n\": 8665}, {\"threshold\": 0.743, \"p\": 28005, \"fpr\": 0.16203115983843047, \"tpr\": 0.8362435279414391, \"n\": 8665}, {\"threshold\": 0.744, \"p\": 28005, \"fpr\": 0.16156953260242354, \"tpr\": 0.835850740939118, \"n\": 8665}, {\"threshold\": 0.745, \"p\": 28005, \"fpr\": 0.1613387189844201, \"tpr\": 0.835422246027495, \"n\": 8665}, {\"threshold\": 0.746, \"p\": 28005, \"fpr\": 0.16099249855741488, \"tpr\": 0.8350294590251741, \"n\": 8665}, {\"threshold\": 0.747, \"p\": 28005, \"fpr\": 0.16087709174841316, \"tpr\": 0.8346723799321549, \"n\": 8665}, {\"threshold\": 0.748, \"p\": 28005, \"fpr\": 0.16041546451240624, \"tpr\": 0.8343867166577397, \"n\": 8665}, {\"threshold\": 0.749, \"p\": 28005, \"fpr\": 0.15972302365839586, \"tpr\": 0.8339582217461168, \"n\": 8665}, {\"threshold\": 0.75, \"p\": 28005, \"fpr\": 0.1591459896133872, \"tpr\": 0.8336368505623996, \"n\": 8665}, {\"threshold\": 0.751, \"p\": 28005, \"fpr\": 0.15856895556837852, \"tpr\": 0.8331012319228709, \"n\": 8665}, {\"threshold\": 0.752, \"p\": 28005, \"fpr\": 0.15856895556837852, \"tpr\": 0.8327441528298518, \"n\": 8665}, {\"threshold\": 0.753, \"p\": 28005, \"fpr\": 0.15810732833237162, \"tpr\": 0.832279950008927, \"n\": 8665}, {\"threshold\": 0.754, \"p\": 28005, \"fpr\": 0.15787651471436814, \"tpr\": 0.8320299946438136, \"n\": 8665}, {\"threshold\": 0.755, \"p\": 28005, \"fpr\": 0.15741488747836122, \"tpr\": 0.8312801285484734, \"n\": 8665}, {\"threshold\": 0.756, \"p\": 28005, \"fpr\": 0.1566070398153491, \"tpr\": 0.8309230494554544, \"n\": 8665}, {\"threshold\": 0.757, \"p\": 28005, \"fpr\": 0.15603000577034046, \"tpr\": 0.8304588466345295, \"n\": 8665}, {\"threshold\": 0.758, \"p\": 28005, \"fpr\": 0.15568378534333527, \"tpr\": 0.8300660596322086, \"n\": 8665}, {\"threshold\": 0.759, \"p\": 28005, \"fpr\": 0.1554529717253318, \"tpr\": 0.8298161042670952, \"n\": 8665}, {\"threshold\": 0.76, \"p\": 28005, \"fpr\": 0.1547605308713214, \"tpr\": 0.8292447777182645, \"n\": 8665}, {\"threshold\": 0.761, \"p\": 28005, \"fpr\": 0.15452971725331793, \"tpr\": 0.8289234065345474, \"n\": 8665}, {\"threshold\": 0.762, \"p\": 28005, \"fpr\": 0.1539526832083093, \"tpr\": 0.8284592037136226, \"n\": 8665}, {\"threshold\": 0.763, \"p\": 28005, \"fpr\": 0.15372186959030582, \"tpr\": 0.828280664167113, \"n\": 8665}, {\"threshold\": 0.764, \"p\": 28005, \"fpr\": 0.1536064627813041, \"tpr\": 0.827887877164792, \"n\": 8665}, {\"threshold\": 0.765, \"p\": 28005, \"fpr\": 0.15314483554529718, \"tpr\": 0.8275307980717729, \"n\": 8665}, {\"threshold\": 0.766, \"p\": 28005, \"fpr\": 0.15279861511829199, \"tpr\": 0.8271737189787538, \"n\": 8665}, {\"threshold\": 0.767, \"p\": 28005, \"fpr\": 0.15268320830929025, \"tpr\": 0.8267809319764328, \"n\": 8665}, {\"threshold\": 0.768, \"p\": 28005, \"fpr\": 0.1524523946912868, \"tpr\": 0.8264238528834137, \"n\": 8665}, {\"threshold\": 0.769, \"p\": 28005, \"fpr\": 0.15187536064627813, \"tpr\": 0.8261024816996965, \"n\": 8665}, {\"threshold\": 0.77, \"p\": 28005, \"fpr\": 0.15164454702827468, \"tpr\": 0.8257454026066774, \"n\": 8665}, {\"threshold\": 0.771, \"p\": 28005, \"fpr\": 0.15072129255626082, \"tpr\": 0.8253883235136583, \"n\": 8665}, {\"threshold\": 0.772, \"p\": 28005, \"fpr\": 0.15060588574725908, \"tpr\": 0.8251383681485449, \"n\": 8665}, {\"threshold\": 0.773, \"p\": 28005, \"fpr\": 0.1499134448932487, \"tpr\": 0.8248169969648277, \"n\": 8665}, {\"threshold\": 0.774, \"p\": 28005, \"fpr\": 0.14956722446624351, \"tpr\": 0.8244599178718086, \"n\": 8665}, {\"threshold\": 0.775, \"p\": 28005, \"fpr\": 0.14933641084824004, \"tpr\": 0.8239600071415819, \"n\": 8665}, {\"threshold\": 0.776, \"p\": 28005, \"fpr\": 0.14818234275822273, \"tpr\": 0.8236386359578647, \"n\": 8665}, {\"threshold\": 0.777, \"p\": 28005, \"fpr\": 0.14795152914021928, \"tpr\": 0.8231744331369398, \"n\": 8665}, {\"threshold\": 0.778, \"p\": 28005, \"fpr\": 0.14714368147720716, \"tpr\": 0.8228530619532226, \"n\": 8665}, {\"threshold\": 0.779, \"p\": 28005, \"fpr\": 0.1465666474321985, \"tpr\": 0.8223888591322978, \"n\": 8665}, {\"threshold\": 0.78, \"p\": 28005, \"fpr\": 0.14552798615118293, \"tpr\": 0.8219960721299768, \"n\": 8665}, {\"threshold\": 0.781, \"p\": 28005, \"fpr\": 0.145066358915176, \"tpr\": 0.8216389930369576, \"n\": 8665}, {\"threshold\": 0.782, \"p\": 28005, \"fpr\": 0.1447201384881708, \"tpr\": 0.8213533297625424, \"n\": 8665}, {\"threshold\": 0.783, \"p\": 28005, \"fpr\": 0.14414310444316214, \"tpr\": 0.821103374397429, \"n\": 8665}, {\"threshold\": 0.784, \"p\": 28005, \"fpr\": 0.14379688401615695, \"tpr\": 0.8204963399392966, \"n\": 8665}, {\"threshold\": 0.785, \"p\": 28005, \"fpr\": 0.14345066358915176, \"tpr\": 0.8200678450276736, \"n\": 8665}, {\"threshold\": 0.786, \"p\": 28005, \"fpr\": 0.14298903635314483, \"tpr\": 0.8196036422067488, \"n\": 8665}, {\"threshold\": 0.787, \"p\": 28005, \"fpr\": 0.14264281592613964, \"tpr\": 0.8191751472951259, \"n\": 8665}, {\"threshold\": 0.788, \"p\": 28005, \"fpr\": 0.1425274091171379, \"tpr\": 0.8185324049276915, \"n\": 8665}, {\"threshold\": 0.789, \"p\": 28005, \"fpr\": 0.14218118869013271, \"tpr\": 0.8179610783788609, \"n\": 8665}, {\"threshold\": 0.79, \"p\": 28005, \"fpr\": 0.14183496826312753, \"tpr\": 0.8175682913765399, \"n\": 8665}, {\"threshold\": 0.791, \"p\": 28005, \"fpr\": 0.14160415464512408, \"tpr\": 0.8171040885556151, \"n\": 8665}, {\"threshold\": 0.792, \"p\": 28005, \"fpr\": 0.1410271206001154, \"tpr\": 0.8167827173718979, \"n\": 8665}, {\"threshold\": 0.793, \"p\": 28005, \"fpr\": 0.14010386612810155, \"tpr\": 0.816354222460275, \"n\": 8665}, {\"threshold\": 0.794, \"p\": 28005, \"fpr\": 0.13975764570109636, \"tpr\": 0.8157828959114444, \"n\": 8665}, {\"threshold\": 0.795, \"p\": 28005, \"fpr\": 0.13964223889209462, \"tpr\": 0.8152829851812177, \"n\": 8665}, {\"threshold\": 0.796, \"p\": 28005, \"fpr\": 0.13918061165608772, \"tpr\": 0.81514015354401, \"n\": 8665}, {\"threshold\": 0.797, \"p\": 28005, \"fpr\": 0.13848817080207732, \"tpr\": 0.8148544902695947, \"n\": 8665}, {\"threshold\": 0.798, \"p\": 28005, \"fpr\": 0.13814195037507213, \"tpr\": 0.814354579539368, \"n\": 8665}, {\"threshold\": 0.799, \"p\": 28005, \"fpr\": 0.13744950952106175, \"tpr\": 0.8138189608998393, \"n\": 8665}, {\"threshold\": 0.8, \"p\": 28005, \"fpr\": 0.13687247547605308, \"tpr\": 0.8134618818068202, \"n\": 8665}, {\"threshold\": 0.801, \"p\": 28005, \"fpr\": 0.13606462781304096, \"tpr\": 0.8130333868951973, \"n\": 8665}, {\"threshold\": 0.802, \"p\": 28005, \"fpr\": 0.13560300057703403, \"tpr\": 0.8126048919835743, \"n\": 8665}, {\"threshold\": 0.803, \"p\": 28005, \"fpr\": 0.13548759376803232, \"tpr\": 0.8122835207998572, \"n\": 8665}, {\"threshold\": 0.804, \"p\": 28005, \"fpr\": 0.1350259665320254, \"tpr\": 0.8117121942510266, \"n\": 8665}, {\"threshold\": 0.805, \"p\": 28005, \"fpr\": 0.13444893248701673, \"tpr\": 0.8113194072487055, \"n\": 8665}, {\"threshold\": 0.806, \"p\": 28005, \"fpr\": 0.13433352567801501, \"tpr\": 0.8110337439742903, \"n\": 8665}, {\"threshold\": 0.807, \"p\": 28005, \"fpr\": 0.1335256780150029, \"tpr\": 0.8106766648812712, \"n\": 8665}, {\"threshold\": 0.808, \"p\": 28005, \"fpr\": 0.1335256780150029, \"tpr\": 0.8100339225138368, \"n\": 8665}, {\"threshold\": 0.809, \"p\": 28005, \"fpr\": 0.13271783035199078, \"tpr\": 0.8092126405998928, \"n\": 8665}, {\"threshold\": 0.81, \"p\": 28005, \"fpr\": 0.13237160992498556, \"tpr\": 0.8086770219603642, \"n\": 8665}, {\"threshold\": 0.811, \"p\": 28005, \"fpr\": 0.13167916907097518, \"tpr\": 0.807962863774326, \"n\": 8665}, {\"threshold\": 0.812, \"p\": 28005, \"fpr\": 0.13156376226197344, \"tpr\": 0.8072844134975897, \"n\": 8665}, {\"threshold\": 0.813, \"p\": 28005, \"fpr\": 0.13133294864397, \"tpr\": 0.8069630423138725, \"n\": 8665}, {\"threshold\": 0.814, \"p\": 28005, \"fpr\": 0.13075591459896133, \"tpr\": 0.8064988394929477, \"n\": 8665}, {\"threshold\": 0.815, \"p\": 28005, \"fpr\": 0.12971725331794576, \"tpr\": 0.8060346366720229, \"n\": 8665}, {\"threshold\": 0.816, \"p\": 28005, \"fpr\": 0.12960184650894402, \"tpr\": 0.8054633101231923, \"n\": 8665}, {\"threshold\": 0.817, \"p\": 28005, \"fpr\": 0.1294864396999423, \"tpr\": 0.8049276914836636, \"n\": 8665}, {\"threshold\": 0.818, \"p\": 28005, \"fpr\": 0.1287939988459319, \"tpr\": 0.8047134440278522, \"n\": 8665}, {\"threshold\": 0.819, \"p\": 28005, \"fpr\": 0.12856318522792845, \"tpr\": 0.8041778253883235, \"n\": 8665}, {\"threshold\": 0.82, \"p\": 28005, \"fpr\": 0.12833237160992497, \"tpr\": 0.8037850383860025, \"n\": 8665}, {\"threshold\": 0.821, \"p\": 28005, \"fpr\": 0.12787074437391807, \"tpr\": 0.80317800392787, \"n\": 8665}, {\"threshold\": 0.822, \"p\": 28005, \"fpr\": 0.1272937103289094, \"tpr\": 0.8026780931976433, \"n\": 8665}, {\"threshold\": 0.823, \"p\": 28005, \"fpr\": 0.12660126947489903, \"tpr\": 0.8022495982860204, \"n\": 8665}, {\"threshold\": 0.824, \"p\": 28005, \"fpr\": 0.12602423542989036, \"tpr\": 0.8016068559185859, \"n\": 8665}, {\"threshold\": 0.825, \"p\": 28005, \"fpr\": 0.12521638776687824, \"tpr\": 0.8011426530976611, \"n\": 8665}, {\"threshold\": 0.826, \"p\": 28005, \"fpr\": 0.12463935372186959, \"tpr\": 0.8004642028209248, \"n\": 8665}, {\"threshold\": 0.827, \"p\": 28005, \"fpr\": 0.12371609924985574, \"tpr\": 0.8001071237279057, \"n\": 8665}, {\"threshold\": 0.828, \"p\": 28005, \"fpr\": 0.12336987882285055, \"tpr\": 0.7992858418139618, \"n\": 8665}, {\"threshold\": 0.829, \"p\": 28005, \"fpr\": 0.12279284477784189, \"tpr\": 0.7987145152651313, \"n\": 8665}, {\"threshold\": 0.83, \"p\": 28005, \"fpr\": 0.12198499711482977, \"tpr\": 0.7982146045349044, \"n\": 8665}, {\"threshold\": 0.831, \"p\": 28005, \"fpr\": 0.12186959030582804, \"tpr\": 0.7979289412604892, \"n\": 8665}, {\"threshold\": 0.832, \"p\": 28005, \"fpr\": 0.12152336987882285, \"tpr\": 0.7974290305302625, \"n\": 8665}, {\"threshold\": 0.833, \"p\": 28005, \"fpr\": 0.12117714945181765, \"tpr\": 0.79682199607213, \"n\": 8665}, {\"threshold\": 0.834, \"p\": 28005, \"fpr\": 0.12083092902481246, \"tpr\": 0.7961078378860917, \"n\": 8665}, {\"threshold\": 0.835, \"p\": 28005, \"fpr\": 0.12013848817080208, \"tpr\": 0.7956436350651669, \"n\": 8665}, {\"threshold\": 0.836, \"p\": 28005, \"fpr\": 0.11979226774379688, \"tpr\": 0.795215140153544, \"n\": 8665}, {\"threshold\": 0.837, \"p\": 28005, \"fpr\": 0.11898442008078476, \"tpr\": 0.7946081056954115, \"n\": 8665}, {\"threshold\": 0.838, \"p\": 28005, \"fpr\": 0.11817657241777264, \"tpr\": 0.7941081949651848, \"n\": 8665}, {\"threshold\": 0.839, \"p\": 28005, \"fpr\": 0.11771494518176573, \"tpr\": 0.7933940367791465, \"n\": 8665}, {\"threshold\": 0.84, \"p\": 28005, \"fpr\": 0.11713791113675708, \"tpr\": 0.792465631137297, \"n\": 8665}, {\"threshold\": 0.841, \"p\": 28005, \"fpr\": 0.11667628390075015, \"tpr\": 0.7917157650419568, \"n\": 8665}, {\"threshold\": 0.842, \"p\": 28005, \"fpr\": 0.11621465666474322, \"tpr\": 0.7911087305838244, \"n\": 8665}, {\"threshold\": 0.843, \"p\": 28005, \"fpr\": 0.11598384304673975, \"tpr\": 0.7903231565791823, \"n\": 8665}, {\"threshold\": 0.844, \"p\": 28005, \"fpr\": 0.1154068090017311, \"tpr\": 0.7894661667559364, \"n\": 8665}, {\"threshold\": 0.845, \"p\": 28005, \"fpr\": 0.11494518176572417, \"tpr\": 0.7887520085698982, \"n\": 8665}, {\"threshold\": 0.846, \"p\": 28005, \"fpr\": 0.1142527409117138, \"tpr\": 0.7882520978396715, \"n\": 8665}, {\"threshold\": 0.847, \"p\": 28005, \"fpr\": 0.1139065204847086, \"tpr\": 0.7877878950187467, \"n\": 8665}, {\"threshold\": 0.848, \"p\": 28005, \"fpr\": 0.1135603000577034, \"tpr\": 0.7871451526513122, \"n\": 8665}, {\"threshold\": 0.849, \"p\": 28005, \"fpr\": 0.11332948643969994, \"tpr\": 0.7863238707373683, \"n\": 8665}, {\"threshold\": 0.85, \"p\": 28005, \"fpr\": 0.11298326601269475, \"tpr\": 0.7858953758257454, \"n\": 8665}, {\"threshold\": 0.851, \"p\": 28005, \"fpr\": 0.1124062319676861, \"tpr\": 0.7848955543652919, \"n\": 8665}, {\"threshold\": 0.852, \"p\": 28005, \"fpr\": 0.11159838430467398, \"tpr\": 0.7843956436350652, \"n\": 8665}, {\"threshold\": 0.853, \"p\": 28005, \"fpr\": 0.11136757068667051, \"tpr\": 0.7836814854490269, \"n\": 8665}, {\"threshold\": 0.854, \"p\": 28005, \"fpr\": 0.11102135025966532, \"tpr\": 0.7832172826281021, \"n\": 8665}, {\"threshold\": 0.855, \"p\": 28005, \"fpr\": 0.11067512983266013, \"tpr\": 0.7825388323513658, \"n\": 8665}, {\"threshold\": 0.856, \"p\": 28005, \"fpr\": 0.11009809578765146, \"tpr\": 0.7820389216211391, \"n\": 8665}, {\"threshold\": 0.857, \"p\": 28005, \"fpr\": 0.10917484131563762, \"tpr\": 0.7814318871630066, \"n\": 8665}, {\"threshold\": 0.858, \"p\": 28005, \"fpr\": 0.10859780727062897, \"tpr\": 0.7807891447955723, \"n\": 8665}, {\"threshold\": 0.859, \"p\": 28005, \"fpr\": 0.10825158684362378, \"tpr\": 0.7798964470630244, \"n\": 8665}, {\"threshold\": 0.86, \"p\": 28005, \"fpr\": 0.10802077322562031, \"tpr\": 0.778896625602571, \"n\": 8665}, {\"threshold\": 0.861, \"p\": 28005, \"fpr\": 0.10767455279861513, \"tpr\": 0.7780396357793251, \"n\": 8665}, {\"threshold\": 0.862, \"p\": 28005, \"fpr\": 0.10709751875360646, \"tpr\": 0.7771469380467774, \"n\": 8665}, {\"threshold\": 0.863, \"p\": 28005, \"fpr\": 0.1065204847085978, \"tpr\": 0.7764327798607391, \"n\": 8665}, {\"threshold\": 0.864, \"p\": 28005, \"fpr\": 0.10559723023658396, \"tpr\": 0.7756114979467952, \"n\": 8665}, {\"threshold\": 0.865, \"p\": 28005, \"fpr\": 0.1053664166185805, \"tpr\": 0.7746116764863418, \"n\": 8665}, {\"threshold\": 0.866, \"p\": 28005, \"fpr\": 0.10478938257357184, \"tpr\": 0.774111765756115, \"n\": 8665}, {\"threshold\": 0.867, \"p\": 28005, \"fpr\": 0.10455856895556838, \"tpr\": 0.7733976075700768, \"n\": 8665}, {\"threshold\": 0.868, \"p\": 28005, \"fpr\": 0.10421234852856319, \"tpr\": 0.7726477414747367, \"n\": 8665}, {\"threshold\": 0.869, \"p\": 28005, \"fpr\": 0.10363531448355454, \"tpr\": 0.7720764149259061, \"n\": 8665}, {\"threshold\": 0.87, \"p\": 28005, \"fpr\": 0.10294287362954414, \"tpr\": 0.7711480092840565, \"n\": 8665}, {\"threshold\": 0.871, \"p\": 28005, \"fpr\": 0.10259665320253895, \"tpr\": 0.7702553115515086, \"n\": 8665}, {\"threshold\": 0.872, \"p\": 28005, \"fpr\": 0.10178880553952684, \"tpr\": 0.7694340296375647, \"n\": 8665}, {\"threshold\": 0.873, \"p\": 28005, \"fpr\": 0.10086555106751298, \"tpr\": 0.768541331905017, \"n\": 8665}, {\"threshold\": 0.874, \"p\": 28005, \"fpr\": 0.10051933064050779, \"tpr\": 0.7674700946259596, \"n\": 8665}, {\"threshold\": 0.875, \"p\": 28005, \"fpr\": 0.0998268897864974, \"tpr\": 0.7668273522585253, \"n\": 8665}, {\"threshold\": 0.876, \"p\": 28005, \"fpr\": 0.09913444893248702, \"tpr\": 0.7660060703445813, \"n\": 8665}, {\"threshold\": 0.877, \"p\": 28005, \"fpr\": 0.09867282169648009, \"tpr\": 0.7651133726120336, \"n\": 8665}, {\"threshold\": 0.878, \"p\": 28005, \"fpr\": 0.09855741488747836, \"tpr\": 0.7642563827887877, \"n\": 8665}, {\"threshold\": 0.879, \"p\": 28005, \"fpr\": 0.09798038084246971, \"tpr\": 0.7632565613283342, \"n\": 8665}, {\"threshold\": 0.88, \"p\": 28005, \"fpr\": 0.09774956722446625, \"tpr\": 0.7623281556864846, \"n\": 8665}, {\"threshold\": 0.881, \"p\": 28005, \"fpr\": 0.09751875360646278, \"tpr\": 0.7613997500446349, \"n\": 8665}, {\"threshold\": 0.882, \"p\": 28005, \"fpr\": 0.09740334679746104, \"tpr\": 0.7606855918585966, \"n\": 8665}, {\"threshold\": 0.883, \"p\": 28005, \"fpr\": 0.09705712637045585, \"tpr\": 0.7596857703981432, \"n\": 8665}, {\"threshold\": 0.884, \"p\": 28005, \"fpr\": 0.0964800923254472, \"tpr\": 0.7585788252097839, \"n\": 8665}, {\"threshold\": 0.885, \"p\": 28005, \"fpr\": 0.09601846508944027, \"tpr\": 0.7579003749330476, \"n\": 8665}, {\"threshold\": 0.886, \"p\": 28005, \"fpr\": 0.09555683785343336, \"tpr\": 0.7570076772004999, \"n\": 8665}, {\"threshold\": 0.887, \"p\": 28005, \"fpr\": 0.0953260242354299, \"tpr\": 0.7560792715586503, \"n\": 8665}, {\"threshold\": 0.888, \"p\": 28005, \"fpr\": 0.09474899019042124, \"tpr\": 0.7554722371005178, \"n\": 8665}, {\"threshold\": 0.889, \"p\": 28005, \"fpr\": 0.09428736295441431, \"tpr\": 0.7542224602749509, \"n\": 8665}, {\"threshold\": 0.89, \"p\": 28005, \"fpr\": 0.09371032890940566, \"tpr\": 0.7530083913586859, \"n\": 8665}, {\"threshold\": 0.891, \"p\": 28005, \"fpr\": 0.09301788805539526, \"tpr\": 0.7519014461703267, \"n\": 8665}, {\"threshold\": 0.892, \"p\": 28005, \"fpr\": 0.0927870744373918, \"tpr\": 0.7506873772540618, \"n\": 8665}, {\"threshold\": 0.893, \"p\": 28005, \"fpr\": 0.09244085401038661, \"tpr\": 0.7497232637029102, \"n\": 8665}, {\"threshold\": 0.894, \"p\": 28005, \"fpr\": 0.0916330063473745, \"tpr\": 0.7489019817889663, \"n\": 8665}, {\"threshold\": 0.895, \"p\": 28005, \"fpr\": 0.09094056549336411, \"tpr\": 0.7479021603285128, \"n\": 8665}, {\"threshold\": 0.896, \"p\": 28005, \"fpr\": 0.09059434506635891, \"tpr\": 0.7468309230494554, \"n\": 8665}, {\"threshold\": 0.897, \"p\": 28005, \"fpr\": 0.08967109059434507, \"tpr\": 0.745831101589002, \"n\": 8665}, {\"threshold\": 0.898, \"p\": 28005, \"fpr\": 0.08909405654933641, \"tpr\": 0.744617032672737, \"n\": 8665}, {\"threshold\": 0.899, \"p\": 28005, \"fpr\": 0.08840161569532602, \"tpr\": 0.7434743795750759, \"n\": 8665}, {\"threshold\": 0.9, \"p\": 28005, \"fpr\": 0.0879399884593191, \"tpr\": 0.7423674343867167, \"n\": 8665}, {\"threshold\": 0.901, \"p\": 28005, \"fpr\": 0.08713214079630698, \"tpr\": 0.7413319050169612, \"n\": 8665}, {\"threshold\": 0.902, \"p\": 28005, \"fpr\": 0.08655510675129832, \"tpr\": 0.7404034993751116, \"n\": 8665}, {\"threshold\": 0.903, \"p\": 28005, \"fpr\": 0.08597807270628967, \"tpr\": 0.7392608462774505, \"n\": 8665}, {\"threshold\": 0.904, \"p\": 28005, \"fpr\": 0.08528563185227929, \"tpr\": 0.7380110694518836, \"n\": 8665}, {\"threshold\": 0.905, \"p\": 28005, \"fpr\": 0.08482400461627236, \"tpr\": 0.7366898768077129, \"n\": 8665}, {\"threshold\": 0.906, \"p\": 28005, \"fpr\": 0.08447778418926717, \"tpr\": 0.7352615604356365, \"n\": 8665}, {\"threshold\": 0.907, \"p\": 28005, \"fpr\": 0.08424697057126371, \"tpr\": 0.7339760757007677, \"n\": 8665}, {\"threshold\": 0.908, \"p\": 28005, \"fpr\": 0.08413156376226197, \"tpr\": 0.7327977146938047, \"n\": 8665}, {\"threshold\": 0.909, \"p\": 28005, \"fpr\": 0.08378534333525678, \"tpr\": 0.731869309051955, \"n\": 8665}, {\"threshold\": 0.91, \"p\": 28005, \"fpr\": 0.08343912290825159, \"tpr\": 0.7309051955008035, \"n\": 8665}, {\"threshold\": 0.911, \"p\": 28005, \"fpr\": 0.0827466820542412, \"tpr\": 0.7297625424031423, \"n\": 8665}, {\"threshold\": 0.912, \"p\": 28005, \"fpr\": 0.08205424120023082, \"tpr\": 0.7275486520264238, \"n\": 8665}, {\"threshold\": 0.913, \"p\": 28005, \"fpr\": 0.0812463935372187, \"tpr\": 0.7263702910194608, \"n\": 8665}, {\"threshold\": 0.914, \"p\": 28005, \"fpr\": 0.08066935949221005, \"tpr\": 0.7247634351008748, \"n\": 8665}, {\"threshold\": 0.915, \"p\": 28005, \"fpr\": 0.08032313906520484, \"tpr\": 0.7236564899125156, \"n\": 8665}, {\"threshold\": 0.916, \"p\": 28005, \"fpr\": 0.07997691863819965, \"tpr\": 0.7226923763613641, \"n\": 8665}, {\"threshold\": 0.917, \"p\": 28005, \"fpr\": 0.07951529140219273, \"tpr\": 0.7214068916264953, \"n\": 8665}, {\"threshold\": 0.918, \"p\": 28005, \"fpr\": 0.07928447778418926, \"tpr\": 0.7205141938939476, \"n\": 8665}, {\"threshold\": 0.919, \"p\": 28005, \"fpr\": 0.07870744373918061, \"tpr\": 0.7186930905195501, \"n\": 8665}, {\"threshold\": 0.92, \"p\": 28005, \"fpr\": 0.07813040969417195, \"tpr\": 0.7170505266916622, \"n\": 8665}, {\"threshold\": 0.921, \"p\": 28005, \"fpr\": 0.07720715522215811, \"tpr\": 0.7155865024102839, \"n\": 8665}, {\"threshold\": 0.922, \"p\": 28005, \"fpr\": 0.07686093479515291, \"tpr\": 0.7139082306730941, \"n\": 8665}, {\"threshold\": 0.923, \"p\": 28005, \"fpr\": 0.07651471436814772, \"tpr\": 0.7124084984824138, \"n\": 8665}, {\"threshold\": 0.924, \"p\": 28005, \"fpr\": 0.07593768032313906, \"tpr\": 0.7106588109266202, \"n\": 8665}, {\"threshold\": 0.925, \"p\": 28005, \"fpr\": 0.07559145989613388, \"tpr\": 0.7094804499196572, \"n\": 8665}, {\"threshold\": 0.926, \"p\": 28005, \"fpr\": 0.07524523946912867, \"tpr\": 0.7080164256382788, \"n\": 8665}, {\"threshold\": 0.927, \"p\": 28005, \"fpr\": 0.07501442585112522, \"tpr\": 0.706373861810391, \"n\": 8665}, {\"threshold\": 0.928, \"p\": 28005, \"fpr\": 0.07466820542412002, \"tpr\": 0.7048384217104089, \"n\": 8665}, {\"threshold\": 0.929, \"p\": 28005, \"fpr\": 0.0738603577611079, \"tpr\": 0.7028744866988038, \"n\": 8665}, {\"threshold\": 0.93, \"p\": 28005, \"fpr\": 0.07351413733410271, \"tpr\": 0.7013390465988216, \"n\": 8665}, {\"threshold\": 0.931, \"p\": 28005, \"fpr\": 0.07328332371609925, \"tpr\": 0.6998750223174434, \"n\": 8665}, {\"threshold\": 0.932, \"p\": 28005, \"fpr\": 0.07282169648009233, \"tpr\": 0.698018211033744, \"n\": 8665}, {\"threshold\": 0.933, \"p\": 28005, \"fpr\": 0.07247547605308713, \"tpr\": 0.6964470630244599, \"n\": 8665}, {\"threshold\": 0.934, \"p\": 28005, \"fpr\": 0.07212925562608194, \"tpr\": 0.6948402071058739, \"n\": 8665}, {\"threshold\": 0.935, \"p\": 28005, \"fpr\": 0.07143681477207155, \"tpr\": 0.6925549009105517, \"n\": 8665}, {\"threshold\": 0.936, \"p\": 28005, \"fpr\": 0.0708597807270629, \"tpr\": 0.6903767184431352, \"n\": 8665}, {\"threshold\": 0.937, \"p\": 28005, \"fpr\": 0.06993652625504905, \"tpr\": 0.6880199964292091, \"n\": 8665}, {\"threshold\": 0.938, \"p\": 28005, \"fpr\": 0.06912867859203693, \"tpr\": 0.686020353508302, \"n\": 8665}, {\"threshold\": 0.939, \"p\": 28005, \"fpr\": 0.06843623773802654, \"tpr\": 0.6838064631315837, \"n\": 8665}, {\"threshold\": 0.94, \"p\": 28005, \"fpr\": 0.06785920369301789, \"tpr\": 0.6817354043920728, \"n\": 8665}, {\"threshold\": 0.941, \"p\": 28005, \"fpr\": 0.06705135603000577, \"tpr\": 0.6800571326548831, \"n\": 8665}, {\"threshold\": 0.942, \"p\": 28005, \"fpr\": 0.06635891517599539, \"tpr\": 0.6782717371897875, \"n\": 8665}, {\"threshold\": 0.943, \"p\": 28005, \"fpr\": 0.065666474321985, \"tpr\": 0.6760221389037672, \"n\": 8665}, {\"threshold\": 0.944, \"p\": 28005, \"fpr\": 0.06532025389497981, \"tpr\": 0.673701124799143, \"n\": 8665}, {\"threshold\": 0.945, \"p\": 28005, \"fpr\": 0.06428159261396423, \"tpr\": 0.6709516157828959, \"n\": 8665}, {\"threshold\": 0.946, \"p\": 28005, \"fpr\": 0.06358915175995383, \"tpr\": 0.6687734333154793, \"n\": 8665}, {\"threshold\": 0.947, \"p\": 28005, \"fpr\": 0.06335833814195037, \"tpr\": 0.6661667559364399, \"n\": 8665}, {\"threshold\": 0.948, \"p\": 28005, \"fpr\": 0.06289671090594345, \"tpr\": 0.6636314943760043, \"n\": 8665}, {\"threshold\": 0.949, \"p\": 28005, \"fpr\": 0.06255049047893825, \"tpr\": 0.6613818960899839, \"n\": 8665}, {\"threshold\": 0.95, \"p\": 28005, \"fpr\": 0.06185804962492787, \"tpr\": 0.6588823424388502, \"n\": 8665}, {\"threshold\": 0.951, \"p\": 28005, \"fpr\": 0.061165608770917486, \"tpr\": 0.6568826995179432, \"n\": 8665}, {\"threshold\": 0.952, \"p\": 28005, \"fpr\": 0.06070398153491056, \"tpr\": 0.6543831458668095, \"n\": 8665}, {\"threshold\": 0.953, \"p\": 28005, \"fpr\": 0.060126947489901904, \"tpr\": 0.6519907159435815, \"n\": 8665}, {\"threshold\": 0.954, \"p\": 28005, \"fpr\": 0.05943450663589152, \"tpr\": 0.6493840385645421, \"n\": 8665}, {\"threshold\": 0.955, \"p\": 28005, \"fpr\": 0.058857472590882864, \"tpr\": 0.6467416532762007, \"n\": 8665}, {\"threshold\": 0.956, \"p\": 28005, \"fpr\": 0.05804962492787075, \"tpr\": 0.6438493126227459, \"n\": 8665}, {\"threshold\": 0.957, \"p\": 28005, \"fpr\": 0.05724177726485863, \"tpr\": 0.6408141403320835, \"n\": 8665}, {\"threshold\": 0.958, \"p\": 28005, \"fpr\": 0.05597230236583958, \"tpr\": 0.6379932154972326, \"n\": 8665}, {\"threshold\": 0.959, \"p\": 28005, \"fpr\": 0.0552798615118292, \"tpr\": 0.6348866273879664, \"n\": 8665}, {\"threshold\": 0.96, \"p\": 28005, \"fpr\": 0.05458742065781881, \"tpr\": 0.6314943760042849, \"n\": 8665}, {\"threshold\": 0.961, \"p\": 28005, \"fpr\": 0.05447201384881708, \"tpr\": 0.6278164613461882, \"n\": 8665}, {\"threshold\": 0.962, \"p\": 28005, \"fpr\": 0.05331794575879977, \"tpr\": 0.6249241206927334, \"n\": 8665}, {\"threshold\": 0.963, \"p\": 28005, \"fpr\": 0.052510098095787654, \"tpr\": 0.6209248348509194, \"n\": 8665}, {\"threshold\": 0.964, \"p\": 28005, \"fpr\": 0.05193306405077899, \"tpr\": 0.6176039992858419, \"n\": 8665}, {\"threshold\": 0.965, \"p\": 28005, \"fpr\": 0.05100980957876515, \"tpr\": 0.613961792537047, \"n\": 8665}, {\"threshold\": 0.966, \"p\": 28005, \"fpr\": 0.04997114829774957, \"tpr\": 0.6107123727905731, \"n\": 8665}, {\"threshold\": 0.967, \"p\": 28005, \"fpr\": 0.0482400461627236, \"tpr\": 0.6062488841278343, \"n\": 8665}, {\"threshold\": 0.968, \"p\": 28005, \"fpr\": 0.04766301211771495, \"tpr\": 0.60317800392787, \"n\": 8665}, {\"threshold\": 0.969, \"p\": 28005, \"fpr\": 0.04685516445470283, \"tpr\": 0.5997143367255847, \"n\": 8665}, {\"threshold\": 0.97, \"p\": 28005, \"fpr\": 0.04593190998268898, \"tpr\": 0.5951080164256383, \"n\": 8665}, {\"threshold\": 0.971, \"p\": 28005, \"fpr\": 0.04512406231967686, \"tpr\": 0.5910373147652205, \"n\": 8665}, {\"threshold\": 0.972, \"p\": 28005, \"fpr\": 0.04420080784766301, \"tpr\": 0.5873236921978218, \"n\": 8665}, {\"threshold\": 0.973, \"p\": 28005, \"fpr\": 0.04339296018465089, \"tpr\": 0.5829673272629887, \"n\": 8665}, {\"threshold\": 0.974, \"p\": 28005, \"fpr\": 0.042585112521638775, \"tpr\": 0.578111051597929, \"n\": 8665}, {\"threshold\": 0.975, \"p\": 28005, \"fpr\": 0.041661858049624925, \"tpr\": 0.5727191572933404, \"n\": 8665}, {\"threshold\": 0.976, \"p\": 28005, \"fpr\": 0.04096941719561454, \"tpr\": 0.5676486341724692, \"n\": 8665}, {\"threshold\": 0.977, \"p\": 28005, \"fpr\": 0.040276976341604154, \"tpr\": 0.562149616139975, \"n\": 8665}, {\"threshold\": 0.978, \"p\": 28005, \"fpr\": 0.039353721869590304, \"tpr\": 0.5563292269237636, \"n\": 8665}, {\"threshold\": 0.979, \"p\": 28005, \"fpr\": 0.038199653779572997, \"tpr\": 0.5504731297982504, \"n\": 8665}, {\"threshold\": 0.98, \"p\": 28005, \"fpr\": 0.037622619734564336, \"tpr\": 0.5441171219425103, \"n\": 8665}, {\"threshold\": 0.981, \"p\": 28005, \"fpr\": 0.03646855164454703, \"tpr\": 0.5377968219960721, \"n\": 8665}, {\"threshold\": 0.982, \"p\": 28005, \"fpr\": 0.03554529717253318, \"tpr\": 0.5307980717728977, \"n\": 8665}, {\"threshold\": 0.983, \"p\": 28005, \"fpr\": 0.03392960184650894, \"tpr\": 0.5236921978218175, \"n\": 8665}, {\"threshold\": 0.984, \"p\": 28005, \"fpr\": 0.03254472013848817, \"tpr\": 0.5161935368684164, \"n\": 8665}, {\"threshold\": 0.985, \"p\": 28005, \"fpr\": 0.030582804385458743, \"tpr\": 0.5081949651847885, \"n\": 8665}, {\"threshold\": 0.986, \"p\": 28005, \"fpr\": 0.029428736295441432, \"tpr\": 0.4984824138546688, \"n\": 8665}, {\"threshold\": 0.987, \"p\": 28005, \"fpr\": 0.028967109059434507, \"tpr\": 0.4895911444384931, \"n\": 8665}, {\"threshold\": 0.988, \"p\": 28005, \"fpr\": 0.028043854587420657, \"tpr\": 0.47873594001071235, \"n\": 8665}, {\"threshold\": 0.989, \"p\": 28005, \"fpr\": 0.027120600115406807, \"tpr\": 0.46766648812712014, \"n\": 8665}, {\"threshold\": 0.99, \"p\": 28005, \"fpr\": 0.02608193883439123, \"tpr\": 0.45527584359935724, \"n\": 8665}, {\"threshold\": 0.991, \"p\": 28005, \"fpr\": 0.024927870744373918, \"tpr\": 0.4425638278878772, \"n\": 8665}, {\"threshold\": 0.992, \"p\": 28005, \"fpr\": 0.02273514137334103, \"tpr\": 0.42778075343688626, \"n\": 8665}, {\"threshold\": 0.993, \"p\": 28005, \"fpr\": 0.02181188690132718, \"tpr\": 0.4113194072487056, \"n\": 8665}, {\"threshold\": 0.994, \"p\": 28005, \"fpr\": 0.020542412002308136, \"tpr\": 0.3935011605070523, \"n\": 8665}, {\"threshold\": 0.995, \"p\": 28005, \"fpr\": 0.019157530294287364, \"tpr\": 0.3727905731119443, \"n\": 8665}, {\"threshold\": 0.996, \"p\": 28005, \"fpr\": 0.016156953260242354, \"tpr\": 0.34829494733083377, \"n\": 8665}, {\"threshold\": 0.997, \"p\": 28005, \"fpr\": 0.01465666474321985, \"tpr\": 0.31962149616139973, \"n\": 8665}, {\"threshold\": 0.998, \"p\": 28005, \"fpr\": 0.011886901327178304, \"tpr\": 0.28184252811997856, \"n\": 8665}, {\"threshold\": 0.999, \"p\": 28005, \"fpr\": 0.009117137911136757, \"tpr\": 0.22553115515086591, \"n\": 8665}, {\"threshold\": 1.0, \"p\": 28005, \"fpr\": 0.0, \"tpr\": 0.0, \"n\": 8665}]}]]}, e);\n",
       "                });\n",
       "            })();\n",
       "        "
      ]
     },
     "metadata": {},
     "output_type": "display_data"
    }
   ],
   "source": [
    "sentiment_model.show(view = 'Evaluation')"
   ]
  },
  {
   "cell_type": "markdown",
   "metadata": {},
   "source": [
    "#Apply the learned model to understand sentiment for our friend the giraffe"
   ]
  },
  {
   "cell_type": "code",
   "execution_count": 24,
   "metadata": {
    "collapsed": false
   },
   "outputs": [
    {
     "ename": "RuntimeError",
     "evalue": "Runtime Exception. Column name predicted_sentiment does not exist.",
     "output_type": "error",
     "traceback": [
      "\u001b[1;31m---------------------------------------------------------------------------\u001b[0m",
      "\u001b[1;31mRuntimeError\u001b[0m                              Traceback (most recent call last)",
      "\u001b[1;32m<ipython-input-24-4332a785fded>\u001b[0m in \u001b[0;36m<module>\u001b[1;34m()\u001b[0m\n\u001b[1;32m----> 1\u001b[1;33m \u001b[0mgiraffe_reviews\u001b[0m\u001b[1;33m[\u001b[0m\u001b[1;34m'predicted_sentiment'\u001b[0m\u001b[1;33m]\u001b[0m\u001b[1;33m\u001b[0m\u001b[0m\n\u001b[0m",
      "\u001b[1;32mC:\\Users\\User2\\Anaconda2\\envs\\dato-env\\lib\\site-packages\\graphlab\\data_structures\\sframe.pyc\u001b[0m in \u001b[0;36m__getitem__\u001b[1;34m(self, key)\u001b[0m\n\u001b[0;32m   3979\u001b[0m             \u001b[1;32mreturn\u001b[0m \u001b[0mself\u001b[0m\u001b[1;33m.\u001b[0m\u001b[0m_row_selector\u001b[0m\u001b[1;33m(\u001b[0m\u001b[0mkey\u001b[0m\u001b[1;33m)\u001b[0m\u001b[1;33m\u001b[0m\u001b[0m\n\u001b[0;32m   3980\u001b[0m         \u001b[1;32melif\u001b[0m \u001b[0mtype\u001b[0m\u001b[1;33m(\u001b[0m\u001b[0mkey\u001b[0m\u001b[1;33m)\u001b[0m \u001b[1;32mis\u001b[0m \u001b[0mstr\u001b[0m\u001b[1;33m:\u001b[0m\u001b[1;33m\u001b[0m\u001b[0m\n\u001b[1;32m-> 3981\u001b[1;33m             \u001b[1;32mreturn\u001b[0m \u001b[0mself\u001b[0m\u001b[1;33m.\u001b[0m\u001b[0mselect_column\u001b[0m\u001b[1;33m(\u001b[0m\u001b[0mkey\u001b[0m\u001b[1;33m)\u001b[0m\u001b[1;33m\u001b[0m\u001b[0m\n\u001b[0m\u001b[0;32m   3982\u001b[0m         \u001b[1;32melif\u001b[0m \u001b[0mtype\u001b[0m\u001b[1;33m(\u001b[0m\u001b[0mkey\u001b[0m\u001b[1;33m)\u001b[0m \u001b[1;32mis\u001b[0m \u001b[0mtype\u001b[0m\u001b[1;33m:\u001b[0m\u001b[1;33m\u001b[0m\u001b[0m\n\u001b[0;32m   3983\u001b[0m             \u001b[1;32mreturn\u001b[0m \u001b[0mself\u001b[0m\u001b[1;33m.\u001b[0m\u001b[0mselect_columns\u001b[0m\u001b[1;33m(\u001b[0m\u001b[1;33m[\u001b[0m\u001b[0mkey\u001b[0m\u001b[1;33m]\u001b[0m\u001b[1;33m)\u001b[0m\u001b[1;33m\u001b[0m\u001b[0m\n",
      "\u001b[1;32mC:\\Users\\User2\\Anaconda2\\envs\\dato-env\\lib\\site-packages\\graphlab\\data_structures\\sframe.pyc\u001b[0m in \u001b[0;36mselect_column\u001b[1;34m(self, key)\u001b[0m\n\u001b[0;32m   3582\u001b[0m             \u001b[1;32mraise\u001b[0m \u001b[0mTypeError\u001b[0m\u001b[1;33m(\u001b[0m\u001b[1;34m\"Invalid key type: must be str\"\u001b[0m\u001b[1;33m)\u001b[0m\u001b[1;33m\u001b[0m\u001b[0m\n\u001b[0;32m   3583\u001b[0m         \u001b[1;32mwith\u001b[0m \u001b[0mcython_context\u001b[0m\u001b[1;33m(\u001b[0m\u001b[1;33m)\u001b[0m\u001b[1;33m:\u001b[0m\u001b[1;33m\u001b[0m\u001b[0m\n\u001b[1;32m-> 3584\u001b[1;33m             \u001b[1;32mreturn\u001b[0m \u001b[0mSArray\u001b[0m\u001b[1;33m(\u001b[0m\u001b[0mdata\u001b[0m\u001b[1;33m=\u001b[0m\u001b[1;33m[\u001b[0m\u001b[1;33m]\u001b[0m\u001b[1;33m,\u001b[0m \u001b[0m_proxy\u001b[0m\u001b[1;33m=\u001b[0m\u001b[0mself\u001b[0m\u001b[1;33m.\u001b[0m\u001b[0m__proxy__\u001b[0m\u001b[1;33m.\u001b[0m\u001b[0mselect_column\u001b[0m\u001b[1;33m(\u001b[0m\u001b[0mkey\u001b[0m\u001b[1;33m)\u001b[0m\u001b[1;33m)\u001b[0m\u001b[1;33m\u001b[0m\u001b[0m\n\u001b[0m\u001b[0;32m   3585\u001b[0m \u001b[1;33m\u001b[0m\u001b[0m\n\u001b[0;32m   3586\u001b[0m     \u001b[1;32mdef\u001b[0m \u001b[0mselect_columns\u001b[0m\u001b[1;33m(\u001b[0m\u001b[0mself\u001b[0m\u001b[1;33m,\u001b[0m \u001b[0mkeylist\u001b[0m\u001b[1;33m)\u001b[0m\u001b[1;33m:\u001b[0m\u001b[1;33m\u001b[0m\u001b[0m\n",
      "\u001b[1;32mC:\\Users\\User2\\Anaconda2\\envs\\dato-env\\lib\\site-packages\\graphlab\\cython\\context.pyc\u001b[0m in \u001b[0;36m__exit__\u001b[1;34m(self, exc_type, exc_value, traceback)\u001b[0m\n\u001b[0;32m     47\u001b[0m             \u001b[1;32mif\u001b[0m \u001b[1;32mnot\u001b[0m \u001b[0mself\u001b[0m\u001b[1;33m.\u001b[0m\u001b[0mshow_cython_trace\u001b[0m\u001b[1;33m:\u001b[0m\u001b[1;33m\u001b[0m\u001b[0m\n\u001b[0;32m     48\u001b[0m                 \u001b[1;31m# To hide cython trace, we re-raise from here\u001b[0m\u001b[1;33m\u001b[0m\u001b[1;33m\u001b[0m\u001b[0m\n\u001b[1;32m---> 49\u001b[1;33m                 \u001b[1;32mraise\u001b[0m \u001b[0mexc_type\u001b[0m\u001b[1;33m(\u001b[0m\u001b[0mexc_value\u001b[0m\u001b[1;33m)\u001b[0m\u001b[1;33m\u001b[0m\u001b[0m\n\u001b[0m\u001b[0;32m     50\u001b[0m             \u001b[1;32melse\u001b[0m\u001b[1;33m:\u001b[0m\u001b[1;33m\u001b[0m\u001b[0m\n\u001b[0;32m     51\u001b[0m                 \u001b[1;31m# To show the full trace, we do nothing and let exception propagate\u001b[0m\u001b[1;33m\u001b[0m\u001b[1;33m\u001b[0m\u001b[0m\n",
      "\u001b[1;31mRuntimeError\u001b[0m: Runtime Exception. Column name predicted_sentiment does not exist."
     ]
    }
   ],
   "source": [
    "giraffe_reviews['predicted_sentiment']"
   ]
  },
  {
   "cell_type": "code",
   "execution_count": 25,
   "metadata": {
    "collapsed": true
   },
   "outputs": [],
   "source": [
    "giraffe_reviews['predicted_sentiment'] = sentiment_model.predict(giraffe_reviews, output_type='probability')"
   ]
  },
  {
   "cell_type": "code",
   "execution_count": 26,
   "metadata": {
    "collapsed": false
   },
   "outputs": [
    {
     "data": {
      "text/html": [
       "<div style=\"max-height:1000px;max-width:1500px;overflow:auto;\"><table frame=\"box\" rules=\"cols\">\n",
       "    <tr>\n",
       "        <th style=\"padding-left: 1em; padding-right: 1em; text-align: center\">name</th>\n",
       "        <th style=\"padding-left: 1em; padding-right: 1em; text-align: center\">review</th>\n",
       "        <th style=\"padding-left: 1em; padding-right: 1em; text-align: center\">rating</th>\n",
       "        <th style=\"padding-left: 1em; padding-right: 1em; text-align: center\">word_count</th>\n",
       "        <th style=\"padding-left: 1em; padding-right: 1em; text-align: center\">predicted_sentiment</th>\n",
       "    </tr>\n",
       "    <tr>\n",
       "        <td style=\"padding-left: 1em; padding-right: 1em; text-align: center; vertical-align: top\">Vulli Sophie the Giraffe<br>Teether ...</td>\n",
       "        <td style=\"padding-left: 1em; padding-right: 1em; text-align: center; vertical-align: top\">He likes chewing on all<br>the parts especially the ...</td>\n",
       "        <td style=\"padding-left: 1em; padding-right: 1em; text-align: center; vertical-align: top\">5.0</td>\n",
       "        <td style=\"padding-left: 1em; padding-right: 1em; text-align: center; vertical-align: top\">{'and': 1L, 'all': 1L,<br>'because': 1L, 'it': 1L, ...</td>\n",
       "        <td style=\"padding-left: 1em; padding-right: 1em; text-align: center; vertical-align: top\">0.997713976229</td>\n",
       "    </tr>\n",
       "    <tr>\n",
       "        <td style=\"padding-left: 1em; padding-right: 1em; text-align: center; vertical-align: top\">Vulli Sophie the Giraffe<br>Teether ...</td>\n",
       "        <td style=\"padding-left: 1em; padding-right: 1em; text-align: center; vertical-align: top\">My son loves this toy and<br>fits great in the diaper ...</td>\n",
       "        <td style=\"padding-left: 1em; padding-right: 1em; text-align: center; vertical-align: top\">5.0</td>\n",
       "        <td style=\"padding-left: 1em; padding-right: 1em; text-align: center; vertical-align: top\">{'and': 1L, 'right': 1L,<br>'help': 1L, 'just': 1L, ...</td>\n",
       "        <td style=\"padding-left: 1em; padding-right: 1em; text-align: center; vertical-align: top\">0.998305995832</td>\n",
       "    </tr>\n",
       "    <tr>\n",
       "        <td style=\"padding-left: 1em; padding-right: 1em; text-align: center; vertical-align: top\">Vulli Sophie the Giraffe<br>Teether ...</td>\n",
       "        <td style=\"padding-left: 1em; padding-right: 1em; text-align: center; vertical-align: top\">There really should be a<br>large warning on the  ...</td>\n",
       "        <td style=\"padding-left: 1em; padding-right: 1em; text-align: center; vertical-align: top\">1.0</td>\n",
       "        <td style=\"padding-left: 1em; padding-right: 1em; text-align: center; vertical-align: top\">{'and': 2L, 'all': 1L,<br>'latex.': 1L, 'being': ...</td>\n",
       "        <td style=\"padding-left: 1em; padding-right: 1em; text-align: center; vertical-align: top\">1.24423729415e-05</td>\n",
       "    </tr>\n",
       "    <tr>\n",
       "        <td style=\"padding-left: 1em; padding-right: 1em; text-align: center; vertical-align: top\">Vulli Sophie the Giraffe<br>Teether ...</td>\n",
       "        <td style=\"padding-left: 1em; padding-right: 1em; text-align: center; vertical-align: top\">All the moms in my moms'<br>group got Sophie for ...</td>\n",
       "        <td style=\"padding-left: 1em; padding-right: 1em; text-align: center; vertical-align: top\">5.0</td>\n",
       "        <td style=\"padding-left: 1em; padding-right: 1em; text-align: center; vertical-align: top\">{'and': 2L, 'one!': 1L,<br>'all': 1L, 'love': 1L, ...</td>\n",
       "        <td style=\"padding-left: 1em; padding-right: 1em; text-align: center; vertical-align: top\">0.995124709002</td>\n",
       "    </tr>\n",
       "    <tr>\n",
       "        <td style=\"padding-left: 1em; padding-right: 1em; text-align: center; vertical-align: top\">Vulli Sophie the Giraffe<br>Teether ...</td>\n",
       "        <td style=\"padding-left: 1em; padding-right: 1em; text-align: center; vertical-align: top\">I was a little skeptical<br>on whether Sophie was ...</td>\n",
       "        <td style=\"padding-left: 1em; padding-right: 1em; text-align: center; vertical-align: top\">5.0</td>\n",
       "        <td style=\"padding-left: 1em; padding-right: 1em; text-align: center; vertical-align: top\">{'and': 3L, 'all': 1L,<br>'old': 1L, 'her.': 1L, ...</td>\n",
       "        <td style=\"padding-left: 1em; padding-right: 1em; text-align: center; vertical-align: top\">0.783333367343</td>\n",
       "    </tr>\n",
       "    <tr>\n",
       "        <td style=\"padding-left: 1em; padding-right: 1em; text-align: center; vertical-align: top\">Vulli Sophie the Giraffe<br>Teether ...</td>\n",
       "        <td style=\"padding-left: 1em; padding-right: 1em; text-align: center; vertical-align: top\">I have been reading about<br>Sophie and was going  ...</td>\n",
       "        <td style=\"padding-left: 1em; padding-right: 1em; text-align: center; vertical-align: top\">5.0</td>\n",
       "        <td style=\"padding-left: 1em; padding-right: 1em; text-align: center; vertical-align: top\">{'and': 6L, 'seven': 1L,<br>'already': 1L, 'love': ...</td>\n",
       "        <td style=\"padding-left: 1em; padding-right: 1em; text-align: center; vertical-align: top\">0.999992656691</td>\n",
       "    </tr>\n",
       "    <tr>\n",
       "        <td style=\"padding-left: 1em; padding-right: 1em; text-align: center; vertical-align: top\">Vulli Sophie the Giraffe<br>Teether ...</td>\n",
       "        <td style=\"padding-left: 1em; padding-right: 1em; text-align: center; vertical-align: top\">My neice loves her sophie<br>and has spent hours ...</td>\n",
       "        <td style=\"padding-left: 1em; padding-right: 1em; text-align: center; vertical-align: top\">5.0</td>\n",
       "        <td style=\"padding-left: 1em; padding-right: 1em; text-align: center; vertical-align: top\">{'and': 4L, 'drooling,':<br>1L, 'love': 1L, 'her.': ...</td>\n",
       "        <td style=\"padding-left: 1em; padding-right: 1em; text-align: center; vertical-align: top\">0.980155846791</td>\n",
       "    </tr>\n",
       "    <tr>\n",
       "        <td style=\"padding-left: 1em; padding-right: 1em; text-align: center; vertical-align: top\">Vulli Sophie the Giraffe<br>Teether ...</td>\n",
       "        <td style=\"padding-left: 1em; padding-right: 1em; text-align: center; vertical-align: top\">What a friendly face!<br>And those mesmerizing ...</td>\n",
       "        <td style=\"padding-left: 1em; padding-right: 1em; text-align: center; vertical-align: top\">5.0</td>\n",
       "        <td style=\"padding-left: 1em; padding-right: 1em; text-align: center; vertical-align: top\">{'and': 3L, 'chew': 1L,<br>\"don't\": 1L, 'is': 1L, ...</td>\n",
       "        <td style=\"padding-left: 1em; padding-right: 1em; text-align: center; vertical-align: top\">0.999628625614</td>\n",
       "    </tr>\n",
       "    <tr>\n",
       "        <td style=\"padding-left: 1em; padding-right: 1em; text-align: center; vertical-align: top\">Vulli Sophie the Giraffe<br>Teether ...</td>\n",
       "        <td style=\"padding-left: 1em; padding-right: 1em; text-align: center; vertical-align: top\">We got this just for my<br>son to chew on instea ...</td>\n",
       "        <td style=\"padding-left: 1em; padding-right: 1em; text-align: center; vertical-align: top\">5.0</td>\n",
       "        <td style=\"padding-left: 1em; padding-right: 1em; text-align: center; vertical-align: top\">{'chew': 2L, 'because':<br>1L, 'just': 2L, 'what': ...</td>\n",
       "        <td style=\"padding-left: 1em; padding-right: 1em; text-align: center; vertical-align: top\">0.957081628067</td>\n",
       "    </tr>\n",
       "    <tr>\n",
       "        <td style=\"padding-left: 1em; padding-right: 1em; text-align: center; vertical-align: top\">Vulli Sophie the Giraffe<br>Teether ...</td>\n",
       "        <td style=\"padding-left: 1em; padding-right: 1em; text-align: center; vertical-align: top\">My baby seems to like<br>this toy, but I could ...</td>\n",
       "        <td style=\"padding-left: 1em; padding-right: 1em; text-align: center; vertical-align: top\">3.0</td>\n",
       "        <td style=\"padding-left: 1em; padding-right: 1em; text-align: center; vertical-align: top\">{'and': 2L, 'already':<br>1L, 'in': 1L, 'some': ...</td>\n",
       "        <td style=\"padding-left: 1em; padding-right: 1em; text-align: center; vertical-align: top\">0.000870330258935</td>\n",
       "    </tr>\n",
       "</table>\n",
       "[10 rows x 5 columns]<br/>\n",
       "</div>"
      ],
      "text/plain": [
       "Columns:\n",
       "\tname\tstr\n",
       "\treview\tstr\n",
       "\trating\tfloat\n",
       "\tword_count\tdict\n",
       "\tpredicted_sentiment\tfloat\n",
       "\n",
       "Rows: 10\n",
       "\n",
       "Data:\n",
       "+-------------------------------+-------------------------------+--------+\n",
       "|              name             |             review            | rating |\n",
       "+-------------------------------+-------------------------------+--------+\n",
       "| Vulli Sophie the Giraffe T... | He likes chewing on all th... |  5.0   |\n",
       "| Vulli Sophie the Giraffe T... | My son loves this toy and ... |  5.0   |\n",
       "| Vulli Sophie the Giraffe T... | There really should be a l... |  1.0   |\n",
       "| Vulli Sophie the Giraffe T... | All the moms in my moms' g... |  5.0   |\n",
       "| Vulli Sophie the Giraffe T... | I was a little skeptical o... |  5.0   |\n",
       "| Vulli Sophie the Giraffe T... | I have been reading about ... |  5.0   |\n",
       "| Vulli Sophie the Giraffe T... | My neice loves her sophie ... |  5.0   |\n",
       "| Vulli Sophie the Giraffe T... | What a friendly face!  And... |  5.0   |\n",
       "| Vulli Sophie the Giraffe T... | We got this just for my so... |  5.0   |\n",
       "| Vulli Sophie the Giraffe T... | My baby seems to like this... |  3.0   |\n",
       "+-------------------------------+-------------------------------+--------+\n",
       "+-------------------------------+---------------------+\n",
       "|           word_count          | predicted_sentiment |\n",
       "+-------------------------------+---------------------+\n",
       "| {'and': 1L, 'all': 1L, 'be... |    0.997713976229   |\n",
       "| {'and': 1L, 'right': 1L, '... |    0.998305995832   |\n",
       "| {'and': 2L, 'all': 1L, 'la... |  1.24423729415e-05  |\n",
       "| {'and': 2L, 'one!': 1L, 'a... |    0.995124709002   |\n",
       "| {'and': 3L, 'all': 1L, 'ol... |    0.783333367343   |\n",
       "| {'and': 6L, 'seven': 1L, '... |    0.999992656691   |\n",
       "| {'and': 4L, 'drooling,': 1... |    0.980155846791   |\n",
       "| {'and': 3L, 'chew': 1L, \"d... |    0.999628625614   |\n",
       "| {'chew': 2L, 'because': 1L... |    0.957081628067   |\n",
       "| {'and': 2L, 'already': 1L,... |  0.000870330258935  |\n",
       "+-------------------------------+---------------------+\n",
       "[10 rows x 5 columns]"
      ]
     },
     "execution_count": 26,
     "metadata": {},
     "output_type": "execute_result"
    }
   ],
   "source": [
    "giraffe_reviews.head()"
   ]
  },
  {
   "cell_type": "markdown",
   "metadata": {},
   "source": [
    "##Sort the reviews based on the predicted sentiment and explore"
   ]
  },
  {
   "cell_type": "code",
   "execution_count": 27,
   "metadata": {
    "collapsed": true
   },
   "outputs": [
    {
     "ename": "ValueError",
     "evalue": "SFrame has no column named: 'redicted_sentiment'",
     "output_type": "error",
     "traceback": [
      "\u001b[1;31m---------------------------------------------------------------------------\u001b[0m",
      "\u001b[1;31mValueError\u001b[0m                                Traceback (most recent call last)",
      "\u001b[1;32m<ipython-input-27-1069119481e2>\u001b[0m in \u001b[0;36m<module>\u001b[1;34m()\u001b[0m\n\u001b[1;32m----> 1\u001b[1;33m \u001b[0mgiraffe_reviews\u001b[0m \u001b[1;33m=\u001b[0m \u001b[0mgiraffe_reviews\u001b[0m\u001b[1;33m.\u001b[0m\u001b[0msort\u001b[0m\u001b[1;33m(\u001b[0m\u001b[1;34m'redicted_sentiment'\u001b[0m\u001b[1;33m,\u001b[0m\u001b[0mascending\u001b[0m \u001b[1;33m=\u001b[0m\u001b[0mFalse\u001b[0m\u001b[1;33m)\u001b[0m\u001b[1;33m\u001b[0m\u001b[0m\n\u001b[0m",
      "\u001b[1;32mC:\\Users\\User2\\Anaconda2\\envs\\dato-env\\lib\\site-packages\\graphlab\\data_structures\\sframe.pyc\u001b[0m in \u001b[0;36msort\u001b[1;34m(self, sort_columns, ascending)\u001b[0m\n\u001b[0;32m   5847\u001b[0m                 \u001b[1;32mraise\u001b[0m \u001b[0mTypeError\u001b[0m\u001b[1;33m(\u001b[0m\u001b[1;34m\"Only string parameter can be passed in as column names\"\u001b[0m\u001b[1;33m)\u001b[0m\u001b[1;33m\u001b[0m\u001b[0m\n\u001b[0;32m   5848\u001b[0m             \u001b[1;32mif\u001b[0m \u001b[1;33m(\u001b[0m\u001b[0mcolumn\u001b[0m \u001b[1;32mnot\u001b[0m \u001b[1;32min\u001b[0m \u001b[0mmy_column_names\u001b[0m\u001b[1;33m)\u001b[0m\u001b[1;33m:\u001b[0m\u001b[1;33m\u001b[0m\u001b[0m\n\u001b[1;32m-> 5849\u001b[1;33m                 \u001b[1;32mraise\u001b[0m \u001b[0mValueError\u001b[0m\u001b[1;33m(\u001b[0m\u001b[1;34m\"SFrame has no column named: '\"\u001b[0m \u001b[1;33m+\u001b[0m \u001b[0mstr\u001b[0m\u001b[1;33m(\u001b[0m\u001b[0mcolumn\u001b[0m\u001b[1;33m)\u001b[0m \u001b[1;33m+\u001b[0m \u001b[1;34m\"'\"\u001b[0m\u001b[1;33m)\u001b[0m\u001b[1;33m\u001b[0m\u001b[0m\n\u001b[0m\u001b[0;32m   5850\u001b[0m             \u001b[1;32mif\u001b[0m \u001b[1;33m(\u001b[0m\u001b[0mself\u001b[0m\u001b[1;33m[\u001b[0m\u001b[0mcolumn\u001b[0m\u001b[1;33m]\u001b[0m\u001b[1;33m.\u001b[0m\u001b[0mdtype\u001b[0m\u001b[1;33m(\u001b[0m\u001b[1;33m)\u001b[0m \u001b[1;32mnot\u001b[0m \u001b[1;32min\u001b[0m \u001b[1;33m(\u001b[0m\u001b[0mstr\u001b[0m\u001b[1;33m,\u001b[0m \u001b[0mint\u001b[0m\u001b[1;33m,\u001b[0m \u001b[0mfloat\u001b[0m\u001b[1;33m,\u001b[0m\u001b[0mdatetime\u001b[0m\u001b[1;33m.\u001b[0m\u001b[0mdatetime\u001b[0m\u001b[1;33m)\u001b[0m\u001b[1;33m)\u001b[0m\u001b[1;33m:\u001b[0m\u001b[1;33m\u001b[0m\u001b[0m\n\u001b[0;32m   5851\u001b[0m                 \u001b[1;32mraise\u001b[0m \u001b[0mTypeError\u001b[0m\u001b[1;33m(\u001b[0m\u001b[1;34m\"Only columns of type (str, int, float) can be sorted\"\u001b[0m\u001b[1;33m)\u001b[0m\u001b[1;33m\u001b[0m\u001b[0m\n",
      "\u001b[1;31mValueError\u001b[0m: SFrame has no column named: 'redicted_sentiment'"
     ]
    }
   ],
   "source": [
    "giraffe_reviews = giraffe_reviews.sort('redicted_sentiment',ascending =False)"
   ]
  },
  {
   "cell_type": "code",
   "execution_count": 28,
   "metadata": {
    "collapsed": true
   },
   "outputs": [],
   "source": [
    "giraffe_reviews = giraffe_reviews.sort('predicted_sentiment',ascending =False)"
   ]
  },
  {
   "cell_type": "code",
   "execution_count": 29,
   "metadata": {
    "collapsed": false
   },
   "outputs": [
    {
     "data": {
      "text/html": [
       "<div style=\"max-height:1000px;max-width:1500px;overflow:auto;\"><table frame=\"box\" rules=\"cols\">\n",
       "    <tr>\n",
       "        <th style=\"padding-left: 1em; padding-right: 1em; text-align: center\">name</th>\n",
       "        <th style=\"padding-left: 1em; padding-right: 1em; text-align: center\">review</th>\n",
       "        <th style=\"padding-left: 1em; padding-right: 1em; text-align: center\">rating</th>\n",
       "        <th style=\"padding-left: 1em; padding-right: 1em; text-align: center\">word_count</th>\n",
       "        <th style=\"padding-left: 1em; padding-right: 1em; text-align: center\">predicted_sentiment</th>\n",
       "    </tr>\n",
       "    <tr>\n",
       "        <td style=\"padding-left: 1em; padding-right: 1em; text-align: center; vertical-align: top\">Vulli Sophie the Giraffe<br>Teether ...</td>\n",
       "        <td style=\"padding-left: 1em; padding-right: 1em; text-align: center; vertical-align: top\">Sophie, oh Sophie, your<br>time has come. My ...</td>\n",
       "        <td style=\"padding-left: 1em; padding-right: 1em; text-align: center; vertical-align: top\">5.0</td>\n",
       "        <td style=\"padding-left: 1em; padding-right: 1em; text-align: center; vertical-align: top\">{'giggles': 1L, 'all':<br>1L, \"violet's\": 2L, ...</td>\n",
       "        <td style=\"padding-left: 1em; padding-right: 1em; text-align: center; vertical-align: top\">1.0</td>\n",
       "    </tr>\n",
       "    <tr>\n",
       "        <td style=\"padding-left: 1em; padding-right: 1em; text-align: center; vertical-align: top\">Vulli Sophie the Giraffe<br>Teether ...</td>\n",
       "        <td style=\"padding-left: 1em; padding-right: 1em; text-align: center; vertical-align: top\">My nephews and my four<br>kids all had Sophie in ...</td>\n",
       "        <td style=\"padding-left: 1em; padding-right: 1em; text-align: center; vertical-align: top\">5.0</td>\n",
       "        <td style=\"padding-left: 1em; padding-right: 1em; text-align: center; vertical-align: top\">{'and': 4L, 'chew': 1L,<br>'all': 1L, 'perfect;': ...</td>\n",
       "        <td style=\"padding-left: 1em; padding-right: 1em; text-align: center; vertical-align: top\">0.999999995946</td>\n",
       "    </tr>\n",
       "    <tr>\n",
       "        <td style=\"padding-left: 1em; padding-right: 1em; text-align: center; vertical-align: top\">Vulli Sophie the Giraffe<br>Teether ...</td>\n",
       "        <td style=\"padding-left: 1em; padding-right: 1em; text-align: center; vertical-align: top\">We got this little<br>giraffe as a gift from a ...</td>\n",
       "        <td style=\"padding-left: 1em; padding-right: 1em; text-align: center; vertical-align: top\">5.0</td>\n",
       "        <td style=\"padding-left: 1em; padding-right: 1em; text-align: center; vertical-align: top\">{'all': 2L, \"don't\": 1L,<br>'(literally).so': 1L, ...</td>\n",
       "        <td style=\"padding-left: 1em; padding-right: 1em; text-align: center; vertical-align: top\">0.999999994752</td>\n",
       "    </tr>\n",
       "    <tr>\n",
       "        <td style=\"padding-left: 1em; padding-right: 1em; text-align: center; vertical-align: top\">Vulli Sophie the Giraffe<br>Teether ...</td>\n",
       "        <td style=\"padding-left: 1em; padding-right: 1em; text-align: center; vertical-align: top\">So much more than a<br>teether. It helps my ...</td>\n",
       "        <td style=\"padding-left: 1em; padding-right: 1em; text-align: center; vertical-align: top\">5.0</td>\n",
       "        <td style=\"padding-left: 1em; padding-right: 1em; text-align: center; vertical-align: top\">{'and': 4L, 'chew': 1L,<br>'all': 1L, 'since': 1L, ...</td>\n",
       "        <td style=\"padding-left: 1em; padding-right: 1em; text-align: center; vertical-align: top\">0.999999979126</td>\n",
       "    </tr>\n",
       "    <tr>\n",
       "        <td style=\"padding-left: 1em; padding-right: 1em; text-align: center; vertical-align: top\">Vulli Sophie the Giraffe<br>Teether ...</td>\n",
       "        <td style=\"padding-left: 1em; padding-right: 1em; text-align: center; vertical-align: top\">Sophie la giraffe is<br>absolutely the best toy ...</td>\n",
       "        <td style=\"padding-left: 1em; padding-right: 1em; text-align: center; vertical-align: top\">5.0</td>\n",
       "        <td style=\"padding-left: 1em; padding-right: 1em; text-align: center; vertical-align: top\">{'and': 5L, 'the': 1L,<br>'all': 1L, 'old': 1L, ...</td>\n",
       "        <td style=\"padding-left: 1em; padding-right: 1em; text-align: center; vertical-align: top\">0.999999976154</td>\n",
       "    </tr>\n",
       "    <tr>\n",
       "        <td style=\"padding-left: 1em; padding-right: 1em; text-align: center; vertical-align: top\">Vulli Sophie the Giraffe<br>Teether ...</td>\n",
       "        <td style=\"padding-left: 1em; padding-right: 1em; text-align: center; vertical-align: top\">I'll be honest...I bought<br>this toy because all the ...</td>\n",
       "        <td style=\"padding-left: 1em; padding-right: 1em; text-align: center; vertical-align: top\">4.0</td>\n",
       "        <td style=\"padding-left: 1em; padding-right: 1em; text-align: center; vertical-align: top\">{'all': 2L, 'pops': 1L,<br>'existence.': 1L, ...</td>\n",
       "        <td style=\"padding-left: 1em; padding-right: 1em; text-align: center; vertical-align: top\">0.999999945084</td>\n",
       "    </tr>\n",
       "    <tr>\n",
       "        <td style=\"padding-left: 1em; padding-right: 1em; text-align: center; vertical-align: top\">Vulli Sophie the Giraffe<br>Teether ...</td>\n",
       "        <td style=\"padding-left: 1em; padding-right: 1em; text-align: center; vertical-align: top\">I'm not sure why Sophie<br>is such a hit with the ...</td>\n",
       "        <td style=\"padding-left: 1em; padding-right: 1em; text-align: center; vertical-align: top\">4.0</td>\n",
       "        <td style=\"padding-left: 1em; padding-right: 1em; text-align: center; vertical-align: top\">{'peace': 1L, 'month':<br>1L, 'bright': 1L, ...</td>\n",
       "        <td style=\"padding-left: 1em; padding-right: 1em; text-align: center; vertical-align: top\">0.999999937466</td>\n",
       "    </tr>\n",
       "    <tr>\n",
       "        <td style=\"padding-left: 1em; padding-right: 1em; text-align: center; vertical-align: top\">Vulli Sophie the Giraffe<br>Teether ...</td>\n",
       "        <td style=\"padding-left: 1em; padding-right: 1em; text-align: center; vertical-align: top\">Never thought I'd see my<br>son French kissing a ...</td>\n",
       "        <td style=\"padding-left: 1em; padding-right: 1em; text-align: center; vertical-align: top\">5.0</td>\n",
       "        <td style=\"padding-left: 1em; padding-right: 1em; text-align: center; vertical-align: top\">{'giggles': 1L, 'all':<br>1L, 'out,': 1L, 'over': ...</td>\n",
       "        <td style=\"padding-left: 1em; padding-right: 1em; text-align: center; vertical-align: top\">0.999999890791</td>\n",
       "    </tr>\n",
       "    <tr>\n",
       "        <td style=\"padding-left: 1em; padding-right: 1em; text-align: center; vertical-align: top\">Vulli Sophie the Giraffe<br>Teether ...</td>\n",
       "        <td style=\"padding-left: 1em; padding-right: 1em; text-align: center; vertical-align: top\">My 5-mos old son took to<br>this immediately. The ...</td>\n",
       "        <td style=\"padding-left: 1em; padding-right: 1em; text-align: center; vertical-align: top\">5.0</td>\n",
       "        <td style=\"padding-left: 1em; padding-right: 1em; text-align: center; vertical-align: top\">{'just': 1L, 'shape': 2L,<br>'mutt': 1L, '\"dog': 1L, ...</td>\n",
       "        <td style=\"padding-left: 1em; padding-right: 1em; text-align: center; vertical-align: top\">0.999999887912</td>\n",
       "    </tr>\n",
       "    <tr>\n",
       "        <td style=\"padding-left: 1em; padding-right: 1em; text-align: center; vertical-align: top\">Vulli Sophie the Giraffe<br>Teether ...</td>\n",
       "        <td style=\"padding-left: 1em; padding-right: 1em; text-align: center; vertical-align: top\">Sophie the Giraffe is the<br>perfect teething toy. ...</td>\n",
       "        <td style=\"padding-left: 1em; padding-right: 1em; text-align: center; vertical-align: top\">5.0</td>\n",
       "        <td style=\"padding-left: 1em; padding-right: 1em; text-align: center; vertical-align: top\">{'just': 2L, 'both': 1L,<br>'month': 1L, 'ears,': ...</td>\n",
       "        <td style=\"padding-left: 1em; padding-right: 1em; text-align: center; vertical-align: top\">0.999999880634</td>\n",
       "    </tr>\n",
       "</table>\n",
       "[10 rows x 5 columns]<br/>\n",
       "</div>"
      ],
      "text/plain": [
       "Columns:\n",
       "\tname\tstr\n",
       "\treview\tstr\n",
       "\trating\tfloat\n",
       "\tword_count\tdict\n",
       "\tpredicted_sentiment\tfloat\n",
       "\n",
       "Rows: 10\n",
       "\n",
       "Data:\n",
       "+-------------------------------+-------------------------------+--------+\n",
       "|              name             |             review            | rating |\n",
       "+-------------------------------+-------------------------------+--------+\n",
       "| Vulli Sophie the Giraffe T... | Sophie, oh Sophie, your ti... |  5.0   |\n",
       "| Vulli Sophie the Giraffe T... | My nephews and my four kid... |  5.0   |\n",
       "| Vulli Sophie the Giraffe T... | We got this little giraffe... |  5.0   |\n",
       "| Vulli Sophie the Giraffe T... | So much more than a teethe... |  5.0   |\n",
       "| Vulli Sophie the Giraffe T... | Sophie la giraffe is absol... |  5.0   |\n",
       "| Vulli Sophie the Giraffe T... | I'll be honest...I bought ... |  4.0   |\n",
       "| Vulli Sophie the Giraffe T... | I'm not sure why Sophie is... |  4.0   |\n",
       "| Vulli Sophie the Giraffe T... | Never thought I'd see my s... |  5.0   |\n",
       "| Vulli Sophie the Giraffe T... | My 5-mos old son took to t... |  5.0   |\n",
       "| Vulli Sophie the Giraffe T... | Sophie the Giraffe is the ... |  5.0   |\n",
       "+-------------------------------+-------------------------------+--------+\n",
       "+-------------------------------+---------------------+\n",
       "|           word_count          | predicted_sentiment |\n",
       "+-------------------------------+---------------------+\n",
       "| {'giggles': 1L, 'all': 1L,... |         1.0         |\n",
       "| {'and': 4L, 'chew': 1L, 'a... |    0.999999995946   |\n",
       "| {'all': 2L, \"don't\": 1L, '... |    0.999999994752   |\n",
       "| {'and': 4L, 'chew': 1L, 'a... |    0.999999979126   |\n",
       "| {'and': 5L, 'the': 1L, 'al... |    0.999999976154   |\n",
       "| {'all': 2L, 'pops': 1L, 'e... |    0.999999945084   |\n",
       "| {'peace': 1L, 'month': 1L,... |    0.999999937466   |\n",
       "| {'giggles': 1L, 'all': 1L,... |    0.999999890791   |\n",
       "| {'just': 1L, 'shape': 2L, ... |    0.999999887912   |\n",
       "| {'just': 2L, 'both': 1L, '... |    0.999999880634   |\n",
       "+-------------------------------+---------------------+\n",
       "[10 rows x 5 columns]"
      ]
     },
     "execution_count": 29,
     "metadata": {},
     "output_type": "execute_result"
    }
   ],
   "source": [
    "giraffe_reviews.head()"
   ]
  },
  {
   "cell_type": "code",
   "execution_count": 30,
   "metadata": {
    "collapsed": false
   },
   "outputs": [
    {
     "data": {
      "text/plain": [
       "\"Sophie, oh Sophie, your time has come. My granddaughter, Violet is 5 months old and starting to teeth. What joy little Sophie brings to Violet. Sophie is made of a very pliable rubber that is sturdy but not tough. It is quite easy for Violet to twist Sophie into unheard of positions to get Sophie into her mouth. The little nose and hooves fit perfectly into small mouths, and the drooling has purpose. The paint on Sophie is food quality.Sophie was born in 1961 in France. The maker had wondered why there was nothing available for babies and made Sophie from the finest rubber, phthalate-free on St Sophie's Day, thus the name was born. Since that time millions of Sophie's populate the world. She is soft and for babies little hands easy to grasp. Violet especially loves the bumpy head and horns of Sophie. Sophie has a long neck that easy to grasp and twist. She has lovely, sizable spots that attract Violet's attention. Sophie has happy little squeaks that bring squeals of delight from Violet. She is able to make Sophie squeak and that brings much joy. Sophie's smooth skin is soothing to Violet's little gums. Sophie is 7 inches tall and is the exact correct size for babies to hold and love.As you well know the first thing babies grasp, goes into their mouths- how wonderful to have a toy that stimulates all of the senses and helps with the issue of teething. Sophie is small enough to fit into any size pocket or bag. Sophie is the perfect find for babies from a few months to a year old. How wonderful to hear the giggles and laughs that emanate from babies who find Sophie irresistible. Viva La Sophie!Highly Recommended.  prisrob 12-11-09\""
      ]
     },
     "execution_count": 30,
     "metadata": {},
     "output_type": "execute_result"
    }
   ],
   "source": [
    "giraffe_reviews[0]['review']"
   ]
  },
  {
   "cell_type": "markdown",
   "metadata": {},
   "source": [
    "#Quiz\n"
   ]
  },
  {
   "cell_type": "code",
   "execution_count": 31,
   "metadata": {
    "collapsed": true
   },
   "outputs": [],
   "source": [
    "selected_words = ['awesome', 'great', 'fantastic', 'amazing', 'love', 'horrible', 'bad', 'terrible', 'awful', 'wow', 'hate']"
   ]
  },
  {
   "cell_type": "code",
   "execution_count": 47,
   "metadata": {
    "collapsed": true
   },
   "outputs": [],
   "source": [
    "def awesome_count(word_count):\n",
    "    if word in word_count:\n",
    "        return word_count[word]\n",
    "    else:\n",
    "        return 0"
   ]
  },
  {
   "cell_type": "code",
   "execution_count": 33,
   "metadata": {
    "collapsed": true
   },
   "outputs": [
    {
     "ename": "AttributeError",
     "evalue": "'str' object has no attribute 'get'",
     "output_type": "error",
     "traceback": [
      "\u001b[1;31m---------------------------------------------------------------------------\u001b[0m",
      "\u001b[1;31mAttributeError\u001b[0m                            Traceback (most recent call last)",
      "\u001b[1;32m<ipython-input-33-015c1560e4f6>\u001b[0m in \u001b[0;36m<module>\u001b[1;34m()\u001b[0m\n\u001b[1;32m----> 1\u001b[1;33m \u001b[0mproducts\u001b[0m\u001b[1;33m[\u001b[0m\u001b[1;34m'awesome'\u001b[0m\u001b[1;33m]\u001b[0m \u001b[1;33m=\u001b[0m \u001b[0mproducts\u001b[0m\u001b[1;33m[\u001b[0m\u001b[1;34m'word_count'\u001b[0m\u001b[1;33m]\u001b[0m\u001b[1;33m.\u001b[0m\u001b[0mapply\u001b[0m\u001b[1;33m(\u001b[0m\u001b[0mawesome_count\u001b[0m\u001b[1;33m)\u001b[0m\u001b[1;33m\u001b[0m\u001b[0m\n\u001b[0m",
      "\u001b[1;32mC:\\Users\\User2\\Anaconda2\\envs\\dato-env\\lib\\site-packages\\graphlab\\data_structures\\sarray.pyc\u001b[0m in \u001b[0;36mapply\u001b[1;34m(self, fn, dtype, skip_undefined, seed)\u001b[0m\n\u001b[0;32m   1675\u001b[0m         \u001b[1;32massert\u001b[0m \u001b[0mcallable\u001b[0m\u001b[1;33m(\u001b[0m\u001b[0mfn\u001b[0m\u001b[1;33m)\u001b[0m\u001b[1;33m,\u001b[0m \u001b[1;34m\"Input function must be callable.\"\u001b[0m\u001b[1;33m\u001b[0m\u001b[0m\n\u001b[0;32m   1676\u001b[0m \u001b[1;33m\u001b[0m\u001b[0m\n\u001b[1;32m-> 1677\u001b[1;33m         \u001b[0mdryrun\u001b[0m \u001b[1;33m=\u001b[0m \u001b[1;33m[\u001b[0m\u001b[0mfn\u001b[0m\u001b[1;33m(\u001b[0m\u001b[0mi\u001b[0m\u001b[1;33m)\u001b[0m \u001b[1;32mfor\u001b[0m \u001b[0mi\u001b[0m \u001b[1;32min\u001b[0m \u001b[0mself\u001b[0m\u001b[1;33m.\u001b[0m\u001b[0mhead\u001b[0m\u001b[1;33m(\u001b[0m\u001b[1;36m100\u001b[0m\u001b[1;33m)\u001b[0m \u001b[1;32mif\u001b[0m \u001b[0mi\u001b[0m \u001b[1;32mis\u001b[0m \u001b[1;32mnot\u001b[0m \u001b[0mNone\u001b[0m\u001b[1;33m]\u001b[0m\u001b[1;33m\u001b[0m\u001b[0m\n\u001b[0m\u001b[0;32m   1678\u001b[0m         \u001b[1;32mif\u001b[0m \u001b[0mdtype\u001b[0m \u001b[1;33m==\u001b[0m \u001b[0mNone\u001b[0m\u001b[1;33m:\u001b[0m\u001b[1;33m\u001b[0m\u001b[0m\n\u001b[0;32m   1679\u001b[0m             \u001b[0mdtype\u001b[0m \u001b[1;33m=\u001b[0m \u001b[0minfer_type_of_list\u001b[0m\u001b[1;33m(\u001b[0m\u001b[0mdryrun\u001b[0m\u001b[1;33m)\u001b[0m\u001b[1;33m\u001b[0m\u001b[0m\n",
      "\u001b[1;32m<ipython-input-32-1b4ef9a30d58>\u001b[0m in \u001b[0;36mawesome_count\u001b[1;34m(word_count)\u001b[0m\n\u001b[0;32m      2\u001b[0m     \u001b[0mcnt\u001b[0m \u001b[1;33m=\u001b[0m \u001b[1;36m0\u001b[0m\u001b[1;33m\u001b[0m\u001b[0m\n\u001b[0;32m      3\u001b[0m     \u001b[1;32mfor\u001b[0m \u001b[0mc\u001b[0m \u001b[1;32min\u001b[0m \u001b[0mword_count\u001b[0m\u001b[1;33m:\u001b[0m\u001b[1;33m\u001b[0m\u001b[0m\n\u001b[1;32m----> 4\u001b[1;33m         \u001b[1;32mif\u001b[0m \u001b[0mc\u001b[0m\u001b[1;33m.\u001b[0m\u001b[0mget\u001b[0m\u001b[1;33m(\u001b[0m\u001b[1;34m'awesome'\u001b[0m\u001b[1;33m)\u001b[0m\u001b[1;33m:\u001b[0m\u001b[1;33m\u001b[0m\u001b[0m\n\u001b[0m\u001b[0;32m      5\u001b[0m             \u001b[0mcnt\u001b[0m \u001b[1;33m+=\u001b[0m \u001b[1;36m1\u001b[0m\u001b[1;33m\u001b[0m\u001b[0m\n\u001b[0;32m      6\u001b[0m     \u001b[1;32mreturn\u001b[0m \u001b[0mcnt\u001b[0m\u001b[1;33m\u001b[0m\u001b[0m\n",
      "\u001b[1;31mAttributeError\u001b[0m: 'str' object has no attribute 'get'"
     ]
    }
   ],
   "source": [
    "products['awesome'] = products['word_count'].apply(awesome_count)"
   ]
  },
  {
   "cell_type": "code",
   "execution_count": 37,
   "metadata": {
    "collapsed": true
   },
   "outputs": [],
   "source": [
    "products['awesome'] = products['word_count'].apply(awesome_count)"
   ]
  },
  {
   "cell_type": "code",
   "execution_count": 38,
   "metadata": {
    "collapsed": true
   },
   "outputs": [
    {
     "data": {
      "text/html": [
       "<div style=\"max-height:1000px;max-width:1500px;overflow:auto;\"><table frame=\"box\" rules=\"cols\">\n",
       "    <tr>\n",
       "        <th style=\"padding-left: 1em; padding-right: 1em; text-align: center\">name</th>\n",
       "        <th style=\"padding-left: 1em; padding-right: 1em; text-align: center\">review</th>\n",
       "        <th style=\"padding-left: 1em; padding-right: 1em; text-align: center\">rating</th>\n",
       "        <th style=\"padding-left: 1em; padding-right: 1em; text-align: center\">word_count</th>\n",
       "        <th style=\"padding-left: 1em; padding-right: 1em; text-align: center\">sentiment</th>\n",
       "        <th style=\"padding-left: 1em; padding-right: 1em; text-align: center\">awesome</th>\n",
       "    </tr>\n",
       "    <tr>\n",
       "        <td style=\"padding-left: 1em; padding-right: 1em; text-align: center; vertical-align: top\">Planetwise Flannel Wipes</td>\n",
       "        <td style=\"padding-left: 1em; padding-right: 1em; text-align: center; vertical-align: top\">These flannel wipes are<br>OK, but in my opinion ...</td>\n",
       "        <td style=\"padding-left: 1em; padding-right: 1em; text-align: center; vertical-align: top\">3.0</td>\n",
       "        <td style=\"padding-left: 1em; padding-right: 1em; text-align: center; vertical-align: top\">{'and': 5L, 'stink': 1L,<br>'because': 1L, 'order ...</td>\n",
       "        <td style=\"padding-left: 1em; padding-right: 1em; text-align: center; vertical-align: top\">0</td>\n",
       "        <td style=\"padding-left: 1em; padding-right: 1em; text-align: center; vertical-align: top\">None</td>\n",
       "    </tr>\n",
       "    <tr>\n",
       "        <td style=\"padding-left: 1em; padding-right: 1em; text-align: center; vertical-align: top\">Planetwise Wipe Pouch</td>\n",
       "        <td style=\"padding-left: 1em; padding-right: 1em; text-align: center; vertical-align: top\">it came early and was not<br>disappointed. i love ...</td>\n",
       "        <td style=\"padding-left: 1em; padding-right: 1em; text-align: center; vertical-align: top\">5.0</td>\n",
       "        <td style=\"padding-left: 1em; padding-right: 1em; text-align: center; vertical-align: top\">{'and': 3L, 'love': 1L,<br>'it': 2L, 'highly': 1L, ...</td>\n",
       "        <td style=\"padding-left: 1em; padding-right: 1em; text-align: center; vertical-align: top\">1</td>\n",
       "        <td style=\"padding-left: 1em; padding-right: 1em; text-align: center; vertical-align: top\">None</td>\n",
       "    </tr>\n",
       "    <tr>\n",
       "        <td style=\"padding-left: 1em; padding-right: 1em; text-align: center; vertical-align: top\">Annas Dream Full Quilt<br>with 2 Shams ...</td>\n",
       "        <td style=\"padding-left: 1em; padding-right: 1em; text-align: center; vertical-align: top\">Very soft and comfortable<br>and warmer than it ...</td>\n",
       "        <td style=\"padding-left: 1em; padding-right: 1em; text-align: center; vertical-align: top\">5.0</td>\n",
       "        <td style=\"padding-left: 1em; padding-right: 1em; text-align: center; vertical-align: top\">{'and': 2L, 'quilt': 1L,<br>'it': 1L, 'comfortable': ...</td>\n",
       "        <td style=\"padding-left: 1em; padding-right: 1em; text-align: center; vertical-align: top\">1</td>\n",
       "        <td style=\"padding-left: 1em; padding-right: 1em; text-align: center; vertical-align: top\">None</td>\n",
       "    </tr>\n",
       "    <tr>\n",
       "        <td style=\"padding-left: 1em; padding-right: 1em; text-align: center; vertical-align: top\">Stop Pacifier Sucking<br>without tears with ...</td>\n",
       "        <td style=\"padding-left: 1em; padding-right: 1em; text-align: center; vertical-align: top\">This is a product well<br>worth the purchase.  I ...</td>\n",
       "        <td style=\"padding-left: 1em; padding-right: 1em; text-align: center; vertical-align: top\">5.0</td>\n",
       "        <td style=\"padding-left: 1em; padding-right: 1em; text-align: center; vertical-align: top\">{'ingenious': 1L, 'and':<br>3L, 'love': 2L, ...</td>\n",
       "        <td style=\"padding-left: 1em; padding-right: 1em; text-align: center; vertical-align: top\">1</td>\n",
       "        <td style=\"padding-left: 1em; padding-right: 1em; text-align: center; vertical-align: top\">None</td>\n",
       "    </tr>\n",
       "    <tr>\n",
       "        <td style=\"padding-left: 1em; padding-right: 1em; text-align: center; vertical-align: top\">Stop Pacifier Sucking<br>without tears with ...</td>\n",
       "        <td style=\"padding-left: 1em; padding-right: 1em; text-align: center; vertical-align: top\">All of my kids have cried<br>non-stop when I tried to ...</td>\n",
       "        <td style=\"padding-left: 1em; padding-right: 1em; text-align: center; vertical-align: top\">5.0</td>\n",
       "        <td style=\"padding-left: 1em; padding-right: 1em; text-align: center; vertical-align: top\">{'and': 2L, 'parents!!':<br>1L, 'all': 2L, 'puppe ...</td>\n",
       "        <td style=\"padding-left: 1em; padding-right: 1em; text-align: center; vertical-align: top\">1</td>\n",
       "        <td style=\"padding-left: 1em; padding-right: 1em; text-align: center; vertical-align: top\">None</td>\n",
       "    </tr>\n",
       "    <tr>\n",
       "        <td style=\"padding-left: 1em; padding-right: 1em; text-align: center; vertical-align: top\">Stop Pacifier Sucking<br>without tears with ...</td>\n",
       "        <td style=\"padding-left: 1em; padding-right: 1em; text-align: center; vertical-align: top\">When the Binky Fairy came<br>to our house, we didn't ...</td>\n",
       "        <td style=\"padding-left: 1em; padding-right: 1em; text-align: center; vertical-align: top\">5.0</td>\n",
       "        <td style=\"padding-left: 1em; padding-right: 1em; text-align: center; vertical-align: top\">{'and': 2L, 'cute': 1L,<br>'help': 2L, 'doll': 1L, ...</td>\n",
       "        <td style=\"padding-left: 1em; padding-right: 1em; text-align: center; vertical-align: top\">1</td>\n",
       "        <td style=\"padding-left: 1em; padding-right: 1em; text-align: center; vertical-align: top\">None</td>\n",
       "    </tr>\n",
       "    <tr>\n",
       "        <td style=\"padding-left: 1em; padding-right: 1em; text-align: center; vertical-align: top\">A Tale of Baby's Days<br>with Peter Rabbit ...</td>\n",
       "        <td style=\"padding-left: 1em; padding-right: 1em; text-align: center; vertical-align: top\">Lovely book, it's bound<br>tightly so you may no ...</td>\n",
       "        <td style=\"padding-left: 1em; padding-right: 1em; text-align: center; vertical-align: top\">4.0</td>\n",
       "        <td style=\"padding-left: 1em; padding-right: 1em; text-align: center; vertical-align: top\">{'shop': 1L, 'be': 1L,<br>'is': 1L, 'it': 1L, ' ...</td>\n",
       "        <td style=\"padding-left: 1em; padding-right: 1em; text-align: center; vertical-align: top\">1</td>\n",
       "        <td style=\"padding-left: 1em; padding-right: 1em; text-align: center; vertical-align: top\">None</td>\n",
       "    </tr>\n",
       "    <tr>\n",
       "        <td style=\"padding-left: 1em; padding-right: 1em; text-align: center; vertical-align: top\">Baby Tracker&amp;reg; - Daily<br>Childcare Journal, ...</td>\n",
       "        <td style=\"padding-left: 1em; padding-right: 1em; text-align: center; vertical-align: top\">Perfect for new parents.<br>We were able to keep ...</td>\n",
       "        <td style=\"padding-left: 1em; padding-right: 1em; text-align: center; vertical-align: top\">5.0</td>\n",
       "        <td style=\"padding-left: 1em; padding-right: 1em; text-align: center; vertical-align: top\">{'feeding,': 1L, 'and':<br>2L, 'all': 1L, 'right': ...</td>\n",
       "        <td style=\"padding-left: 1em; padding-right: 1em; text-align: center; vertical-align: top\">1</td>\n",
       "        <td style=\"padding-left: 1em; padding-right: 1em; text-align: center; vertical-align: top\">None</td>\n",
       "    </tr>\n",
       "    <tr>\n",
       "        <td style=\"padding-left: 1em; padding-right: 1em; text-align: center; vertical-align: top\">Baby Tracker&amp;reg; - Daily<br>Childcare Journal, ...</td>\n",
       "        <td style=\"padding-left: 1em; padding-right: 1em; text-align: center; vertical-align: top\">A friend of mine pinned<br>this product on Pinte ...</td>\n",
       "        <td style=\"padding-left: 1em; padding-right: 1em; text-align: center; vertical-align: top\">5.0</td>\n",
       "        <td style=\"padding-left: 1em; padding-right: 1em; text-align: center; vertical-align: top\">{'and': 1L, 'help': 1L,<br>'give': 1L, 'is': 1L, ...</td>\n",
       "        <td style=\"padding-left: 1em; padding-right: 1em; text-align: center; vertical-align: top\">1</td>\n",
       "        <td style=\"padding-left: 1em; padding-right: 1em; text-align: center; vertical-align: top\">None</td>\n",
       "    </tr>\n",
       "    <tr>\n",
       "        <td style=\"padding-left: 1em; padding-right: 1em; text-align: center; vertical-align: top\">Baby Tracker&amp;reg; - Daily<br>Childcare Journal, ...</td>\n",
       "        <td style=\"padding-left: 1em; padding-right: 1em; text-align: center; vertical-align: top\">This has been an easy way<br>for my nanny to record ...</td>\n",
       "        <td style=\"padding-left: 1em; padding-right: 1em; text-align: center; vertical-align: top\">4.0</td>\n",
       "        <td style=\"padding-left: 1em; padding-right: 1em; text-align: center; vertical-align: top\">{'journal.': 1L, 'all':<br>1L, 'standarad': 1L, ...</td>\n",
       "        <td style=\"padding-left: 1em; padding-right: 1em; text-align: center; vertical-align: top\">1</td>\n",
       "        <td style=\"padding-left: 1em; padding-right: 1em; text-align: center; vertical-align: top\">None</td>\n",
       "    </tr>\n",
       "</table>\n",
       "[10 rows x 6 columns]<br/>\n",
       "</div>"
      ],
      "text/plain": [
       "Columns:\n",
       "\tname\tstr\n",
       "\treview\tstr\n",
       "\trating\tfloat\n",
       "\tword_count\tdict\n",
       "\tsentiment\tint\n",
       "\tawesome\tfloat\n",
       "\n",
       "Rows: 10\n",
       "\n",
       "Data:\n",
       "+-------------------------------+-------------------------------+--------+\n",
       "|              name             |             review            | rating |\n",
       "+-------------------------------+-------------------------------+--------+\n",
       "|    Planetwise Flannel Wipes   | These flannel wipes are OK... |  3.0   |\n",
       "|     Planetwise Wipe Pouch     | it came early and was not ... |  5.0   |\n",
       "| Annas Dream Full Quilt wit... | Very soft and comfortable ... |  5.0   |\n",
       "| Stop Pacifier Sucking with... | This is a product well wor... |  5.0   |\n",
       "| Stop Pacifier Sucking with... | All of my kids have cried ... |  5.0   |\n",
       "| Stop Pacifier Sucking with... | When the Binky Fairy came ... |  5.0   |\n",
       "| A Tale of Baby's Days with... | Lovely book, it's bound ti... |  4.0   |\n",
       "| Baby Tracker&reg; - Daily ... | Perfect for new parents. W... |  5.0   |\n",
       "| Baby Tracker&reg; - Daily ... | A friend of mine pinned th... |  5.0   |\n",
       "| Baby Tracker&reg; - Daily ... | This has been an easy way ... |  4.0   |\n",
       "+-------------------------------+-------------------------------+--------+\n",
       "+-------------------------------+-----------+---------+\n",
       "|           word_count          | sentiment | awesome |\n",
       "+-------------------------------+-----------+---------+\n",
       "| {'and': 5L, 'stink': 1L, '... |     0     |   None  |\n",
       "| {'and': 3L, 'love': 1L, 'i... |     1     |   None  |\n",
       "| {'and': 2L, 'quilt': 1L, '... |     1     |   None  |\n",
       "| {'ingenious': 1L, 'and': 3... |     1     |   None  |\n",
       "| {'and': 2L, 'parents!!': 1... |     1     |   None  |\n",
       "| {'and': 2L, 'cute': 1L, 'h... |     1     |   None  |\n",
       "| {'shop': 1L, 'be': 1L, 'is... |     1     |   None  |\n",
       "| {'feeding,': 1L, 'and': 2L... |     1     |   None  |\n",
       "| {'and': 1L, 'help': 1L, 'g... |     1     |   None  |\n",
       "| {'journal.': 1L, 'all': 1L... |     1     |   None  |\n",
       "+-------------------------------+-----------+---------+\n",
       "[10 rows x 6 columns]"
      ]
     },
     "execution_count": 38,
     "metadata": {},
     "output_type": "execute_result"
    }
   ],
   "source": [
    "products.head()"
   ]
  },
  {
   "cell_type": "code",
   "execution_count": 40,
   "metadata": {
    "collapsed": true
   },
   "outputs": [],
   "source": [
    "products['awesome'] = products['word_count'].apply(awesome_count)"
   ]
  },
  {
   "cell_type": "code",
   "execution_count": 41,
   "metadata": {
    "collapsed": true
   },
   "outputs": [
    {
     "data": {
      "text/html": [
       "<div style=\"max-height:1000px;max-width:1500px;overflow:auto;\"><table frame=\"box\" rules=\"cols\">\n",
       "    <tr>\n",
       "        <th style=\"padding-left: 1em; padding-right: 1em; text-align: center\">name</th>\n",
       "        <th style=\"padding-left: 1em; padding-right: 1em; text-align: center\">review</th>\n",
       "        <th style=\"padding-left: 1em; padding-right: 1em; text-align: center\">rating</th>\n",
       "        <th style=\"padding-left: 1em; padding-right: 1em; text-align: center\">word_count</th>\n",
       "        <th style=\"padding-left: 1em; padding-right: 1em; text-align: center\">sentiment</th>\n",
       "        <th style=\"padding-left: 1em; padding-right: 1em; text-align: center\">awesome</th>\n",
       "    </tr>\n",
       "    <tr>\n",
       "        <td style=\"padding-left: 1em; padding-right: 1em; text-align: center; vertical-align: top\">Planetwise Flannel Wipes</td>\n",
       "        <td style=\"padding-left: 1em; padding-right: 1em; text-align: center; vertical-align: top\">These flannel wipes are<br>OK, but in my opinion ...</td>\n",
       "        <td style=\"padding-left: 1em; padding-right: 1em; text-align: center; vertical-align: top\">3.0</td>\n",
       "        <td style=\"padding-left: 1em; padding-right: 1em; text-align: center; vertical-align: top\">{'and': 5L, 'stink': 1L,<br>'because': 1L, 'order ...</td>\n",
       "        <td style=\"padding-left: 1em; padding-right: 1em; text-align: center; vertical-align: top\">0</td>\n",
       "        <td style=\"padding-left: 1em; padding-right: 1em; text-align: center; vertical-align: top\">None</td>\n",
       "    </tr>\n",
       "    <tr>\n",
       "        <td style=\"padding-left: 1em; padding-right: 1em; text-align: center; vertical-align: top\">Planetwise Wipe Pouch</td>\n",
       "        <td style=\"padding-left: 1em; padding-right: 1em; text-align: center; vertical-align: top\">it came early and was not<br>disappointed. i love ...</td>\n",
       "        <td style=\"padding-left: 1em; padding-right: 1em; text-align: center; vertical-align: top\">5.0</td>\n",
       "        <td style=\"padding-left: 1em; padding-right: 1em; text-align: center; vertical-align: top\">{'and': 3L, 'love': 1L,<br>'it': 2L, 'highly': 1L, ...</td>\n",
       "        <td style=\"padding-left: 1em; padding-right: 1em; text-align: center; vertical-align: top\">1</td>\n",
       "        <td style=\"padding-left: 1em; padding-right: 1em; text-align: center; vertical-align: top\">None</td>\n",
       "    </tr>\n",
       "    <tr>\n",
       "        <td style=\"padding-left: 1em; padding-right: 1em; text-align: center; vertical-align: top\">Annas Dream Full Quilt<br>with 2 Shams ...</td>\n",
       "        <td style=\"padding-left: 1em; padding-right: 1em; text-align: center; vertical-align: top\">Very soft and comfortable<br>and warmer than it ...</td>\n",
       "        <td style=\"padding-left: 1em; padding-right: 1em; text-align: center; vertical-align: top\">5.0</td>\n",
       "        <td style=\"padding-left: 1em; padding-right: 1em; text-align: center; vertical-align: top\">{'and': 2L, 'quilt': 1L,<br>'it': 1L, 'comfortable': ...</td>\n",
       "        <td style=\"padding-left: 1em; padding-right: 1em; text-align: center; vertical-align: top\">1</td>\n",
       "        <td style=\"padding-left: 1em; padding-right: 1em; text-align: center; vertical-align: top\">None</td>\n",
       "    </tr>\n",
       "    <tr>\n",
       "        <td style=\"padding-left: 1em; padding-right: 1em; text-align: center; vertical-align: top\">Stop Pacifier Sucking<br>without tears with ...</td>\n",
       "        <td style=\"padding-left: 1em; padding-right: 1em; text-align: center; vertical-align: top\">This is a product well<br>worth the purchase.  I ...</td>\n",
       "        <td style=\"padding-left: 1em; padding-right: 1em; text-align: center; vertical-align: top\">5.0</td>\n",
       "        <td style=\"padding-left: 1em; padding-right: 1em; text-align: center; vertical-align: top\">{'ingenious': 1L, 'and':<br>3L, 'love': 2L, ...</td>\n",
       "        <td style=\"padding-left: 1em; padding-right: 1em; text-align: center; vertical-align: top\">1</td>\n",
       "        <td style=\"padding-left: 1em; padding-right: 1em; text-align: center; vertical-align: top\">None</td>\n",
       "    </tr>\n",
       "    <tr>\n",
       "        <td style=\"padding-left: 1em; padding-right: 1em; text-align: center; vertical-align: top\">Stop Pacifier Sucking<br>without tears with ...</td>\n",
       "        <td style=\"padding-left: 1em; padding-right: 1em; text-align: center; vertical-align: top\">All of my kids have cried<br>non-stop when I tried to ...</td>\n",
       "        <td style=\"padding-left: 1em; padding-right: 1em; text-align: center; vertical-align: top\">5.0</td>\n",
       "        <td style=\"padding-left: 1em; padding-right: 1em; text-align: center; vertical-align: top\">{'and': 2L, 'parents!!':<br>1L, 'all': 2L, 'puppe ...</td>\n",
       "        <td style=\"padding-left: 1em; padding-right: 1em; text-align: center; vertical-align: top\">1</td>\n",
       "        <td style=\"padding-left: 1em; padding-right: 1em; text-align: center; vertical-align: top\">None</td>\n",
       "    </tr>\n",
       "    <tr>\n",
       "        <td style=\"padding-left: 1em; padding-right: 1em; text-align: center; vertical-align: top\">Stop Pacifier Sucking<br>without tears with ...</td>\n",
       "        <td style=\"padding-left: 1em; padding-right: 1em; text-align: center; vertical-align: top\">When the Binky Fairy came<br>to our house, we didn't ...</td>\n",
       "        <td style=\"padding-left: 1em; padding-right: 1em; text-align: center; vertical-align: top\">5.0</td>\n",
       "        <td style=\"padding-left: 1em; padding-right: 1em; text-align: center; vertical-align: top\">{'and': 2L, 'cute': 1L,<br>'help': 2L, 'doll': 1L, ...</td>\n",
       "        <td style=\"padding-left: 1em; padding-right: 1em; text-align: center; vertical-align: top\">1</td>\n",
       "        <td style=\"padding-left: 1em; padding-right: 1em; text-align: center; vertical-align: top\">None</td>\n",
       "    </tr>\n",
       "    <tr>\n",
       "        <td style=\"padding-left: 1em; padding-right: 1em; text-align: center; vertical-align: top\">A Tale of Baby's Days<br>with Peter Rabbit ...</td>\n",
       "        <td style=\"padding-left: 1em; padding-right: 1em; text-align: center; vertical-align: top\">Lovely book, it's bound<br>tightly so you may no ...</td>\n",
       "        <td style=\"padding-left: 1em; padding-right: 1em; text-align: center; vertical-align: top\">4.0</td>\n",
       "        <td style=\"padding-left: 1em; padding-right: 1em; text-align: center; vertical-align: top\">{'shop': 1L, 'be': 1L,<br>'is': 1L, 'it': 1L, ' ...</td>\n",
       "        <td style=\"padding-left: 1em; padding-right: 1em; text-align: center; vertical-align: top\">1</td>\n",
       "        <td style=\"padding-left: 1em; padding-right: 1em; text-align: center; vertical-align: top\">None</td>\n",
       "    </tr>\n",
       "    <tr>\n",
       "        <td style=\"padding-left: 1em; padding-right: 1em; text-align: center; vertical-align: top\">Baby Tracker&amp;reg; - Daily<br>Childcare Journal, ...</td>\n",
       "        <td style=\"padding-left: 1em; padding-right: 1em; text-align: center; vertical-align: top\">Perfect for new parents.<br>We were able to keep ...</td>\n",
       "        <td style=\"padding-left: 1em; padding-right: 1em; text-align: center; vertical-align: top\">5.0</td>\n",
       "        <td style=\"padding-left: 1em; padding-right: 1em; text-align: center; vertical-align: top\">{'feeding,': 1L, 'and':<br>2L, 'all': 1L, 'right': ...</td>\n",
       "        <td style=\"padding-left: 1em; padding-right: 1em; text-align: center; vertical-align: top\">1</td>\n",
       "        <td style=\"padding-left: 1em; padding-right: 1em; text-align: center; vertical-align: top\">None</td>\n",
       "    </tr>\n",
       "    <tr>\n",
       "        <td style=\"padding-left: 1em; padding-right: 1em; text-align: center; vertical-align: top\">Baby Tracker&amp;reg; - Daily<br>Childcare Journal, ...</td>\n",
       "        <td style=\"padding-left: 1em; padding-right: 1em; text-align: center; vertical-align: top\">A friend of mine pinned<br>this product on Pinte ...</td>\n",
       "        <td style=\"padding-left: 1em; padding-right: 1em; text-align: center; vertical-align: top\">5.0</td>\n",
       "        <td style=\"padding-left: 1em; padding-right: 1em; text-align: center; vertical-align: top\">{'and': 1L, 'help': 1L,<br>'give': 1L, 'is': 1L, ...</td>\n",
       "        <td style=\"padding-left: 1em; padding-right: 1em; text-align: center; vertical-align: top\">1</td>\n",
       "        <td style=\"padding-left: 1em; padding-right: 1em; text-align: center; vertical-align: top\">None</td>\n",
       "    </tr>\n",
       "    <tr>\n",
       "        <td style=\"padding-left: 1em; padding-right: 1em; text-align: center; vertical-align: top\">Baby Tracker&amp;reg; - Daily<br>Childcare Journal, ...</td>\n",
       "        <td style=\"padding-left: 1em; padding-right: 1em; text-align: center; vertical-align: top\">This has been an easy way<br>for my nanny to record ...</td>\n",
       "        <td style=\"padding-left: 1em; padding-right: 1em; text-align: center; vertical-align: top\">4.0</td>\n",
       "        <td style=\"padding-left: 1em; padding-right: 1em; text-align: center; vertical-align: top\">{'journal.': 1L, 'all':<br>1L, 'standarad': 1L, ...</td>\n",
       "        <td style=\"padding-left: 1em; padding-right: 1em; text-align: center; vertical-align: top\">1</td>\n",
       "        <td style=\"padding-left: 1em; padding-right: 1em; text-align: center; vertical-align: top\">None</td>\n",
       "    </tr>\n",
       "</table>\n",
       "[10 rows x 6 columns]<br/>\n",
       "</div>"
      ],
      "text/plain": [
       "Columns:\n",
       "\tname\tstr\n",
       "\treview\tstr\n",
       "\trating\tfloat\n",
       "\tword_count\tdict\n",
       "\tsentiment\tint\n",
       "\tawesome\tfloat\n",
       "\n",
       "Rows: 10\n",
       "\n",
       "Data:\n",
       "+-------------------------------+-------------------------------+--------+\n",
       "|              name             |             review            | rating |\n",
       "+-------------------------------+-------------------------------+--------+\n",
       "|    Planetwise Flannel Wipes   | These flannel wipes are OK... |  3.0   |\n",
       "|     Planetwise Wipe Pouch     | it came early and was not ... |  5.0   |\n",
       "| Annas Dream Full Quilt wit... | Very soft and comfortable ... |  5.0   |\n",
       "| Stop Pacifier Sucking with... | This is a product well wor... |  5.0   |\n",
       "| Stop Pacifier Sucking with... | All of my kids have cried ... |  5.0   |\n",
       "| Stop Pacifier Sucking with... | When the Binky Fairy came ... |  5.0   |\n",
       "| A Tale of Baby's Days with... | Lovely book, it's bound ti... |  4.0   |\n",
       "| Baby Tracker&reg; - Daily ... | Perfect for new parents. W... |  5.0   |\n",
       "| Baby Tracker&reg; - Daily ... | A friend of mine pinned th... |  5.0   |\n",
       "| Baby Tracker&reg; - Daily ... | This has been an easy way ... |  4.0   |\n",
       "+-------------------------------+-------------------------------+--------+\n",
       "+-------------------------------+-----------+---------+\n",
       "|           word_count          | sentiment | awesome |\n",
       "+-------------------------------+-----------+---------+\n",
       "| {'and': 5L, 'stink': 1L, '... |     0     |   None  |\n",
       "| {'and': 3L, 'love': 1L, 'i... |     1     |   None  |\n",
       "| {'and': 2L, 'quilt': 1L, '... |     1     |   None  |\n",
       "| {'ingenious': 1L, 'and': 3... |     1     |   None  |\n",
       "| {'and': 2L, 'parents!!': 1... |     1     |   None  |\n",
       "| {'and': 2L, 'cute': 1L, 'h... |     1     |   None  |\n",
       "| {'shop': 1L, 'be': 1L, 'is... |     1     |   None  |\n",
       "| {'feeding,': 1L, 'and': 2L... |     1     |   None  |\n",
       "| {'and': 1L, 'help': 1L, 'g... |     1     |   None  |\n",
       "| {'journal.': 1L, 'all': 1L... |     1     |   None  |\n",
       "+-------------------------------+-----------+---------+\n",
       "[10 rows x 6 columns]"
      ]
     },
     "execution_count": 41,
     "metadata": {},
     "output_type": "execute_result"
    }
   ],
   "source": [
    "products.head()"
   ]
  },
  {
   "cell_type": "code",
   "execution_count": 43,
   "metadata": {
    "collapsed": true
   },
   "outputs": [
    {
     "data": {
      "text/html": [
       "<div style=\"max-height:1000px;max-width:1500px;overflow:auto;\"><table frame=\"box\" rules=\"cols\">\n",
       "    <tr>\n",
       "        <th style=\"padding-left: 1em; padding-right: 1em; text-align: center\">name</th>\n",
       "        <th style=\"padding-left: 1em; padding-right: 1em; text-align: center\">review</th>\n",
       "        <th style=\"padding-left: 1em; padding-right: 1em; text-align: center\">rating</th>\n",
       "        <th style=\"padding-left: 1em; padding-right: 1em; text-align: center\">word_count</th>\n",
       "        <th style=\"padding-left: 1em; padding-right: 1em; text-align: center\">sentiment</th>\n",
       "        <th style=\"padding-left: 1em; padding-right: 1em; text-align: center\">awesome</th>\n",
       "    </tr>\n",
       "    <tr>\n",
       "        <td style=\"padding-left: 1em; padding-right: 1em; text-align: center; vertical-align: top\">Planetwise Flannel Wipes</td>\n",
       "        <td style=\"padding-left: 1em; padding-right: 1em; text-align: center; vertical-align: top\">These flannel wipes are<br>OK, but in my opinion ...</td>\n",
       "        <td style=\"padding-left: 1em; padding-right: 1em; text-align: center; vertical-align: top\">3.0</td>\n",
       "        <td style=\"padding-left: 1em; padding-right: 1em; text-align: center; vertical-align: top\">{'and': 5L, 'stink': 1L,<br>'because': 1L, 'order ...</td>\n",
       "        <td style=\"padding-left: 1em; padding-right: 1em; text-align: center; vertical-align: top\">0</td>\n",
       "        <td style=\"padding-left: 1em; padding-right: 1em; text-align: center; vertical-align: top\">None</td>\n",
       "    </tr>\n",
       "    <tr>\n",
       "        <td style=\"padding-left: 1em; padding-right: 1em; text-align: center; vertical-align: top\">Planetwise Wipe Pouch</td>\n",
       "        <td style=\"padding-left: 1em; padding-right: 1em; text-align: center; vertical-align: top\">it came early and was not<br>disappointed. i love ...</td>\n",
       "        <td style=\"padding-left: 1em; padding-right: 1em; text-align: center; vertical-align: top\">5.0</td>\n",
       "        <td style=\"padding-left: 1em; padding-right: 1em; text-align: center; vertical-align: top\">{'and': 3L, 'love': 1L,<br>'it': 2L, 'highly': 1L, ...</td>\n",
       "        <td style=\"padding-left: 1em; padding-right: 1em; text-align: center; vertical-align: top\">1</td>\n",
       "        <td style=\"padding-left: 1em; padding-right: 1em; text-align: center; vertical-align: top\">None</td>\n",
       "    </tr>\n",
       "    <tr>\n",
       "        <td style=\"padding-left: 1em; padding-right: 1em; text-align: center; vertical-align: top\">Annas Dream Full Quilt<br>with 2 Shams ...</td>\n",
       "        <td style=\"padding-left: 1em; padding-right: 1em; text-align: center; vertical-align: top\">Very soft and comfortable<br>and warmer than it ...</td>\n",
       "        <td style=\"padding-left: 1em; padding-right: 1em; text-align: center; vertical-align: top\">5.0</td>\n",
       "        <td style=\"padding-left: 1em; padding-right: 1em; text-align: center; vertical-align: top\">{'and': 2L, 'quilt': 1L,<br>'it': 1L, 'comfortable': ...</td>\n",
       "        <td style=\"padding-left: 1em; padding-right: 1em; text-align: center; vertical-align: top\">1</td>\n",
       "        <td style=\"padding-left: 1em; padding-right: 1em; text-align: center; vertical-align: top\">None</td>\n",
       "    </tr>\n",
       "    <tr>\n",
       "        <td style=\"padding-left: 1em; padding-right: 1em; text-align: center; vertical-align: top\">Stop Pacifier Sucking<br>without tears with ...</td>\n",
       "        <td style=\"padding-left: 1em; padding-right: 1em; text-align: center; vertical-align: top\">This is a product well<br>worth the purchase.  I ...</td>\n",
       "        <td style=\"padding-left: 1em; padding-right: 1em; text-align: center; vertical-align: top\">5.0</td>\n",
       "        <td style=\"padding-left: 1em; padding-right: 1em; text-align: center; vertical-align: top\">{'ingenious': 1L, 'and':<br>3L, 'love': 2L, ...</td>\n",
       "        <td style=\"padding-left: 1em; padding-right: 1em; text-align: center; vertical-align: top\">1</td>\n",
       "        <td style=\"padding-left: 1em; padding-right: 1em; text-align: center; vertical-align: top\">None</td>\n",
       "    </tr>\n",
       "    <tr>\n",
       "        <td style=\"padding-left: 1em; padding-right: 1em; text-align: center; vertical-align: top\">Stop Pacifier Sucking<br>without tears with ...</td>\n",
       "        <td style=\"padding-left: 1em; padding-right: 1em; text-align: center; vertical-align: top\">All of my kids have cried<br>non-stop when I tried to ...</td>\n",
       "        <td style=\"padding-left: 1em; padding-right: 1em; text-align: center; vertical-align: top\">5.0</td>\n",
       "        <td style=\"padding-left: 1em; padding-right: 1em; text-align: center; vertical-align: top\">{'and': 2L, 'parents!!':<br>1L, 'all': 2L, 'puppe ...</td>\n",
       "        <td style=\"padding-left: 1em; padding-right: 1em; text-align: center; vertical-align: top\">1</td>\n",
       "        <td style=\"padding-left: 1em; padding-right: 1em; text-align: center; vertical-align: top\">None</td>\n",
       "    </tr>\n",
       "    <tr>\n",
       "        <td style=\"padding-left: 1em; padding-right: 1em; text-align: center; vertical-align: top\">Stop Pacifier Sucking<br>without tears with ...</td>\n",
       "        <td style=\"padding-left: 1em; padding-right: 1em; text-align: center; vertical-align: top\">When the Binky Fairy came<br>to our house, we didn't ...</td>\n",
       "        <td style=\"padding-left: 1em; padding-right: 1em; text-align: center; vertical-align: top\">5.0</td>\n",
       "        <td style=\"padding-left: 1em; padding-right: 1em; text-align: center; vertical-align: top\">{'and': 2L, 'cute': 1L,<br>'help': 2L, 'doll': 1L, ...</td>\n",
       "        <td style=\"padding-left: 1em; padding-right: 1em; text-align: center; vertical-align: top\">1</td>\n",
       "        <td style=\"padding-left: 1em; padding-right: 1em; text-align: center; vertical-align: top\">None</td>\n",
       "    </tr>\n",
       "    <tr>\n",
       "        <td style=\"padding-left: 1em; padding-right: 1em; text-align: center; vertical-align: top\">A Tale of Baby's Days<br>with Peter Rabbit ...</td>\n",
       "        <td style=\"padding-left: 1em; padding-right: 1em; text-align: center; vertical-align: top\">Lovely book, it's bound<br>tightly so you may no ...</td>\n",
       "        <td style=\"padding-left: 1em; padding-right: 1em; text-align: center; vertical-align: top\">4.0</td>\n",
       "        <td style=\"padding-left: 1em; padding-right: 1em; text-align: center; vertical-align: top\">{'shop': 1L, 'be': 1L,<br>'is': 1L, 'it': 1L, ' ...</td>\n",
       "        <td style=\"padding-left: 1em; padding-right: 1em; text-align: center; vertical-align: top\">1</td>\n",
       "        <td style=\"padding-left: 1em; padding-right: 1em; text-align: center; vertical-align: top\">None</td>\n",
       "    </tr>\n",
       "    <tr>\n",
       "        <td style=\"padding-left: 1em; padding-right: 1em; text-align: center; vertical-align: top\">Baby Tracker&amp;reg; - Daily<br>Childcare Journal, ...</td>\n",
       "        <td style=\"padding-left: 1em; padding-right: 1em; text-align: center; vertical-align: top\">Perfect for new parents.<br>We were able to keep ...</td>\n",
       "        <td style=\"padding-left: 1em; padding-right: 1em; text-align: center; vertical-align: top\">5.0</td>\n",
       "        <td style=\"padding-left: 1em; padding-right: 1em; text-align: center; vertical-align: top\">{'feeding,': 1L, 'and':<br>2L, 'all': 1L, 'right': ...</td>\n",
       "        <td style=\"padding-left: 1em; padding-right: 1em; text-align: center; vertical-align: top\">1</td>\n",
       "        <td style=\"padding-left: 1em; padding-right: 1em; text-align: center; vertical-align: top\">None</td>\n",
       "    </tr>\n",
       "    <tr>\n",
       "        <td style=\"padding-left: 1em; padding-right: 1em; text-align: center; vertical-align: top\">Baby Tracker&amp;reg; - Daily<br>Childcare Journal, ...</td>\n",
       "        <td style=\"padding-left: 1em; padding-right: 1em; text-align: center; vertical-align: top\">A friend of mine pinned<br>this product on Pinte ...</td>\n",
       "        <td style=\"padding-left: 1em; padding-right: 1em; text-align: center; vertical-align: top\">5.0</td>\n",
       "        <td style=\"padding-left: 1em; padding-right: 1em; text-align: center; vertical-align: top\">{'and': 1L, 'help': 1L,<br>'give': 1L, 'is': 1L, ...</td>\n",
       "        <td style=\"padding-left: 1em; padding-right: 1em; text-align: center; vertical-align: top\">1</td>\n",
       "        <td style=\"padding-left: 1em; padding-right: 1em; text-align: center; vertical-align: top\">None</td>\n",
       "    </tr>\n",
       "    <tr>\n",
       "        <td style=\"padding-left: 1em; padding-right: 1em; text-align: center; vertical-align: top\">Baby Tracker&amp;reg; - Daily<br>Childcare Journal, ...</td>\n",
       "        <td style=\"padding-left: 1em; padding-right: 1em; text-align: center; vertical-align: top\">This has been an easy way<br>for my nanny to record ...</td>\n",
       "        <td style=\"padding-left: 1em; padding-right: 1em; text-align: center; vertical-align: top\">4.0</td>\n",
       "        <td style=\"padding-left: 1em; padding-right: 1em; text-align: center; vertical-align: top\">{'journal.': 1L, 'all':<br>1L, 'standarad': 1L, ...</td>\n",
       "        <td style=\"padding-left: 1em; padding-right: 1em; text-align: center; vertical-align: top\">1</td>\n",
       "        <td style=\"padding-left: 1em; padding-right: 1em; text-align: center; vertical-align: top\">None</td>\n",
       "    </tr>\n",
       "</table>\n",
       "[183531 rows x 6 columns]<br/>Note: Only the head of the SFrame is printed.<br/>You can use print_rows(num_rows=m, num_columns=n) to print more rows and columns.\n",
       "</div>"
      ],
      "text/plain": [
       "Columns:\n",
       "\tname\tstr\n",
       "\treview\tstr\n",
       "\trating\tfloat\n",
       "\tword_count\tdict\n",
       "\tsentiment\tint\n",
       "\tawesome\tfloat\n",
       "\n",
       "Rows: 183531\n",
       "\n",
       "Data:\n",
       "+-------------------------------+-------------------------------+--------+\n",
       "|              name             |             review            | rating |\n",
       "+-------------------------------+-------------------------------+--------+\n",
       "|    Planetwise Flannel Wipes   | These flannel wipes are OK... |  3.0   |\n",
       "|     Planetwise Wipe Pouch     | it came early and was not ... |  5.0   |\n",
       "| Annas Dream Full Quilt wit... | Very soft and comfortable ... |  5.0   |\n",
       "| Stop Pacifier Sucking with... | This is a product well wor... |  5.0   |\n",
       "| Stop Pacifier Sucking with... | All of my kids have cried ... |  5.0   |\n",
       "| Stop Pacifier Sucking with... | When the Binky Fairy came ... |  5.0   |\n",
       "| A Tale of Baby's Days with... | Lovely book, it's bound ti... |  4.0   |\n",
       "| Baby Tracker&reg; - Daily ... | Perfect for new parents. W... |  5.0   |\n",
       "| Baby Tracker&reg; - Daily ... | A friend of mine pinned th... |  5.0   |\n",
       "| Baby Tracker&reg; - Daily ... | This has been an easy way ... |  4.0   |\n",
       "+-------------------------------+-------------------------------+--------+\n",
       "+-------------------------------+-----------+---------+\n",
       "|           word_count          | sentiment | awesome |\n",
       "+-------------------------------+-----------+---------+\n",
       "| {'and': 5L, 'stink': 1L, '... |     0     |   None  |\n",
       "| {'and': 3L, 'love': 1L, 'i... |     1     |   None  |\n",
       "| {'and': 2L, 'quilt': 1L, '... |     1     |   None  |\n",
       "| {'ingenious': 1L, 'and': 3... |     1     |   None  |\n",
       "| {'and': 2L, 'parents!!': 1... |     1     |   None  |\n",
       "| {'and': 2L, 'cute': 1L, 'h... |     1     |   None  |\n",
       "| {'shop': 1L, 'be': 1L, 'is... |     1     |   None  |\n",
       "| {'feeding,': 1L, 'and': 2L... |     1     |   None  |\n",
       "| {'and': 1L, 'help': 1L, 'g... |     1     |   None  |\n",
       "| {'journal.': 1L, 'all': 1L... |     1     |   None  |\n",
       "+-------------------------------+-----------+---------+\n",
       "[183531 rows x 6 columns]\n",
       "Note: Only the head of the SFrame is printed.\n",
       "You can use print_rows(num_rows=m, num_columns=n) to print more rows and columns."
      ]
     },
     "execution_count": 43,
     "metadata": {},
     "output_type": "execute_result"
    }
   ],
   "source": [
    "products"
   ]
  },
  {
   "cell_type": "code",
   "execution_count": 45,
   "metadata": {
    "collapsed": true
   },
   "outputs": [],
   "source": [
    "products['awesome'] = products['word_count'].apply(awesome_count)"
   ]
  },
  {
   "cell_type": "code",
   "execution_count": 46,
   "metadata": {
    "collapsed": true
   },
   "outputs": [
    {
     "data": {
      "text/html": [
       "<div style=\"max-height:1000px;max-width:1500px;overflow:auto;\"><table frame=\"box\" rules=\"cols\">\n",
       "    <tr>\n",
       "        <th style=\"padding-left: 1em; padding-right: 1em; text-align: center\">name</th>\n",
       "        <th style=\"padding-left: 1em; padding-right: 1em; text-align: center\">review</th>\n",
       "        <th style=\"padding-left: 1em; padding-right: 1em; text-align: center\">rating</th>\n",
       "        <th style=\"padding-left: 1em; padding-right: 1em; text-align: center\">word_count</th>\n",
       "        <th style=\"padding-left: 1em; padding-right: 1em; text-align: center\">sentiment</th>\n",
       "        <th style=\"padding-left: 1em; padding-right: 1em; text-align: center\">awesome</th>\n",
       "    </tr>\n",
       "    <tr>\n",
       "        <td style=\"padding-left: 1em; padding-right: 1em; text-align: center; vertical-align: top\">Planetwise Flannel Wipes</td>\n",
       "        <td style=\"padding-left: 1em; padding-right: 1em; text-align: center; vertical-align: top\">These flannel wipes are<br>OK, but in my opinion ...</td>\n",
       "        <td style=\"padding-left: 1em; padding-right: 1em; text-align: center; vertical-align: top\">3.0</td>\n",
       "        <td style=\"padding-left: 1em; padding-right: 1em; text-align: center; vertical-align: top\">{'and': 5L, 'stink': 1L,<br>'because': 1L, 'order ...</td>\n",
       "        <td style=\"padding-left: 1em; padding-right: 1em; text-align: center; vertical-align: top\">0</td>\n",
       "        <td style=\"padding-left: 1em; padding-right: 1em; text-align: center; vertical-align: top\">0</td>\n",
       "    </tr>\n",
       "    <tr>\n",
       "        <td style=\"padding-left: 1em; padding-right: 1em; text-align: center; vertical-align: top\">Planetwise Wipe Pouch</td>\n",
       "        <td style=\"padding-left: 1em; padding-right: 1em; text-align: center; vertical-align: top\">it came early and was not<br>disappointed. i love ...</td>\n",
       "        <td style=\"padding-left: 1em; padding-right: 1em; text-align: center; vertical-align: top\">5.0</td>\n",
       "        <td style=\"padding-left: 1em; padding-right: 1em; text-align: center; vertical-align: top\">{'and': 3L, 'love': 1L,<br>'it': 2L, 'highly': 1L, ...</td>\n",
       "        <td style=\"padding-left: 1em; padding-right: 1em; text-align: center; vertical-align: top\">1</td>\n",
       "        <td style=\"padding-left: 1em; padding-right: 1em; text-align: center; vertical-align: top\">0</td>\n",
       "    </tr>\n",
       "    <tr>\n",
       "        <td style=\"padding-left: 1em; padding-right: 1em; text-align: center; vertical-align: top\">Annas Dream Full Quilt<br>with 2 Shams ...</td>\n",
       "        <td style=\"padding-left: 1em; padding-right: 1em; text-align: center; vertical-align: top\">Very soft and comfortable<br>and warmer than it ...</td>\n",
       "        <td style=\"padding-left: 1em; padding-right: 1em; text-align: center; vertical-align: top\">5.0</td>\n",
       "        <td style=\"padding-left: 1em; padding-right: 1em; text-align: center; vertical-align: top\">{'and': 2L, 'quilt': 1L,<br>'it': 1L, 'comfortable': ...</td>\n",
       "        <td style=\"padding-left: 1em; padding-right: 1em; text-align: center; vertical-align: top\">1</td>\n",
       "        <td style=\"padding-left: 1em; padding-right: 1em; text-align: center; vertical-align: top\">0</td>\n",
       "    </tr>\n",
       "    <tr>\n",
       "        <td style=\"padding-left: 1em; padding-right: 1em; text-align: center; vertical-align: top\">Stop Pacifier Sucking<br>without tears with ...</td>\n",
       "        <td style=\"padding-left: 1em; padding-right: 1em; text-align: center; vertical-align: top\">This is a product well<br>worth the purchase.  I ...</td>\n",
       "        <td style=\"padding-left: 1em; padding-right: 1em; text-align: center; vertical-align: top\">5.0</td>\n",
       "        <td style=\"padding-left: 1em; padding-right: 1em; text-align: center; vertical-align: top\">{'ingenious': 1L, 'and':<br>3L, 'love': 2L, ...</td>\n",
       "        <td style=\"padding-left: 1em; padding-right: 1em; text-align: center; vertical-align: top\">1</td>\n",
       "        <td style=\"padding-left: 1em; padding-right: 1em; text-align: center; vertical-align: top\">0</td>\n",
       "    </tr>\n",
       "    <tr>\n",
       "        <td style=\"padding-left: 1em; padding-right: 1em; text-align: center; vertical-align: top\">Stop Pacifier Sucking<br>without tears with ...</td>\n",
       "        <td style=\"padding-left: 1em; padding-right: 1em; text-align: center; vertical-align: top\">All of my kids have cried<br>non-stop when I tried to ...</td>\n",
       "        <td style=\"padding-left: 1em; padding-right: 1em; text-align: center; vertical-align: top\">5.0</td>\n",
       "        <td style=\"padding-left: 1em; padding-right: 1em; text-align: center; vertical-align: top\">{'and': 2L, 'parents!!':<br>1L, 'all': 2L, 'puppe ...</td>\n",
       "        <td style=\"padding-left: 1em; padding-right: 1em; text-align: center; vertical-align: top\">1</td>\n",
       "        <td style=\"padding-left: 1em; padding-right: 1em; text-align: center; vertical-align: top\">0</td>\n",
       "    </tr>\n",
       "    <tr>\n",
       "        <td style=\"padding-left: 1em; padding-right: 1em; text-align: center; vertical-align: top\">Stop Pacifier Sucking<br>without tears with ...</td>\n",
       "        <td style=\"padding-left: 1em; padding-right: 1em; text-align: center; vertical-align: top\">When the Binky Fairy came<br>to our house, we didn't ...</td>\n",
       "        <td style=\"padding-left: 1em; padding-right: 1em; text-align: center; vertical-align: top\">5.0</td>\n",
       "        <td style=\"padding-left: 1em; padding-right: 1em; text-align: center; vertical-align: top\">{'and': 2L, 'cute': 1L,<br>'help': 2L, 'doll': 1L, ...</td>\n",
       "        <td style=\"padding-left: 1em; padding-right: 1em; text-align: center; vertical-align: top\">1</td>\n",
       "        <td style=\"padding-left: 1em; padding-right: 1em; text-align: center; vertical-align: top\">0</td>\n",
       "    </tr>\n",
       "    <tr>\n",
       "        <td style=\"padding-left: 1em; padding-right: 1em; text-align: center; vertical-align: top\">A Tale of Baby's Days<br>with Peter Rabbit ...</td>\n",
       "        <td style=\"padding-left: 1em; padding-right: 1em; text-align: center; vertical-align: top\">Lovely book, it's bound<br>tightly so you may no ...</td>\n",
       "        <td style=\"padding-left: 1em; padding-right: 1em; text-align: center; vertical-align: top\">4.0</td>\n",
       "        <td style=\"padding-left: 1em; padding-right: 1em; text-align: center; vertical-align: top\">{'shop': 1L, 'be': 1L,<br>'is': 1L, 'it': 1L, ' ...</td>\n",
       "        <td style=\"padding-left: 1em; padding-right: 1em; text-align: center; vertical-align: top\">1</td>\n",
       "        <td style=\"padding-left: 1em; padding-right: 1em; text-align: center; vertical-align: top\">0</td>\n",
       "    </tr>\n",
       "    <tr>\n",
       "        <td style=\"padding-left: 1em; padding-right: 1em; text-align: center; vertical-align: top\">Baby Tracker&amp;reg; - Daily<br>Childcare Journal, ...</td>\n",
       "        <td style=\"padding-left: 1em; padding-right: 1em; text-align: center; vertical-align: top\">Perfect for new parents.<br>We were able to keep ...</td>\n",
       "        <td style=\"padding-left: 1em; padding-right: 1em; text-align: center; vertical-align: top\">5.0</td>\n",
       "        <td style=\"padding-left: 1em; padding-right: 1em; text-align: center; vertical-align: top\">{'feeding,': 1L, 'and':<br>2L, 'all': 1L, 'right': ...</td>\n",
       "        <td style=\"padding-left: 1em; padding-right: 1em; text-align: center; vertical-align: top\">1</td>\n",
       "        <td style=\"padding-left: 1em; padding-right: 1em; text-align: center; vertical-align: top\">0</td>\n",
       "    </tr>\n",
       "    <tr>\n",
       "        <td style=\"padding-left: 1em; padding-right: 1em; text-align: center; vertical-align: top\">Baby Tracker&amp;reg; - Daily<br>Childcare Journal, ...</td>\n",
       "        <td style=\"padding-left: 1em; padding-right: 1em; text-align: center; vertical-align: top\">A friend of mine pinned<br>this product on Pinte ...</td>\n",
       "        <td style=\"padding-left: 1em; padding-right: 1em; text-align: center; vertical-align: top\">5.0</td>\n",
       "        <td style=\"padding-left: 1em; padding-right: 1em; text-align: center; vertical-align: top\">{'and': 1L, 'help': 1L,<br>'give': 1L, 'is': 1L, ...</td>\n",
       "        <td style=\"padding-left: 1em; padding-right: 1em; text-align: center; vertical-align: top\">1</td>\n",
       "        <td style=\"padding-left: 1em; padding-right: 1em; text-align: center; vertical-align: top\">0</td>\n",
       "    </tr>\n",
       "    <tr>\n",
       "        <td style=\"padding-left: 1em; padding-right: 1em; text-align: center; vertical-align: top\">Baby Tracker&amp;reg; - Daily<br>Childcare Journal, ...</td>\n",
       "        <td style=\"padding-left: 1em; padding-right: 1em; text-align: center; vertical-align: top\">This has been an easy way<br>for my nanny to record ...</td>\n",
       "        <td style=\"padding-left: 1em; padding-right: 1em; text-align: center; vertical-align: top\">4.0</td>\n",
       "        <td style=\"padding-left: 1em; padding-right: 1em; text-align: center; vertical-align: top\">{'journal.': 1L, 'all':<br>1L, 'standarad': 1L, ...</td>\n",
       "        <td style=\"padding-left: 1em; padding-right: 1em; text-align: center; vertical-align: top\">1</td>\n",
       "        <td style=\"padding-left: 1em; padding-right: 1em; text-align: center; vertical-align: top\">0</td>\n",
       "    </tr>\n",
       "</table>\n",
       "[10 rows x 6 columns]<br/>\n",
       "</div>"
      ],
      "text/plain": [
       "Columns:\n",
       "\tname\tstr\n",
       "\treview\tstr\n",
       "\trating\tfloat\n",
       "\tword_count\tdict\n",
       "\tsentiment\tint\n",
       "\tawesome\tint\n",
       "\n",
       "Rows: 10\n",
       "\n",
       "Data:\n",
       "+-------------------------------+-------------------------------+--------+\n",
       "|              name             |             review            | rating |\n",
       "+-------------------------------+-------------------------------+--------+\n",
       "|    Planetwise Flannel Wipes   | These flannel wipes are OK... |  3.0   |\n",
       "|     Planetwise Wipe Pouch     | it came early and was not ... |  5.0   |\n",
       "| Annas Dream Full Quilt wit... | Very soft and comfortable ... |  5.0   |\n",
       "| Stop Pacifier Sucking with... | This is a product well wor... |  5.0   |\n",
       "| Stop Pacifier Sucking with... | All of my kids have cried ... |  5.0   |\n",
       "| Stop Pacifier Sucking with... | When the Binky Fairy came ... |  5.0   |\n",
       "| A Tale of Baby's Days with... | Lovely book, it's bound ti... |  4.0   |\n",
       "| Baby Tracker&reg; - Daily ... | Perfect for new parents. W... |  5.0   |\n",
       "| Baby Tracker&reg; - Daily ... | A friend of mine pinned th... |  5.0   |\n",
       "| Baby Tracker&reg; - Daily ... | This has been an easy way ... |  4.0   |\n",
       "+-------------------------------+-------------------------------+--------+\n",
       "+-------------------------------+-----------+---------+\n",
       "|           word_count          | sentiment | awesome |\n",
       "+-------------------------------+-----------+---------+\n",
       "| {'and': 5L, 'stink': 1L, '... |     0     |    0    |\n",
       "| {'and': 3L, 'love': 1L, 'i... |     1     |    0    |\n",
       "| {'and': 2L, 'quilt': 1L, '... |     1     |    0    |\n",
       "| {'ingenious': 1L, 'and': 3... |     1     |    0    |\n",
       "| {'and': 2L, 'parents!!': 1... |     1     |    0    |\n",
       "| {'and': 2L, 'cute': 1L, 'h... |     1     |    0    |\n",
       "| {'shop': 1L, 'be': 1L, 'is... |     1     |    0    |\n",
       "| {'feeding,': 1L, 'and': 2L... |     1     |    0    |\n",
       "| {'and': 1L, 'help': 1L, 'g... |     1     |    0    |\n",
       "| {'journal.': 1L, 'all': 1L... |     1     |    0    |\n",
       "+-------------------------------+-----------+---------+\n",
       "[10 rows x 6 columns]"
      ]
     },
     "execution_count": 46,
     "metadata": {},
     "output_type": "execute_result"
    }
   ],
   "source": [
    "products.head()"
   ]
  },
  {
   "cell_type": "code",
   "execution_count": 48,
   "metadata": {
    "collapsed": true
   },
   "outputs": [
    {
     "ename": "TypeError",
     "evalue": "awesome_count() takes exactly 2 arguments (1 given)",
     "output_type": "error",
     "traceback": [
      "\u001b[1;31m---------------------------------------------------------------------------\u001b[0m",
      "\u001b[1;31mTypeError\u001b[0m                                 Traceback (most recent call last)",
      "\u001b[1;32m<ipython-input-48-5b714134d377>\u001b[0m in \u001b[0;36m<module>\u001b[1;34m()\u001b[0m\n\u001b[0;32m      1\u001b[0m \u001b[1;32mfor\u001b[0m \u001b[0mword\u001b[0m \u001b[1;32min\u001b[0m \u001b[0mselected_words\u001b[0m\u001b[1;33m:\u001b[0m\u001b[1;33m\u001b[0m\u001b[0m\n\u001b[1;32m----> 2\u001b[1;33m     \u001b[0mproducts\u001b[0m\u001b[1;33m[\u001b[0m\u001b[0mword\u001b[0m\u001b[1;33m]\u001b[0m \u001b[1;33m=\u001b[0m \u001b[0mproducts\u001b[0m\u001b[1;33m[\u001b[0m\u001b[1;34m'word_count'\u001b[0m\u001b[1;33m]\u001b[0m\u001b[1;33m.\u001b[0m\u001b[0mapply\u001b[0m\u001b[1;33m(\u001b[0m\u001b[0mawesome_count\u001b[0m\u001b[1;33m)\u001b[0m\u001b[1;33m\u001b[0m\u001b[0m\n\u001b[0m",
      "\u001b[1;32mC:\\Users\\User2\\Anaconda2\\envs\\dato-env\\lib\\site-packages\\graphlab\\data_structures\\sarray.pyc\u001b[0m in \u001b[0;36mapply\u001b[1;34m(self, fn, dtype, skip_undefined, seed)\u001b[0m\n\u001b[0;32m   1675\u001b[0m         \u001b[1;32massert\u001b[0m \u001b[0mcallable\u001b[0m\u001b[1;33m(\u001b[0m\u001b[0mfn\u001b[0m\u001b[1;33m)\u001b[0m\u001b[1;33m,\u001b[0m \u001b[1;34m\"Input function must be callable.\"\u001b[0m\u001b[1;33m\u001b[0m\u001b[0m\n\u001b[0;32m   1676\u001b[0m \u001b[1;33m\u001b[0m\u001b[0m\n\u001b[1;32m-> 1677\u001b[1;33m         \u001b[0mdryrun\u001b[0m \u001b[1;33m=\u001b[0m \u001b[1;33m[\u001b[0m\u001b[0mfn\u001b[0m\u001b[1;33m(\u001b[0m\u001b[0mi\u001b[0m\u001b[1;33m)\u001b[0m \u001b[1;32mfor\u001b[0m \u001b[0mi\u001b[0m \u001b[1;32min\u001b[0m \u001b[0mself\u001b[0m\u001b[1;33m.\u001b[0m\u001b[0mhead\u001b[0m\u001b[1;33m(\u001b[0m\u001b[1;36m100\u001b[0m\u001b[1;33m)\u001b[0m \u001b[1;32mif\u001b[0m \u001b[0mi\u001b[0m \u001b[1;32mis\u001b[0m \u001b[1;32mnot\u001b[0m \u001b[0mNone\u001b[0m\u001b[1;33m]\u001b[0m\u001b[1;33m\u001b[0m\u001b[0m\n\u001b[0m\u001b[0;32m   1678\u001b[0m         \u001b[1;32mif\u001b[0m \u001b[0mdtype\u001b[0m \u001b[1;33m==\u001b[0m \u001b[0mNone\u001b[0m\u001b[1;33m:\u001b[0m\u001b[1;33m\u001b[0m\u001b[0m\n\u001b[0;32m   1679\u001b[0m             \u001b[0mdtype\u001b[0m \u001b[1;33m=\u001b[0m \u001b[0minfer_type_of_list\u001b[0m\u001b[1;33m(\u001b[0m\u001b[0mdryrun\u001b[0m\u001b[1;33m)\u001b[0m\u001b[1;33m\u001b[0m\u001b[0m\n",
      "\u001b[1;31mTypeError\u001b[0m: awesome_count() takes exactly 2 arguments (1 given)"
     ]
    }
   ],
   "source": [
    "for word in selected_words:\n",
    "    products[word] = products['word_count'].apply(awesome_count)"
   ]
  },
  {
   "cell_type": "code",
   "execution_count": 50,
   "metadata": {
    "collapsed": false
   },
   "outputs": [
    {
     "ename": "NameError",
     "evalue": "name 'this' is not defined",
     "output_type": "error",
     "traceback": [
      "\u001b[1;31m---------------------------------------------------------------------------\u001b[0m",
      "\u001b[1;31mNameError\u001b[0m                                 Traceback (most recent call last)",
      "\u001b[1;32m<ipython-input-50-0b3ae8c3740a>\u001b[0m in \u001b[0;36m<module>\u001b[1;34m()\u001b[0m\n\u001b[0;32m      1\u001b[0m \u001b[1;32mfor\u001b[0m \u001b[0mword\u001b[0m \u001b[1;32min\u001b[0m \u001b[0mselected_words\u001b[0m\u001b[1;33m:\u001b[0m\u001b[1;33m\u001b[0m\u001b[0m\n\u001b[1;32m----> 2\u001b[1;33m     \u001b[0mproducts\u001b[0m\u001b[1;33m[\u001b[0m\u001b[0mword\u001b[0m\u001b[1;33m]\u001b[0m \u001b[1;33m=\u001b[0m \u001b[0mproducts\u001b[0m\u001b[1;33m[\u001b[0m\u001b[1;34m'word_count'\u001b[0m\u001b[1;33m]\u001b[0m\u001b[1;33m.\u001b[0m\u001b[0mapply\u001b[0m\u001b[1;33m(\u001b[0m\u001b[0mawesome_count\u001b[0m\u001b[1;33m(\u001b[0m\u001b[0mthis\u001b[0m\u001b[1;33m,\u001b[0m\u001b[0mword\u001b[0m\u001b[1;33m)\u001b[0m\u001b[1;33m)\u001b[0m\u001b[1;33m\u001b[0m\u001b[0m\n\u001b[0m",
      "\u001b[1;31mNameError\u001b[0m: name 'this' is not defined"
     ]
    }
   ],
   "source": [
    "for word in selected_words:\n",
    "    products[word] = products['word_count'].apply(awesome_count())"
   ]
  },
  {
   "cell_type": "code",
   "execution_count": 51,
   "metadata": {
    "collapsed": false
   },
   "outputs": [
    {
     "ename": "AttributeError",
     "evalue": "'tuple' object has no attribute 'apply'",
     "output_type": "error",
     "traceback": [
      "\u001b[1;31m---------------------------------------------------------------------------\u001b[0m",
      "\u001b[1;31mAttributeError\u001b[0m                            Traceback (most recent call last)",
      "\u001b[1;32m<ipython-input-51-18610781ead7>\u001b[0m in \u001b[0;36m<module>\u001b[1;34m()\u001b[0m\n\u001b[0;32m      1\u001b[0m \u001b[1;32mfor\u001b[0m \u001b[0mword\u001b[0m \u001b[1;32min\u001b[0m \u001b[0mselected_words\u001b[0m\u001b[1;33m:\u001b[0m\u001b[1;33m\u001b[0m\u001b[0m\n\u001b[1;32m----> 2\u001b[1;33m     \u001b[0mproducts\u001b[0m\u001b[1;33m[\u001b[0m\u001b[0mword\u001b[0m\u001b[1;33m]\u001b[0m \u001b[1;33m=\u001b[0m \u001b[1;33m(\u001b[0m\u001b[0mproducts\u001b[0m\u001b[1;33m[\u001b[0m\u001b[1;34m'word_count'\u001b[0m\u001b[1;33m]\u001b[0m\u001b[1;33m,\u001b[0m\u001b[0mword\u001b[0m\u001b[1;33m)\u001b[0m\u001b[1;33m.\u001b[0m\u001b[0mapply\u001b[0m\u001b[1;33m(\u001b[0m\u001b[0mawesome_count\u001b[0m\u001b[1;33m)\u001b[0m\u001b[1;33m\u001b[0m\u001b[0m\n\u001b[0m",
      "\u001b[1;31mAttributeError\u001b[0m: 'tuple' object has no attribute 'apply'"
     ]
    }
   ],
   "source": [
    "for word in selected_words:\n",
    "    products[word] = (products['word_count'],word).apply(awesome_count)"
   ]
  },
  {
   "cell_type": "code",
   "execution_count": 52,
   "metadata": {
    "collapsed": false
   },
   "outputs": [
    {
     "ename": "AssertionError",
     "evalue": "Input function must be callable.",
     "output_type": "error",
     "traceback": [
      "\u001b[1;31m---------------------------------------------------------------------------\u001b[0m",
      "\u001b[1;31mAssertionError\u001b[0m                            Traceback (most recent call last)",
      "\u001b[1;32m<ipython-input-52-bf32c096cfbb>\u001b[0m in \u001b[0;36m<module>\u001b[1;34m()\u001b[0m\n\u001b[0;32m      1\u001b[0m \u001b[1;32mfor\u001b[0m \u001b[0mword\u001b[0m \u001b[1;32min\u001b[0m \u001b[0mselected_words\u001b[0m\u001b[1;33m:\u001b[0m\u001b[1;33m\u001b[0m\u001b[0m\n\u001b[1;32m----> 2\u001b[1;33m     \u001b[0mproducts\u001b[0m\u001b[1;33m[\u001b[0m\u001b[0mword\u001b[0m\u001b[1;33m]\u001b[0m \u001b[1;33m=\u001b[0m \u001b[0mproducts\u001b[0m\u001b[1;33m[\u001b[0m\u001b[1;34m'word_count'\u001b[0m\u001b[1;33m]\u001b[0m\u001b[1;33m.\u001b[0m\u001b[0mapply\u001b[0m\u001b[1;33m(\u001b[0m\u001b[0mawesome_count\u001b[0m\u001b[1;33m(\u001b[0m\u001b[0mproducts\u001b[0m\u001b[1;33m[\u001b[0m\u001b[1;34m'word_count'\u001b[0m\u001b[1;33m]\u001b[0m\u001b[1;33m,\u001b[0m\u001b[0mword\u001b[0m\u001b[1;33m)\u001b[0m\u001b[1;33m)\u001b[0m\u001b[1;33m\u001b[0m\u001b[0m\n\u001b[0m",
      "\u001b[1;32mC:\\Users\\User2\\Anaconda2\\envs\\dato-env\\lib\\site-packages\\graphlab\\data_structures\\sarray.pyc\u001b[0m in \u001b[0;36mapply\u001b[1;34m(self, fn, dtype, skip_undefined, seed)\u001b[0m\n\u001b[0;32m   1673\u001b[0m         \u001b[1;33m[\u001b[0m\u001b[1;36m0.0\u001b[0m\u001b[1;33m,\u001b[0m \u001b[1;36m1.0\u001b[0m\u001b[1;33m,\u001b[0m \u001b[1;36m2.0\u001b[0m\u001b[1;33m]\u001b[0m\u001b[1;33m\u001b[0m\u001b[0m\n\u001b[0;32m   1674\u001b[0m         \"\"\"\n\u001b[1;32m-> 1675\u001b[1;33m         \u001b[1;32massert\u001b[0m \u001b[0mcallable\u001b[0m\u001b[1;33m(\u001b[0m\u001b[0mfn\u001b[0m\u001b[1;33m)\u001b[0m\u001b[1;33m,\u001b[0m \u001b[1;34m\"Input function must be callable.\"\u001b[0m\u001b[1;33m\u001b[0m\u001b[0m\n\u001b[0m\u001b[0;32m   1676\u001b[0m \u001b[1;33m\u001b[0m\u001b[0m\n\u001b[0;32m   1677\u001b[0m         \u001b[0mdryrun\u001b[0m \u001b[1;33m=\u001b[0m \u001b[1;33m[\u001b[0m\u001b[0mfn\u001b[0m\u001b[1;33m(\u001b[0m\u001b[0mi\u001b[0m\u001b[1;33m)\u001b[0m \u001b[1;32mfor\u001b[0m \u001b[0mi\u001b[0m \u001b[1;32min\u001b[0m \u001b[0mself\u001b[0m\u001b[1;33m.\u001b[0m\u001b[0mhead\u001b[0m\u001b[1;33m(\u001b[0m\u001b[1;36m100\u001b[0m\u001b[1;33m)\u001b[0m \u001b[1;32mif\u001b[0m \u001b[0mi\u001b[0m \u001b[1;32mis\u001b[0m \u001b[1;32mnot\u001b[0m \u001b[0mNone\u001b[0m\u001b[1;33m]\u001b[0m\u001b[1;33m\u001b[0m\u001b[0m\n",
      "\u001b[1;31mAssertionError\u001b[0m: Input function must be callable."
     ]
    }
   ],
   "source": [
    "for word in selected_words:\n",
    "    products[word] = products['word_count'].apply(awesome_count(products['word_count'],word))"
   ]
  },
  {
   "cell_type": "code",
   "execution_count": 55,
   "metadata": {
    "collapsed": true
   },
   "outputs": [],
   "source": [
    "for word in selected_words:\n",
    "    products[word] = products['word_count'].apply(lambda x: x[word] if word in x else 0L)"
   ]
  },
  {
   "cell_type": "code",
   "execution_count": 56,
   "metadata": {
    "collapsed": false
   },
   "outputs": [
    {
     "data": {
      "text/html": [
       "<div style=\"max-height:1000px;max-width:1500px;overflow:auto;\"><table frame=\"box\" rules=\"cols\">\n",
       "    <tr>\n",
       "        <th style=\"padding-left: 1em; padding-right: 1em; text-align: center\">name</th>\n",
       "        <th style=\"padding-left: 1em; padding-right: 1em; text-align: center\">review</th>\n",
       "        <th style=\"padding-left: 1em; padding-right: 1em; text-align: center\">rating</th>\n",
       "        <th style=\"padding-left: 1em; padding-right: 1em; text-align: center\">word_count</th>\n",
       "        <th style=\"padding-left: 1em; padding-right: 1em; text-align: center\">sentiment</th>\n",
       "        <th style=\"padding-left: 1em; padding-right: 1em; text-align: center\">awesome</th>\n",
       "    </tr>\n",
       "    <tr>\n",
       "        <td style=\"padding-left: 1em; padding-right: 1em; text-align: center; vertical-align: top\">Planetwise Flannel Wipes</td>\n",
       "        <td style=\"padding-left: 1em; padding-right: 1em; text-align: center; vertical-align: top\">These flannel wipes are<br>OK, but in my opinion ...</td>\n",
       "        <td style=\"padding-left: 1em; padding-right: 1em; text-align: center; vertical-align: top\">3.0</td>\n",
       "        <td style=\"padding-left: 1em; padding-right: 1em; text-align: center; vertical-align: top\">{'and': 5L, 'stink': 1L,<br>'because': 1L, 'order ...</td>\n",
       "        <td style=\"padding-left: 1em; padding-right: 1em; text-align: center; vertical-align: top\">0</td>\n",
       "        <td style=\"padding-left: 1em; padding-right: 1em; text-align: center; vertical-align: top\">0</td>\n",
       "    </tr>\n",
       "    <tr>\n",
       "        <td style=\"padding-left: 1em; padding-right: 1em; text-align: center; vertical-align: top\">Planetwise Wipe Pouch</td>\n",
       "        <td style=\"padding-left: 1em; padding-right: 1em; text-align: center; vertical-align: top\">it came early and was not<br>disappointed. i love ...</td>\n",
       "        <td style=\"padding-left: 1em; padding-right: 1em; text-align: center; vertical-align: top\">5.0</td>\n",
       "        <td style=\"padding-left: 1em; padding-right: 1em; text-align: center; vertical-align: top\">{'and': 3L, 'love': 1L,<br>'it': 2L, 'highly': 1L, ...</td>\n",
       "        <td style=\"padding-left: 1em; padding-right: 1em; text-align: center; vertical-align: top\">1</td>\n",
       "        <td style=\"padding-left: 1em; padding-right: 1em; text-align: center; vertical-align: top\">0</td>\n",
       "    </tr>\n",
       "    <tr>\n",
       "        <td style=\"padding-left: 1em; padding-right: 1em; text-align: center; vertical-align: top\">Annas Dream Full Quilt<br>with 2 Shams ...</td>\n",
       "        <td style=\"padding-left: 1em; padding-right: 1em; text-align: center; vertical-align: top\">Very soft and comfortable<br>and warmer than it ...</td>\n",
       "        <td style=\"padding-left: 1em; padding-right: 1em; text-align: center; vertical-align: top\">5.0</td>\n",
       "        <td style=\"padding-left: 1em; padding-right: 1em; text-align: center; vertical-align: top\">{'and': 2L, 'quilt': 1L,<br>'it': 1L, 'comfortable': ...</td>\n",
       "        <td style=\"padding-left: 1em; padding-right: 1em; text-align: center; vertical-align: top\">1</td>\n",
       "        <td style=\"padding-left: 1em; padding-right: 1em; text-align: center; vertical-align: top\">0</td>\n",
       "    </tr>\n",
       "    <tr>\n",
       "        <td style=\"padding-left: 1em; padding-right: 1em; text-align: center; vertical-align: top\">Stop Pacifier Sucking<br>without tears with ...</td>\n",
       "        <td style=\"padding-left: 1em; padding-right: 1em; text-align: center; vertical-align: top\">This is a product well<br>worth the purchase.  I ...</td>\n",
       "        <td style=\"padding-left: 1em; padding-right: 1em; text-align: center; vertical-align: top\">5.0</td>\n",
       "        <td style=\"padding-left: 1em; padding-right: 1em; text-align: center; vertical-align: top\">{'ingenious': 1L, 'and':<br>3L, 'love': 2L, ...</td>\n",
       "        <td style=\"padding-left: 1em; padding-right: 1em; text-align: center; vertical-align: top\">1</td>\n",
       "        <td style=\"padding-left: 1em; padding-right: 1em; text-align: center; vertical-align: top\">0</td>\n",
       "    </tr>\n",
       "    <tr>\n",
       "        <td style=\"padding-left: 1em; padding-right: 1em; text-align: center; vertical-align: top\">Stop Pacifier Sucking<br>without tears with ...</td>\n",
       "        <td style=\"padding-left: 1em; padding-right: 1em; text-align: center; vertical-align: top\">All of my kids have cried<br>non-stop when I tried to ...</td>\n",
       "        <td style=\"padding-left: 1em; padding-right: 1em; text-align: center; vertical-align: top\">5.0</td>\n",
       "        <td style=\"padding-left: 1em; padding-right: 1em; text-align: center; vertical-align: top\">{'and': 2L, 'parents!!':<br>1L, 'all': 2L, 'puppe ...</td>\n",
       "        <td style=\"padding-left: 1em; padding-right: 1em; text-align: center; vertical-align: top\">1</td>\n",
       "        <td style=\"padding-left: 1em; padding-right: 1em; text-align: center; vertical-align: top\">0</td>\n",
       "    </tr>\n",
       "    <tr>\n",
       "        <td style=\"padding-left: 1em; padding-right: 1em; text-align: center; vertical-align: top\">Stop Pacifier Sucking<br>without tears with ...</td>\n",
       "        <td style=\"padding-left: 1em; padding-right: 1em; text-align: center; vertical-align: top\">When the Binky Fairy came<br>to our house, we didn't ...</td>\n",
       "        <td style=\"padding-left: 1em; padding-right: 1em; text-align: center; vertical-align: top\">5.0</td>\n",
       "        <td style=\"padding-left: 1em; padding-right: 1em; text-align: center; vertical-align: top\">{'and': 2L, 'cute': 1L,<br>'help': 2L, 'doll': 1L, ...</td>\n",
       "        <td style=\"padding-left: 1em; padding-right: 1em; text-align: center; vertical-align: top\">1</td>\n",
       "        <td style=\"padding-left: 1em; padding-right: 1em; text-align: center; vertical-align: top\">0</td>\n",
       "    </tr>\n",
       "    <tr>\n",
       "        <td style=\"padding-left: 1em; padding-right: 1em; text-align: center; vertical-align: top\">A Tale of Baby's Days<br>with Peter Rabbit ...</td>\n",
       "        <td style=\"padding-left: 1em; padding-right: 1em; text-align: center; vertical-align: top\">Lovely book, it's bound<br>tightly so you may no ...</td>\n",
       "        <td style=\"padding-left: 1em; padding-right: 1em; text-align: center; vertical-align: top\">4.0</td>\n",
       "        <td style=\"padding-left: 1em; padding-right: 1em; text-align: center; vertical-align: top\">{'shop': 1L, 'be': 1L,<br>'is': 1L, 'it': 1L, ' ...</td>\n",
       "        <td style=\"padding-left: 1em; padding-right: 1em; text-align: center; vertical-align: top\">1</td>\n",
       "        <td style=\"padding-left: 1em; padding-right: 1em; text-align: center; vertical-align: top\">0</td>\n",
       "    </tr>\n",
       "    <tr>\n",
       "        <td style=\"padding-left: 1em; padding-right: 1em; text-align: center; vertical-align: top\">Baby Tracker&amp;reg; - Daily<br>Childcare Journal, ...</td>\n",
       "        <td style=\"padding-left: 1em; padding-right: 1em; text-align: center; vertical-align: top\">Perfect for new parents.<br>We were able to keep ...</td>\n",
       "        <td style=\"padding-left: 1em; padding-right: 1em; text-align: center; vertical-align: top\">5.0</td>\n",
       "        <td style=\"padding-left: 1em; padding-right: 1em; text-align: center; vertical-align: top\">{'feeding,': 1L, 'and':<br>2L, 'all': 1L, 'right': ...</td>\n",
       "        <td style=\"padding-left: 1em; padding-right: 1em; text-align: center; vertical-align: top\">1</td>\n",
       "        <td style=\"padding-left: 1em; padding-right: 1em; text-align: center; vertical-align: top\">0</td>\n",
       "    </tr>\n",
       "    <tr>\n",
       "        <td style=\"padding-left: 1em; padding-right: 1em; text-align: center; vertical-align: top\">Baby Tracker&amp;reg; - Daily<br>Childcare Journal, ...</td>\n",
       "        <td style=\"padding-left: 1em; padding-right: 1em; text-align: center; vertical-align: top\">A friend of mine pinned<br>this product on Pinte ...</td>\n",
       "        <td style=\"padding-left: 1em; padding-right: 1em; text-align: center; vertical-align: top\">5.0</td>\n",
       "        <td style=\"padding-left: 1em; padding-right: 1em; text-align: center; vertical-align: top\">{'and': 1L, 'help': 1L,<br>'give': 1L, 'is': 1L, ...</td>\n",
       "        <td style=\"padding-left: 1em; padding-right: 1em; text-align: center; vertical-align: top\">1</td>\n",
       "        <td style=\"padding-left: 1em; padding-right: 1em; text-align: center; vertical-align: top\">0</td>\n",
       "    </tr>\n",
       "    <tr>\n",
       "        <td style=\"padding-left: 1em; padding-right: 1em; text-align: center; vertical-align: top\">Baby Tracker&amp;reg; - Daily<br>Childcare Journal, ...</td>\n",
       "        <td style=\"padding-left: 1em; padding-right: 1em; text-align: center; vertical-align: top\">This has been an easy way<br>for my nanny to record ...</td>\n",
       "        <td style=\"padding-left: 1em; padding-right: 1em; text-align: center; vertical-align: top\">4.0</td>\n",
       "        <td style=\"padding-left: 1em; padding-right: 1em; text-align: center; vertical-align: top\">{'journal.': 1L, 'all':<br>1L, 'standarad': 1L, ...</td>\n",
       "        <td style=\"padding-left: 1em; padding-right: 1em; text-align: center; vertical-align: top\">1</td>\n",
       "        <td style=\"padding-left: 1em; padding-right: 1em; text-align: center; vertical-align: top\">0</td>\n",
       "    </tr>\n",
       "</table>\n",
       "<table frame=\"box\" rules=\"cols\">\n",
       "    <tr>\n",
       "        <th style=\"padding-left: 1em; padding-right: 1em; text-align: center\">great</th>\n",
       "        <th style=\"padding-left: 1em; padding-right: 1em; text-align: center\">fantastic</th>\n",
       "        <th style=\"padding-left: 1em; padding-right: 1em; text-align: center\">amazing</th>\n",
       "        <th style=\"padding-left: 1em; padding-right: 1em; text-align: center\">love</th>\n",
       "        <th style=\"padding-left: 1em; padding-right: 1em; text-align: center\">horrible</th>\n",
       "        <th style=\"padding-left: 1em; padding-right: 1em; text-align: center\">bad</th>\n",
       "        <th style=\"padding-left: 1em; padding-right: 1em; text-align: center\">terrible</th>\n",
       "        <th style=\"padding-left: 1em; padding-right: 1em; text-align: center\">awful</th>\n",
       "        <th style=\"padding-left: 1em; padding-right: 1em; text-align: center\">wow</th>\n",
       "        <th style=\"padding-left: 1em; padding-right: 1em; text-align: center\">hate</th>\n",
       "    </tr>\n",
       "    <tr>\n",
       "        <td style=\"padding-left: 1em; padding-right: 1em; text-align: center; vertical-align: top\">0</td>\n",
       "        <td style=\"padding-left: 1em; padding-right: 1em; text-align: center; vertical-align: top\">0</td>\n",
       "        <td style=\"padding-left: 1em; padding-right: 1em; text-align: center; vertical-align: top\">0</td>\n",
       "        <td style=\"padding-left: 1em; padding-right: 1em; text-align: center; vertical-align: top\">0</td>\n",
       "        <td style=\"padding-left: 1em; padding-right: 1em; text-align: center; vertical-align: top\">0</td>\n",
       "        <td style=\"padding-left: 1em; padding-right: 1em; text-align: center; vertical-align: top\">0</td>\n",
       "        <td style=\"padding-left: 1em; padding-right: 1em; text-align: center; vertical-align: top\">0</td>\n",
       "        <td style=\"padding-left: 1em; padding-right: 1em; text-align: center; vertical-align: top\">0</td>\n",
       "        <td style=\"padding-left: 1em; padding-right: 1em; text-align: center; vertical-align: top\">0</td>\n",
       "        <td style=\"padding-left: 1em; padding-right: 1em; text-align: center; vertical-align: top\">0</td>\n",
       "    </tr>\n",
       "    <tr>\n",
       "        <td style=\"padding-left: 1em; padding-right: 1em; text-align: center; vertical-align: top\">0</td>\n",
       "        <td style=\"padding-left: 1em; padding-right: 1em; text-align: center; vertical-align: top\">0</td>\n",
       "        <td style=\"padding-left: 1em; padding-right: 1em; text-align: center; vertical-align: top\">0</td>\n",
       "        <td style=\"padding-left: 1em; padding-right: 1em; text-align: center; vertical-align: top\">1</td>\n",
       "        <td style=\"padding-left: 1em; padding-right: 1em; text-align: center; vertical-align: top\">0</td>\n",
       "        <td style=\"padding-left: 1em; padding-right: 1em; text-align: center; vertical-align: top\">0</td>\n",
       "        <td style=\"padding-left: 1em; padding-right: 1em; text-align: center; vertical-align: top\">0</td>\n",
       "        <td style=\"padding-left: 1em; padding-right: 1em; text-align: center; vertical-align: top\">0</td>\n",
       "        <td style=\"padding-left: 1em; padding-right: 1em; text-align: center; vertical-align: top\">0</td>\n",
       "        <td style=\"padding-left: 1em; padding-right: 1em; text-align: center; vertical-align: top\">0</td>\n",
       "    </tr>\n",
       "    <tr>\n",
       "        <td style=\"padding-left: 1em; padding-right: 1em; text-align: center; vertical-align: top\">0</td>\n",
       "        <td style=\"padding-left: 1em; padding-right: 1em; text-align: center; vertical-align: top\">0</td>\n",
       "        <td style=\"padding-left: 1em; padding-right: 1em; text-align: center; vertical-align: top\">0</td>\n",
       "        <td style=\"padding-left: 1em; padding-right: 1em; text-align: center; vertical-align: top\">0</td>\n",
       "        <td style=\"padding-left: 1em; padding-right: 1em; text-align: center; vertical-align: top\">0</td>\n",
       "        <td style=\"padding-left: 1em; padding-right: 1em; text-align: center; vertical-align: top\">0</td>\n",
       "        <td style=\"padding-left: 1em; padding-right: 1em; text-align: center; vertical-align: top\">0</td>\n",
       "        <td style=\"padding-left: 1em; padding-right: 1em; text-align: center; vertical-align: top\">0</td>\n",
       "        <td style=\"padding-left: 1em; padding-right: 1em; text-align: center; vertical-align: top\">0</td>\n",
       "        <td style=\"padding-left: 1em; padding-right: 1em; text-align: center; vertical-align: top\">0</td>\n",
       "    </tr>\n",
       "    <tr>\n",
       "        <td style=\"padding-left: 1em; padding-right: 1em; text-align: center; vertical-align: top\">0</td>\n",
       "        <td style=\"padding-left: 1em; padding-right: 1em; text-align: center; vertical-align: top\">0</td>\n",
       "        <td style=\"padding-left: 1em; padding-right: 1em; text-align: center; vertical-align: top\">0</td>\n",
       "        <td style=\"padding-left: 1em; padding-right: 1em; text-align: center; vertical-align: top\">2</td>\n",
       "        <td style=\"padding-left: 1em; padding-right: 1em; text-align: center; vertical-align: top\">0</td>\n",
       "        <td style=\"padding-left: 1em; padding-right: 1em; text-align: center; vertical-align: top\">0</td>\n",
       "        <td style=\"padding-left: 1em; padding-right: 1em; text-align: center; vertical-align: top\">0</td>\n",
       "        <td style=\"padding-left: 1em; padding-right: 1em; text-align: center; vertical-align: top\">0</td>\n",
       "        <td style=\"padding-left: 1em; padding-right: 1em; text-align: center; vertical-align: top\">0</td>\n",
       "        <td style=\"padding-left: 1em; padding-right: 1em; text-align: center; vertical-align: top\">0</td>\n",
       "    </tr>\n",
       "    <tr>\n",
       "        <td style=\"padding-left: 1em; padding-right: 1em; text-align: center; vertical-align: top\">1</td>\n",
       "        <td style=\"padding-left: 1em; padding-right: 1em; text-align: center; vertical-align: top\">0</td>\n",
       "        <td style=\"padding-left: 1em; padding-right: 1em; text-align: center; vertical-align: top\">0</td>\n",
       "        <td style=\"padding-left: 1em; padding-right: 1em; text-align: center; vertical-align: top\">0</td>\n",
       "        <td style=\"padding-left: 1em; padding-right: 1em; text-align: center; vertical-align: top\">0</td>\n",
       "        <td style=\"padding-left: 1em; padding-right: 1em; text-align: center; vertical-align: top\">0</td>\n",
       "        <td style=\"padding-left: 1em; padding-right: 1em; text-align: center; vertical-align: top\">0</td>\n",
       "        <td style=\"padding-left: 1em; padding-right: 1em; text-align: center; vertical-align: top\">0</td>\n",
       "        <td style=\"padding-left: 1em; padding-right: 1em; text-align: center; vertical-align: top\">0</td>\n",
       "        <td style=\"padding-left: 1em; padding-right: 1em; text-align: center; vertical-align: top\">0</td>\n",
       "    </tr>\n",
       "    <tr>\n",
       "        <td style=\"padding-left: 1em; padding-right: 1em; text-align: center; vertical-align: top\">1</td>\n",
       "        <td style=\"padding-left: 1em; padding-right: 1em; text-align: center; vertical-align: top\">0</td>\n",
       "        <td style=\"padding-left: 1em; padding-right: 1em; text-align: center; vertical-align: top\">0</td>\n",
       "        <td style=\"padding-left: 1em; padding-right: 1em; text-align: center; vertical-align: top\">0</td>\n",
       "        <td style=\"padding-left: 1em; padding-right: 1em; text-align: center; vertical-align: top\">0</td>\n",
       "        <td style=\"padding-left: 1em; padding-right: 1em; text-align: center; vertical-align: top\">0</td>\n",
       "        <td style=\"padding-left: 1em; padding-right: 1em; text-align: center; vertical-align: top\">0</td>\n",
       "        <td style=\"padding-left: 1em; padding-right: 1em; text-align: center; vertical-align: top\">0</td>\n",
       "        <td style=\"padding-left: 1em; padding-right: 1em; text-align: center; vertical-align: top\">0</td>\n",
       "        <td style=\"padding-left: 1em; padding-right: 1em; text-align: center; vertical-align: top\">0</td>\n",
       "    </tr>\n",
       "    <tr>\n",
       "        <td style=\"padding-left: 1em; padding-right: 1em; text-align: center; vertical-align: top\">0</td>\n",
       "        <td style=\"padding-left: 1em; padding-right: 1em; text-align: center; vertical-align: top\">0</td>\n",
       "        <td style=\"padding-left: 1em; padding-right: 1em; text-align: center; vertical-align: top\">0</td>\n",
       "        <td style=\"padding-left: 1em; padding-right: 1em; text-align: center; vertical-align: top\">0</td>\n",
       "        <td style=\"padding-left: 1em; padding-right: 1em; text-align: center; vertical-align: top\">0</td>\n",
       "        <td style=\"padding-left: 1em; padding-right: 1em; text-align: center; vertical-align: top\">0</td>\n",
       "        <td style=\"padding-left: 1em; padding-right: 1em; text-align: center; vertical-align: top\">0</td>\n",
       "        <td style=\"padding-left: 1em; padding-right: 1em; text-align: center; vertical-align: top\">0</td>\n",
       "        <td style=\"padding-left: 1em; padding-right: 1em; text-align: center; vertical-align: top\">0</td>\n",
       "        <td style=\"padding-left: 1em; padding-right: 1em; text-align: center; vertical-align: top\">0</td>\n",
       "    </tr>\n",
       "    <tr>\n",
       "        <td style=\"padding-left: 1em; padding-right: 1em; text-align: center; vertical-align: top\">0</td>\n",
       "        <td style=\"padding-left: 1em; padding-right: 1em; text-align: center; vertical-align: top\">0</td>\n",
       "        <td style=\"padding-left: 1em; padding-right: 1em; text-align: center; vertical-align: top\">0</td>\n",
       "        <td style=\"padding-left: 1em; padding-right: 1em; text-align: center; vertical-align: top\">0</td>\n",
       "        <td style=\"padding-left: 1em; padding-right: 1em; text-align: center; vertical-align: top\">0</td>\n",
       "        <td style=\"padding-left: 1em; padding-right: 1em; text-align: center; vertical-align: top\">0</td>\n",
       "        <td style=\"padding-left: 1em; padding-right: 1em; text-align: center; vertical-align: top\">0</td>\n",
       "        <td style=\"padding-left: 1em; padding-right: 1em; text-align: center; vertical-align: top\">0</td>\n",
       "        <td style=\"padding-left: 1em; padding-right: 1em; text-align: center; vertical-align: top\">0</td>\n",
       "        <td style=\"padding-left: 1em; padding-right: 1em; text-align: center; vertical-align: top\">0</td>\n",
       "    </tr>\n",
       "    <tr>\n",
       "        <td style=\"padding-left: 1em; padding-right: 1em; text-align: center; vertical-align: top\">0</td>\n",
       "        <td style=\"padding-left: 1em; padding-right: 1em; text-align: center; vertical-align: top\">0</td>\n",
       "        <td style=\"padding-left: 1em; padding-right: 1em; text-align: center; vertical-align: top\">0</td>\n",
       "        <td style=\"padding-left: 1em; padding-right: 1em; text-align: center; vertical-align: top\">0</td>\n",
       "        <td style=\"padding-left: 1em; padding-right: 1em; text-align: center; vertical-align: top\">0</td>\n",
       "        <td style=\"padding-left: 1em; padding-right: 1em; text-align: center; vertical-align: top\">0</td>\n",
       "        <td style=\"padding-left: 1em; padding-right: 1em; text-align: center; vertical-align: top\">0</td>\n",
       "        <td style=\"padding-left: 1em; padding-right: 1em; text-align: center; vertical-align: top\">0</td>\n",
       "        <td style=\"padding-left: 1em; padding-right: 1em; text-align: center; vertical-align: top\">0</td>\n",
       "        <td style=\"padding-left: 1em; padding-right: 1em; text-align: center; vertical-align: top\">0</td>\n",
       "    </tr>\n",
       "    <tr>\n",
       "        <td style=\"padding-left: 1em; padding-right: 1em; text-align: center; vertical-align: top\">0</td>\n",
       "        <td style=\"padding-left: 1em; padding-right: 1em; text-align: center; vertical-align: top\">0</td>\n",
       "        <td style=\"padding-left: 1em; padding-right: 1em; text-align: center; vertical-align: top\">0</td>\n",
       "        <td style=\"padding-left: 1em; padding-right: 1em; text-align: center; vertical-align: top\">0</td>\n",
       "        <td style=\"padding-left: 1em; padding-right: 1em; text-align: center; vertical-align: top\">0</td>\n",
       "        <td style=\"padding-left: 1em; padding-right: 1em; text-align: center; vertical-align: top\">0</td>\n",
       "        <td style=\"padding-left: 1em; padding-right: 1em; text-align: center; vertical-align: top\">0</td>\n",
       "        <td style=\"padding-left: 1em; padding-right: 1em; text-align: center; vertical-align: top\">0</td>\n",
       "        <td style=\"padding-left: 1em; padding-right: 1em; text-align: center; vertical-align: top\">0</td>\n",
       "        <td style=\"padding-left: 1em; padding-right: 1em; text-align: center; vertical-align: top\">0</td>\n",
       "    </tr>\n",
       "</table>\n",
       "[10 rows x 16 columns]<br/>\n",
       "</div>"
      ],
      "text/plain": [
       "Columns:\n",
       "\tname\tstr\n",
       "\treview\tstr\n",
       "\trating\tfloat\n",
       "\tword_count\tdict\n",
       "\tsentiment\tint\n",
       "\tawesome\tint\n",
       "\tgreat\tint\n",
       "\tfantastic\tint\n",
       "\tamazing\tint\n",
       "\tlove\tint\n",
       "\thorrible\tint\n",
       "\tbad\tint\n",
       "\tterrible\tint\n",
       "\tawful\tint\n",
       "\twow\tint\n",
       "\thate\tint\n",
       "\n",
       "Rows: 10\n",
       "\n",
       "Data:\n",
       "+-------------------------------+-------------------------------+--------+\n",
       "|              name             |             review            | rating |\n",
       "+-------------------------------+-------------------------------+--------+\n",
       "|    Planetwise Flannel Wipes   | These flannel wipes are OK... |  3.0   |\n",
       "|     Planetwise Wipe Pouch     | it came early and was not ... |  5.0   |\n",
       "| Annas Dream Full Quilt wit... | Very soft and comfortable ... |  5.0   |\n",
       "| Stop Pacifier Sucking with... | This is a product well wor... |  5.0   |\n",
       "| Stop Pacifier Sucking with... | All of my kids have cried ... |  5.0   |\n",
       "| Stop Pacifier Sucking with... | When the Binky Fairy came ... |  5.0   |\n",
       "| A Tale of Baby's Days with... | Lovely book, it's bound ti... |  4.0   |\n",
       "| Baby Tracker&reg; - Daily ... | Perfect for new parents. W... |  5.0   |\n",
       "| Baby Tracker&reg; - Daily ... | A friend of mine pinned th... |  5.0   |\n",
       "| Baby Tracker&reg; - Daily ... | This has been an easy way ... |  4.0   |\n",
       "+-------------------------------+-------------------------------+--------+\n",
       "+-------------------------------+-----------+---------+-------+-----------+---------+\n",
       "|           word_count          | sentiment | awesome | great | fantastic | amazing |\n",
       "+-------------------------------+-----------+---------+-------+-----------+---------+\n",
       "| {'and': 5L, 'stink': 1L, '... |     0     |    0    |   0   |     0     |    0    |\n",
       "| {'and': 3L, 'love': 1L, 'i... |     1     |    0    |   0   |     0     |    0    |\n",
       "| {'and': 2L, 'quilt': 1L, '... |     1     |    0    |   0   |     0     |    0    |\n",
       "| {'ingenious': 1L, 'and': 3... |     1     |    0    |   0   |     0     |    0    |\n",
       "| {'and': 2L, 'parents!!': 1... |     1     |    0    |   1   |     0     |    0    |\n",
       "| {'and': 2L, 'cute': 1L, 'h... |     1     |    0    |   1   |     0     |    0    |\n",
       "| {'shop': 1L, 'be': 1L, 'is... |     1     |    0    |   0   |     0     |    0    |\n",
       "| {'feeding,': 1L, 'and': 2L... |     1     |    0    |   0   |     0     |    0    |\n",
       "| {'and': 1L, 'help': 1L, 'g... |     1     |    0    |   0   |     0     |    0    |\n",
       "| {'journal.': 1L, 'all': 1L... |     1     |    0    |   0   |     0     |    0    |\n",
       "+-------------------------------+-----------+---------+-------+-----------+---------+\n",
       "+------+----------+-----+----------+-------+-----+------+\n",
       "| love | horrible | bad | terrible | awful | wow | hate |\n",
       "+------+----------+-----+----------+-------+-----+------+\n",
       "|  0   |    0     |  0  |    0     |   0   |  0  |  0   |\n",
       "|  1   |    0     |  0  |    0     |   0   |  0  |  0   |\n",
       "|  0   |    0     |  0  |    0     |   0   |  0  |  0   |\n",
       "|  2   |    0     |  0  |    0     |   0   |  0  |  0   |\n",
       "|  0   |    0     |  0  |    0     |   0   |  0  |  0   |\n",
       "|  0   |    0     |  0  |    0     |   0   |  0  |  0   |\n",
       "|  0   |    0     |  0  |    0     |   0   |  0  |  0   |\n",
       "|  0   |    0     |  0  |    0     |   0   |  0  |  0   |\n",
       "|  0   |    0     |  0  |    0     |   0   |  0  |  0   |\n",
       "|  0   |    0     |  0  |    0     |   0   |  0  |  0   |\n",
       "+------+----------+-----+----------+-------+-----+------+\n",
       "[10 rows x 16 columns]"
      ]
     },
     "execution_count": 56,
     "metadata": {},
     "output_type": "execute_result"
    }
   ],
   "source": [
    "products.head()\n"
   ]
  },
  {
   "cell_type": "code",
   "execution_count": 57,
   "metadata": {
    "collapsed": false
   },
   "outputs": [
    {
     "ename": "NameError",
     "evalue": "name 'product' is not defined",
     "output_type": "error",
     "traceback": [
      "\u001b[1;31m---------------------------------------------------------------------------\u001b[0m",
      "\u001b[1;31mNameError\u001b[0m                                 Traceback (most recent call last)",
      "\u001b[1;32m<ipython-input-57-d2db72b3db07>\u001b[0m in \u001b[0;36m<module>\u001b[1;34m()\u001b[0m\n\u001b[1;32m----> 1\u001b[1;33m \u001b[0mproduct\u001b[0m\u001b[1;33m[\u001b[0m\u001b[1;36m1\u001b[0m\u001b[1;33m]\u001b[0m\u001b[1;33m[\u001b[0m\u001b[1;34m'review'\u001b[0m\u001b[1;33m]\u001b[0m\u001b[1;33m\u001b[0m\u001b[0m\n\u001b[0m",
      "\u001b[1;31mNameError\u001b[0m: name 'product' is not defined"
     ]
    }
   ],
   "source": [
    "product[1]['review']"
   ]
  },
  {
   "cell_type": "code",
   "execution_count": 58,
   "metadata": {
    "collapsed": false
   },
   "outputs": [
    {
     "data": {
      "text/plain": [
       "'it came early and was not disappointed. i love planet wise bags and now my wipe holder. it keps my osocozy wipes moist and does not leak. highly recommend it.'"
      ]
     },
     "execution_count": 58,
     "metadata": {},
     "output_type": "execute_result"
    }
   ],
   "source": [
    "products[1]['review']"
   ]
  },
  {
   "cell_type": "code",
   "execution_count": 59,
   "metadata": {
    "collapsed": true
   },
   "outputs": [],
   "source": [
    "    train_data,test_data = products.random_split(.8, seed=0)"
   ]
  },
  {
   "cell_type": "code",
   "execution_count": 60,
   "metadata": {
    "collapsed": false
   },
   "outputs": [
    {
     "data": {
      "text/html": [
       "<pre>Logistic regression:</pre>"
      ],
      "text/plain": [
       "Logistic regression:"
      ]
     },
     "metadata": {},
     "output_type": "display_data"
    },
    {
     "data": {
      "text/html": [
       "<pre>--------------------------------------------------------</pre>"
      ],
      "text/plain": [
       "--------------------------------------------------------"
      ]
     },
     "metadata": {},
     "output_type": "display_data"
    },
    {
     "data": {
      "text/html": [
       "<pre>Number of examples          : 146861</pre>"
      ],
      "text/plain": [
       "Number of examples          : 146861"
      ]
     },
     "metadata": {},
     "output_type": "display_data"
    },
    {
     "data": {
      "text/html": [
       "<pre>Number of classes           : 2</pre>"
      ],
      "text/plain": [
       "Number of classes           : 2"
      ]
     },
     "metadata": {},
     "output_type": "display_data"
    },
    {
     "data": {
      "text/html": [
       "<pre>Number of feature columns   : 11</pre>"
      ],
      "text/plain": [
       "Number of feature columns   : 11"
      ]
     },
     "metadata": {},
     "output_type": "display_data"
    },
    {
     "data": {
      "text/html": [
       "<pre>Number of unpacked features : 11</pre>"
      ],
      "text/plain": [
       "Number of unpacked features : 11"
      ]
     },
     "metadata": {},
     "output_type": "display_data"
    },
    {
     "data": {
      "text/html": [
       "<pre>Number of coefficients    : 12</pre>"
      ],
      "text/plain": [
       "Number of coefficients    : 12"
      ]
     },
     "metadata": {},
     "output_type": "display_data"
    },
    {
     "data": {
      "text/html": [
       "<pre>Starting Newton Method</pre>"
      ],
      "text/plain": [
       "Starting Newton Method"
      ]
     },
     "metadata": {},
     "output_type": "display_data"
    },
    {
     "data": {
      "text/html": [
       "<pre>--------------------------------------------------------</pre>"
      ],
      "text/plain": [
       "--------------------------------------------------------"
      ]
     },
     "metadata": {},
     "output_type": "display_data"
    },
    {
     "data": {
      "text/html": [
       "<pre>+-----------+----------+--------------+-------------------+---------------------+</pre>"
      ],
      "text/plain": [
       "+-----------+----------+--------------+-------------------+---------------------+"
      ]
     },
     "metadata": {},
     "output_type": "display_data"
    },
    {
     "data": {
      "text/html": [
       "<pre>| Iteration | Passes   | Elapsed Time | Training-accuracy | Validation-accuracy |</pre>"
      ],
      "text/plain": [
       "| Iteration | Passes   | Elapsed Time | Training-accuracy | Validation-accuracy |"
      ]
     },
     "metadata": {},
     "output_type": "display_data"
    },
    {
     "data": {
      "text/html": [
       "<pre>+-----------+----------+--------------+-------------------+---------------------+</pre>"
      ],
      "text/plain": [
       "+-----------+----------+--------------+-------------------+---------------------+"
      ]
     },
     "metadata": {},
     "output_type": "display_data"
    },
    {
     "data": {
      "text/html": [
       "<pre>| 1         | 2        | 0.319738     | 0.768182          | 0.767903            |</pre>"
      ],
      "text/plain": [
       "| 1         | 2        | 0.319738     | 0.768182          | 0.767903            |"
      ]
     },
     "metadata": {},
     "output_type": "display_data"
    },
    {
     "data": {
      "text/html": [
       "<pre>| 2         | 3        | 0.578410     | 0.768332          | 0.767985            |</pre>"
      ],
      "text/plain": [
       "| 2         | 3        | 0.578410     | 0.768332          | 0.767985            |"
      ]
     },
     "metadata": {},
     "output_type": "display_data"
    },
    {
     "data": {
      "text/html": [
       "<pre>| 3         | 4        | 0.803577     | 0.768747          | 0.767712            |</pre>"
      ],
      "text/plain": [
       "| 3         | 4        | 0.803577     | 0.768747          | 0.767712            |"
      ]
     },
     "metadata": {},
     "output_type": "display_data"
    },
    {
     "data": {
      "text/html": [
       "<pre>| 4         | 5        | 1.022743     | 0.768747          | 0.767712            |</pre>"
      ],
      "text/plain": [
       "| 4         | 5        | 1.022743     | 0.768747          | 0.767712            |"
      ]
     },
     "metadata": {},
     "output_type": "display_data"
    },
    {
     "data": {
      "text/html": [
       "<pre>| 5         | 6        | 1.246425     | 0.768747          | 0.767712            |</pre>"
      ],
      "text/plain": [
       "| 5         | 6        | 1.246425     | 0.768747          | 0.767712            |"
      ]
     },
     "metadata": {},
     "output_type": "display_data"
    },
    {
     "data": {
      "text/html": [
       "<pre>+-----------+----------+--------------+-------------------+---------------------+</pre>"
      ],
      "text/plain": [
       "+-----------+----------+--------------+-------------------+---------------------+"
      ]
     },
     "metadata": {},
     "output_type": "display_data"
    },
    {
     "data": {
      "text/html": [
       "<pre>SUCCESS: Optimal solution found.</pre>"
      ],
      "text/plain": [
       "SUCCESS: Optimal solution found."
      ]
     },
     "metadata": {},
     "output_type": "display_data"
    },
    {
     "data": {
      "text/html": [
       "<pre></pre>"
      ],
      "text/plain": []
     },
     "metadata": {},
     "output_type": "display_data"
    }
   ],
   "source": [
    "new_model = graphlab.logistic_classifier.create(train_data,target='sentiment',features = selected_words, validation_set = test_data)"
   ]
  },
  {
   "cell_type": "code",
   "execution_count": 61,
   "metadata": {
    "collapsed": true
   },
   "outputs": [],
   "source": [
    "sum_list = {}\n",
    "for x in selected_words:\n",
    "    sum_list[x] = sum(products[word])"
   ]
  },
  {
   "cell_type": "code",
   "execution_count": 62,
   "metadata": {
    "collapsed": true
   },
   "outputs": [
    {
     "data": {
      "text/plain": [
       "{'amazing': 1220L,\n",
       " 'awesome': 1220L,\n",
       " 'awful': 1220L,\n",
       " 'bad': 1220L,\n",
       " 'fantastic': 1220L,\n",
       " 'great': 1220L,\n",
       " 'hate': 1220L,\n",
       " 'horrible': 1220L,\n",
       " 'love': 1220L,\n",
       " 'terrible': 1220L,\n",
       " 'wow': 1220L}"
      ]
     },
     "execution_count": 62,
     "metadata": {},
     "output_type": "execute_result"
    }
   ],
   "source": [
    "sum_list"
   ]
  },
  {
   "cell_type": "code",
   "execution_count": 63,
   "metadata": {
    "collapsed": true
   },
   "outputs": [
    {
     "data": {
      "text/plain": [
       "dtype: int\n",
       "Rows: 183531\n",
       "[0L, 0L, 0L, 0L, 0L, 0L, 0L, 0L, 0L, 0L, 0L, 0L, 0L, 0L, 0L, 0L, 0L, 0L, 0L, 0L, 0L, 0L, 0L, 0L, 0L, 0L, 0L, 0L, 0L, 0L, 0L, 0L, 0L, 0L, 0L, 0L, 0L, 0L, 0L, 0L, 0L, 0L, 0L, 0L, 0L, 0L, 0L, 0L, 0L, 0L, 0L, 0L, 0L, 0L, 0L, 0L, 0L, 0L, 0L, 0L, 0L, 0L, 0L, 0L, 0L, 0L, 0L, 0L, 0L, 0L, 0L, 0L, 0L, 0L, 0L, 0L, 0L, 0L, 0L, 0L, 0L, 0L, 0L, 0L, 0L, 0L, 0L, 0L, 0L, 0L, 0L, 0L, 0L, 0L, 0L, 0L, 0L, 0L, 0L, 0L, ... ]"
      ]
     },
     "execution_count": 63,
     "metadata": {},
     "output_type": "execute_result"
    }
   ],
   "source": [
    "products['awesome']"
   ]
  },
  {
   "cell_type": "code",
   "execution_count": 65,
   "metadata": {
    "collapsed": false
   },
   "outputs": [
    {
     "data": {
      "text/plain": [
       "42065L"
      ]
     },
     "execution_count": 65,
     "metadata": {},
     "output_type": "execute_result"
    }
   ],
   "source": [
    "sum(products['love'])"
   ]
  },
  {
   "cell_type": "code",
   "execution_count": 66,
   "metadata": {
    "collapsed": true
   },
   "outputs": [
    {
     "name": "stdout",
     "output_type": "stream",
     "text": [
      "awesome 2090\n",
      "great 45206\n",
      "fantastic 932\n",
      "amazing 1363\n",
      "love 42065\n",
      "horrible 734\n",
      "bad 3724\n",
      "terrible 748\n",
      "awful 383\n",
      "wow 144\n",
      "hate 1220\n"
     ]
    }
   ],
   "source": [
    "for x in selected_words:\n",
    "    print x , sum(products[x])"
   ]
  },
  {
   "cell_type": "code",
   "execution_count": 67,
   "metadata": {
    "collapsed": true
   },
   "outputs": [
    {
     "data": {
      "text/html": [
       "<div style=\"max-height:1000px;max-width:1500px;overflow:auto;\"><table frame=\"box\" rules=\"cols\">\n",
       "    <tr>\n",
       "        <th style=\"padding-left: 1em; padding-right: 1em; text-align: center\">name</th>\n",
       "        <th style=\"padding-left: 1em; padding-right: 1em; text-align: center\">index</th>\n",
       "        <th style=\"padding-left: 1em; padding-right: 1em; text-align: center\">class</th>\n",
       "        <th style=\"padding-left: 1em; padding-right: 1em; text-align: center\">value</th>\n",
       "        <th style=\"padding-left: 1em; padding-right: 1em; text-align: center\">stderr</th>\n",
       "    </tr>\n",
       "    <tr>\n",
       "        <td style=\"padding-left: 1em; padding-right: 1em; text-align: center; vertical-align: top\">(intercept)</td>\n",
       "        <td style=\"padding-left: 1em; padding-right: 1em; text-align: center; vertical-align: top\">None</td>\n",
       "        <td style=\"padding-left: 1em; padding-right: 1em; text-align: center; vertical-align: top\">1</td>\n",
       "        <td style=\"padding-left: 1em; padding-right: 1em; text-align: center; vertical-align: top\">0.899735119511</td>\n",
       "        <td style=\"padding-left: 1em; padding-right: 1em; text-align: center; vertical-align: top\">0.00717026186532</td>\n",
       "    </tr>\n",
       "    <tr>\n",
       "        <td style=\"padding-left: 1em; padding-right: 1em; text-align: center; vertical-align: top\">awesome</td>\n",
       "        <td style=\"padding-left: 1em; padding-right: 1em; text-align: center; vertical-align: top\">None</td>\n",
       "        <td style=\"padding-left: 1em; padding-right: 1em; text-align: center; vertical-align: top\">1</td>\n",
       "        <td style=\"padding-left: 1em; padding-right: 1em; text-align: center; vertical-align: top\">1.00625649388</td>\n",
       "        <td style=\"padding-left: 1em; padding-right: 1em; text-align: center; vertical-align: top\">0.0865938486142</td>\n",
       "    </tr>\n",
       "    <tr>\n",
       "        <td style=\"padding-left: 1em; padding-right: 1em; text-align: center; vertical-align: top\">great</td>\n",
       "        <td style=\"padding-left: 1em; padding-right: 1em; text-align: center; vertical-align: top\">None</td>\n",
       "        <td style=\"padding-left: 1em; padding-right: 1em; text-align: center; vertical-align: top\">1</td>\n",
       "        <td style=\"padding-left: 1em; padding-right: 1em; text-align: center; vertical-align: top\">0.699683829426</td>\n",
       "        <td style=\"padding-left: 1em; padding-right: 1em; text-align: center; vertical-align: top\">0.0159519289269</td>\n",
       "    </tr>\n",
       "    <tr>\n",
       "        <td style=\"padding-left: 1em; padding-right: 1em; text-align: center; vertical-align: top\">fantastic</td>\n",
       "        <td style=\"padding-left: 1em; padding-right: 1em; text-align: center; vertical-align: top\">None</td>\n",
       "        <td style=\"padding-left: 1em; padding-right: 1em; text-align: center; vertical-align: top\">1</td>\n",
       "        <td style=\"padding-left: 1em; padding-right: 1em; text-align: center; vertical-align: top\">0.699443114061</td>\n",
       "        <td style=\"padding-left: 1em; padding-right: 1em; text-align: center; vertical-align: top\">0.115103829798</td>\n",
       "    </tr>\n",
       "    <tr>\n",
       "        <td style=\"padding-left: 1em; padding-right: 1em; text-align: center; vertical-align: top\">amazing</td>\n",
       "        <td style=\"padding-left: 1em; padding-right: 1em; text-align: center; vertical-align: top\">None</td>\n",
       "        <td style=\"padding-left: 1em; padding-right: 1em; text-align: center; vertical-align: top\">1</td>\n",
       "        <td style=\"padding-left: 1em; padding-right: 1em; text-align: center; vertical-align: top\">0.892025920947</td>\n",
       "        <td style=\"padding-left: 1em; padding-right: 1em; text-align: center; vertical-align: top\">0.102852435149</td>\n",
       "    </tr>\n",
       "    <tr>\n",
       "        <td style=\"padding-left: 1em; padding-right: 1em; text-align: center; vertical-align: top\">love</td>\n",
       "        <td style=\"padding-left: 1em; padding-right: 1em; text-align: center; vertical-align: top\">None</td>\n",
       "        <td style=\"padding-left: 1em; padding-right: 1em; text-align: center; vertical-align: top\">1</td>\n",
       "        <td style=\"padding-left: 1em; padding-right: 1em; text-align: center; vertical-align: top\">1.15720106058</td>\n",
       "        <td style=\"padding-left: 1em; padding-right: 1em; text-align: center; vertical-align: top\">0.0202619223313</td>\n",
       "    </tr>\n",
       "    <tr>\n",
       "        <td style=\"padding-left: 1em; padding-right: 1em; text-align: center; vertical-align: top\">horrible</td>\n",
       "        <td style=\"padding-left: 1em; padding-right: 1em; text-align: center; vertical-align: top\">None</td>\n",
       "        <td style=\"padding-left: 1em; padding-right: 1em; text-align: center; vertical-align: top\">1</td>\n",
       "        <td style=\"padding-left: 1em; padding-right: 1em; text-align: center; vertical-align: top\">-1.75774666269</td>\n",
       "        <td style=\"padding-left: 1em; padding-right: 1em; text-align: center; vertical-align: top\">0.0948804076821</td>\n",
       "    </tr>\n",
       "    <tr>\n",
       "        <td style=\"padding-left: 1em; padding-right: 1em; text-align: center; vertical-align: top\">bad</td>\n",
       "        <td style=\"padding-left: 1em; padding-right: 1em; text-align: center; vertical-align: top\">None</td>\n",
       "        <td style=\"padding-left: 1em; padding-right: 1em; text-align: center; vertical-align: top\">1</td>\n",
       "        <td style=\"padding-left: 1em; padding-right: 1em; text-align: center; vertical-align: top\">-0.904090478755</td>\n",
       "        <td style=\"padding-left: 1em; padding-right: 1em; text-align: center; vertical-align: top\">0.0383264123099</td>\n",
       "    </tr>\n",
       "    <tr>\n",
       "        <td style=\"padding-left: 1em; padding-right: 1em; text-align: center; vertical-align: top\">terrible</td>\n",
       "        <td style=\"padding-left: 1em; padding-right: 1em; text-align: center; vertical-align: top\">None</td>\n",
       "        <td style=\"padding-left: 1em; padding-right: 1em; text-align: center; vertical-align: top\">1</td>\n",
       "        <td style=\"padding-left: 1em; padding-right: 1em; text-align: center; vertical-align: top\">-1.73568678121</td>\n",
       "        <td style=\"padding-left: 1em; padding-right: 1em; text-align: center; vertical-align: top\">0.0918085586601</td>\n",
       "    </tr>\n",
       "    <tr>\n",
       "        <td style=\"padding-left: 1em; padding-right: 1em; text-align: center; vertical-align: top\">awful</td>\n",
       "        <td style=\"padding-left: 1em; padding-right: 1em; text-align: center; vertical-align: top\">None</td>\n",
       "        <td style=\"padding-left: 1em; padding-right: 1em; text-align: center; vertical-align: top\">1</td>\n",
       "        <td style=\"padding-left: 1em; padding-right: 1em; text-align: center; vertical-align: top\">-1.43812417008</td>\n",
       "        <td style=\"padding-left: 1em; padding-right: 1em; text-align: center; vertical-align: top\">0.126616629284</td>\n",
       "    </tr>\n",
       "</table>\n",
       "[12 rows x 5 columns]<br/>Note: Only the head of the SFrame is printed.<br/>You can use print_rows(num_rows=m, num_columns=n) to print more rows and columns.\n",
       "</div>"
      ],
      "text/plain": [
       "Columns:\n",
       "\tname\tstr\n",
       "\tindex\tstr\n",
       "\tclass\tint\n",
       "\tvalue\tfloat\n",
       "\tstderr\tfloat\n",
       "\n",
       "Rows: 12\n",
       "\n",
       "Data:\n",
       "+-------------+-------+-------+-----------------+------------------+\n",
       "|     name    | index | class |      value      |      stderr      |\n",
       "+-------------+-------+-------+-----------------+------------------+\n",
       "| (intercept) |  None |   1   |  0.899735119511 | 0.00717026186532 |\n",
       "|   awesome   |  None |   1   |  1.00625649388  | 0.0865938486142  |\n",
       "|    great    |  None |   1   |  0.699683829426 | 0.0159519289269  |\n",
       "|  fantastic  |  None |   1   |  0.699443114061 |  0.115103829798  |\n",
       "|   amazing   |  None |   1   |  0.892025920947 |  0.102852435149  |\n",
       "|     love    |  None |   1   |  1.15720106058  | 0.0202619223313  |\n",
       "|   horrible  |  None |   1   |  -1.75774666269 | 0.0948804076821  |\n",
       "|     bad     |  None |   1   | -0.904090478755 | 0.0383264123099  |\n",
       "|   terrible  |  None |   1   |  -1.73568678121 | 0.0918085586601  |\n",
       "|    awful    |  None |   1   |  -1.43812417008 |  0.126616629284  |\n",
       "+-------------+-------+-------+-----------------+------------------+\n",
       "[12 rows x 5 columns]\n",
       "Note: Only the head of the SFrame is printed.\n",
       "You can use print_rows(num_rows=m, num_columns=n) to print more rows and columns."
      ]
     },
     "execution_count": 67,
     "metadata": {},
     "output_type": "execute_result"
    }
   ],
   "source": []
  },
  {
   "cell_type": "code",
   "execution_count": 68,
   "metadata": {
    "collapsed": true
   },
   "outputs": [
    {
     "data": {
      "text/plain": [
       "dtype: float\n",
       "Rows: 12\n",
       "[-1.7577466626868334, -1.735686781214677, -1.4381241700796703, -1.2829716525136734, -0.9040904787545444, 0.3248105982589264, 0.6994431140605364, 0.6996838294257292, 0.8920259209472637, 0.8997351195106478, 1.006256493877852, 1.1572010605778533]"
      ]
     },
     "execution_count": 68,
     "metadata": {},
     "output_type": "execute_result"
    }
   ],
   "source": [
    "new_model['coefficients']['value'].sort()"
   ]
  },
  {
   "cell_type": "code",
   "execution_count": 69,
   "metadata": {
    "collapsed": true
   },
   "outputs": [
    {
     "name": "stdout",
     "output_type": "stream",
     "text": [
      "+-------------+-------+-------+-----------------+------------------+\n",
      "|     name    | index | class |      value      |      stderr      |\n",
      "+-------------+-------+-------+-----------------+------------------+\n",
      "| (intercept) |  None |   1   |  0.899735119511 | 0.00717026186532 |\n",
      "|   awesome   |  None |   1   |  1.00625649388  | 0.0865938486142  |\n",
      "|    great    |  None |   1   |  0.699683829426 | 0.0159519289269  |\n",
      "|  fantastic  |  None |   1   |  0.699443114061 |  0.115103829798  |\n",
      "|   amazing   |  None |   1   |  0.892025920947 |  0.102852435149  |\n",
      "|     love    |  None |   1   |  1.15720106058  | 0.0202619223313  |\n",
      "|   horrible  |  None |   1   |  -1.75774666269 | 0.0948804076821  |\n",
      "|     bad     |  None |   1   | -0.904090478755 | 0.0383264123099  |\n",
      "|   terrible  |  None |   1   |  -1.73568678121 | 0.0918085586601  |\n",
      "|    awful    |  None |   1   |  -1.43812417008 |  0.126616629284  |\n",
      "+-------------+-------+-------+-----------------+------------------+\n",
      "[12 rows x 5 columns]\n",
      "Note: Only the head of the SFrame is printed.\n",
      "You can use print_rows(num_rows=m, num_columns=n) to print more rows and columns.\n"
     ]
    }
   ],
   "source": [
    "print new_model['coefficients']"
   ]
  },
  {
   "cell_type": "code",
   "execution_count": 70,
   "metadata": {
    "collapsed": true
   },
   "outputs": [
    {
     "ename": "NameError",
     "evalue": "name 'print_rows' is not defined",
     "output_type": "error",
     "traceback": [
      "\u001b[1;31m---------------------------------------------------------------------------\u001b[0m",
      "\u001b[1;31mNameError\u001b[0m                                 Traceback (most recent call last)",
      "\u001b[1;32m<ipython-input-70-927ba18ba789>\u001b[0m in \u001b[0;36m<module>\u001b[1;34m()\u001b[0m\n\u001b[1;32m----> 1\u001b[1;33m \u001b[0mprint_rows\u001b[0m\u001b[1;33m(\u001b[0m\u001b[0mnum_rows\u001b[0m\u001b[1;33m=\u001b[0m\u001b[1;36m20\u001b[0m\u001b[1;33m)\u001b[0m\u001b[1;33m\u001b[0m\u001b[0m\n\u001b[0m",
      "\u001b[1;31mNameError\u001b[0m: name 'print_rows' is not defined"
     ]
    }
   ],
   "source": [
    "print_rows(num_rows=20)"
   ]
  },
  {
   "cell_type": "code",
   "execution_count": 71,
   "metadata": {
    "collapsed": true
   },
   "outputs": [
    {
     "ename": "NameError",
     "evalue": "name 'print_rows' is not defined",
     "output_type": "error",
     "traceback": [
      "\u001b[1;31m---------------------------------------------------------------------------\u001b[0m",
      "\u001b[1;31mNameError\u001b[0m                                 Traceback (most recent call last)",
      "\u001b[1;32m<ipython-input-71-e6a628a56887>\u001b[0m in \u001b[0;36m<module>\u001b[1;34m()\u001b[0m\n\u001b[1;32m----> 1\u001b[1;33m \u001b[0mprint_rows\u001b[0m\u001b[1;33m(\u001b[0m\u001b[0mnum_rows\u001b[0m\u001b[1;33m=\u001b[0m\u001b[1;36m20\u001b[0m\u001b[1;33m,\u001b[0m \u001b[0mnum_columns\u001b[0m\u001b[1;33m=\u001b[0m\u001b[1;36m10\u001b[0m\u001b[1;33m)\u001b[0m\u001b[1;33m\u001b[0m\u001b[0m\n\u001b[0m",
      "\u001b[1;31mNameError\u001b[0m: name 'print_rows' is not defined"
     ]
    }
   ],
   "source": [
    "print_rows(num_rows=20, num_columns=10)"
   ]
  },
  {
   "cell_type": "code",
   "execution_count": 72,
   "metadata": {
    "collapsed": true
   },
   "outputs": [
    {
     "ename": "SyntaxError",
     "evalue": "invalid syntax (<ipython-input-72-f1652ac2458d>, line 1)",
     "output_type": "error",
     "traceback": [
      "\u001b[1;36m  File \u001b[1;32m\"<ipython-input-72-f1652ac2458d>\"\u001b[1;36m, line \u001b[1;32m1\u001b[0m\n\u001b[1;33m    print_rows(num_rows=20, num_columns=10) new_model['coefficients']\u001b[0m\n\u001b[1;37m                                                    ^\u001b[0m\n\u001b[1;31mSyntaxError\u001b[0m\u001b[1;31m:\u001b[0m invalid syntax\n"
     ]
    }
   ],
   "source": [
    "print_rows(num_rows=20, num_columns=10) new_model['coefficients']"
   ]
  },
  {
   "cell_type": "code",
   "execution_count": 73,
   "metadata": {
    "collapsed": true
   },
   "outputs": [
    {
     "ename": "SyntaxError",
     "evalue": "non-keyword arg after keyword arg (<ipython-input-73-e3d8d70f0a41>, line 1)",
     "output_type": "error",
     "traceback": [
      "\u001b[1;36m  File \u001b[1;32m\"<ipython-input-73-e3d8d70f0a41>\"\u001b[1;36m, line \u001b[1;32m1\u001b[0m\n\u001b[1;33m    print_rows(num_rows=20, num_columns=10, new_model['coefficients'])\u001b[0m\n\u001b[1;31mSyntaxError\u001b[0m\u001b[1;31m:\u001b[0m non-keyword arg after keyword arg\n"
     ]
    }
   ],
   "source": [
    "print_rows(num_rows=20, num_columns=10, new_model['coefficients'])"
   ]
  },
  {
   "cell_type": "code",
   "execution_count": 74,
   "metadata": {
    "collapsed": true
   },
   "outputs": [
    {
     "ename": "AttributeError",
     "evalue": "'SFrame' object has no attribute 'body'",
     "output_type": "error",
     "traceback": [
      "\u001b[1;31m---------------------------------------------------------------------------\u001b[0m",
      "\u001b[1;31mAttributeError\u001b[0m                            Traceback (most recent call last)",
      "\u001b[1;32m<ipython-input-74-f26a4c004f4b>\u001b[0m in \u001b[0;36m<module>\u001b[1;34m()\u001b[0m\n\u001b[1;32m----> 1\u001b[1;33m \u001b[0mnew_model\u001b[0m\u001b[1;33m[\u001b[0m\u001b[1;34m'coefficients'\u001b[0m\u001b[1;33m]\u001b[0m\u001b[1;33m.\u001b[0m\u001b[0mbody\u001b[0m\u001b[1;33m(\u001b[0m\u001b[1;33m)\u001b[0m\u001b[1;33m\u001b[0m\u001b[0m\n\u001b[0m",
      "\u001b[1;31mAttributeError\u001b[0m: 'SFrame' object has no attribute 'body'"
     ]
    }
   ],
   "source": [
    "new_model['coefficients'].body()"
   ]
  },
  {
   "cell_type": "code",
   "execution_count": 75,
   "metadata": {
    "collapsed": true
   },
   "outputs": [
    {
     "name": "stdout",
     "output_type": "stream",
     "text": [
      "+-------------+-------+-------+-----------------+------------------+\n",
      "|     name    | index | class |      value      |      stderr      |\n",
      "+-------------+-------+-------+-----------------+------------------+\n",
      "| (intercept) |  None |   1   |  0.899735119511 | 0.00717026186532 |\n",
      "|   awesome   |  None |   1   |  1.00625649388  | 0.0865938486142  |\n",
      "|    great    |  None |   1   |  0.699683829426 | 0.0159519289269  |\n",
      "|  fantastic  |  None |   1   |  0.699443114061 |  0.115103829798  |\n",
      "|   amazing   |  None |   1   |  0.892025920947 |  0.102852435149  |\n",
      "|     love    |  None |   1   |  1.15720106058  | 0.0202619223313  |\n",
      "|   horrible  |  None |   1   |  -1.75774666269 | 0.0948804076821  |\n",
      "|     bad     |  None |   1   | -0.904090478755 | 0.0383264123099  |\n",
      "|   terrible  |  None |   1   |  -1.73568678121 | 0.0918085586601  |\n",
      "|    awful    |  None |   1   |  -1.43812417008 |  0.126616629284  |\n",
      "|     wow     |  None |   1   |  0.324810598259 |  0.237588211695  |\n",
      "|     hate    |  None |   1   |  -1.28297165251 | 0.0689552424211  |\n",
      "+-------------+-------+-------+-----------------+------------------+\n",
      "[12 rows x 5 columns]\n",
      "\n"
     ]
    }
   ],
   "source": [
    "new_model['coefficients'].print_rows(num_rows=20, num_columns=10)"
   ]
  },
  {
   "cell_type": "code",
   "execution_count": 76,
   "metadata": {
    "collapsed": true
   },
   "outputs": [
    {
     "data": {
      "text/plain": [
       "{'accuracy': 0.7677120261794382,\n",
       " 'auc': 0.6430836633430289,\n",
       " 'confusion_matrix': Columns:\n",
       " \ttarget_label\tint\n",
       " \tpredicted_label\tint\n",
       " \tcount\tint\n",
       " \n",
       " Rows: 4\n",
       " \n",
       " Data:\n",
       " +--------------+-----------------+-------+\n",
       " | target_label | predicted_label | count |\n",
       " +--------------+-----------------+-------+\n",
       " |      0       |        0        |  513  |\n",
       " |      1       |        0        |  366  |\n",
       " |      0       |        1        |  8152 |\n",
       " |      1       |        1        | 27639 |\n",
       " +--------------+-----------------+-------+\n",
       " [4 rows x 3 columns],\n",
       " 'f1_score': 0.8664806570944886,\n",
       " 'log_loss': 0.5146270962482461,\n",
       " 'precision': 0.7722332429940488,\n",
       " 'recall': 0.9869309051955008,\n",
       " 'roc_curve': Columns:\n",
       " \tthreshold\tfloat\n",
       " \tfpr\tfloat\n",
       " \ttpr\tfloat\n",
       " \tp\tint\n",
       " \tn\tint\n",
       " \n",
       " Rows: 100001\n",
       " \n",
       " Data:\n",
       " +-----------+-----+-----+-------+------+\n",
       " | threshold | fpr | tpr |   p   |  n   |\n",
       " +-----------+-----+-----+-------+------+\n",
       " |    0.0    | 1.0 | 1.0 | 28005 | 8665 |\n",
       " |   1e-05   | 1.0 | 1.0 | 28005 | 8665 |\n",
       " |   2e-05   | 1.0 | 1.0 | 28005 | 8665 |\n",
       " |   3e-05   | 1.0 | 1.0 | 28005 | 8665 |\n",
       " |   4e-05   | 1.0 | 1.0 | 28005 | 8665 |\n",
       " |   5e-05   | 1.0 | 1.0 | 28005 | 8665 |\n",
       " |   6e-05   | 1.0 | 1.0 | 28005 | 8665 |\n",
       " |   7e-05   | 1.0 | 1.0 | 28005 | 8665 |\n",
       " |   8e-05   | 1.0 | 1.0 | 28005 | 8665 |\n",
       " |   9e-05   | 1.0 | 1.0 | 28005 | 8665 |\n",
       " +-----------+-----+-----+-------+------+\n",
       " [100001 rows x 5 columns]\n",
       " Note: Only the head of the SFrame is printed.\n",
       " You can use print_rows(num_rows=m, num_columns=n) to print more rows and columns.}"
      ]
     },
     "execution_count": 76,
     "metadata": {},
     "output_type": "execute_result"
    }
   ],
   "source": [
    "new_model.evaluate(test_data)"
   ]
  },
  {
   "cell_type": "code",
   "execution_count": 77,
   "metadata": {
    "collapsed": false
   },
   "outputs": [
    {
     "data": {
      "text/plain": [
       "{'accuracy': 0.8614125988546496,\n",
       " 'auc': 0.9077856449877657,\n",
       " 'confusion_matrix': Columns:\n",
       " \ttarget_label\tint\n",
       " \tpredicted_label\tint\n",
       " \tcount\tint\n",
       " \n",
       " Rows: 4\n",
       " \n",
       " Data:\n",
       " +--------------+-----------------+-------+\n",
       " | target_label | predicted_label | count |\n",
       " +--------------+-----------------+-------+\n",
       " |      0       |        0        |  6414 |\n",
       " |      0       |        1        |  2251 |\n",
       " |      1       |        1        | 25174 |\n",
       " |      1       |        0        |  2831 |\n",
       " +--------------+-----------------+-------+\n",
       " [4 rows x 3 columns],\n",
       " 'f1_score': 0.908316795958867,\n",
       " 'log_loss': 0.4412956436578631,\n",
       " 'precision': 0.9179216043755697,\n",
       " 'recall': 0.8989109087662918,\n",
       " 'roc_curve': Columns:\n",
       " \tthreshold\tfloat\n",
       " \tfpr\tfloat\n",
       " \ttpr\tfloat\n",
       " \tp\tint\n",
       " \tn\tint\n",
       " \n",
       " Rows: 100001\n",
       " \n",
       " Data:\n",
       " +-----------+----------------+----------------+-------+------+\n",
       " | threshold |      fpr       |      tpr       |   p   |  n   |\n",
       " +-----------+----------------+----------------+-------+------+\n",
       " |    0.0    |      1.0       |      1.0       | 28005 | 8665 |\n",
       " |   1e-05   | 0.923600692441 | 0.996964827709 | 28005 | 8665 |\n",
       " |   2e-05   | 0.910675129833 | 0.99642920907  | 28005 | 8665 |\n",
       " |   3e-05   | 0.903289094057 | 0.996107837886 | 28005 | 8665 |\n",
       " |   4e-05   | 0.899249855741 | 0.995822174612 | 28005 | 8665 |\n",
       " |   5e-05   | 0.894402769763 | 0.995679342974 | 28005 | 8665 |\n",
       " |   6e-05   | 0.891171379111 | 0.995465095519 | 28005 | 8665 |\n",
       " |   7e-05   | 0.887362954414 | 0.995357971791 | 28005 | 8665 |\n",
       " |   8e-05   | 0.883554529717 | 0.995322263881 | 28005 | 8665 |\n",
       " |   9e-05   | 0.881708020773 | 0.995179432244 | 28005 | 8665 |\n",
       " +-----------+----------------+----------------+-------+------+\n",
       " [100001 rows x 5 columns]\n",
       " Note: Only the head of the SFrame is printed.\n",
       " You can use print_rows(num_rows=m, num_columns=n) to print more rows and columns.}"
      ]
     },
     "execution_count": 77,
     "metadata": {},
     "output_type": "execute_result"
    }
   ],
   "source": [
    "sentiment_model.evaluate(test_data)"
   ]
  },
  {
   "cell_type": "code",
   "execution_count": 78,
   "metadata": {
    "collapsed": false
   },
   "outputs": [
    {
     "ename": "NameError",
     "evalue": "name 'diaper_champ_reviews' is not defined",
     "output_type": "error",
     "traceback": [
      "\u001b[1;31m---------------------------------------------------------------------------\u001b[0m",
      "\u001b[1;31mNameError\u001b[0m                                 Traceback (most recent call last)",
      "\u001b[1;32m<ipython-input-78-b4ff857d7d07>\u001b[0m in \u001b[0;36m<module>\u001b[1;34m()\u001b[0m\n\u001b[1;32m----> 1\u001b[1;33m \u001b[0mnew_model\u001b[0m\u001b[1;33m.\u001b[0m\u001b[0mpredict\u001b[0m\u001b[1;33m(\u001b[0m\u001b[0mdiaper_champ_reviews\u001b[0m\u001b[1;33m[\u001b[0m\u001b[1;36m0\u001b[0m\u001b[1;33m:\u001b[0m\u001b[1;36m1\u001b[0m\u001b[1;33m]\u001b[0m\u001b[1;33m,\u001b[0m \u001b[0moutput_type\u001b[0m\u001b[1;33m=\u001b[0m\u001b[1;34m'probability'\u001b[0m\u001b[1;33m)\u001b[0m\u001b[1;33m\u001b[0m\u001b[0m\n\u001b[0m",
      "\u001b[1;31mNameError\u001b[0m: name 'diaper_champ_reviews' is not defined"
     ]
    }
   ],
   "source": [
    "new_model.predict(diaper_champ_reviews[0:1], output_type='probability')"
   ]
  },
  {
   "cell_type": "code",
   "execution_count": null,
   "metadata": {
    "collapsed": true
   },
   "outputs": [],
   "source": []
  },
  {
   "cell_type": "code",
   "execution_count": null,
   "metadata": {
    "collapsed": true
   },
   "outputs": [],
   "source": [
    "diaper_champ_reviews = [x for x in products['name'] if x == 'Baby Trend Diaper Champ']"
   ]
  },
  {
   "cell_type": "code",
   "execution_count": 1,
   "metadata": {
    "collapsed": false
   },
   "outputs": [
    {
     "ename": "NameError",
     "evalue": "name 'diaper_champ_reviews' is not defined",
     "output_type": "error",
     "traceback": [
      "\u001b[1;31m---------------------------------------------------------------------------\u001b[0m",
      "\u001b[1;31mNameError\u001b[0m                                 Traceback (most recent call last)",
      "\u001b[1;32m<ipython-input-1-45b67a67cc88>\u001b[0m in \u001b[0;36m<module>\u001b[1;34m()\u001b[0m\n\u001b[1;32m----> 1\u001b[1;33m \u001b[0mdiaper_champ_reviews\u001b[0m\u001b[1;33m\u001b[0m\u001b[0m\n\u001b[0m",
      "\u001b[1;31mNameError\u001b[0m: name 'diaper_champ_reviews' is not defined"
     ]
    }
   ],
   "source": [
    "diaper_champ_reviews\n"
   ]
  },
  {
   "cell_type": "code",
   "execution_count": 2,
   "metadata": {
    "collapsed": true
   },
   "outputs": [],
   "source": [
    "import graphlab\n"
   ]
  },
  {
   "cell_type": "code",
   "execution_count": 3,
   "metadata": {
    "collapsed": false
   },
   "outputs": [
    {
     "name": "stderr",
     "output_type": "stream",
     "text": [
      "2016-05-17 14:45:45,111 [INFO] graphlab.cython.cy_server, 176: GraphLab Create v1.8.5 started. Logging: C:\\Users\\User2\\AppData\\Local\\Temp\\graphlab_server_1463476544.log.0\n"
     ]
    },
    {
     "name": "stdout",
     "output_type": "stream",
     "text": [
      "This non-commercial license of GraphLab Create is assigned to jain98@purdue.edu and will expire on April 23, 2017. For commercial licensing options, visit https://dato.com/buy/.\n"
     ]
    }
   ],
   "source": [
    "products = graphlab.SFrame('amazon_baby.gl/')\n"
   ]
  },
  {
   "cell_type": "code",
   "execution_count": 4,
   "metadata": {
    "collapsed": false
   },
   "outputs": [
    {
     "data": {
      "text/html": [
       "<div style=\"max-height:1000px;max-width:1500px;overflow:auto;\"><table frame=\"box\" rules=\"cols\">\n",
       "    <tr>\n",
       "        <th style=\"padding-left: 1em; padding-right: 1em; text-align: center\">name</th>\n",
       "        <th style=\"padding-left: 1em; padding-right: 1em; text-align: center\">review</th>\n",
       "        <th style=\"padding-left: 1em; padding-right: 1em; text-align: center\">rating</th>\n",
       "    </tr>\n",
       "    <tr>\n",
       "        <td style=\"padding-left: 1em; padding-right: 1em; text-align: center; vertical-align: top\">Planetwise Flannel Wipes</td>\n",
       "        <td style=\"padding-left: 1em; padding-right: 1em; text-align: center; vertical-align: top\">These flannel wipes are<br>OK, but in my opinion ...</td>\n",
       "        <td style=\"padding-left: 1em; padding-right: 1em; text-align: center; vertical-align: top\">3.0</td>\n",
       "    </tr>\n",
       "    <tr>\n",
       "        <td style=\"padding-left: 1em; padding-right: 1em; text-align: center; vertical-align: top\">Planetwise Wipe Pouch</td>\n",
       "        <td style=\"padding-left: 1em; padding-right: 1em; text-align: center; vertical-align: top\">it came early and was not<br>disappointed. i love ...</td>\n",
       "        <td style=\"padding-left: 1em; padding-right: 1em; text-align: center; vertical-align: top\">5.0</td>\n",
       "    </tr>\n",
       "    <tr>\n",
       "        <td style=\"padding-left: 1em; padding-right: 1em; text-align: center; vertical-align: top\">Annas Dream Full Quilt<br>with 2 Shams ...</td>\n",
       "        <td style=\"padding-left: 1em; padding-right: 1em; text-align: center; vertical-align: top\">Very soft and comfortable<br>and warmer than it ...</td>\n",
       "        <td style=\"padding-left: 1em; padding-right: 1em; text-align: center; vertical-align: top\">5.0</td>\n",
       "    </tr>\n",
       "    <tr>\n",
       "        <td style=\"padding-left: 1em; padding-right: 1em; text-align: center; vertical-align: top\">Stop Pacifier Sucking<br>without tears with ...</td>\n",
       "        <td style=\"padding-left: 1em; padding-right: 1em; text-align: center; vertical-align: top\">This is a product well<br>worth the purchase.  I ...</td>\n",
       "        <td style=\"padding-left: 1em; padding-right: 1em; text-align: center; vertical-align: top\">5.0</td>\n",
       "    </tr>\n",
       "    <tr>\n",
       "        <td style=\"padding-left: 1em; padding-right: 1em; text-align: center; vertical-align: top\">Stop Pacifier Sucking<br>without tears with ...</td>\n",
       "        <td style=\"padding-left: 1em; padding-right: 1em; text-align: center; vertical-align: top\">All of my kids have cried<br>non-stop when I tried to ...</td>\n",
       "        <td style=\"padding-left: 1em; padding-right: 1em; text-align: center; vertical-align: top\">5.0</td>\n",
       "    </tr>\n",
       "    <tr>\n",
       "        <td style=\"padding-left: 1em; padding-right: 1em; text-align: center; vertical-align: top\">Stop Pacifier Sucking<br>without tears with ...</td>\n",
       "        <td style=\"padding-left: 1em; padding-right: 1em; text-align: center; vertical-align: top\">When the Binky Fairy came<br>to our house, we didn't ...</td>\n",
       "        <td style=\"padding-left: 1em; padding-right: 1em; text-align: center; vertical-align: top\">5.0</td>\n",
       "    </tr>\n",
       "    <tr>\n",
       "        <td style=\"padding-left: 1em; padding-right: 1em; text-align: center; vertical-align: top\">A Tale of Baby's Days<br>with Peter Rabbit ...</td>\n",
       "        <td style=\"padding-left: 1em; padding-right: 1em; text-align: center; vertical-align: top\">Lovely book, it's bound<br>tightly so you may no ...</td>\n",
       "        <td style=\"padding-left: 1em; padding-right: 1em; text-align: center; vertical-align: top\">4.0</td>\n",
       "    </tr>\n",
       "    <tr>\n",
       "        <td style=\"padding-left: 1em; padding-right: 1em; text-align: center; vertical-align: top\">Baby Tracker&amp;reg; - Daily<br>Childcare Journal, ...</td>\n",
       "        <td style=\"padding-left: 1em; padding-right: 1em; text-align: center; vertical-align: top\">Perfect for new parents.<br>We were able to keep ...</td>\n",
       "        <td style=\"padding-left: 1em; padding-right: 1em; text-align: center; vertical-align: top\">5.0</td>\n",
       "    </tr>\n",
       "    <tr>\n",
       "        <td style=\"padding-left: 1em; padding-right: 1em; text-align: center; vertical-align: top\">Baby Tracker&amp;reg; - Daily<br>Childcare Journal, ...</td>\n",
       "        <td style=\"padding-left: 1em; padding-right: 1em; text-align: center; vertical-align: top\">A friend of mine pinned<br>this product on Pinte ...</td>\n",
       "        <td style=\"padding-left: 1em; padding-right: 1em; text-align: center; vertical-align: top\">5.0</td>\n",
       "    </tr>\n",
       "    <tr>\n",
       "        <td style=\"padding-left: 1em; padding-right: 1em; text-align: center; vertical-align: top\">Baby Tracker&amp;reg; - Daily<br>Childcare Journal, ...</td>\n",
       "        <td style=\"padding-left: 1em; padding-right: 1em; text-align: center; vertical-align: top\">This has been an easy way<br>for my nanny to record ...</td>\n",
       "        <td style=\"padding-left: 1em; padding-right: 1em; text-align: center; vertical-align: top\">4.0</td>\n",
       "    </tr>\n",
       "</table>\n",
       "[183531 rows x 3 columns]<br/>Note: Only the head of the SFrame is printed.<br/>You can use print_rows(num_rows=m, num_columns=n) to print more rows and columns.\n",
       "</div>"
      ],
      "text/plain": [
       "Columns:\n",
       "\tname\tstr\n",
       "\treview\tstr\n",
       "\trating\tfloat\n",
       "\n",
       "Rows: 183531\n",
       "\n",
       "Data:\n",
       "+-------------------------------+-------------------------------+--------+\n",
       "|              name             |             review            | rating |\n",
       "+-------------------------------+-------------------------------+--------+\n",
       "|    Planetwise Flannel Wipes   | These flannel wipes are OK... |  3.0   |\n",
       "|     Planetwise Wipe Pouch     | it came early and was not ... |  5.0   |\n",
       "| Annas Dream Full Quilt wit... | Very soft and comfortable ... |  5.0   |\n",
       "| Stop Pacifier Sucking with... | This is a product well wor... |  5.0   |\n",
       "| Stop Pacifier Sucking with... | All of my kids have cried ... |  5.0   |\n",
       "| Stop Pacifier Sucking with... | When the Binky Fairy came ... |  5.0   |\n",
       "| A Tale of Baby's Days with... | Lovely book, it's bound ti... |  4.0   |\n",
       "| Baby Tracker&reg; - Daily ... | Perfect for new parents. W... |  5.0   |\n",
       "| Baby Tracker&reg; - Daily ... | A friend of mine pinned th... |  5.0   |\n",
       "| Baby Tracker&reg; - Daily ... | This has been an easy way ... |  4.0   |\n",
       "+-------------------------------+-------------------------------+--------+\n",
       "[183531 rows x 3 columns]\n",
       "Note: Only the head of the SFrame is printed.\n",
       "You can use print_rows(num_rows=m, num_columns=n) to print more rows and columns."
      ]
     },
     "execution_count": 4,
     "metadata": {},
     "output_type": "execute_result"
    }
   ],
   "source": [
    "products"
   ]
  },
  {
   "cell_type": "code",
   "execution_count": 5,
   "metadata": {
    "collapsed": true
   },
   "outputs": [],
   "source": [
    "l = products[products['name'] == 'Baby Trend Diaper Champ']"
   ]
  },
  {
   "cell_type": "code",
   "execution_count": 6,
   "metadata": {
    "collapsed": false
   },
   "outputs": [
    {
     "data": {
      "text/html": [
       "<div style=\"max-height:1000px;max-width:1500px;overflow:auto;\"><table frame=\"box\" rules=\"cols\">\n",
       "    <tr>\n",
       "        <th style=\"padding-left: 1em; padding-right: 1em; text-align: center\">name</th>\n",
       "        <th style=\"padding-left: 1em; padding-right: 1em; text-align: center\">review</th>\n",
       "        <th style=\"padding-left: 1em; padding-right: 1em; text-align: center\">rating</th>\n",
       "    </tr>\n",
       "    <tr>\n",
       "        <td style=\"padding-left: 1em; padding-right: 1em; text-align: center; vertical-align: top\">Baby Trend Diaper Champ</td>\n",
       "        <td style=\"padding-left: 1em; padding-right: 1em; text-align: center; vertical-align: top\">Ok - newsflash.  Diapers<br>are just smelly.  We've ...</td>\n",
       "        <td style=\"padding-left: 1em; padding-right: 1em; text-align: center; vertical-align: top\">4.0</td>\n",
       "    </tr>\n",
       "    <tr>\n",
       "        <td style=\"padding-left: 1em; padding-right: 1em; text-align: center; vertical-align: top\">Baby Trend Diaper Champ</td>\n",
       "        <td style=\"padding-left: 1em; padding-right: 1em; text-align: center; vertical-align: top\">This is a good product to<br>start and very easy to ...</td>\n",
       "        <td style=\"padding-left: 1em; padding-right: 1em; text-align: center; vertical-align: top\">3.0</td>\n",
       "    </tr>\n",
       "    <tr>\n",
       "        <td style=\"padding-left: 1em; padding-right: 1em; text-align: center; vertical-align: top\">Baby Trend Diaper Champ</td>\n",
       "        <td style=\"padding-left: 1em; padding-right: 1em; text-align: center; vertical-align: top\">My husband and I selected<br>the Diaper \"Champ\" ma ...</td>\n",
       "        <td style=\"padding-left: 1em; padding-right: 1em; text-align: center; vertical-align: top\">1.0</td>\n",
       "    </tr>\n",
       "    <tr>\n",
       "        <td style=\"padding-left: 1em; padding-right: 1em; text-align: center; vertical-align: top\">Baby Trend Diaper Champ</td>\n",
       "        <td style=\"padding-left: 1em; padding-right: 1em; text-align: center; vertical-align: top\">Excellent diaper disposal<br>unit.  I used it in ...</td>\n",
       "        <td style=\"padding-left: 1em; padding-right: 1em; text-align: center; vertical-align: top\">5.0</td>\n",
       "    </tr>\n",
       "    <tr>\n",
       "        <td style=\"padding-left: 1em; padding-right: 1em; text-align: center; vertical-align: top\">Baby Trend Diaper Champ</td>\n",
       "        <td style=\"padding-left: 1em; padding-right: 1em; text-align: center; vertical-align: top\">We love our diaper champ.<br>It is very easy to use ...</td>\n",
       "        <td style=\"padding-left: 1em; padding-right: 1em; text-align: center; vertical-align: top\">5.0</td>\n",
       "    </tr>\n",
       "    <tr>\n",
       "        <td style=\"padding-left: 1em; padding-right: 1em; text-align: center; vertical-align: top\">Baby Trend Diaper Champ</td>\n",
       "        <td style=\"padding-left: 1em; padding-right: 1em; text-align: center; vertical-align: top\">Two girlfriends and two<br>family members put me ...</td>\n",
       "        <td style=\"padding-left: 1em; padding-right: 1em; text-align: center; vertical-align: top\">5.0</td>\n",
       "    </tr>\n",
       "    <tr>\n",
       "        <td style=\"padding-left: 1em; padding-right: 1em; text-align: center; vertical-align: top\">Baby Trend Diaper Champ</td>\n",
       "        <td style=\"padding-left: 1em; padding-right: 1em; text-align: center; vertical-align: top\">I waited to review this<br>until I saw how it ...</td>\n",
       "        <td style=\"padding-left: 1em; padding-right: 1em; text-align: center; vertical-align: top\">4.0</td>\n",
       "    </tr>\n",
       "    <tr>\n",
       "        <td style=\"padding-left: 1em; padding-right: 1em; text-align: center; vertical-align: top\">Baby Trend Diaper Champ</td>\n",
       "        <td style=\"padding-left: 1em; padding-right: 1em; text-align: center; vertical-align: top\">I have had a diaper genie<br>for almost 4 years since ...</td>\n",
       "        <td style=\"padding-left: 1em; padding-right: 1em; text-align: center; vertical-align: top\">1.0</td>\n",
       "    </tr>\n",
       "    <tr>\n",
       "        <td style=\"padding-left: 1em; padding-right: 1em; text-align: center; vertical-align: top\">Baby Trend Diaper Champ</td>\n",
       "        <td style=\"padding-left: 1em; padding-right: 1em; text-align: center; vertical-align: top\">I originally put this<br>item on my baby registry ...</td>\n",
       "        <td style=\"padding-left: 1em; padding-right: 1em; text-align: center; vertical-align: top\">5.0</td>\n",
       "    </tr>\n",
       "    <tr>\n",
       "        <td style=\"padding-left: 1em; padding-right: 1em; text-align: center; vertical-align: top\">Baby Trend Diaper Champ</td>\n",
       "        <td style=\"padding-left: 1em; padding-right: 1em; text-align: center; vertical-align: top\">I am so glad I got the<br>Diaper Champ instead of ...</td>\n",
       "        <td style=\"padding-left: 1em; padding-right: 1em; text-align: center; vertical-align: top\">5.0</td>\n",
       "    </tr>\n",
       "</table>\n",
       "[? rows x 3 columns]<br/>Note: Only the head of the SFrame is printed. This SFrame is lazily evaluated.<br/>You can use len(sf) to force materialization.\n",
       "</div>"
      ],
      "text/plain": [
       "Columns:\n",
       "\tname\tstr\n",
       "\treview\tstr\n",
       "\trating\tfloat\n",
       "\n",
       "Rows: Unknown\n",
       "\n",
       "Data:\n",
       "+-------------------------+-------------------------------+--------+\n",
       "|           name          |             review            | rating |\n",
       "+-------------------------+-------------------------------+--------+\n",
       "| Baby Trend Diaper Champ | Ok - newsflash.  Diapers a... |  4.0   |\n",
       "| Baby Trend Diaper Champ | This is a good product to ... |  3.0   |\n",
       "| Baby Trend Diaper Champ | My husband and I selected ... |  1.0   |\n",
       "| Baby Trend Diaper Champ | Excellent diaper disposal ... |  5.0   |\n",
       "| Baby Trend Diaper Champ | We love our diaper champ. ... |  5.0   |\n",
       "| Baby Trend Diaper Champ | Two girlfriends and two fa... |  5.0   |\n",
       "| Baby Trend Diaper Champ | I waited to review this un... |  4.0   |\n",
       "| Baby Trend Diaper Champ | I have had a diaper genie ... |  1.0   |\n",
       "| Baby Trend Diaper Champ | I originally put this item... |  5.0   |\n",
       "| Baby Trend Diaper Champ | I am so glad I got the Dia... |  5.0   |\n",
       "+-------------------------+-------------------------------+--------+\n",
       "[? rows x 3 columns]\n",
       "Note: Only the head of the SFrame is printed. This SFrame is lazily evaluated.\n",
       "You can use len(sf) to force materialization."
      ]
     },
     "execution_count": 6,
     "metadata": {},
     "output_type": "execute_result"
    }
   ],
   "source": [
    "l\n"
   ]
  },
  {
   "cell_type": "code",
   "execution_count": null,
   "metadata": {
    "collapsed": true
   },
   "outputs": [],
   "source": []
  }
 ],
 "metadata": {
  "kernelspec": {
   "display_name": "Python 2",
   "language": "python",
   "name": "python2"
  },
  "language_info": {
   "codemirror_mode": {
    "name": "ipython",
    "version": 2
   },
   "file_extension": ".py",
   "mimetype": "text/x-python",
   "name": "python",
   "nbconvert_exporter": "python",
   "pygments_lexer": "ipython2",
   "version": "2.7.10"
  }
 },
 "nbformat": 4,
 "nbformat_minor": 0
}
